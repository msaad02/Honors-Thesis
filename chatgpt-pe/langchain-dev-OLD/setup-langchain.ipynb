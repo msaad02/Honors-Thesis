{
 "cells": [
  {
   "cell_type": "code",
   "execution_count": 2,
   "metadata": {},
   "outputs": [],
   "source": [
    "\n",
    "from langchain.vectorstores import Chroma\n",
    "from langchain.chains import VectorDBQA\n",
    "from langchain.llms import OpenAI\n",
    "from langchain.chains import RetrievalQA\n",
    "from langchain.document_loaders import DirectoryLoader\n",
    "from chromadb.utils import embedding_functions\n",
    "import chromadb\n",
    "from langchain.embeddings import HuggingFaceInstructEmbeddings\n",
    "from langchain.text_splitter import RecursiveCharacterTextSplitter"
   ]
  },
  {
   "cell_type": "code",
   "execution_count": 3,
   "metadata": {},
   "outputs": [
    {
     "name": "stderr",
     "output_type": "stream",
     "text": [
      "The MIME type of '/home/msaad/workspace/honors-thesis/data-collection/data/vectordb_split2/chunk_brockport.edu_about_president_college-handbook.txt' is 'message/news'. This file type is not currently supported in unstructured.\n"
     ]
    },
    {
     "data": {
      "text/plain": [
       "2501"
      ]
     },
     "execution_count": 3,
     "metadata": {},
     "output_type": "execute_result"
    }
   ],
   "source": [
    "data_dir = \"/home/msaad/workspace/honors-thesis/data-collection/data/\"\n",
    "loader = DirectoryLoader(\n",
    "    data_dir + \"vectordb_split2\", \n",
    "    glob=\"./*.txt\",\n",
    "    use_multithreading=True\n",
    ")\n",
    "doc = loader.load()\n",
    "\n",
    "len(doc)"
   ]
  },
  {
   "cell_type": "code",
   "execution_count": 4,
   "metadata": {},
   "outputs": [
    {
     "data": {
      "text/plain": [
       "4978"
      ]
     },
     "execution_count": 4,
     "metadata": {},
     "output_type": "execute_result"
    }
   ],
   "source": [
    "# Splitting the text into chunks\n",
    "text_splitter = RecursiveCharacterTextSplitter(\n",
    "    chunk_size=1000, \n",
    "    chunk_overlap=200\n",
    ")\n",
    "texts = text_splitter.split_documents(doc)\n",
    "\n",
    "# Count the number of chunks\n",
    "len(texts)"
   ]
  },
  {
   "cell_type": "code",
   "execution_count": 5,
   "metadata": {},
   "outputs": [
    {
     "name": "stderr",
     "output_type": "stream",
     "text": [
      "/home/msaad/miniconda3/envs/thesis/lib/python3.11/site-packages/InstructorEmbedding/instructor.py:7: TqdmExperimentalWarning: Using `tqdm.autonotebook.tqdm` in notebook mode. Use `tqdm.tqdm` instead to force console mode (e.g. in jupyter console)\n",
      "  from tqdm.autonotebook import trange\n"
     ]
    },
    {
     "name": "stdout",
     "output_type": "stream",
     "text": [
      "load INSTRUCTOR_Transformer\n",
      "\n",
      "===================================BUG REPORT===================================\n",
      "Welcome to bitsandbytes. For bug reports, please run\n",
      "\n",
      "python -m bitsandbytes\n",
      "\n",
      " and submit this information together with your error trace to: https://github.com/TimDettmers/bitsandbytes/issues\n",
      "================================================================================\n",
      "bin /home/msaad/miniconda3/envs/thesis/lib/python3.11/site-packages/bitsandbytes/libbitsandbytes_cuda118.so\n",
      "CUDA SETUP: CUDA runtime path found: /home/msaad/miniconda3/envs/thesis/lib/libcudart.so.11.0\n",
      "CUDA SETUP: Highest compute capability among GPUs detected: 8.6\n",
      "CUDA SETUP: Detected CUDA version 118\n",
      "CUDA SETUP: Loading binary /home/msaad/miniconda3/envs/thesis/lib/python3.11/site-packages/bitsandbytes/libbitsandbytes_cuda118.so...\n"
     ]
    },
    {
     "name": "stderr",
     "output_type": "stream",
     "text": [
      "/home/msaad/miniconda3/envs/thesis/lib/python3.11/site-packages/bitsandbytes/cuda_setup/main.py:149: UserWarning: Found duplicate ['libcudart.so', 'libcudart.so.11.0', 'libcudart.so.12.0'] files: {PosixPath('/home/msaad/miniconda3/envs/thesis/lib/libcudart.so.11.0'), PosixPath('/home/msaad/miniconda3/envs/thesis/lib/libcudart.so')}.. We'll flip a coin and try one of these, in order to fail forward.\n",
      "Either way, this might cause trouble in the future:\n",
      "If you get `CUDA error: invalid device function` errors, the above might be the cause and the solution is to make sure only one ['libcudart.so', 'libcudart.so.11.0', 'libcudart.so.12.0'] in the paths that we search based on your env.\n",
      "  warn(msg)\n"
     ]
    },
    {
     "name": "stdout",
     "output_type": "stream",
     "text": [
      "max_seq_length  512\n"
     ]
    }
   ],
   "source": [
    "persist_directory = data_dir + \"chroma_vectordb2\"\n",
    "\n",
    "# By default uses 'hkunlp/instructor-large'\n",
    "embedding_function = HuggingFaceInstructEmbeddings(\n",
    "    query_instruction=\"Represent the School paragraph for retrieval: \"\n",
    ")\n",
    "\n",
    "# This also generates embeddings, which is quite GPU taxing.\n",
    "vectordb = Chroma.from_documents(\n",
    "    documents = texts,\n",
    "    embedding = embedding_function,\n",
    "    persist_directory = persist_directory\n",
    ")"
   ]
  },
  {
   "cell_type": "code",
   "execution_count": 14,
   "metadata": {},
   "outputs": [],
   "source": [
    "vectordb.persist()"
   ]
  },
  {
   "cell_type": "code",
   "execution_count": 15,
   "metadata": {},
   "outputs": [],
   "source": [
    "vectordb = Chroma(\n",
    "    persist_directory=persist_directory,\n",
    "    embedding_function=embedding_function\n",
    ")"
   ]
  },
  {
   "cell_type": "code",
   "execution_count": 6,
   "metadata": {},
   "outputs": [
    {
     "data": {
      "text/plain": [
       "[Document(page_content='In certain cases, international undergraduate applicants may be required to submit an academic credential evaluation. If this is required of you, you will be instructed to do so by the International Admissions office. This checklist requirement will also appear on your application.', metadata={'source': '/home/msaad/workspace/honors-thesis/data-collection/data/vectordb_split2/chunk_brockport.edu_academics_international_education_student_services_academic_cred_evaluation.html.txt'}),\n",
       " Document(page_content='is designed to introduce eligible undergraduates to leading scholars. Funding is often provided. Each scientific area has its own application/website. Applications are typically due in December/January.', metadata={'source': '/home/msaad/workspace/honors-thesis/data-collection/data/vectordb_split2/chunk_brockport.edu_academics_biology_research-opportunities.txt'}),\n",
       " Document(page_content='We encourage you to review our undergraduate programs of study and notify the Office of Undergraduate Admissions of your intended concentration. If you are a former Brockport student, you must submit official transcripts from any colleges/universities you attended while separated from the University.', metadata={'source': '/home/msaad/workspace/honors-thesis/data-collection/data/vectordb_split2/chunk_brockport.edu_admissions_apply_second-degree.txt'}),\n",
       " Document(page_content='To apply for any of these positions, please indicate so on your graduate school application. For any questions about the position, please contact', metadata={'source': '/home/msaad/workspace/honors-thesis/data-collection/data/vectordb_split2/chunk_brockport.edu_academics_tutoring_graduate-tutoring-positions.txt'})]"
      ]
     },
     "execution_count": 6,
     "metadata": {},
     "output_type": "execute_result"
    }
   ],
   "source": [
    "retreiver = vectordb.as_retriever()\n",
    "\n",
    "docs = retreiver.get_relevant_documents(\"How can I apply as an undergraduate?\")\n",
    "\n",
    "docs"
   ]
  },
  {
   "cell_type": "code",
   "execution_count": 26,
   "metadata": {},
   "outputs": [
    {
     "data": {
      "text/plain": [
       "[Document(page_content='is designed to introduce eligible undergraduates to leading scholars. Funding is often provided. Each scientific area has its own application/website. Applications are typically due in December/January.', metadata={'source': '/home/msaad/workspace/honors-thesis/data-collection/data/vectordb_filestore/chunk_2352.txt'}),\n",
       " Document(page_content='To apply for any of these positions, please indicate so on your graduate school application. For any questions about the position, please contact', metadata={'source': '/home/msaad/workspace/honors-thesis/data-collection/data/vectordb_filestore/chunk_2342.txt'}),\n",
       " Document(page_content='In certain cases, international undergraduate applicants may be required to submit an academic credential evaluation. If this is required of you, you will be instructed to do so by the International Admissions office. This checklist requirement will also appear on your application.', metadata={'source': '/home/msaad/workspace/honors-thesis/data-collection/data/vectordb_filestore/chunk_2390.txt'}),\n",
       " Document(page_content='In certain cases, international undergraduate applicants may be required to submit an academic credential evaluation. If this is required of you, you will be instructed to do so by the International Admissions office. This checklist requirement will also appear on your application.', metadata={'source': '/home/msaad/workspace/honors-thesis/data-collection/data/vectordb_filestore/chunk_778.txt'})]"
      ]
     },
     "execution_count": 26,
     "metadata": {},
     "output_type": "execute_result"
    }
   ],
   "source": [
    "retriever = vectordb.as_retriever(search_kwargs={\"k\": 5})\n",
    "\n",
    "retreiver.get_relevant_documents(\"How can I apply as an undergraduate?\")"
   ]
  },
  {
   "cell_type": "code",
   "execution_count": 27,
   "metadata": {},
   "outputs": [
    {
     "data": {
      "text/plain": [
       "'similarity'"
      ]
     },
     "execution_count": 27,
     "metadata": {},
     "output_type": "execute_result"
    }
   ],
   "source": [
    "retriever.search_type"
   ]
  },
  {
   "cell_type": "code",
   "execution_count": 28,
   "metadata": {},
   "outputs": [],
   "source": [
    "qa_chain = RetrievalQA.from_chain_type(\n",
    "    llm=OpenAI(),\n",
    "    chain_type=\"stuff\",\n",
    "    retriever=retriever,\n",
    "    return_source_documents=True,\n",
    "    verbose=True\n",
    ")"
   ]
  },
  {
   "cell_type": "code",
   "execution_count": 24,
   "metadata": {},
   "outputs": [],
   "source": [
    "# Cite sources\n",
    "def process_llm_response(llm_response):\n",
    "    print(llm_response['result'])\n",
    "    print('\\n\\nSources:')\n",
    "    for source in llm_response[\"source_documents\"]:\n",
    "        print(source.metadata['source'])"
   ]
  },
  {
   "cell_type": "code",
   "execution_count": 31,
   "metadata": {},
   "outputs": [
    {
     "name": "stdout",
     "output_type": "stream",
     "text": [
      "\n",
      "\n",
      "\u001b[1m> Entering new RetrievalQA chain...\u001b[0m\n",
      "\n",
      "\u001b[1m> Finished chain.\u001b[0m\n",
      " You can apply as a prospective undergrad by carefully reading the description of the thesis option and verifying your eligibility. You should also begin exploring this option at least two semesters ahead of your intended graduation and complete and submit a Thesis Application Form to the Thesis Coordinator. Additionally, you should review the application instructions page for the program you are interested in.\n",
      "\n",
      "\n",
      "Sources:\n",
      "/home/msaad/workspace/honors-thesis/data-collection/data/vectordb_filestore/chunk_2342.txt\n",
      "/home/msaad/workspace/honors-thesis/data-collection/data/vectordb_filestore/chunk_2352.txt\n",
      "/home/msaad/workspace/honors-thesis/data-collection/data/vectordb_filestore/chunk_2630.txt\n",
      "/home/msaad/workspace/honors-thesis/data-collection/data/vectordb_filestore/chunk_1548.txt\n",
      "/home/msaad/workspace/honors-thesis/data-collection/data/vectordb_filestore/chunk_2080.txt\n"
     ]
    }
   ],
   "source": [
    "query = \"How can I apply as a prospective undergrad?\"\n",
    "llm_response = qa_chain(query)\n",
    "process_llm_response(llm_response)"
   ]
  },
  {
   "cell_type": "code",
   "execution_count": 32,
   "metadata": {},
   "outputs": [
    {
     "data": {
      "text/plain": [
       "{'query': 'How can I apply as a prospective undergrad?',\n",
       " 'result': ' You can apply as a prospective undergrad by carefully reading the description of the thesis option and verifying your eligibility. You should also begin exploring this option at least two semesters ahead of your intended graduation and complete and submit a Thesis Application Form to the Thesis Coordinator. Additionally, you should review the application instructions page for the program you are interested in.',\n",
       " 'source_documents': [Document(page_content='To apply for any of these positions, please indicate so on your graduate school application. For any questions about the position, please contact', metadata={'source': '/home/msaad/workspace/honors-thesis/data-collection/data/vectordb_filestore/chunk_2342.txt'}),\n",
       "  Document(page_content='is designed to introduce eligible undergraduates to leading scholars. Funding is often provided. Each scientific area has its own application/website. Applications are typically due in December/January.', metadata={'source': '/home/msaad/workspace/honors-thesis/data-collection/data/vectordb_filestore/chunk_2352.txt'}),\n",
       "  Document(page_content='by carefully reading the description of the thesis option and verifying his/her eligibility. It is recommended that students begin exploring this option at least two semesters ahead of their intended graduation. Finally, the student must complete and submit a Thesis Application Form to the Thesis Coordinator, who will provide necessary support for registration, thesis submission, grade reporting, etc. Prepare a thesis that presents the major accomplishments with appropriate documentation. Again, the student must seek the help and the guidance of the Thesis Supervisor in preparing the thesis.', metadata={'source': '/home/msaad/workspace/honors-thesis/data-collection/data/vectordb_filestore/chunk_2630.txt'}),\n",
       "  Document(page_content='fulfilled the prerequisites for the courses in which they wish to enroll; Intend to seek admission to a graduate program, but have not yet completed admissions requirements. The Committee will review applications and send them to appropriate faculty members to determine their interest in the student. Assignment of a student to a faculty member will be determined by the Graduate Committee. When a file is circulated among members of the faculty and associate faculty, those faculty expressing an interest in the student will be considered for the position of Major Advisor by the Graduate Committee.', metadata={'source': '/home/msaad/workspace/honors-thesis/data-collection/data/vectordb_filestore/chunk_1548.txt'}),\n",
       "  Document(page_content='Graduate application instructions for each program are unique. Please review the application instruction page for your program of interest. Select the program you applied to in the application.', metadata={'source': '/home/msaad/workspace/honors-thesis/data-collection/data/vectordb_filestore/chunk_2080.txt'})]}"
      ]
     },
     "execution_count": 32,
     "metadata": {},
     "output_type": "execute_result"
    }
   ],
   "source": [
    "llm_response"
   ]
  }
 ],
 "metadata": {
  "kernelspec": {
   "display_name": "thesis",
   "language": "python",
   "name": "python3"
  },
  "language_info": {
   "codemirror_mode": {
    "name": "ipython",
    "version": 3
   },
   "file_extension": ".py",
   "mimetype": "text/x-python",
   "name": "python",
   "nbconvert_exporter": "python",
   "pygments_lexer": "ipython3",
   "version": "3.11.3"
  },
  "orig_nbformat": 4
 },
 "nbformat": 4,
 "nbformat_minor": 2
}
