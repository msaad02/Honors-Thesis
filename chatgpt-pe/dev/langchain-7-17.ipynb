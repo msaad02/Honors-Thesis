{
 "cells": [
  {
   "cell_type": "code",
   "execution_count": 1,
   "metadata": {},
   "outputs": [],
   "source": [
    "from langchain.vectorstores import Chroma\n",
    "from langchain.chains import VectorDBQA\n",
    "from langchain.llms import OpenAI\n",
    "from langchain.chains import RetrievalQA\n",
    "from langchain.document_loaders import DirectoryLoader\n",
    "from chromadb.utils import embedding_functions\n",
    "import chromadb\n",
    "from langchain.embeddings import HuggingFaceInstructEmbeddings\n",
    "from langchain.text_splitter import RecursiveCharacterTextSplitter"
   ]
  },
  {
   "cell_type": "code",
   "execution_count": 14,
   "metadata": {},
   "outputs": [],
   "source": [
    "# Moves all admissions and scholarships-aid files to a separate dir. For testing different semantic search ideas.\n",
    "if False:\n",
    "    import os\n",
    "    import shutil\n",
    "\n",
    "    # The directory where the files are currently located\n",
    "    source_dir = \"/home/msaad/workspace/honors-thesis/data-collection/data/vectordb_filestore\"\n",
    "    # The directory where you want to move the matched files\n",
    "    destination_dir = \"/home/msaad/workspace/honors-thesis/data-collection/data/admissions-faid-chunks\"\n",
    "\n",
    "    # Iterate over all .txt files in the source directory\n",
    "    for filename in os.listdir(source_dir):\n",
    "        # Check if the filename matches your keywords\n",
    "        if (\"admissions\" in filename or \"scholarships-aid\" in filename) and filename.endswith(\".txt\"):\n",
    "            # If there is a match, copy the file to the destination directory\n",
    "            source_file = os.path.join(source_dir, filename)\n",
    "            destination_file = os.path.join(destination_dir, filename)\n",
    "            shutil.copy2(source_file, destination_file)"
   ]
  },
  {
   "cell_type": "code",
   "execution_count": 16,
   "metadata": {},
   "outputs": [
    {
     "data": {
      "text/plain": [
       "123"
      ]
     },
     "execution_count": 16,
     "metadata": {},
     "output_type": "execute_result"
    }
   ],
   "source": [
    "data_dir = \"/home/msaad/workspace/honors-thesis/data-collection/data/admissions-faid-chunks\"\n",
    "loader = DirectoryLoader(\n",
    "    data_dir, \n",
    "    glob=\"./*.txt\",\n",
    "    use_multithreading=True\n",
    ")\n",
    "doc = loader.load()\n",
    "\n",
    "len(doc)"
   ]
  },
  {
   "cell_type": "code",
   "execution_count": 17,
   "metadata": {},
   "outputs": [
    {
     "data": {
      "text/plain": [
       "599"
      ]
     },
     "execution_count": 17,
     "metadata": {},
     "output_type": "execute_result"
    }
   ],
   "source": [
    "# Splitting the chunked text into smaller chunks\n",
    "text_splitter = RecursiveCharacterTextSplitter(\n",
    "    chunk_size=256, \n",
    "    chunk_overlap=32\n",
    ")\n",
    "texts = text_splitter.split_documents(doc)\n",
    "\n",
    "# Count the number of chunks\n",
    "len(texts)"
   ]
  },
  {
   "cell_type": "code",
   "execution_count": 18,
   "metadata": {},
   "outputs": [
    {
     "name": "stdout",
     "output_type": "stream",
     "text": [
      "load INSTRUCTOR_Transformer\n",
      "max_seq_length  512\n"
     ]
    }
   ],
   "source": [
    "persist_directory = data_dir + \"chroma_vectordb2\"\n",
    "\n",
    "# By default uses 'hkunlp/instructor-large'\n",
    "embedding_function = HuggingFaceInstructEmbeddings(\n",
    "    query_instruction=\"Represent the School document for retrieval: \"\n",
    ")\n",
    "\n",
    "# This also generates embeddings, which is quite GPU taxing.\n",
    "vectordb = Chroma.from_documents(\n",
    "    documents = texts,\n",
    "    embedding = embedding_function\n",
    ")"
   ]
  },
  {
   "cell_type": "code",
   "execution_count": 24,
   "metadata": {},
   "outputs": [
    {
     "data": {
      "text/plain": [
       "[Document(page_content='need of financial aid, please contact the Financial Aid Office before you apply.', metadata={'source': '/home/msaad/workspace/honors-thesis/data-collection/data/admissions-faid-chunks/chunk_brockport.edu_admissions_apply_non-degree.txt'}),\n",
       " Document(page_content='The Free Application for Federal Student Aid (FAFSA) is the first step to determine eligibility for federal and state financial aid programs. You are encouraged to file your The FSA ID is your identifier to let you access your personal information in', metadata={'source': '/home/msaad/workspace/honors-thesis/data-collection/data/admissions-faid-chunks/chunk_brockport.edu_admissions_aid_financial_aid_applications_forms.html.txt'}),\n",
       " Document(page_content='In order to be considered for grant money awarded by the federal government, you need to complete the Free Application For Federal Student Aid (FAFSA) application each year. If you are interested in finding out more information about the FAFSA, including', metadata={'source': '/home/msaad/workspace/honors-thesis/data-collection/data/admissions-faid-chunks/chunk_brockport.edu_admissions_aid_financial_aid_undergraduate_grants.html.txt'}),\n",
       " Document(page_content='If you are transferring between colleges and want to know what to do about your financial aid, follow the appropriate steps below for the types of aid you may be receiving. Please complete these steps as soon as possible to avoid any delay in the', metadata={'source': '/home/msaad/workspace/honors-thesis/data-collection/data/admissions-faid-chunks/chunk_brockport.edu_scholarships-aid_financial-aid_transfer-to-brockport.txt'})]"
      ]
     },
     "execution_count": 24,
     "metadata": {},
     "output_type": "execute_result"
    }
   ],
   "source": [
    "retreiver = vectordb.as_retriever()\n",
    "docs = retreiver.get_relevant_documents(\"How can I apply for financial aid??\")\n",
    "\n",
    "docs"
   ]
  },
  {
   "cell_type": "code",
   "execution_count": 20,
   "metadata": {},
   "outputs": [],
   "source": [
    "qa_chain = RetrievalQA.from_chain_type(\n",
    "    llm=OpenAI(),\n",
    "    chain_type=\"stuff\",\n",
    "    retriever=retreiver,\n",
    "    return_source_documents=True,\n",
    "    verbose=True\n",
    ")\n",
    "\n",
    "# Cite sources\n",
    "def process_llm_response(llm_response):\n",
    "    print(llm_response['result'])\n",
    "    print('\\n\\nSources:')\n",
    "    for source in llm_response[\"source_documents\"]:\n",
    "        print(source.metadata['source'])"
   ]
  },
  {
   "cell_type": "code",
   "execution_count": 27,
   "metadata": {},
   "outputs": [
    {
     "name": "stdout",
     "output_type": "stream",
     "text": [
      "\n",
      "\n",
      "\u001b[1m> Entering new RetrievalQA chain...\u001b[0m\n",
      "\n",
      "\u001b[1m> Finished chain.\u001b[0m\n",
      " I don't know.\n",
      "\n",
      "\n",
      "Sources:\n",
      "/home/msaad/workspace/honors-thesis/data-collection/data/admissions-faid-chunks/chunk_brockport.edu_admissions_apply_transfer.txt\n",
      "/home/msaad/workspace/honors-thesis/data-collection/data/admissions-faid-chunks/chunk_brockport.edu_admissions_contact_communication-team.txt\n",
      "/home/msaad/workspace/honors-thesis/data-collection/data/admissions-faid-chunks/chunk_brockport.edu_admissions_information_counselors.txt\n",
      "/home/msaad/workspace/honors-thesis/data-collection/data/admissions-faid-chunks/chunk_brockport.edu_admissions_information_eop.txt\n"
     ]
    }
   ],
   "source": [
    "query = \"Does Brockport have a computer science program?\"\n",
    "llm_response = qa_chain(query)\n",
    "process_llm_response(llm_response)"
   ]
  }
 ],
 "metadata": {
  "kernelspec": {
   "display_name": "thesis",
   "language": "python",
   "name": "python3"
  },
  "language_info": {
   "codemirror_mode": {
    "name": "ipython",
    "version": 3
   },
   "file_extension": ".py",
   "mimetype": "text/x-python",
   "name": "python",
   "nbconvert_exporter": "python",
   "pygments_lexer": "ipython3",
   "version": "3.11.3"
  },
  "orig_nbformat": 4
 },
 "nbformat": 4,
 "nbformat_minor": 2
}
