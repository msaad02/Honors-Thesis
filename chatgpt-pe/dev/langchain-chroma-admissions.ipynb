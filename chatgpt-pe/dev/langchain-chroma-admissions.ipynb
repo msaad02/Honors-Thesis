{
 "cells": [
  {
   "cell_type": "markdown",
   "metadata": {},
   "source": [
    "# IMPORTANT DISCOVERY!!\n",
    "\n",
    "July 16 2023 update!\n",
    "\n",
    "It appears my data is actually quite imperfect. Atleast from the chunk_from_html.csv it is apparent that there are a lot of duplicates! some of the webpages I will need to filter out, so that semantic search doesn't return copies. My initial filter (code below) cut down everything by about half! I need to look at this closer. However, after removing it, results seem to be much improved. This is the clear next step for prompt engineering.\n",
    "\n",
    "\n",
    "```\n",
    "data = pd.read_csv(\"../data-collection/data/chunks_from_html.csv\", names=['source', 'data'])\n",
    "admissions_questions = data[data['source'].str.contains('brockport.edu/admissions/apply')]\n",
    "\n",
    "df_no_duplicates = admissions_questions[~admissions_questions['data'].duplicated(keep='first')]\n",
    "\n",
    "admissions_questions= df_no_duplicates\n",
    "for row_index in range(len(admissions_questions)):\n",
    "    # open the file with write mode\n",
    "    path = admissions_questions.iloc[row_index, 0].replace('https://www2.', '').replace('/', '_')\n",
    "    with open(f\"/home/msaad/workspace/honors-thesis/data-collection/data/admissions_vectordb_split2/chunk_{path}.txt\", 'w') as file:\n",
    "        # write a row of the csv to the file\n",
    "        file.write(admissions_questions.iloc[row_index, 1])\n",
    "```"
   ]
  },
  {
   "cell_type": "code",
   "execution_count": 22,
   "metadata": {},
   "outputs": [],
   "source": [
    "from langchain.vectorstores import Chroma\n",
    "from langchain.chains import VectorDBQA\n",
    "from langchain.llms import OpenAI\n",
    "from langchain.chains import RetrievalQA\n",
    "from langchain.document_loaders import DirectoryLoader\n",
    "from chromadb.utils import embedding_functions\n",
    "import chromadb\n",
    "from langchain.embeddings import HuggingFaceInstructEmbeddings\n",
    "from langchain.text_splitter import RecursiveCharacterTextSplitter"
   ]
  },
  {
   "cell_type": "code",
   "execution_count": 23,
   "metadata": {},
   "outputs": [
    {
     "data": {
      "text/plain": [
       "13"
      ]
     },
     "execution_count": 23,
     "metadata": {},
     "output_type": "execute_result"
    }
   ],
   "source": [
    "data_dir = \"/home/msaad/workspace/honors-thesis/data-collection/data/\"\n",
    "loader = DirectoryLoader(\n",
    "    data_dir + \"admissions_vectordb_split2\", \n",
    "    glob=\"./*.txt\",\n",
    "    use_multithreading=True\n",
    ")\n",
    "doc = loader.load()\n",
    "\n",
    "len(doc)"
   ]
  },
  {
   "cell_type": "code",
   "execution_count": 24,
   "metadata": {},
   "outputs": [
    {
     "data": {
      "text/plain": [
       "25"
      ]
     },
     "execution_count": 24,
     "metadata": {},
     "output_type": "execute_result"
    }
   ],
   "source": [
    "# Splitting the text into chunks\n",
    "text_splitter = RecursiveCharacterTextSplitter(\n",
    "    chunk_size=1000, \n",
    "    chunk_overlap=200\n",
    ")\n",
    "texts = text_splitter.split_documents(doc)\n",
    "\n",
    "# Count the number of chunks\n",
    "len(texts)"
   ]
  },
  {
   "cell_type": "code",
   "execution_count": 25,
   "metadata": {},
   "outputs": [
    {
     "name": "stdout",
     "output_type": "stream",
     "text": [
      "load INSTRUCTOR_Transformer\n",
      "max_seq_length  512\n"
     ]
    }
   ],
   "source": [
    "persist_directory = data_dir + \"test_admissions2\"\n",
    "\n",
    "# By default uses 'hkunlp/instructor-large'\n",
    "embedding_function = HuggingFaceInstructEmbeddings(\n",
    "    query_instruction=\"Represent the School paragraph for retrieval: \"\n",
    ")\n",
    "\n",
    "# This also generates embeddings, which is quite GPU taxing.\n",
    "vectordb = Chroma.from_documents(\n",
    "    documents = doc,\n",
    "    embedding = embedding_function,\n",
    "    persist_directory = persist_directory\n",
    ")"
   ]
  },
  {
   "cell_type": "code",
   "execution_count": 26,
   "metadata": {},
   "outputs": [],
   "source": [
    "vectordb.persist()"
   ]
  },
  {
   "cell_type": "code",
   "execution_count": 27,
   "metadata": {},
   "outputs": [
    {
     "data": {
      "text/plain": [
       "[Document(page_content='If you have attended any college after high school graduation, you should choose this option. If you are not a US citizen and interested in undergraduate or graduate study, you should choose this option.', metadata={'source': '/home/msaad/workspace/honors-thesis/data-collection/data/admissions_vectordb_split2/chunk_brockport.edu_admissions_apply-to-brockport.txt'}),\n",
       " Document(page_content='Please choose only ONE of the following applications to fill out. Both applications are equally accepted. This fee is required with either option. For information on fee waivers, please contact your high school guidance counselor or complete the After completing your application, submit any additional requirements, like your transcripts, letters of recommendation, additional essay or statement, and SAT/ACT scores (SAT/ACT scores are optional). Applicants are admitted to the University and not to a major. A separate application or prerequisite courses may be required for admission to your intended major. You can track your application status in our online system and check for any missing documents or additional required items. Students who have separated from the University because of an expired leave of absence, graduation, or academic dismissal. Students who have earned an undergraduate degree and wish to earn a second baccalaureate degree. Students who are enrolled in a Dual Admit agreement at FLCC, GCC, MCC, or NCCC.', metadata={'source': '/home/msaad/workspace/honors-thesis/data-collection/data/admissions_vectordb_split2/chunk_brockport.edu_admissions_apply.txt'}),\n",
       " Document(page_content='Students may update their admissions application for two semesters following their original application date, provided they have either been accepted, been withdrawn, or if no decision has been made on their application. To update your application, please complete the form below. Once your request is received, it may take up to one week to be processed. You will be able to log onto Web Banner to verify the application update and check the', metadata={'source': '/home/msaad/workspace/honors-thesis/data-collection/data/admissions_vectordb_split2/chunk_brockport.edu_admissions_apply_update.txt'}),\n",
       " Document(page_content='If this is your first visit time logging in to the system, your PIN is your birth date (MMDDYY format). Once you log in, you will be prompted to change your PIN. Be sure to note your new PIN, as Undergraduate Admissions will If you did not supply your Social Security number when applying to Brockport, please contact Scroll to the bottom of the page to see what we need to make your application complete Below are commonly used status codes that may be associated with your application. Please contact us with any questions. We require a letter detailing what you have been doing academically and/or professionally since your high school graduation or last date of college attendance in order to evaluate your application. An email is sufficient. Please send it to The Admissions Committee has decided to delay making a decision on your application until we have received an explanation of your semester and/or cumulative grades below a 2.5 GPA. Please provide the Committee with a written explanation of factors that led to those grades below the minimum 2.5 GPA requirement. An email is sufficient. Please send it to We require all students to submit their final high school transcript(s) showing date of graduation. Your application is currently being reviewed by the Admissions Committee. Once their review is complete, you will receive notification from the Office of Undergraduate Admissions via postal mail.\\n\\nIn the meantime, please contact Michael Brown, EOP Coordinator, in the Office of Undergraduate Admissions at The Admissions Committee has decided to delay making a decision on your application until we have received the supplemental application. The Admissions Committee suggests retaking the SAT or ACT exam. Please email the Undergraduate Admissions office if you are not planning to retake the exam(s) at The Admissions Committee has decided to delay making a decision on your application until you have demonstrated improved academic performance. Please be sure to send us an updated transcript when final grades are posted so your application can be reviewed at that time. This does not require any action on your part, as it is an internal code indicating your application is ready for financial review in the EOP process.', metadata={'source': '/home/msaad/workspace/honors-thesis/data-collection/data/admissions_vectordb_split2/chunk_brockport.edu_admissions_apply_status.html.txt'})]"
      ]
     },
     "execution_count": 27,
     "metadata": {},
     "output_type": "execute_result"
    }
   ],
   "source": [
    "retreiver = vectordb.as_retriever()\n",
    "\n",
    "docs = retreiver.get_relevant_documents(\"How can I apply as an undergraduate?\")\n",
    "\n",
    "docs"
   ]
  },
  {
   "cell_type": "markdown",
   "metadata": {},
   "source": [
    "# Start langchain"
   ]
  },
  {
   "cell_type": "code",
   "execution_count": 28,
   "metadata": {},
   "outputs": [],
   "source": [
    "retriever = vectordb.as_retriever(search_kwargs={\"k\": 5})\n",
    "\n",
    "qa_chain = RetrievalQA.from_chain_type(\n",
    "    llm=OpenAI(),\n",
    "    chain_type=\"stuff\",\n",
    "    retriever=retriever,\n",
    "    return_source_documents=True,\n",
    "    verbose=True\n",
    ")"
   ]
  },
  {
   "cell_type": "code",
   "execution_count": 29,
   "metadata": {},
   "outputs": [],
   "source": [
    "# Cite sources\n",
    "def process_llm_response(llm_response):\n",
    "    print(llm_response['result'])\n",
    "    print('\\n\\nSources:')\n",
    "    for source in llm_response[\"source_documents\"]:\n",
    "        print(source.metadata['source'])"
   ]
  },
  {
   "cell_type": "code",
   "execution_count": 31,
   "metadata": {},
   "outputs": [
    {
     "name": "stdout",
     "output_type": "stream",
     "text": [
      "\n",
      "\n",
      "\u001b[1m> Entering new RetrievalQA chain...\u001b[0m\n",
      "\n",
      "\u001b[1m> Finished chain.\u001b[0m\n",
      " No, SAT scores are not required to apply. They are optional and may be submitted via official high school transcript or directly from the testing agency.\n",
      "\n",
      "\n",
      "Sources:\n",
      "/home/msaad/workspace/honors-thesis/data-collection/data/admissions_vectordb_split2/chunk_brockport.edu_admissions_apply_first_year.html.txt\n",
      "/home/msaad/workspace/honors-thesis/data-collection/data/admissions_vectordb_split2/chunk_brockport.edu_admissions_apply_status.html.txt\n",
      "/home/msaad/workspace/honors-thesis/data-collection/data/admissions_vectordb_split2/chunk_brockport.edu_admissions_apply.txt\n",
      "/home/msaad/workspace/honors-thesis/data-collection/data/admissions_vectordb_split2/chunk_brockport.edu_admissions_apply-to-brockport.txt\n",
      "/home/msaad/workspace/honors-thesis/data-collection/data/admissions_vectordb_split2/chunk_brockport.edu_admissions_apply_special_admission_requirements.html.txt\n"
     ]
    }
   ],
   "source": [
    "query = \"Are SAT scores required to apply?\"\n",
    "llm_response = qa_chain(query)\n",
    "process_llm_response(llm_response)"
   ]
  },
  {
   "cell_type": "code",
   "execution_count": 34,
   "metadata": {},
   "outputs": [
    {
     "data": {
      "text/plain": [
       "' No, SAT scores are not required to apply. They are optional and may be submitted via official high school transcript or directly from the testing agency.'"
      ]
     },
     "execution_count": 34,
     "metadata": {},
     "output_type": "execute_result"
    }
   ],
   "source": [
    "llm_response['result']"
   ]
  }
 ],
 "metadata": {
  "kernelspec": {
   "display_name": "thesis",
   "language": "python",
   "name": "python3"
  },
  "language_info": {
   "codemirror_mode": {
    "name": "ipython",
    "version": 3
   },
   "file_extension": ".py",
   "mimetype": "text/x-python",
   "name": "python",
   "nbconvert_exporter": "python",
   "pygments_lexer": "ipython3",
   "version": "3.11.3"
  },
  "orig_nbformat": 4
 },
 "nbformat": 4,
 "nbformat_minor": 2
}
