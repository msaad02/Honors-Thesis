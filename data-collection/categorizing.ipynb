{
 "cells": [
  {
   "cell_type": "code",
   "execution_count": 6,
   "metadata": {},
   "outputs": [],
   "source": [
    "import json\n",
    "import pandas as pd\n",
    "\n",
    "with open(\"/home/msaad/workspace/honors-thesis/data-collection/data/categorized_data.json\", \"r\") as f:\n",
    "    data = json.load(f)\n",
    "\n",
    "# Load in the JSON file"
   ]
  },
  {
   "cell_type": "code",
   "execution_count": 16,
   "metadata": {},
   "outputs": [
    {
     "data": {
      "text/plain": [
       "['https://www2.brockport.edu/academics',\n",
       " 'academic-affairs',\n",
       " 'https://www2.brockport.edu/academics/academic_affairs/innovations_task_force/index.html',\n",
       " 'https://www2.brockport.edu/academics/academic_affairs/master_plan',\n",
       " 'https://www2.brockport.edu/academics/academic_affairs/meeting_minutes.html',\n",
       " 'https://www2.brockport.edu/academics/accounting/finance_major.html',\n",
       " 'advisement',\n",
       " 'african-american',\n",
       " 'https://www2.brockport.edu/academics/aging',\n",
       " 'https://www2.brockport.edu/academics/aging/advanced-cert',\n",
       " 'https://www2.brockport.edu/academics/aging/directory',\n",
       " 'https://www2.brockport.edu/academics/american_democracy_project/constitution',\n",
       " 'anthropology',\n",
       " 'art',\n",
       " 'biology',\n",
       " 'https://www2.brockport.edu/academics/business-administration',\n",
       " 'https://www2.brockport.edu/academics/calendar',\n",
       " 'https://www2.brockport.edu/academics/calendar/archive',\n",
       " 'career',\n",
       " 'celt',\n",
       " 'certification',\n",
       " 'chemistry',\n",
       " 'commencement',\n",
       " 'communication',\n",
       " 'https://www2.brockport.edu/academics/community-justice',\n",
       " 'https://www2.brockport.edu/academics/community-justice/career-pathways',\n",
       " 'https://www2.brockport.edu/academics/community-justice/directory',\n",
       " 'https://www2.brockport.edu/academics/community-justice/sample-four-year-degree-plan',\n",
       " 'https://www2.brockport.edu/academics/community-reading',\n",
       " 'computing-sciences',\n",
       " 'https://www2.brockport.edu/academics/computing_sciences/about/independent_study.html',\n",
       " 'https://www2.brockport.edu/academics/computing_sciences/about/internship.html',\n",
       " 'https://www2.brockport.edu/academics/conferences/northeastern-analysis',\n",
       " 'https://www2.brockport.edu/academics/conferences/northeastern_analysis/accomodations.html',\n",
       " 'https://www2.brockport.edu/academics/conferences/northeastern_analysis/location_travel.html',\n",
       " 'https://www2.brockport.edu/academics/conferences/northeastern_analysis/main_speakers.html',\n",
       " 'https://www2.brockport.edu/academics/conferences/northeastern_analysis/participants.html',\n",
       " 'counselor-education',\n",
       " 'https://www2.brockport.edu/academics/counselor_education/casac-t.html',\n",
       " 'criminal-justice',\n",
       " 'https://www2.brockport.edu/academics/cstep',\n",
       " 'https://www2.brockport.edu/academics/cstep/application',\n",
       " 'https://www2.brockport.edu/academics/cstep/benefits',\n",
       " 'https://www2.brockport.edu/academics/cstep/directory',\n",
       " 'https://www2.brockport.edu/academics/cstep/eligibility',\n",
       " 'dance',\n",
       " 'delta-college',\n",
       " 'https://www2.brockport.edu/academics/eagle-success',\n",
       " 'earth-sciences',\n",
       " 'https://www2.brockport.edu/academics/earth_sciences/adolescence_earth_science_major.html',\n",
       " 'education-human-development',\n",
       " 'https://www2.brockport.edu/academics/education_human_development/graduate/career_instructional_design.html',\n",
       " 'https://www2.brockport.edu/academics/education_human_development/graduate/tesol.html',\n",
       " 'educational-administration',\n",
       " 'educational-opportunity-program',\n",
       " 'https://www2.brockport.edu/academics/educational_administration/graduate/higher_education_administration.html',\n",
       " 'https://www2.brockport.edu/academics/engaged-learning',\n",
       " 'https://www2.brockport.edu/academics/engaged-learning/abroad',\n",
       " 'https://www2.brockport.edu/academics/engaged-learning/research-posters',\n",
       " 'https://www2.brockport.edu/academics/engaged-learning/summer-undergraduate-research-program',\n",
       " 'https://www2.brockport.edu/academics/engaged-learning/undergraduate-research',\n",
       " 'english',\n",
       " 'environmental-science',\n",
       " 'field-experience',\n",
       " 'https://www2.brockport.edu/academics/film',\n",
       " 'https://www2.brockport.edu/academics/film/?program=minor',\n",
       " 'https://www2.brockport.edu/academics/film/directory',\n",
       " 'https://www2.brockport.edu/academics/fine-arts',\n",
       " 'https://www2.brockport.edu/academics/fine-arts/parking',\n",
       " 'https://www2.brockport.edu/academics/fine-arts/policies',\n",
       " 'https://www2.brockport.edu/academics/fine-arts/subscribe',\n",
       " 'https://www2.brockport.edu/academics/fine-arts/take-a-seat',\n",
       " 'https://www2.brockport.edu/academics/fine-arts/welcome',\n",
       " 'general-education',\n",
       " 'https://www2.brockport.edu/academics/general_education/student_learning_outcome_assessment_committee.html',\n",
       " 'healthcare-studies',\n",
       " 'history',\n",
       " 'honors-college',\n",
       " 'https://www2.brockport.edu/academics/honors_college/transfer_course_requirements.html',\n",
       " 'imsvi',\n",
       " 'international-education',\n",
       " 'https://www2.brockport.edu/academics/international_education/coil/instructions.html',\n",
       " 'journalism-broadcasting',\n",
       " 'kinesiology',\n",
       " 'https://www2.brockport.edu/academics/legal-studies',\n",
       " 'https://www2.brockport.edu/academics/liberal-integrative',\n",
       " 'https://www2.brockport.edu/academics/liberal-integrative/curriculum',\n",
       " 'https://www2.brockport.edu/academics/liberal-integrative/major',\n",
       " 'https://www2.brockport.edu/academics/liberal-integrative/major/sample-four-year-degree-plan',\n",
       " 'https://www2.brockport.edu/academics/liberal-integrative/masters',\n",
       " 'mathematics',\n",
       " 'https://www2.brockport.edu/academics/mcnair',\n",
       " 'https://www2.brockport.edu/academics/mcnair/application',\n",
       " 'https://www2.brockport.edu/academics/mcnair/directory',\n",
       " 'https://www2.brockport.edu/academics/mcnair/mission',\n",
       " 'migrant-education',\n",
       " 'military-science',\n",
       " 'https://www2.brockport.edu/academics/military_science/cadet_training/fitness_test.html',\n",
       " 'https://www2.brockport.edu/academics/military_science/cadet_training/off_campus.html',\n",
       " 'https://www2.brockport.edu/academics/military_science/cadet_training/on_campus.html',\n",
       " 'https://www2.brockport.edu/academics/military_science/scholarships/3-2_year.html',\n",
       " 'https://www2.brockport.edu/academics/military_science/scholarships/green_golf.html',\n",
       " 'modern-languages',\n",
       " 'https://www2.brockport.edu/academics/museum',\n",
       " 'https://www2.brockport.edu/academics/music',\n",
       " 'https://www2.brockport.edu/academics/music/awards',\n",
       " 'https://www2.brockport.edu/academics/music/ensembles',\n",
       " 'https://www2.brockport.edu/academics/music/facilities',\n",
       " 'https://www2.brockport.edu/academics/music/minor',\n",
       " 'https://www2.brockport.edu/academics/music/music-business-minor',\n",
       " 'https://www2.brockport.edu/academics/neuroscience',\n",
       " 'https://www2.brockport.edu/academics/neuroscience/career-pathway',\n",
       " 'https://www2.brockport.edu/academics/neuroscience/directory',\n",
       " 'https://www2.brockport.edu/academics/neuroscience/sample-four-year-degree-plan',\n",
       " 'nursing',\n",
       " 'https://www2.brockport.edu/academics/online',\n",
       " 'https://www2.brockport.edu/academics/online/complaint-resolution',\n",
       " 'https://www2.brockport.edu/academics/online/concierge',\n",
       " 'https://www2.brockport.edu/academics/online/onlinefacultyresources',\n",
       " 'https://www2.brockport.edu/academics/online/studentresources',\n",
       " 'philosophy',\n",
       " 'physics',\n",
       " 'political-science',\n",
       " 'pre-med',\n",
       " 'professional-education',\n",
       " 'https://www2.brockport.edu/academics/programs',\n",
       " 'psychology',\n",
       " 'public-administration',\n",
       " 'public-health',\n",
       " 'https://www2.brockport.edu/academics/public_administration/advisory_board.html',\n",
       " 'https://www2.brockport.edu/academics/public_administration/alumni/jobs.html',\n",
       " 'recreation-leisure',\n",
       " 'https://www2.brockport.edu/academics/recreation_leisure/coaprt_summary.html',\n",
       " 'scholars-day',\n",
       " 'https://www2.brockport.edu/academics/school-arts-sciences',\n",
       " 'https://www2.brockport.edu/academics/school-arts-sciences/about',\n",
       " 'https://www2.brockport.edu/academics/school-arts-sciences/advisory-board',\n",
       " 'https://www2.brockport.edu/academics/school-arts-sciences/directory',\n",
       " 'https://www2.brockport.edu/academics/school-arts-sciences/make-gift',\n",
       " 'school-business-management',\n",
       " 'https://www2.brockport.edu/academics/school-education-health-human',\n",
       " 'https://www2.brockport.edu/academics/school-education-health-human/accreditations',\n",
       " 'https://www2.brockport.edu/academics/school-education-health-human/cluster-hire',\n",
       " 'https://www2.brockport.edu/academics/school-education-health-human/dean-message',\n",
       " 'https://www2.brockport.edu/academics/school-education-health-human/directory',\n",
       " 'https://www2.brockport.edu/academics/school-education-health-human/mission',\n",
       " 'https://www2.brockport.edu/academics/school_business_management/newsletter.html',\n",
       " 'https://www2.brockport.edu/academics/schools-departments',\n",
       " 'social-work',\n",
       " 'https://www2.brockport.edu/academics/social_work/field_education_overview.html',\n",
       " 'https://www2.brockport.edu/academics/social_work/gerontological_social_work_curriculum.html',\n",
       " 'sociology',\n",
       " 'special-sessions',\n",
       " 'https://www2.brockport.edu/academics/special_sessions/summer/checklist.html',\n",
       " 'https://www2.brockport.edu/academics/special_sessions/summer/new_students.html',\n",
       " 'https://www2.brockport.edu/academics/special_sessions/winter/checklist.html',\n",
       " 'https://www2.brockport.edu/academics/special_sessions/winter/new_students.html',\n",
       " 'https://www2.brockport.edu/academics/stem',\n",
       " 'https://www2.brockport.edu/academics/success-center',\n",
       " 'https://www2.brockport.edu/academics/success-center/directory',\n",
       " 'theatre-music',\n",
       " 'tutoring',\n",
       " 'washington',\n",
       " 'women-gender',\n",
       " 'https://www2.brockport.edu/academics/women_gender/graduate/advanced_certificate.html']"
      ]
     },
     "execution_count": 16,
     "metadata": {},
     "output_type": "execute_result"
    }
   ],
   "source": [
    "list(data['academics'].keys())"
   ]
  },
  {
   "cell_type": "code",
   "execution_count": 122,
   "metadata": {},
   "outputs": [],
   "source": [
    "df = pd.read_csv(\"data/full_cleaned_data.csv\")"
   ]
  },
  {
   "cell_type": "code",
   "execution_count": 33,
   "metadata": {},
   "outputs": [
    {
     "ename": "TypeError",
     "evalue": "'Index' object is not callable",
     "output_type": "error",
     "traceback": [
      "\u001b[0;31m---------------------------------------------------------------------------\u001b[0m",
      "\u001b[0;31mTypeError\u001b[0m                                 Traceback (most recent call last)",
      "Cell \u001b[0;32mIn[33], line 1\u001b[0m\n\u001b[0;32m----> 1\u001b[0m df \u001b[39m=\u001b[39m df\u001b[39m.\u001b[39;49mdata\u001b[39m.\u001b[39;49mstr\u001b[39m.\u001b[39;49mlen()\u001b[39m.\u001b[39;49msort_values()\u001b[39m.\u001b[39;49mindex()\n",
      "\u001b[0;31mTypeError\u001b[0m: 'Index' object is not callable"
     ]
    }
   ],
   "source": [
    "df = df.data.str.len().sort_values().index()"
   ]
  },
  {
   "cell_type": "code",
   "execution_count": 35,
   "metadata": {},
   "outputs": [],
   "source": [
    "df.index = df['data'].str.len()\n",
    "df = df.sort_index(ascending=False).reset_index(drop=True)"
   ]
  },
  {
   "cell_type": "code",
   "execution_count": 104,
   "metadata": {},
   "outputs": [
    {
     "data": {
      "text/plain": [
       "278"
      ]
     },
     "execution_count": 104,
     "metadata": {},
     "output_type": "execute_result"
    }
   ],
   "source": [
    "len(df.iloc[2590,1])"
   ]
  },
  {
   "cell_type": "code",
   "execution_count": 105,
   "metadata": {},
   "outputs": [
    {
     "data": {
      "text/html": [
       "<div>\n",
       "<style scoped>\n",
       "    .dataframe tbody tr th:only-of-type {\n",
       "        vertical-align: middle;\n",
       "    }\n",
       "\n",
       "    .dataframe tbody tr th {\n",
       "        vertical-align: top;\n",
       "    }\n",
       "\n",
       "    .dataframe thead th {\n",
       "        text-align: right;\n",
       "    }\n",
       "</style>\n",
       "<table border=\"1\" class=\"dataframe\">\n",
       "  <thead>\n",
       "    <tr style=\"text-align: right;\">\n",
       "      <th></th>\n",
       "      <th>url</th>\n",
       "      <th>data</th>\n",
       "    </tr>\n",
       "  </thead>\n",
       "  <tbody>\n",
       "    <tr>\n",
       "      <th>0</th>\n",
       "      <td>https://www2.brockport.edu/academics/social-wo...</td>\n",
       "      <td>Welcome and Introduction\\nWelcome to the Maste...</td>\n",
       "    </tr>\n",
       "    <tr>\n",
       "      <th>1</th>\n",
       "      <td>https://www2.brockport.edu/academics/nursing/h...</td>\n",
       "      <td>SUNY Brockport\\nDepartment of Nursing\\nReview ...</td>\n",
       "    </tr>\n",
       "    <tr>\n",
       "      <th>2</th>\n",
       "      <td>https://www2.brockport.edu/support/policies/ca...</td>\n",
       "      <td>-\\nAcademic Affairs\\n- Academic Dishonesty Pol...</td>\n",
       "    </tr>\n",
       "    <tr>\n",
       "      <th>3</th>\n",
       "      <td>https://www2.brockport.edu/academics/political...</td>\n",
       "      <td>&lt;picture class=\"lw_image\"&gt; &lt;source type=\"image...</td>\n",
       "    </tr>\n",
       "    <tr>\n",
       "      <th>4</th>\n",
       "      <td>https://www2.brockport.edu/academics/kinesiolo...</td>\n",
       "      <td>Policies and Procedures Manual (2022-2023)\\nI....</td>\n",
       "    </tr>\n",
       "    <tr>\n",
       "      <th>...</th>\n",
       "      <td>...</td>\n",
       "      <td>...</td>\n",
       "    </tr>\n",
       "    <tr>\n",
       "      <th>2659</th>\n",
       "      <td>https://www2.brockport.edu/life/student-conduc...</td>\n",
       "      <td>Laura BronsinkDirector of Student Conduct (585...</td>\n",
       "    </tr>\n",
       "    <tr>\n",
       "      <th>2660</th>\n",
       "      <td>https://www2.brockport.edu/go/ems</td>\n",
       "      <td>There was a problem attempting to complete the...</td>\n",
       "    </tr>\n",
       "    <tr>\n",
       "      <th>2661</th>\n",
       "      <td>https://www2.brockport.edu/library/lookup</td>\n",
       "      <td>JavaScript must be enabled to use the system</td>\n",
       "    </tr>\n",
       "    <tr>\n",
       "      <th>2662</th>\n",
       "      <td>https://www2.brockport.edu/about/diversity/bia...</td>\n",
       "      <td>Sign in to your account</td>\n",
       "    </tr>\n",
       "    <tr>\n",
       "      <th>2663</th>\n",
       "      <td>https://www2.brockport.edu/academics/biology</td>\n",
       "      <td>NaN</td>\n",
       "    </tr>\n",
       "  </tbody>\n",
       "</table>\n",
       "<p>2664 rows × 2 columns</p>\n",
       "</div>"
      ],
      "text/plain": [
       "                                                    url  \\\n",
       "0     https://www2.brockport.edu/academics/social-wo...   \n",
       "1     https://www2.brockport.edu/academics/nursing/h...   \n",
       "2     https://www2.brockport.edu/support/policies/ca...   \n",
       "3     https://www2.brockport.edu/academics/political...   \n",
       "4     https://www2.brockport.edu/academics/kinesiolo...   \n",
       "...                                                 ...   \n",
       "2659  https://www2.brockport.edu/life/student-conduc...   \n",
       "2660                  https://www2.brockport.edu/go/ems   \n",
       "2661          https://www2.brockport.edu/library/lookup   \n",
       "2662  https://www2.brockport.edu/about/diversity/bia...   \n",
       "2663       https://www2.brockport.edu/academics/biology   \n",
       "\n",
       "                                                   data  \n",
       "0     Welcome and Introduction\\nWelcome to the Maste...  \n",
       "1     SUNY Brockport\\nDepartment of Nursing\\nReview ...  \n",
       "2     -\\nAcademic Affairs\\n- Academic Dishonesty Pol...  \n",
       "3     <picture class=\"lw_image\"> <source type=\"image...  \n",
       "4     Policies and Procedures Manual (2022-2023)\\nI....  \n",
       "...                                                 ...  \n",
       "2659  Laura BronsinkDirector of Student Conduct (585...  \n",
       "2660  There was a problem attempting to complete the...  \n",
       "2661       JavaScript must be enabled to use the system  \n",
       "2662                            Sign in to your account  \n",
       "2663                                                NaN  \n",
       "\n",
       "[2664 rows x 2 columns]"
      ]
     },
     "execution_count": 105,
     "metadata": {},
     "output_type": "execute_result"
    }
   ],
   "source": [
    "df"
   ]
  },
  {
   "cell_type": "code",
   "execution_count": 109,
   "metadata": {},
   "outputs": [
    {
     "data": {
      "text/html": [
       "<div>\n",
       "<style scoped>\n",
       "    .dataframe tbody tr th:only-of-type {\n",
       "        vertical-align: middle;\n",
       "    }\n",
       "\n",
       "    .dataframe tbody tr th {\n",
       "        vertical-align: top;\n",
       "    }\n",
       "\n",
       "    .dataframe thead th {\n",
       "        text-align: right;\n",
       "    }\n",
       "</style>\n",
       "<table border=\"1\" class=\"dataframe\">\n",
       "  <thead>\n",
       "    <tr style=\"text-align: right;\">\n",
       "      <th></th>\n",
       "      <th>url</th>\n",
       "      <th>data</th>\n",
       "    </tr>\n",
       "  </thead>\n",
       "  <tbody>\n",
       "    <tr>\n",
       "      <th>0</th>\n",
       "      <td>https://www2.brockport.edu</td>\n",
       "      <td>Main Page Content\\nBe ThereEvents Calendar\\nWh...</td>\n",
       "    </tr>\n",
       "    <tr>\n",
       "      <th>1</th>\n",
       "      <td>https://www2.brockport.edu/about</td>\n",
       "      <td>About\\nSUNY Brockport is a selective, national...</td>\n",
       "    </tr>\n",
       "    <tr>\n",
       "      <th>2</th>\n",
       "      <td>https://www2.brockport.edu/about/accountability</td>\n",
       "      <td>Accountability &amp; SUNY Brockport\\nSUNY Brockpor...</td>\n",
       "    </tr>\n",
       "    <tr>\n",
       "      <th>3</th>\n",
       "      <td>https://www2.brockport.edu/about/accountabilit...</td>\n",
       "      <td>Student Learning Outcomes (SLOs)\\nMain Page Co...</td>\n",
       "    </tr>\n",
       "    <tr>\n",
       "      <th>4</th>\n",
       "      <td>https://www2.brockport.edu/about/accountabilit...</td>\n",
       "      <td>University-wide Committees Joint Planning and ...</td>\n",
       "    </tr>\n",
       "    <tr>\n",
       "      <th>...</th>\n",
       "      <td>...</td>\n",
       "      <td>...</td>\n",
       "    </tr>\n",
       "    <tr>\n",
       "      <th>2659</th>\n",
       "      <td>https://www2.brockport.edu/support/university-...</td>\n",
       "      <td>V. Violence Against Women Act (VAWA) Crimes\\nV...</td>\n",
       "    </tr>\n",
       "    <tr>\n",
       "      <th>2660</th>\n",
       "      <td>https://www2.brockport.edu/support/university-...</td>\n",
       "      <td>Although we enjoy a safe campus, no area is to...</td>\n",
       "    </tr>\n",
       "    <tr>\n",
       "      <th>2661</th>\n",
       "      <td>https://www2.brockport.edu/support/university-...</td>\n",
       "      <td>Sexual Assault and the Law\\nSUNY Brockport has...</td>\n",
       "    </tr>\n",
       "    <tr>\n",
       "      <th>2662</th>\n",
       "      <td>https://www2.brockport.edu/support/university-...</td>\n",
       "      <td>The Student Patrol program allows students wor...</td>\n",
       "    </tr>\n",
       "    <tr>\n",
       "      <th>2663</th>\n",
       "      <td>https://www2.brockport.edu/support/university-...</td>\n",
       "      <td>The weekly incident reports show the activity/...</td>\n",
       "    </tr>\n",
       "  </tbody>\n",
       "</table>\n",
       "<p>2592 rows × 2 columns</p>\n",
       "</div>"
      ],
      "text/plain": [
       "                                                    url  \\\n",
       "0                            https://www2.brockport.edu   \n",
       "1                      https://www2.brockport.edu/about   \n",
       "2       https://www2.brockport.edu/about/accountability   \n",
       "3     https://www2.brockport.edu/about/accountabilit...   \n",
       "4     https://www2.brockport.edu/about/accountabilit...   \n",
       "...                                                 ...   \n",
       "2659  https://www2.brockport.edu/support/university-...   \n",
       "2660  https://www2.brockport.edu/support/university-...   \n",
       "2661  https://www2.brockport.edu/support/university-...   \n",
       "2662  https://www2.brockport.edu/support/university-...   \n",
       "2663  https://www2.brockport.edu/support/university-...   \n",
       "\n",
       "                                                   data  \n",
       "0     Main Page Content\\nBe ThereEvents Calendar\\nWh...  \n",
       "1     About\\nSUNY Brockport is a selective, national...  \n",
       "2     Accountability & SUNY Brockport\\nSUNY Brockpor...  \n",
       "3     Student Learning Outcomes (SLOs)\\nMain Page Co...  \n",
       "4     University-wide Committees Joint Planning and ...  \n",
       "...                                                 ...  \n",
       "2659  V. Violence Against Women Act (VAWA) Crimes\\nV...  \n",
       "2660  Although we enjoy a safe campus, no area is to...  \n",
       "2661  Sexual Assault and the Law\\nSUNY Brockport has...  \n",
       "2662  The Student Patrol program allows students wor...  \n",
       "2663  The weekly incident reports show the activity/...  \n",
       "\n",
       "[2592 rows x 2 columns]"
      ]
     },
     "execution_count": 109,
     "metadata": {},
     "output_type": "execute_result"
    }
   ],
   "source": [
    "df[df.data.str.len() > 275]"
   ]
  },
  {
   "cell_type": "code",
   "execution_count": 110,
   "metadata": {},
   "outputs": [
    {
     "data": {
      "text/html": [
       "<div>\n",
       "<style scoped>\n",
       "    .dataframe tbody tr th:only-of-type {\n",
       "        vertical-align: middle;\n",
       "    }\n",
       "\n",
       "    .dataframe tbody tr th {\n",
       "        vertical-align: top;\n",
       "    }\n",
       "\n",
       "    .dataframe thead th {\n",
       "        text-align: right;\n",
       "    }\n",
       "</style>\n",
       "<table border=\"1\" class=\"dataframe\">\n",
       "  <thead>\n",
       "    <tr style=\"text-align: right;\">\n",
       "      <th></th>\n",
       "      <th>url</th>\n",
       "      <th>data</th>\n",
       "    </tr>\n",
       "  </thead>\n",
       "  <tbody>\n",
       "    <tr>\n",
       "      <th>0</th>\n",
       "      <td>https://www2.brockport.edu</td>\n",
       "      <td>Main Page Content\\nBe ThereEvents Calendar\\nWh...</td>\n",
       "    </tr>\n",
       "    <tr>\n",
       "      <th>1</th>\n",
       "      <td>https://www2.brockport.edu/about</td>\n",
       "      <td>About\\nSUNY Brockport is a selective, national...</td>\n",
       "    </tr>\n",
       "    <tr>\n",
       "      <th>2</th>\n",
       "      <td>https://www2.brockport.edu/about/accountability</td>\n",
       "      <td>Accountability &amp; SUNY Brockport\\nSUNY Brockpor...</td>\n",
       "    </tr>\n",
       "    <tr>\n",
       "      <th>3</th>\n",
       "      <td>https://www2.brockport.edu/about/accountabilit...</td>\n",
       "      <td>Student Learning Outcomes (SLOs)\\nMain Page Co...</td>\n",
       "    </tr>\n",
       "    <tr>\n",
       "      <th>4</th>\n",
       "      <td>https://www2.brockport.edu/about/accountabilit...</td>\n",
       "      <td>University-wide Committees Joint Planning and ...</td>\n",
       "    </tr>\n",
       "    <tr>\n",
       "      <th>...</th>\n",
       "      <td>...</td>\n",
       "      <td>...</td>\n",
       "    </tr>\n",
       "    <tr>\n",
       "      <th>2659</th>\n",
       "      <td>https://www2.brockport.edu/support/university-...</td>\n",
       "      <td>V. Violence Against Women Act (VAWA) Crimes\\nV...</td>\n",
       "    </tr>\n",
       "    <tr>\n",
       "      <th>2660</th>\n",
       "      <td>https://www2.brockport.edu/support/university-...</td>\n",
       "      <td>Although we enjoy a safe campus, no area is to...</td>\n",
       "    </tr>\n",
       "    <tr>\n",
       "      <th>2661</th>\n",
       "      <td>https://www2.brockport.edu/support/university-...</td>\n",
       "      <td>Sexual Assault and the Law\\nSUNY Brockport has...</td>\n",
       "    </tr>\n",
       "    <tr>\n",
       "      <th>2662</th>\n",
       "      <td>https://www2.brockport.edu/support/university-...</td>\n",
       "      <td>The Student Patrol program allows students wor...</td>\n",
       "    </tr>\n",
       "    <tr>\n",
       "      <th>2663</th>\n",
       "      <td>https://www2.brockport.edu/support/university-...</td>\n",
       "      <td>The weekly incident reports show the activity/...</td>\n",
       "    </tr>\n",
       "  </tbody>\n",
       "</table>\n",
       "<p>2592 rows × 2 columns</p>\n",
       "</div>"
      ],
      "text/plain": [
       "                                                    url  \\\n",
       "0                            https://www2.brockport.edu   \n",
       "1                      https://www2.brockport.edu/about   \n",
       "2       https://www2.brockport.edu/about/accountability   \n",
       "3     https://www2.brockport.edu/about/accountabilit...   \n",
       "4     https://www2.brockport.edu/about/accountabilit...   \n",
       "...                                                 ...   \n",
       "2659  https://www2.brockport.edu/support/university-...   \n",
       "2660  https://www2.brockport.edu/support/university-...   \n",
       "2661  https://www2.brockport.edu/support/university-...   \n",
       "2662  https://www2.brockport.edu/support/university-...   \n",
       "2663  https://www2.brockport.edu/support/university-...   \n",
       "\n",
       "                                                   data  \n",
       "0     Main Page Content\\nBe ThereEvents Calendar\\nWh...  \n",
       "1     About\\nSUNY Brockport is a selective, national...  \n",
       "2     Accountability & SUNY Brockport\\nSUNY Brockpor...  \n",
       "3     Student Learning Outcomes (SLOs)\\nMain Page Co...  \n",
       "4     University-wide Committees Joint Planning and ...  \n",
       "...                                                 ...  \n",
       "2659  V. Violence Against Women Act (VAWA) Crimes\\nV...  \n",
       "2660  Although we enjoy a safe campus, no area is to...  \n",
       "2661  Sexual Assault and the Law\\nSUNY Brockport has...  \n",
       "2662  The Student Patrol program allows students wor...  \n",
       "2663  The weekly incident reports show the activity/...  \n",
       "\n",
       "[2592 rows x 2 columns]"
      ]
     },
     "execution_count": 110,
     "metadata": {},
     "output_type": "execute_result"
    }
   ],
   "source": [
    "df[df['data'].str.len() > 275]"
   ]
  },
  {
   "cell_type": "code",
   "execution_count": 127,
   "metadata": {},
   "outputs": [],
   "source": [
    "df = pd.read_csv(\"data/full_cleaned_data.csv\")"
   ]
  },
  {
   "cell_type": "code",
   "execution_count": 128,
   "metadata": {},
   "outputs": [
    {
     "data": {
      "text/plain": [
       "url\n",
       "False    2379\n",
       "True      285\n",
       "Name: count, dtype: int64"
      ]
     },
     "execution_count": 128,
     "metadata": {},
     "output_type": "execute_result"
    }
   ],
   "source": [
    "df['url'].str.contains(\"_\").value_counts()"
   ]
  },
  {
   "cell_type": "code",
   "execution_count": 129,
   "metadata": {},
   "outputs": [],
   "source": [
    "df['url'] = df['url'].str.replace(\"_\", \"-\")"
   ]
  },
  {
   "cell_type": "code",
   "execution_count": 130,
   "metadata": {},
   "outputs": [
    {
     "data": {
      "text/plain": [
       "url\n",
       "False    2664\n",
       "Name: count, dtype: int64"
      ]
     },
     "execution_count": 130,
     "metadata": {},
     "output_type": "execute_result"
    }
   ],
   "source": [
    "df['url'].str.contains(\"_\").value_counts()"
   ]
  },
  {
   "cell_type": "code",
   "execution_count": 136,
   "metadata": {},
   "outputs": [
    {
     "data": {
      "text/html": [
       "<div>\n",
       "<style scoped>\n",
       "    .dataframe tbody tr th:only-of-type {\n",
       "        vertical-align: middle;\n",
       "    }\n",
       "\n",
       "    .dataframe tbody tr th {\n",
       "        vertical-align: top;\n",
       "    }\n",
       "\n",
       "    .dataframe thead th {\n",
       "        text-align: right;\n",
       "    }\n",
       "</style>\n",
       "<table border=\"1\" class=\"dataframe\">\n",
       "  <thead>\n",
       "    <tr style=\"text-align: right;\">\n",
       "      <th></th>\n",
       "      <th>url</th>\n",
       "      <th>data</th>\n",
       "    </tr>\n",
       "  </thead>\n",
       "  <tbody>\n",
       "    <tr>\n",
       "      <th>0</th>\n",
       "      <td>https://www2.brockport.edu</td>\n",
       "      <td>Main Page Content\\nBe ThereEvents Calendar\\nWh...</td>\n",
       "    </tr>\n",
       "    <tr>\n",
       "      <th>1</th>\n",
       "      <td>https://www2.brockport.edu/about</td>\n",
       "      <td>About\\nSUNY Brockport is a selective, national...</td>\n",
       "    </tr>\n",
       "    <tr>\n",
       "      <th>2</th>\n",
       "      <td>https://www2.brockport.edu/about/accountability</td>\n",
       "      <td>Accountability &amp; SUNY Brockport\\nSUNY Brockpor...</td>\n",
       "    </tr>\n",
       "    <tr>\n",
       "      <th>3</th>\n",
       "      <td>https://www2.brockport.edu/about/accountabilit...</td>\n",
       "      <td>Student Learning Outcomes (SLOs)\\nMain Page Co...</td>\n",
       "    </tr>\n",
       "    <tr>\n",
       "      <th>4</th>\n",
       "      <td>https://www2.brockport.edu/about/accountabilit...</td>\n",
       "      <td>University-wide Committees Joint Planning and ...</td>\n",
       "    </tr>\n",
       "    <tr>\n",
       "      <th>...</th>\n",
       "      <td>...</td>\n",
       "      <td>...</td>\n",
       "    </tr>\n",
       "    <tr>\n",
       "      <th>2659</th>\n",
       "      <td>https://www2.brockport.edu/support/university-...</td>\n",
       "      <td>V. Violence Against Women Act (VAWA) Crimes\\nV...</td>\n",
       "    </tr>\n",
       "    <tr>\n",
       "      <th>2660</th>\n",
       "      <td>https://www2.brockport.edu/support/university-...</td>\n",
       "      <td>Although we enjoy a safe campus, no area is to...</td>\n",
       "    </tr>\n",
       "    <tr>\n",
       "      <th>2661</th>\n",
       "      <td>https://www2.brockport.edu/support/university-...</td>\n",
       "      <td>Sexual Assault and the Law\\nSUNY Brockport has...</td>\n",
       "    </tr>\n",
       "    <tr>\n",
       "      <th>2662</th>\n",
       "      <td>https://www2.brockport.edu/support/university-...</td>\n",
       "      <td>The Student Patrol program allows students wor...</td>\n",
       "    </tr>\n",
       "    <tr>\n",
       "      <th>2663</th>\n",
       "      <td>https://www2.brockport.edu/support/university-...</td>\n",
       "      <td>The weekly incident reports show the activity/...</td>\n",
       "    </tr>\n",
       "  </tbody>\n",
       "</table>\n",
       "<p>2661 rows × 2 columns</p>\n",
       "</div>"
      ],
      "text/plain": [
       "                                                    url  \\\n",
       "0                            https://www2.brockport.edu   \n",
       "1                      https://www2.brockport.edu/about   \n",
       "2       https://www2.brockport.edu/about/accountability   \n",
       "3     https://www2.brockport.edu/about/accountabilit...   \n",
       "4     https://www2.brockport.edu/about/accountabilit...   \n",
       "...                                                 ...   \n",
       "2659  https://www2.brockport.edu/support/university-...   \n",
       "2660  https://www2.brockport.edu/support/university-...   \n",
       "2661  https://www2.brockport.edu/support/university-...   \n",
       "2662  https://www2.brockport.edu/support/university-...   \n",
       "2663  https://www2.brockport.edu/support/university-...   \n",
       "\n",
       "                                                   data  \n",
       "0     Main Page Content\\nBe ThereEvents Calendar\\nWh...  \n",
       "1     About\\nSUNY Brockport is a selective, national...  \n",
       "2     Accountability & SUNY Brockport\\nSUNY Brockpor...  \n",
       "3     Student Learning Outcomes (SLOs)\\nMain Page Co...  \n",
       "4     University-wide Committees Joint Planning and ...  \n",
       "...                                                 ...  \n",
       "2659  V. Violence Against Women Act (VAWA) Crimes\\nV...  \n",
       "2660  Although we enjoy a safe campus, no area is to...  \n",
       "2661  Sexual Assault and the Law\\nSUNY Brockport has...  \n",
       "2662  The Student Patrol program allows students wor...  \n",
       "2663  The weekly incident reports show the activity/...  \n",
       "\n",
       "[2661 rows x 2 columns]"
      ]
     },
     "execution_count": 136,
     "metadata": {},
     "output_type": "execute_result"
    }
   ],
   "source": [
    "df.drop_duplicates(subset=[\"url\"])"
   ]
  },
  {
   "cell_type": "code",
   "execution_count": 137,
   "metadata": {},
   "outputs": [
    {
     "data": {
      "text/plain": [
       "2664"
      ]
     },
     "execution_count": 137,
     "metadata": {},
     "output_type": "execute_result"
    }
   ],
   "source": [
    "len(df)"
   ]
  },
  {
   "cell_type": "code",
   "execution_count": 140,
   "metadata": {},
   "outputs": [
    {
     "data": {
      "text/plain": [
       "url\n",
       "False    2396\n",
       "True      268\n",
       "Name: count, dtype: int64"
      ]
     },
     "execution_count": 140,
     "metadata": {},
     "output_type": "execute_result"
    }
   ],
   "source": [
    "df['url'].str.endswith(\".html\").value_counts()"
   ]
  },
  {
   "cell_type": "code",
   "execution_count": 143,
   "metadata": {},
   "outputs": [
    {
     "name": "stdout",
     "output_type": "stream",
     "text": [
      "Before 2664\n",
      "After 2657\n"
     ]
    }
   ],
   "source": [
    "# remove the .html and deduplicate, just like _\n",
    "print(f\"Before {len(df)}\")\n",
    "\n",
    "df['url'] = df['url'].str.removesuffix(\".html\")\n",
    "\n",
    "df = df.drop_duplicates(subset=['url'])\n",
    "\n",
    "print(f\"After {len(df)}\")"
   ]
  },
  {
   "cell_type": "code",
   "execution_count": 141,
   "metadata": {},
   "outputs": [
    {
     "data": {
      "text/plain": [
       "'test'"
      ]
     },
     "execution_count": 141,
     "metadata": {},
     "output_type": "execute_result"
    }
   ],
   "source": [
    "\"test.html\".removesuffix(\".html\")"
   ]
  }
 ],
 "metadata": {
  "kernelspec": {
   "display_name": "thesis",
   "language": "python",
   "name": "python3"
  },
  "language_info": {
   "codemirror_mode": {
    "name": "ipython",
    "version": 3
   },
   "file_extension": ".py",
   "mimetype": "text/x-python",
   "name": "python",
   "nbconvert_exporter": "python",
   "pygments_lexer": "ipython3",
   "version": "3.10.0"
  },
  "orig_nbformat": 4
 },
 "nbformat": 4,
 "nbformat_minor": 2
}
