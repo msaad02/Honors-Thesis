{
 "cells": [
  {
   "cell_type": "code",
   "execution_count": 38,
   "metadata": {},
   "outputs": [],
   "source": [
    "import json\n",
    "import pandas as pd\n",
    "\n",
    "# Load in the JSON file\n",
    "with open(\"/home/msaad/workspace/honors-thesis/data-collection/data/categorized_data.json\", \"r\") as f:\n",
    "    data = json.load(f)\n",
    "\n",
    "# Load in cleaned csv\n",
    "df = pd.read_csv(\"/home/msaad/workspace/honors-thesis/data-collection/data/full_cleaned_data.csv\")"
   ]
  },
  {
   "cell_type": "code",
   "execution_count": 39,
   "metadata": {},
   "outputs": [
    {
     "data": {
      "text/plain": [
       "dict_keys(['about', 'academics', 'admissions', 'admissions-aid', 'graduate', 'library', 'life', 'live', 'research-foundation', 'scholarships-aid', 'support'])"
      ]
     },
     "execution_count": 39,
     "metadata": {},
     "output_type": "execute_result"
    }
   ],
   "source": [
    "data.keys()"
   ]
  },
  {
   "cell_type": "code",
   "execution_count": 41,
   "metadata": {},
   "outputs": [],
   "source": [
    "url_list = df['url'].to_list()\n",
    "\n",
    "url_shortened_list = [url.split(\"brockport.edu\")[1] for url in url_list]\n",
    "\n",
    "# Pull out all the portions the URL goes through\n",
    "split_urls = [[portion for portion in url.split(\"/\") if portion != ''] for url in url_shortened_list]\n",
    "first_portions = [portion[0] for portion in split_urls if len(portion) > 0]"
   ]
  },
  {
   "cell_type": "code",
   "execution_count": 42,
   "metadata": {},
   "outputs": [
    {
     "data": {
      "text/plain": [
       "academics              1225\n",
       "support                 485\n",
       "live                    278\n",
       "life                    274\n",
       "about                   139\n",
       "graduate                 50\n",
       "admissions               48\n",
       "admissions-aid           29\n",
       "library                  20\n",
       "research-foundation      17\n",
       "scholarships-aid         12\n",
       "Name: count, dtype: int64"
      ]
     },
     "execution_count": 42,
     "metadata": {},
     "output_type": "execute_result"
    }
   ],
   "source": [
    "pd.Series(first_portions).value_counts()"
   ]
  }
 ],
 "metadata": {
  "kernelspec": {
   "display_name": "thesis",
   "language": "python",
   "name": "python3"
  },
  "language_info": {
   "codemirror_mode": {
    "name": "ipython",
    "version": 3
   },
   "file_extension": ".py",
   "mimetype": "text/x-python",
   "name": "python",
   "nbconvert_exporter": "python",
   "pygments_lexer": "ipython3",
   "version": "3.11.4"
  },
  "orig_nbformat": 4
 },
 "nbformat": 4,
 "nbformat_minor": 2
}
