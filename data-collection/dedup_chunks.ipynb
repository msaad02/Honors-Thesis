{
 "cells": [
  {
   "cell_type": "code",
   "execution_count": 16,
   "metadata": {},
   "outputs": [],
   "source": [
    "import numpy as np\n",
    "import pandas as pd\n",
    "\n",
    "data = pd.read_csv(\"../data-collection/data/chunks_from_html.csv\", names=['source', 'data'])"
   ]
  },
  {
   "cell_type": "markdown",
   "metadata": {},
   "source": [
    "# Deduping\n",
    "\n",
    "There are no duplicate URLs. There is some duplicate data. Presumably, some urls are coming up with .html after them, and when reading them in back in original data scraping the scraper picked these up as valid ones, this will have caused duplication down the entire pipeline."
   ]
  },
  {
   "cell_type": "code",
   "execution_count": 23,
   "metadata": {},
   "outputs": [
    {
     "data": {
      "text/plain": [
       "False"
      ]
     },
     "execution_count": 23,
     "metadata": {},
     "output_type": "execute_result"
    }
   ],
   "source": [
    "'m' in 'yY'"
   ]
  },
  {
   "cell_type": "code",
   "execution_count": null,
   "metadata": {},
   "outputs": [],
   "source": []
  },
  {
   "cell_type": "code",
   "execution_count": 19,
   "metadata": {},
   "outputs": [
    {
     "data": {
      "text/html": [
       "<div>\n",
       "<style scoped>\n",
       "    .dataframe tbody tr th:only-of-type {\n",
       "        vertical-align: middle;\n",
       "    }\n",
       "\n",
       "    .dataframe tbody tr th {\n",
       "        vertical-align: top;\n",
       "    }\n",
       "\n",
       "    .dataframe thead th {\n",
       "        text-align: right;\n",
       "    }\n",
       "</style>\n",
       "<table border=\"1\" class=\"dataframe\">\n",
       "  <thead>\n",
       "    <tr style=\"text-align: right;\">\n",
       "      <th></th>\n",
       "      <th>source</th>\n",
       "      <th>data</th>\n",
       "    </tr>\n",
       "  </thead>\n",
       "  <tbody>\n",
       "    <tr>\n",
       "      <th>0</th>\n",
       "      <td>https://www2.brockport.edu/academics/career/al...</td>\n",
       "      <td>Whether you are a recent graduate or a profess...</td>\n",
       "    </tr>\n",
       "    <tr>\n",
       "      <th>1</th>\n",
       "      <td>https://www2.brockport.edu/support/issue-center</td>\n",
       "      <td>SUNY Brockport is committed to providing a saf...</td>\n",
       "    </tr>\n",
       "    <tr>\n",
       "      <th>2</th>\n",
       "      <td>https://www2.brockport.edu/admissions_aid/visit</td>\n",
       "      <td>Start picturing yourself here. We offer guided...</td>\n",
       "    </tr>\n",
       "    <tr>\n",
       "      <th>3</th>\n",
       "      <td>https://www2.brockport.edu/support/student_acc...</td>\n",
       "      <td>The University is no longer issuing paper stud...</td>\n",
       "    </tr>\n",
       "    <tr>\n",
       "      <th>4</th>\n",
       "      <td>https://www2.brockport.edu/academics/career/em...</td>\n",
       "      <td>Learn about ways to get involved with our camp...</td>\n",
       "    </tr>\n",
       "    <tr>\n",
       "      <th>...</th>\n",
       "      <td>...</td>\n",
       "      <td>...</td>\n",
       "    </tr>\n",
       "    <tr>\n",
       "      <th>3597</th>\n",
       "      <td>https://www2.brockport.edu/life/welcome-week/m...</td>\n",
       "      <td>Waiting to purchase certain items until you ge...</td>\n",
       "    </tr>\n",
       "    <tr>\n",
       "      <th>3600</th>\n",
       "      <td>https://www2.brockport.edu/live/profiles/1803-...</td>\n",
       "      <td>Recipient of Best Presenter Award, Global Mana...</td>\n",
       "    </tr>\n",
       "    <tr>\n",
       "      <th>3601</th>\n",
       "      <td>https://www2.brockport.edu/support/college_com...</td>\n",
       "      <td>A table of contents has a different style of s...</td>\n",
       "    </tr>\n",
       "    <tr>\n",
       "      <th>3602</th>\n",
       "      <td>https://www2.brockport.edu/live/profiles/1579-...</td>\n",
       "      <td>Joseph Long works primarily in the philosophy ...</td>\n",
       "    </tr>\n",
       "    <tr>\n",
       "      <th>3603</th>\n",
       "      <td>https://www2.brockport.edu/live/blurbs/2145-is...</td>\n",
       "      <td>Larry Brien was recently featured on the Roche...</td>\n",
       "    </tr>\n",
       "  </tbody>\n",
       "</table>\n",
       "<p>2501 rows × 2 columns</p>\n",
       "</div>"
      ],
      "text/plain": [
       "                                                 source  \\\n",
       "0     https://www2.brockport.edu/academics/career/al...   \n",
       "1       https://www2.brockport.edu/support/issue-center   \n",
       "2       https://www2.brockport.edu/admissions_aid/visit   \n",
       "3     https://www2.brockport.edu/support/student_acc...   \n",
       "4     https://www2.brockport.edu/academics/career/em...   \n",
       "...                                                 ...   \n",
       "3597  https://www2.brockport.edu/life/welcome-week/m...   \n",
       "3600  https://www2.brockport.edu/live/profiles/1803-...   \n",
       "3601  https://www2.brockport.edu/support/college_com...   \n",
       "3602  https://www2.brockport.edu/live/profiles/1579-...   \n",
       "3603  https://www2.brockport.edu/live/blurbs/2145-is...   \n",
       "\n",
       "                                                   data  \n",
       "0     Whether you are a recent graduate or a profess...  \n",
       "1     SUNY Brockport is committed to providing a saf...  \n",
       "2     Start picturing yourself here. We offer guided...  \n",
       "3     The University is no longer issuing paper stud...  \n",
       "4     Learn about ways to get involved with our camp...  \n",
       "...                                                 ...  \n",
       "3597  Waiting to purchase certain items until you ge...  \n",
       "3600  Recipient of Best Presenter Award, Global Mana...  \n",
       "3601  A table of contents has a different style of s...  \n",
       "3602  Joseph Long works primarily in the philosophy ...  \n",
       "3603  Larry Brien was recently featured on the Roche...  \n",
       "\n",
       "[2501 rows x 2 columns]"
      ]
     },
     "execution_count": 19,
     "metadata": {},
     "output_type": "execute_result"
    }
   ],
   "source": [
    "df = data[~data['data'].duplicated(keep='first')]\n",
    "df"
   ]
  },
  {
   "cell_type": "code",
   "execution_count": 12,
   "metadata": {},
   "outputs": [],
   "source": [
    "admissions_questions= df\n",
    "for row_index in range(len(df)):\n",
    "    # open the file with write mode\n",
    "    path = df.iloc[row_index, 0].replace('https://www2.', '').replace('/', '_')\n",
    "    with open(f\"/home/msaad/workspace/honors-thesis/data-collection/data/dedupe_vectordb_split/chunk_{path}.txt\", 'w') as file:\n",
    "        # write a row of the csv to the file\n",
    "        file.write(df.iloc[row_index, 1])"
   ]
  }
 ],
 "metadata": {
  "kernelspec": {
   "display_name": "thesis",
   "language": "python",
   "name": "python3"
  },
  "language_info": {
   "codemirror_mode": {
    "name": "ipython",
    "version": 3
   },
   "file_extension": ".py",
   "mimetype": "text/x-python",
   "name": "python",
   "nbconvert_exporter": "python",
   "pygments_lexer": "ipython3",
   "version": "3.11.3"
  },
  "orig_nbformat": 4
 },
 "nbformat": 4,
 "nbformat_minor": 2
}
