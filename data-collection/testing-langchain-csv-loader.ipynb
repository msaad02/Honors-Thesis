{
 "cells": [
  {
   "cell_type": "code",
   "execution_count": 49,
   "metadata": {},
   "outputs": [],
   "source": [
    "import pandas as pd\n",
    "import pickle\n",
    "import requests\n",
    "from bs4 import BeautifulSoup\n",
    "import trafilatura\n",
    "import re\n",
    "import random\n",
    "\n",
    "df = pd.read_csv(\"./data/chunks_from_html.csv\")"
   ]
  },
  {
   "cell_type": "code",
   "execution_count": 78,
   "metadata": {},
   "outputs": [],
   "source": [
    "data_folder = \"/home/msaad/workspace/honors-thesis/data-collection/data/\"\n",
    "responses_dict = pickle.load(open(data_folder + \"scraper_output.p\", \"rb\"))\n",
    "\n",
    "def get_text(item: tuple[str, requests.models.Response]) -> list:\n",
    "    \"\"\"\n",
    "    Parses HTML for 'sentences', as described above.\n",
    "    \"\"\"\n",
    "    key, response = item\n",
    "\n",
    "    # Your BeautifulSoup object\n",
    "    soup = BeautifulSoup(response.text, 'html.parser')\n",
    "\n",
    "    # Create an empty list to hold the sentences\n",
    "    long_texts = []\n",
    "\n",
    "    # Define custom punctuation\n",
    "    custom_punctuation = ',./?!:;$#&+*()\"'\n",
    "\n",
    "    # Loop through all the strings in the BeautifulSoup object\n",
    "    for string in soup.stripped_strings:\n",
    "        # Consider a long text as a text having 15 or more words\n",
    "        if len(string.split()) >= 10: # NOTE July 17. Next run edit - 10 \n",
    "            # Check if the string contains only alphanumeric, whitespace and custom punctuation characters\n",
    "            if all(c.isalnum() or c.isspace() or c in custom_punctuation for c in string):\n",
    "                # Check if the string contains more than 3 whitespaces in a row\n",
    "                if not re.search(' {3,}', string):\n",
    "                    long_texts.append(string)\n",
    "\n",
    "    # NEW: Added so semantic search queries return bigger, more in context results.\n",
    "    # \"chunk\" is a string of all the long sentences (as described above) separated by a space.\n",
    "    chunk = \"\\n\".join(long_texts)\n",
    "    \n",
    "    # OLD: return long_texts\n",
    "    return chunk #key, \n",
    "\n",
    "\n",
    "\n",
    "\n",
    "def new_cleaning(response: requests.models.Response) -> str:\n",
    "    return trafilatura.extract(response.text, include_tables=False)"
   ]
  },
  {
   "cell_type": "code",
   "execution_count": 50,
   "metadata": {},
   "outputs": [],
   "source": [
    "urls = random.sample(list(responses_dict.keys()), 5)\n",
    "urls"
   ]
  },
  {
   "cell_type": "code",
   "execution_count": 79,
   "metadata": {},
   "outputs": [],
   "source": [
    "output = []\n",
    "for url in urls:\n",
    "    response = responses_dict[url]\n",
    "    output.append([get_text((url, response)), new_cleaning(response)])"
   ]
  },
  {
   "cell_type": "code",
   "execution_count": 67,
   "metadata": {},
   "outputs": [
    {
     "data": {
      "text/plain": [
       "['https://www2.brockport.edu/life/residential_life/policies/set_room_pin.html',\n",
       " 'https://www2.brockport.edu/support/policies/adopted/af_hr_immigration_petitions_legal_financial_support.html',\n",
       " 'https://www2.brockport.edu/live/profiles/1621-wendy-wright',\n",
       " 'https://www2.brockport.edu/live/tags/Philosophy/type/profiles',\n",
       " 'https://www2.brockport.edu/live/blurbs/2010-final-exam-schedule-block-c']"
      ]
     },
     "execution_count": 67,
     "metadata": {},
     "output_type": "execute_result"
    }
   ],
   "source": []
  },
  {
   "cell_type": "code",
   "execution_count": 80,
   "metadata": {},
   "outputs": [
    {
     "name": "stdout",
     "output_type": "stream",
     "text": [
      "There are no definitions for this policy at this time.\n",
      "State University of New York Policy on Immigration Petitions, Legal and Financial Support\n",
      "There is no contact information for this policy at this time.\n",
      "Removed name of attorney as it is subject to change.\n",
      "Updated immigration attorney name and changed HR Director title to Assistant Vice President for Human Resources\n",
      "There are no approvals for this policy at this time.\n"
     ]
    }
   ],
   "source": [
    "print(output[1][0])"
   ]
  },
  {
   "cell_type": "code",
   "execution_count": 81,
   "metadata": {},
   "outputs": [
    {
     "name": "stdout",
     "output_type": "stream",
     "text": [
      "Policy Statement\n",
      "Temporary Non-Immigration\n",
      "Since immigration law requires the employer to petition on behalf of the employee for appropriate temporary non-immigration services (USCIS), it is the policy of the State University that such petitions be prepared on behalf of the University and paid for by the University including all necessary legal and filing fees. Legal services in connections with such petitions shall be performed only by attorneys retained by the University through the Office of University Counsel. This applies to all H-1b and TN visas.\n",
      "Permanent Residency\n",
      "Employees who apply for Permanent Residency may use the University’s attorney. The cost of the application for labor certification, including the cost of advertisements, will be paid for by the University. The employee pays for an employment-based immigrant petition; and the I-485 Adjustment of Status (AOS) or consular processing for an immigrant visa for the employee and the employee’s dependents.\n",
      "In addition, the employee is responsible for the cost of all medical examinations, photographs, fingerprints, vaccinations, obtaining biographic documents and translations for the employee and the employee’s dependent; and travel costs to obtain a nonimmigrant or immigrant visa at a U.S. Consulate.\n",
      "Definitions\n",
      "There are no definitions for this policy at this time.\n",
      "Policy Procedures\n",
      "Individuals who have been offered employment at the University and are in need of an H-1b or TN visa need to contact the Assistant Vice President for Human Resources. The Assistant Vice President for Human Resources’ designee will complete an Immigration Initiation Form and will forward the form to the University’s attorney, which will allow the individual to engage in discussions with said attorney.\n",
      "Links to Related Procedures and Information\n",
      "State University of New York Policy on Immigration Petitions, Legal and Financial Support\n",
      "Contact Information\n",
      "There is no contact information for this policy at this time.\n",
      "History (in descending order)\n",
      "Approval\n",
      "There are no approvals for this policy at this time.\n"
     ]
    }
   ],
   "source": [
    "print(output[1][1])"
   ]
  },
  {
   "cell_type": "code",
   "execution_count": 34,
   "metadata": {},
   "outputs": [
    {
     "data": {
      "text/plain": [
       "('https://www2.brockport.edu',\n",
       " 'You did it! Take the next step in your Golden Eagle journey.')"
      ]
     },
     "execution_count": 34,
     "metadata": {},
     "output_type": "execute_result"
    }
   ],
   "source": [
    "get_text((url, main_page))"
   ]
  },
  {
   "cell_type": "code",
   "execution_count": 39,
   "metadata": {},
   "outputs": [
    {
     "name": "stdout",
     "output_type": "stream",
     "text": [
      "SUNY Brockport: SUNY Brockport\n",
      "                 Skip to main content\n",
      "               \n",
      "\tSkip to main content\n",
      "\tSkip to page navigation\n",
      "searchopen main navigationInformation For:Information ForFuture StudentsInternational StudentsCurrent StudentsFaculty & StaffParentsAlumni\n",
      "\t\t\t\t\t\tInfo For:\n",
      "\t\t\t\t\tFuture StudentsInternational StudentsCurrent StudentsFaculty & StaffParentsAlumniApplyRequest InfoGiveQuicklinks:QuicklinksWebmailWeb BannerBrightspaceDirectoryCourse ScheduleAccommodateStudent Bill PayEagleSUCCESSmyBROCKPORTUniversity PoliciesBrockport TodayEvents CalendarAcademic CalendarLibraryIT Service DeskNetID Lookup & Password ChangeEmergency InfoIssue Reporting CenterAboutScholarships & AidAcademicsAdmissionsStudent LifeAthleticsQuicklinkssearch\n",
      " \n",
      "Main Page Content\n",
      "ApplyVisitRequest InfoGive\n",
      "Admitted StudentsYou did it! Take the next step in your Golden Eagle journey. Deposit Today\n",
      "Be There\n",
      " \n",
      "Events Calendar\n",
      "What's Happening?\n",
      " \n",
      "More on Brockport Today\n",
      "Excellence Within Your Reach\n",
      "Get to Know UsUndergraduate Campus Tours      Schedule Yours Today, Monday – Friday    Graduate Video Chats      See Schedule    \n",
      "Visit\n",
      "Find Your Degree\n",
      "Turn your career goals into a reality. Explore the 100+ programs SUNY Brockport has\n",
      "                to offer.\n",
      "Majors, Minors, Graduate, and Online Programs\n",
      "  Your Future Home\n",
      "      #1\n",
      "    \n",
      "      Student Union*\n",
      "    \n",
      "      #1\n",
      "    \n",
      "      Library Resources•\n",
      "    \n",
      "      #1\n",
      "    \n",
      "      Athletics Programs•\n",
      "    \n",
      "      #2\n",
      "    \n",
      "      Athletic & Recreational Facilities•\n",
      "    \n",
      "    * Out of 27 SUNY 4-year institutions\n",
      "    • Out of 12 SUNY university colleges\n",
      "  Source: SUNY Student Opinion Survey\n",
      "Let's Hang Out\n",
      "Instagram\n",
      "Facebook\n",
      "Twitter\n",
      "YouTube\n",
      "LinkedIn\n",
      "College Website FooterRequest InfoApply350 New Campus DriveBrockport, NY 14420(585) 395-2211Contact UsInstagramFacebookTwitterYouTubeGoogle PlusVisitingMapVirtual TourInformation ForAlumniDonorsEmployersFaculty & StaffCareers @ BrockportParentsProspective StudentsCurrent StudentsNotice of NondiscriminationAccessibilityPrivacyUniversity PoliceEmergency InfoSexual Misconduct & Title IX — Brockport   SUNY\n",
      "\t\t\t\t\t\t© 2023 SUNY Brockport\n",
      "\t\t\t\t\t\n",
      "Login\n"
     ]
    }
   ],
   "source": [
    "\n",
    "soup = BeautifulSoup(main_page.text, 'html.parser')\n",
    "print(re.sub('[\\n]+', '\\n', soup.text.strip()))"
   ]
  }
 ],
 "metadata": {
  "kernelspec": {
   "display_name": "thesis",
   "language": "python",
   "name": "python3"
  },
  "language_info": {
   "codemirror_mode": {
    "name": "ipython",
    "version": 3
   },
   "file_extension": ".py",
   "mimetype": "text/x-python",
   "name": "python",
   "nbconvert_exporter": "python",
   "pygments_lexer": "ipython3",
   "version": "3.11.3"
  },
  "orig_nbformat": 4
 },
 "nbformat": 4,
 "nbformat_minor": 2
}
