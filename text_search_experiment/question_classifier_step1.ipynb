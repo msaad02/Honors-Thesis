{
 "cells": [
  {
   "cell_type": "markdown",
   "metadata": {},
   "source": [
    "# HyDE\n",
    "\n",
    "https://ar5iv.labs.arxiv.org/html/2212.10496"
   ]
  },
  {
   "cell_type": "code",
   "execution_count": 1,
   "metadata": {},
   "outputs": [],
   "source": [
    "from datasets import load_dataset\n",
    "import pandas as pd\n",
    "import torch\n",
    "\n",
    "dataset = load_dataset(\"msaad02/categorized-data\", split=\"train\")\n",
    "category_df = dataset.to_pandas()\n",
    "\n",
    "qa_dataset = load_dataset(\"msaad02/brockport-gpt-4-qa\", split=\"train\")\n",
    "qa_df = qa_dataset.to_pandas()\n",
    "\n",
    "df = pd.merge(qa_df, category_df[[\"url\", \"category\", \"subcategory\"]], on=\"url\", how=\"left\")\n",
    "\n",
    "train_df = df.groupby(\"category\").sample(n=2000, replace=True)\n",
    "train_df = train_df.sample(frac=1).reset_index(drop=True)"
   ]
  },
  {
   "cell_type": "code",
   "execution_count": 2,
   "metadata": {},
   "outputs": [
    {
     "data": {
      "text/plain": [
       "category\n",
       "academics              6073\n",
       "live                   1465\n",
       "life                   1361\n",
       "support                 808\n",
       "about                   615\n",
       "alumni                  415\n",
       "graduate                256\n",
       "admissions              232\n",
       "scholarships-aid        141\n",
       "library                  90\n",
       "research-foundation      85\n",
       "bsg                      36\n",
       "Name: count, dtype: int64"
      ]
     },
     "execution_count": 2,
     "metadata": {},
     "output_type": "execute_result"
    }
   ],
   "source": [
    "df['category'].value_counts()"
   ]
  },
  {
   "cell_type": "code",
   "execution_count": 3,
   "metadata": {},
   "outputs": [],
   "source": [
    "from sklearn.feature_extraction.text import CountVectorizer\n",
    "\n",
    "vectorizer = CountVectorizer(lowercase=True, min_df=5)\n",
    "\n",
    "train_vect = vectorizer.fit_transform(train_df['question'])"
   ]
  },
  {
   "cell_type": "code",
   "execution_count": 4,
   "metadata": {},
   "outputs": [],
   "source": [
    "text_to_int = {text: idx for idx, text in enumerate(train_df['category'].unique())}\n",
    "int_to_text = {idx: text for text, idx in text_to_int.items()}\n",
    "\n",
    "train_df['category_vect'] = train_df['category'].apply(lambda x: text_to_int[x])"
   ]
  },
  {
   "cell_type": "code",
   "execution_count": 5,
   "metadata": {},
   "outputs": [],
   "source": [
    "train_proportion = 0.8\n",
    "validation_prop = 0.1\n",
    "train_size = int(train_proportion * train_vect.shape[0])\n",
    "validation_size = int(validation_prop * train_vect.shape[0])\n",
    "\n",
    "X_train = torch.tensor(train_vect[:train_size].toarray(), dtype=torch.float32)\n",
    "y_train = torch.tensor(train_df['category_vect'][:train_size].to_numpy(), dtype=torch.long)\n",
    "X_val = torch.tensor(train_vect[train_size:train_size+validation_size].toarray(), dtype=torch.float32)\n",
    "y_val = torch.tensor(train_df['category_vect'][train_size:train_size+validation_size].to_numpy(), dtype=torch.long)\n",
    "X_test = torch.tensor(train_vect[train_size+validation_size:].toarray(), dtype=torch.float32)\n",
    "y_test = torch.tensor(train_df['category_vect'][train_size+validation_size:].to_numpy(), dtype=torch.long)"
   ]
  },
  {
   "cell_type": "code",
   "execution_count": 6,
   "metadata": {},
   "outputs": [
    {
     "name": "stdout",
     "output_type": "stream",
     "text": [
      "Epoch [10/200], Loss: 2.3783, Validation Loss: 2.3835\n",
      "Epoch [20/200], Loss: 2.2430, Validation Loss: 2.2537\n",
      "Epoch [30/200], Loss: 2.0656, Validation Loss: 2.0831\n",
      "Epoch [40/200], Loss: 1.8346, Validation Loss: 1.8602\n",
      "Epoch [50/200], Loss: 1.5605, Validation Loss: 1.5952\n",
      "Epoch [60/200], Loss: 1.2787, Validation Loss: 1.3231\n",
      "Epoch [70/200], Loss: 1.0290, Validation Loss: 1.0830\n",
      "Epoch [80/200], Loss: 0.8309, Validation Loss: 0.8933\n",
      "Epoch [90/200], Loss: 0.6823, Validation Loss: 0.7511\n",
      "Epoch [100/200], Loss: 0.5723, Validation Loss: 0.6458\n",
      "Epoch [110/200], Loss: 0.4900, Validation Loss: 0.5669\n",
      "Epoch [120/200], Loss: 0.4271, Validation Loss: 0.5068\n",
      "Epoch [130/200], Loss: 0.3779, Validation Loss: 0.4600\n",
      "Epoch [140/200], Loss: 0.3386, Validation Loss: 0.4227\n",
      "Epoch [150/200], Loss: 0.3065, Validation Loss: 0.3926\n",
      "Epoch [160/200], Loss: 0.2798, Validation Loss: 0.3678\n",
      "Epoch [170/200], Loss: 0.2574, Validation Loss: 0.3472\n",
      "Epoch [180/200], Loss: 0.2382, Validation Loss: 0.3299\n",
      "Epoch [190/200], Loss: 0.2216, Validation Loss: 0.3152\n",
      "Epoch [200/200], Loss: 0.2071, Validation Loss: 0.3027\n"
     ]
    }
   ],
   "source": [
    "import torch\n",
    "import torch.nn as nn\n",
    "import torch.optim as optim\n",
    "\n",
    "class SimpleNN(nn.Module):\n",
    "    def __init__(self, input_size, hidden_size, num_classes):\n",
    "        super(SimpleNN, self).__init__()\n",
    "        self.fc1 = nn.Linear(input_size, hidden_size) \n",
    "        self.relu = nn.ReLU()\n",
    "        self.fc2 = nn.Linear(hidden_size, num_classes)\n",
    "    \n",
    "    def forward(self, x):\n",
    "        out = self.fc1(x)\n",
    "        out = self.relu(out)\n",
    "        out = self.fc2(out)\n",
    "        return out\n",
    "    \n",
    "# Hyper-parameters\n",
    "input_size = X_train.shape[1]\n",
    "hidden_size = 10000\n",
    "num_classes = train_df['category'].unique().__len__()\n",
    "num_epochs = 200\n",
    "\n",
    "# Instantiate the model, optimizer, and loss function\n",
    "model = SimpleNN(input_size, hidden_size, num_classes)\n",
    "optimizer = optim.Adam(model.parameters(), lr=0.0001)\n",
    "criterion = nn.CrossEntropyLoss()\n",
    "\n",
    "train_losses = []\n",
    "validation_losses = []\n",
    "\n",
    "# Train the model\n",
    "for epoch in range(num_epochs):\n",
    "    # Forward pass\n",
    "    outputs = model(X_train)\n",
    "    loss = criterion(outputs, y_train)\n",
    "\n",
    "    # Validation loss\n",
    "    validation_loss = criterion(model(X_val), y_val)\n",
    "\n",
    "    train_losses.append(loss.detach().numpy())\n",
    "    validation_losses.append(validation_loss.detach().numpy())\n",
    "\n",
    "    # Backward and optimize\n",
    "    optimizer.zero_grad()\n",
    "    loss.backward()\n",
    "    optimizer.step()\n",
    "\n",
    "    if (epoch+1) % 10 == 0:\n",
    "        print(f'Epoch [{epoch+1}/{num_epochs}], Loss: {loss.item():.4f}, Validation Loss: {validation_loss.item():.4f}')"
   ]
  },
  {
   "cell_type": "code",
   "execution_count": 7,
   "metadata": {},
   "outputs": [
    {
     "data": {
      "image/png": "[encoded data removed]",
      "text/plain": [
       "<Figure size 640x480 with 1 Axes>"
      ]
     },
     "metadata": {},
     "output_type": "display_data"
    }
   ],
   "source": [
    "import matplotlib.pyplot as plt\n",
    "import numpy as np\n",
    "\n",
    "# Plot the training and validation loss\n",
    "plt.plot(np.array(train_losses), label='Training Loss')\n",
    "plt.plot(np.array(validation_losses), label='Validation Loss')\n",
    "plt.xlabel('Epoch')\n",
    "plt.ylabel('Loss')\n",
    "plt.title('Training and Validation Loss')\n",
    "plt.legend()\n",
    "plt.show()"
   ]
  },
  {
   "cell_type": "code",
   "execution_count": 8,
   "metadata": {},
   "outputs": [
    {
     "name": "stdout",
     "output_type": "stream",
     "text": [
      "25,420,012 total parameters.\n"
     ]
    }
   ],
   "source": [
    "# Find the paramter count of the model\n",
    "total_params = sum(p.numel() for p in model.parameters())\n",
    "print(f'{total_params:,} total parameters.')"
   ]
  },
  {
   "cell_type": "code",
   "execution_count": 9,
   "metadata": {},
   "outputs": [
    {
     "name": "stdout",
     "output_type": "stream",
     "text": [
      "Accuracy: 92.92%\n",
      "Confusion Matrix:\n",
      "[[190   0   0   0   0   6   0   0   0   0   0   2]\n",
      " [  0 170   0   1   3   0   8   1   2   2   2  10]\n",
      " [  0   1 216   1   0   0   0   0   0   0   1   3]\n",
      " [  0   0   0 187   0   0   0   0   0   0   2   0]\n",
      " [  2   3   0   0 191   3   1   0   1   0   1   5]\n",
      " [  6  10   3   0  11 162   5   0   0   2   7   6]\n",
      " [  0   9   0   1   6   1 162   0   0   1   3   4]\n",
      " [  0   0   0   0   0   0   0 177   0   0   0   0]\n",
      " [  0   0   0   0   0   0   0   0 185   0   3   0]\n",
      " [  0   0   0   0   0   0   0   0   0 205   0   0]\n",
      " [  0   0   2   0   1   0   4   0   2   0 219   0]\n",
      " [  0   4   1   0   6   4   0   2   2   0   3 166]]\n"
     ]
    }
   ],
   "source": [
    "import numpy as np\n",
    "from sklearn.metrics import accuracy_score, confusion_matrix\n",
    "\n",
    "# Evaluate the model on the test data\n",
    "with torch.no_grad():\n",
    "    model.eval()\n",
    "    outputs = model(X_test)\n",
    "    _, predicted = torch.max(outputs.data, 1)\n",
    "\n",
    "# Calculate accuracy\n",
    "accuracy = accuracy_score(y_test, predicted)\n",
    "print(f\"Accuracy: {accuracy * 100:.2f}%\")\n",
    "\n",
    "# Calculate confusion matrix\n",
    "confusion_mat = confusion_matrix(y_test, predicted)\n",
    "print(\"Confusion Matrix:\")\n",
    "print(confusion_mat)\n"
   ]
  },
  {
   "cell_type": "code",
   "execution_count": 10,
   "metadata": {},
   "outputs": [],
   "source": [
    "import json\n",
    "def predict_category(question: str):\n",
    "    question_vect = vectorizer.transform([question])\n",
    "    question_vect = torch.tensor(question_vect.toarray(), dtype=torch.float32)\n",
    "    with torch.no_grad():\n",
    "        model.eval()\n",
    "        outputs = model(question_vect)\n",
    "        _, predicted = torch.max(outputs.data, 1)\n",
    "\n",
    "    label_softmax = torch.softmax(outputs, dim=1).detach().numpy()[0]\n",
    "    probability_dict = {int_to_text[idx]: round(prob*100, 2) for idx, prob in enumerate(label_softmax)}\n",
    "\n",
    "    return_string = f\"\"\"\\\n",
    "    Predicted Category: {int_to_text[predicted.item()]}\n",
    "\n",
    "    Probability Distribution:\n",
    "    {json.dumps(probability_dict, indent=4)}\n",
    "    \"\"\"\n",
    "    return return_string"
   ]
  },
  {
   "cell_type": "code",
   "execution_count": 11,
   "metadata": {},
   "outputs": [
    {
     "name": "stdout",
     "output_type": "stream",
     "text": [
      "Running on local URL:  http://127.0.0.1:7860\n",
      "\n",
      "To create a public link, set `share=True` in `launch()`.\n"
     ]
    },
    {
     "data": {
      "text/html": [
       "<div><iframe src=\"http://127.0.0.1:7860/\" width=\"100%\" height=\"500\" allow=\"autoplay; camera; microphone; clipboard-read; clipboard-write;\" frameborder=\"0\" allowfullscreen></iframe></div>"
      ],
      "text/plain": [
       "<IPython.core.display.HTML object>"
      ]
     },
     "metadata": {},
     "output_type": "display_data"
    }
   ],
   "source": [
    "import gradio as gr\n",
    "\n",
    "demo = gr.Interface(fn=predict_category, inputs=\"text\", outputs=\"text\")\n",
    "    \n",
    "if __name__ == \"__main__\":\n",
    "    demo.launch(show_api=False)   "
   ]
  }
 ],
 "metadata": {
  "kernelspec": {
   "display_name": "thesis",
   "language": "python",
   "name": "python3"
  },
  "language_info": {
   "codemirror_mode": {
    "name": "ipython",
    "version": 3
   },
   "file_extension": ".py",
   "mimetype": "text/x-python",
   "name": "python",
   "nbconvert_exporter": "python",
   "pygments_lexer": "ipython3",
   "version": "3.11.7"
  }
 },
 "nbformat": 4,
 "nbformat_minor": 2
}
