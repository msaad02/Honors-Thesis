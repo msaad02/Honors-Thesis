{
 "cells": [
  {
   "cell_type": "markdown",
   "metadata": {},
   "source": [
    "# HyDE\n",
    "\n",
    "https://ar5iv.labs.arxiv.org/html/2212.10496"
   ]
  },
  {
   "cell_type": "code",
   "execution_count": 36,
   "metadata": {},
   "outputs": [],
   "source": [
    "from datasets import load_dataset\n",
    "import pandas as pd\n",
    "import torch\n",
    "\n",
    "dataset = load_dataset(\"msaad02/categorized-data\", split=\"train\")\n",
    "df = dataset.to_pandas()\n",
    "\n",
    "train_df = df.groupby(\"category\").sample(n=100, replace=True)\n",
    "train_df = train_df.sample(frac=1).reset_index(drop=True)"
   ]
  },
  {
   "cell_type": "code",
   "execution_count": 38,
   "metadata": {},
   "outputs": [],
   "source": [
    "from sklearn.feature_extraction.text import CountVectorizer\n",
    "\n",
    "vectorizer = CountVectorizer(lowercase=True, min_df=5)\n",
    "\n",
    "train_vect = vectorizer.fit_transform(train_df['data'])"
   ]
  },
  {
   "cell_type": "code",
   "execution_count": 39,
   "metadata": {},
   "outputs": [],
   "source": [
    "text_to_int = {text: idx for idx, text in enumerate(train_df['category'].unique())}\n",
    "int_to_text = {idx: text for text, idx in text_to_int.items()}\n",
    "\n",
    "train_df['category_vect'] = train_df['category'].apply(lambda x: text_to_int[x])"
   ]
  },
  {
   "cell_type": "code",
   "execution_count": 40,
   "metadata": {},
   "outputs": [],
   "source": [
    "# to run at inference time\n",
    "# vectorizer.transform([\"some text\"])"
   ]
  },
  {
   "cell_type": "code",
   "execution_count": 78,
   "metadata": {},
   "outputs": [],
   "source": [
    "train_proportion = 0.8\n",
    "validation_prop = 0.1\n",
    "train_size = int(train_proportion * train_vect.shape[0])\n",
    "validation_size = int(validation_prop * train_vect.shape[0])\n",
    "\n",
    "X_train = torch.tensor(train_vect[:train_size].toarray(), dtype=torch.float32)\n",
    "y_train = torch.tensor(train_df['category_vect'][:train_size].to_numpy(), dtype=torch.long)\n",
    "X_val = torch.tensor(train_vect[train_size:train_size+validation_size].toarray(), dtype=torch.float32)\n",
    "y_val = torch.tensor(train_df['category_vect'][train_size:train_size+validation_size].to_numpy(), dtype=torch.long)\n",
    "X_test = torch.tensor(train_vect[train_size+validation_size:].toarray(), dtype=torch.float32)\n",
    "y_test = torch.tensor(train_df['category_vect'][train_size+validation_size:].to_numpy(), dtype=torch.long)"
   ]
  },
  {
   "cell_type": "code",
   "execution_count": 57,
   "metadata": {},
   "outputs": [
    {
     "data": {
      "text/plain": [
       "torch.Size([960, 5612])"
      ]
     },
     "execution_count": 57,
     "metadata": {},
     "output_type": "execute_result"
    }
   ],
   "source": [
    "X_train.shape"
   ]
  },
  {
   "cell_type": "code",
   "execution_count": 107,
   "metadata": {},
   "outputs": [
    {
     "name": "stdout",
     "output_type": "stream",
     "text": [
      "Epoch [1/150], Loss: 2.5995, Validation Loss: 2.6363\n",
      "Epoch [2/150], Loss: 2.3284, Validation Loss: 2.3806\n",
      "Epoch [3/150], Loss: 2.1296, Validation Loss: 2.1810\n",
      "Epoch [4/150], Loss: 1.9634, Validation Loss: 2.0217\n",
      "Epoch [5/150], Loss: 1.8190, Validation Loss: 1.8940\n",
      "Epoch [6/150], Loss: 1.6920, Validation Loss: 1.7853\n",
      "Epoch [7/150], Loss: 1.5795, Validation Loss: 1.6896\n",
      "Epoch [8/150], Loss: 1.4785, Validation Loss: 1.6037\n",
      "Epoch [9/150], Loss: 1.3868, Validation Loss: 1.5259\n",
      "Epoch [10/150], Loss: 1.3028, Validation Loss: 1.4546\n",
      "Epoch [11/150], Loss: 1.2253, Validation Loss: 1.3892\n",
      "Epoch [12/150], Loss: 1.1536, Validation Loss: 1.3289\n",
      "Epoch [13/150], Loss: 1.0869, Validation Loss: 1.2731\n",
      "Epoch [14/150], Loss: 1.0247, Validation Loss: 1.2211\n",
      "Epoch [15/150], Loss: 0.9663, Validation Loss: 1.1726\n",
      "Epoch [16/150], Loss: 0.9116, Validation Loss: 1.1271\n",
      "Epoch [17/150], Loss: 0.8601, Validation Loss: 1.0843\n",
      "Epoch [18/150], Loss: 0.8116, Validation Loss: 1.0439\n",
      "Epoch [19/150], Loss: 0.7658, Validation Loss: 1.0059\n",
      "Epoch [20/150], Loss: 0.7227, Validation Loss: 0.9700\n",
      "Epoch [21/150], Loss: 0.6820, Validation Loss: 0.9360\n",
      "Epoch [22/150], Loss: 0.6437, Validation Loss: 0.9038\n",
      "Epoch [23/150], Loss: 0.6074, Validation Loss: 0.8734\n",
      "Epoch [24/150], Loss: 0.5732, Validation Loss: 0.8446\n",
      "Epoch [25/150], Loss: 0.5410, Validation Loss: 0.8175\n",
      "Epoch [26/150], Loss: 0.5105, Validation Loss: 0.7917\n",
      "Epoch [27/150], Loss: 0.4817, Validation Loss: 0.7673\n",
      "Epoch [28/150], Loss: 0.4545, Validation Loss: 0.7441\n",
      "Epoch [29/150], Loss: 0.4289, Validation Loss: 0.7220\n",
      "Epoch [30/150], Loss: 0.4048, Validation Loss: 0.7012\n",
      "Epoch [31/150], Loss: 0.3821, Validation Loss: 0.6815\n",
      "Epoch [32/150], Loss: 0.3607, Validation Loss: 0.6630\n",
      "Epoch [33/150], Loss: 0.3405, Validation Loss: 0.6457\n",
      "Epoch [34/150], Loss: 0.3216, Validation Loss: 0.6295\n",
      "Epoch [35/150], Loss: 0.3038, Validation Loss: 0.6144\n",
      "Epoch [36/150], Loss: 0.2870, Validation Loss: 0.6003\n",
      "Epoch [37/150], Loss: 0.2713, Validation Loss: 0.5873\n",
      "Epoch [38/150], Loss: 0.2565, Validation Loss: 0.5753\n",
      "Epoch [39/150], Loss: 0.2427, Validation Loss: 0.5642\n",
      "Epoch [40/150], Loss: 0.2297, Validation Loss: 0.5539\n",
      "Epoch [41/150], Loss: 0.2176, Validation Loss: 0.5444\n",
      "Epoch [42/150], Loss: 0.2063, Validation Loss: 0.5358\n",
      "Epoch [43/150], Loss: 0.1957, Validation Loss: 0.5279\n",
      "Epoch [44/150], Loss: 0.1858, Validation Loss: 0.5206\n",
      "Epoch [45/150], Loss: 0.1766, Validation Loss: 0.5140\n",
      "Epoch [46/150], Loss: 0.1680, Validation Loss: 0.5079\n",
      "Epoch [47/150], Loss: 0.1599, Validation Loss: 0.5024\n",
      "Epoch [48/150], Loss: 0.1524, Validation Loss: 0.4973\n",
      "Epoch [49/150], Loss: 0.1453, Validation Loss: 0.4927\n",
      "Epoch [50/150], Loss: 0.1387, Validation Loss: 0.4884\n",
      "Epoch [51/150], Loss: 0.1325, Validation Loss: 0.4845\n",
      "Epoch [52/150], Loss: 0.1267, Validation Loss: 0.4809\n",
      "Epoch [53/150], Loss: 0.1213, Validation Loss: 0.4776\n",
      "Epoch [54/150], Loss: 0.1162, Validation Loss: 0.4745\n",
      "Epoch [55/150], Loss: 0.1113, Validation Loss: 0.4716\n",
      "Epoch [56/150], Loss: 0.1068, Validation Loss: 0.4690\n",
      "Epoch [57/150], Loss: 0.1026, Validation Loss: 0.4665\n",
      "Epoch [58/150], Loss: 0.0985, Validation Loss: 0.4642\n",
      "Epoch [59/150], Loss: 0.0948, Validation Loss: 0.4620\n",
      "Epoch [60/150], Loss: 0.0912, Validation Loss: 0.4600\n",
      "Epoch [61/150], Loss: 0.0879, Validation Loss: 0.4581\n",
      "Epoch [62/150], Loss: 0.0847, Validation Loss: 0.4563\n",
      "Epoch [63/150], Loss: 0.0817, Validation Loss: 0.4546\n",
      "Epoch [64/150], Loss: 0.0789, Validation Loss: 0.4531\n",
      "Epoch [65/150], Loss: 0.0763, Validation Loss: 0.4516\n",
      "Epoch [66/150], Loss: 0.0737, Validation Loss: 0.4502\n",
      "Epoch [67/150], Loss: 0.0713, Validation Loss: 0.4488\n",
      "Epoch [68/150], Loss: 0.0690, Validation Loss: 0.4476\n",
      "Epoch [69/150], Loss: 0.0669, Validation Loss: 0.4464\n",
      "Epoch [70/150], Loss: 0.0648, Validation Loss: 0.4453\n",
      "Epoch [71/150], Loss: 0.0629, Validation Loss: 0.4443\n",
      "Epoch [72/150], Loss: 0.0610, Validation Loss: 0.4433\n",
      "Epoch [73/150], Loss: 0.0592, Validation Loss: 0.4424\n",
      "Epoch [74/150], Loss: 0.0575, Validation Loss: 0.4415\n",
      "Epoch [75/150], Loss: 0.0559, Validation Loss: 0.4407\n",
      "Epoch [76/150], Loss: 0.0544, Validation Loss: 0.4399\n",
      "Epoch [77/150], Loss: 0.0529, Validation Loss: 0.4391\n",
      "Epoch [78/150], Loss: 0.0515, Validation Loss: 0.4384\n",
      "Epoch [79/150], Loss: 0.0501, Validation Loss: 0.4377\n",
      "Epoch [80/150], Loss: 0.0489, Validation Loss: 0.4370\n",
      "Epoch [81/150], Loss: 0.0476, Validation Loss: 0.4364\n",
      "Epoch [82/150], Loss: 0.0464, Validation Loss: 0.4358\n",
      "Epoch [83/150], Loss: 0.0453, Validation Loss: 0.4352\n",
      "Epoch [84/150], Loss: 0.0442, Validation Loss: 0.4347\n",
      "Epoch [85/150], Loss: 0.0431, Validation Loss: 0.4342\n",
      "Epoch [86/150], Loss: 0.0421, Validation Loss: 0.4338\n",
      "Epoch [87/150], Loss: 0.0411, Validation Loss: 0.4333\n",
      "Epoch [88/150], Loss: 0.0402, Validation Loss: 0.4329\n",
      "Epoch [89/150], Loss: 0.0393, Validation Loss: 0.4326\n",
      "Epoch [90/150], Loss: 0.0384, Validation Loss: 0.4322\n",
      "Epoch [91/150], Loss: 0.0376, Validation Loss: 0.4319\n",
      "Epoch [92/150], Loss: 0.0368, Validation Loss: 0.4316\n",
      "Epoch [93/150], Loss: 0.0360, Validation Loss: 0.4313\n",
      "Epoch [94/150], Loss: 0.0352, Validation Loss: 0.4310\n",
      "Epoch [95/150], Loss: 0.0345, Validation Loss: 0.4307\n",
      "Epoch [96/150], Loss: 0.0338, Validation Loss: 0.4304\n",
      "Epoch [97/150], Loss: 0.0331, Validation Loss: 0.4302\n",
      "Epoch [98/150], Loss: 0.0324, Validation Loss: 0.4299\n",
      "Epoch [99/150], Loss: 0.0318, Validation Loss: 0.4296\n",
      "Epoch [100/150], Loss: 0.0311, Validation Loss: 0.4294\n",
      "Epoch [101/150], Loss: 0.0305, Validation Loss: 0.4291\n",
      "Epoch [102/150], Loss: 0.0299, Validation Loss: 0.4289\n",
      "Epoch [103/150], Loss: 0.0294, Validation Loss: 0.4286\n",
      "Epoch [104/150], Loss: 0.0288, Validation Loss: 0.4284\n",
      "Epoch [105/150], Loss: 0.0283, Validation Loss: 0.4282\n",
      "Epoch [106/150], Loss: 0.0278, Validation Loss: 0.4279\n",
      "Epoch [107/150], Loss: 0.0273, Validation Loss: 0.4277\n",
      "Epoch [108/150], Loss: 0.0268, Validation Loss: 0.4275\n",
      "Epoch [109/150], Loss: 0.0263, Validation Loss: 0.4273\n",
      "Epoch [110/150], Loss: 0.0258, Validation Loss: 0.4271\n",
      "Epoch [111/150], Loss: 0.0254, Validation Loss: 0.4269\n",
      "Epoch [112/150], Loss: 0.0249, Validation Loss: 0.4268\n",
      "Epoch [113/150], Loss: 0.0245, Validation Loss: 0.4266\n",
      "Epoch [114/150], Loss: 0.0241, Validation Loss: 0.4264\n",
      "Epoch [115/150], Loss: 0.0236, Validation Loss: 0.4263\n",
      "Epoch [116/150], Loss: 0.0232, Validation Loss: 0.4261\n",
      "Epoch [117/150], Loss: 0.0229, Validation Loss: 0.4260\n",
      "Epoch [118/150], Loss: 0.0225, Validation Loss: 0.4259\n",
      "Epoch [119/150], Loss: 0.0221, Validation Loss: 0.4258\n",
      "Epoch [120/150], Loss: 0.0217, Validation Loss: 0.4257\n",
      "Epoch [121/150], Loss: 0.0214, Validation Loss: 0.4256\n",
      "Epoch [122/150], Loss: 0.0211, Validation Loss: 0.4255\n",
      "Epoch [123/150], Loss: 0.0207, Validation Loss: 0.4255\n",
      "Epoch [124/150], Loss: 0.0204, Validation Loss: 0.4254\n",
      "Epoch [125/150], Loss: 0.0201, Validation Loss: 0.4254\n",
      "Epoch [126/150], Loss: 0.0198, Validation Loss: 0.4253\n",
      "Epoch [127/150], Loss: 0.0194, Validation Loss: 0.4253\n",
      "Epoch [128/150], Loss: 0.0191, Validation Loss: 0.4252\n",
      "Epoch [129/150], Loss: 0.0189, Validation Loss: 0.4252\n",
      "Epoch [130/150], Loss: 0.0186, Validation Loss: 0.4252\n",
      "Epoch [131/150], Loss: 0.0183, Validation Loss: 0.4251\n",
      "Epoch [132/150], Loss: 0.0180, Validation Loss: 0.4251\n",
      "Epoch [133/150], Loss: 0.0177, Validation Loss: 0.4251\n",
      "Epoch [134/150], Loss: 0.0175, Validation Loss: 0.4251\n",
      "Epoch [135/150], Loss: 0.0172, Validation Loss: 0.4251\n",
      "Epoch [136/150], Loss: 0.0170, Validation Loss: 0.4251\n",
      "Epoch [137/150], Loss: 0.0167, Validation Loss: 0.4251\n",
      "Epoch [138/150], Loss: 0.0165, Validation Loss: 0.4251\n",
      "Epoch [139/150], Loss: 0.0162, Validation Loss: 0.4251\n",
      "Epoch [140/150], Loss: 0.0160, Validation Loss: 0.4252\n",
      "Epoch [141/150], Loss: 0.0158, Validation Loss: 0.4252\n",
      "Epoch [142/150], Loss: 0.0156, Validation Loss: 0.4252\n",
      "Epoch [143/150], Loss: 0.0154, Validation Loss: 0.4252\n",
      "Epoch [144/150], Loss: 0.0151, Validation Loss: 0.4253\n",
      "Epoch [145/150], Loss: 0.0149, Validation Loss: 0.4253\n",
      "Epoch [146/150], Loss: 0.0147, Validation Loss: 0.4253\n",
      "Epoch [147/150], Loss: 0.0145, Validation Loss: 0.4254\n",
      "Epoch [148/150], Loss: 0.0143, Validation Loss: 0.4254\n",
      "Epoch [149/150], Loss: 0.0141, Validation Loss: 0.4255\n",
      "Epoch [150/150], Loss: 0.0139, Validation Loss: 0.4256\n"
     ]
    }
   ],
   "source": [
    "import torch\n",
    "import torch.nn as nn\n",
    "import torch.optim as optim\n",
    "\n",
    "class SimpleNN(nn.Module):\n",
    "    def __init__(self, input_size, hidden_size, num_classes):\n",
    "        super(SimpleNN, self).__init__()\n",
    "        self.fc1 = nn.Linear(input_size, hidden_size) \n",
    "        self.relu = nn.ReLU()\n",
    "        self.fc2 = nn.Linear(hidden_size, num_classes)\n",
    "    \n",
    "    def forward(self, x):\n",
    "        out = self.fc1(x)\n",
    "        out = self.relu(out)\n",
    "        out = self.fc2(out)\n",
    "        return out\n",
    "    \n",
    "# Hyper-parameters\n",
    "input_size = 5612\n",
    "hidden_size = 5000\n",
    "num_classes = df['category'].unique().__len__()\n",
    "num_epochs = 150\n",
    "\n",
    "# Instantiate the model, optimizer, and loss function\n",
    "model = SimpleNN(input_size, hidden_size, num_classes)\n",
    "optimizer = optim.Adam(model.parameters(), lr=0.0001)\n",
    "criterion = nn.CrossEntropyLoss()\n",
    "\n",
    "train_losses = []\n",
    "validation_losses = []\n",
    "\n",
    "# Train the model\n",
    "for epoch in range(num_epochs):\n",
    "    # Forward pass\n",
    "    outputs = model(X_train)\n",
    "    loss = criterion(outputs, y_train)\n",
    "\n",
    "    # Validation loss\n",
    "    validation_loss = criterion(model(X_val), y_val)\n",
    "\n",
    "    train_losses.append(loss.detach().numpy())\n",
    "    validation_losses.append(validation_loss.detach().numpy())\n",
    "\n",
    "    # Backward and optimize\n",
    "    optimizer.zero_grad()\n",
    "    loss.backward()\n",
    "    optimizer.step()\n",
    "\n",
    "    # if (epoch+1) % 0 == 0:\n",
    "    print(f'Epoch [{epoch+1}/{num_epochs}], Loss: {loss.item():.4f}, Validation Loss: {validation_loss.item():.4f}')\n",
    "    # print(f'Epoch [{epoch+1}/{num_epochs}], Loss: {loss.item():.4f}')"
   ]
  },
  {
   "cell_type": "code",
   "execution_count": 109,
   "metadata": {},
   "outputs": [
    {
     "data": {
      "image/png": "[encoded data removed]",
      "text/plain": [
       "<Figure size 640x480 with 1 Axes>"
      ]
     },
     "metadata": {},
     "output_type": "display_data"
    }
   ],
   "source": [
    "import matplotlib.pyplot as plt\n",
    "import numpy as np\n",
    "\n",
    "# Plot the training and validation loss\n",
    "plt.plot(np.array(train_losses), label='Training Loss')\n",
    "plt.plot(np.array(validation_losses), label='Validation Loss')\n",
    "plt.xlabel('Epoch')\n",
    "plt.ylabel('Loss')\n",
    "plt.title('Training and Validation Loss')\n",
    "plt.legend()\n",
    "plt.show()"
   ]
  },
  {
   "cell_type": "code",
   "execution_count": 97,
   "metadata": {},
   "outputs": [
    {
     "name": "stdout",
     "output_type": "stream",
     "text": [
      "28,130,013 total parameters.\n"
     ]
    }
   ],
   "source": [
    "# Find the paramter count of the model\n",
    "total_params = sum(p.numel() for p in model.parameters())\n",
    "print(f'{total_params:,} total parameters.')"
   ]
  },
  {
   "cell_type": "code",
   "execution_count": 98,
   "metadata": {},
   "outputs": [
    {
     "name": "stdout",
     "output_type": "stream",
     "text": [
      "Accuracy: 91.67%\n",
      "Confusion Matrix:\n",
      "[[ 7  0  0  1  0  0  0  0  0  0  0  0]\n",
      " [ 0 11  0  0  0  0  0  0  0  0  0  0]\n",
      " [ 0  0  8  0  0  0  0  0  0  0  0  0]\n",
      " [ 1  0  2  4  0  0  0  0  0  0  0  0]\n",
      " [ 0  0  0  0  6  0  0  0  0  0  0  0]\n",
      " [ 0  0  0  0  0 11  0  0  0  0  0  0]\n",
      " [ 0  0  0  1  0  0  7  0  0  0  0  0]\n",
      " [ 0  0  0  0  0  0  0 12  0  0  0  0]\n",
      " [ 0  0  0  0  0  0  0  0 10  0  0  0]\n",
      " [ 0  0  0  0  0  0  0  0  0 16  0  0]\n",
      " [ 0  0  0  4  0  0  0  0  0  0  5  0]\n",
      " [ 0  0  0  0  0  0  0  1  0  0  0 13]]\n"
     ]
    }
   ],
   "source": [
    "import numpy as np\n",
    "from sklearn.metrics import accuracy_score, confusion_matrix\n",
    "\n",
    "# Evaluate the model on the test data\n",
    "with torch.no_grad():\n",
    "    model.eval()\n",
    "    outputs = model(X_test)\n",
    "    _, predicted = torch.max(outputs.data, 1)\n",
    "\n",
    "# Calculate accuracy\n",
    "accuracy = accuracy_score(y_test, predicted)\n",
    "print(f\"Accuracy: {accuracy * 100:.2f}%\")\n",
    "\n",
    "# Calculate confusion matrix\n",
    "confusion_mat = confusion_matrix(y_test, predicted)\n",
    "print(\"Confusion Matrix:\")\n",
    "print(confusion_mat)\n"
   ]
  },
  {
   "cell_type": "code",
   "execution_count": 125,
   "metadata": {},
   "outputs": [
    {
     "data": {
      "text/plain": [
       "'academics'"
      ]
     },
     "execution_count": 125,
     "metadata": {},
     "output_type": "execute_result"
    }
   ],
   "source": [
    "# Try it on my own text\n",
    "text = \"Class projects and trade case simulations will enhance your analytical skills through real world applications. Hear from industry professionals in the classroom and take advantage of our skilled staff to earn internships in the field.\"\n",
    "text_vect = vectorizer.transform([text])\n",
    "text_vect = torch.tensor(text_vect.toarray(), dtype=torch.float32)\n",
    "\n",
    "with torch.no_grad():\n",
    "    model.eval()\n",
    "    outputs = model(text_vect)\n",
    "    _, predicted = torch.max(outputs.data, 1)\n",
    "\n",
    "int_to_text[predicted.detach().numpy()[0]]"
   ]
  },
  {
   "cell_type": "markdown",
   "metadata": {},
   "source": [
    "## Next to-do\n",
    "\n",
    "Need to change the input data to the questions being stored instead of running this on the data itself."
   ]
  }
 ],
 "metadata": {
  "kernelspec": {
   "display_name": "thesis",
   "language": "python",
   "name": "python3"
  },
  "language_info": {
   "codemirror_mode": {
    "name": "ipython",
    "version": 3
   },
   "file_extension": ".py",
   "mimetype": "text/x-python",
   "name": "python",
   "nbconvert_exporter": "python",
   "pygments_lexer": "ipython3",
   "version": "3.11.7"
  }
 },
 "nbformat": 4,
 "nbformat_minor": 2
}
