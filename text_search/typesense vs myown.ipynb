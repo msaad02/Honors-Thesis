{
 "cells": [
  {
   "cell_type": "code",
   "execution_count": 1,
   "metadata": {},
   "outputs": [
    {
     "name": "stderr",
     "output_type": "stream",
     "text": [
      "2024-01-05 20:31:27.868409: I tensorflow/core/util/port.cc:110] oneDNN custom operations are on. You may see slightly different numerical results due to floating-point round-off errors from different computation orders. To turn them off, set the environment variable `TF_ENABLE_ONEDNN_OPTS=0`.\n",
      "2024-01-05 20:31:27.891885: I tensorflow/core/platform/cpu_feature_guard.cc:182] This TensorFlow binary is optimized to use available CPU instructions in performance-critical operations.\n",
      "To enable the following instructions: AVX2 AVX_VNNI FMA, in other operations, rebuild TensorFlow with the appropriate compiler flags.\n",
      "2024-01-05 20:31:28.458771: W tensorflow/compiler/tf2tensorrt/utils/py_utils.cc:38] TF-TRT Warning: Could not find TensorRT\n"
     ]
    }
   ],
   "source": [
    "from compare import Compare\n",
    "\n",
    "comparison = Compare()"
   ]
  },
  {
   "cell_type": "code",
   "execution_count": 17,
   "metadata": {},
   "outputs": [
    {
     "data": {
      "text/plain": [
       "{'typesense': 'The math major at SUNY Brockport offers a Bachelor of Arts or a Bachelor of Science degree with three tracks: Traditional, Actuarial Mathematics, or Statistics. Graduates can pursue careers in various fields including business, teaching, computing, government, law, engineering, and medicine. The program also offers a combined BS/MA program.',\n",
       " 'old': 'The major and minor programs in mathematics at SUNY Brockport provide the knowledge and skills for graduate study or careers in various fields such as business, teaching, computing, government, law, engineering, and medicine. The department offers Bachelor of Science (BS) and Master of Arts (MA) degrees, as well as a combined BS/MA program. The mathematics education degree also offers a path toward teaching, graduate study, and careers in various fields.'}"
      ]
     },
     "execution_count": 17,
     "metadata": {},
     "output_type": "execute_result"
    }
   ],
   "source": [
    "results = comparison.rag(\"Tell me about the math major\")\n",
    "results"
   ]
  },
  {
   "cell_type": "code",
   "execution_count": 6,
   "metadata": {},
   "outputs": [
    {
     "data": {
      "text/plain": [
       "{'typesense': 'No, SAT scores are not required for applying to SUNY Brockport.',\n",
       " 'old': 'SAT scores are optional for admission to SUNY Brockport. However, high school applicants are required to submit an official high school transcript.'}"
      ]
     },
     "execution_count": 6,
     "metadata": {},
     "output_type": "execute_result"
    }
   ],
   "source": [
    "results = comparison.rag(\"Are SAT scores required?\")\n",
    "results"
   ]
  },
  {
   "cell_type": "code",
   "execution_count": 7,
   "metadata": {},
   "outputs": [
    {
     "data": {
      "text/plain": [
       "{'typesense': 'The minimum GPA to apply is 2.0 or above.',\n",
       " 'old': \"The minimum GPA to apply for a two or three year scholarship is 2.5 for undergraduate students and 3.0 for master's or doctorate degree students. For a four year scholarship, high school GPA of 2.5 or greater is required, along with SAT or ACT scores.\"}"
      ]
     },
     "execution_count": 7,
     "metadata": {},
     "output_type": "execute_result"
    }
   ],
   "source": [
    "results = comparison.rag(\"What is the minimum GPA to apply?\")\n",
    "results"
   ]
  },
  {
   "cell_type": "code",
   "execution_count": 8,
   "metadata": {},
   "outputs": [
    {
     "data": {
      "text/plain": [
       "{'typesense': 'The current president of SUNY Brockport is Dr. Heidi Macpherson. She leads the university with enthusiasm and dedication!',\n",
       " 'old': 'The president of SUNY Brockport is Dr. Heidi Macpherson.'}"
      ]
     },
     "execution_count": 8,
     "metadata": {},
     "output_type": "execute_result"
    }
   ],
   "source": [
    "results = comparison.rag(\"Who is the president of the college?\")\n",
    "results"
   ]
  },
  {
   "cell_type": "code",
   "execution_count": 9,
   "metadata": {},
   "outputs": [
    {
     "data": {
      "text/plain": [
       "{'typesense': 'The average class size in the School of Business and Management is typically between 33 to 35 students.',\n",
       " 'old': 'The average class size for faculty at SUNY Brockport varies based on enrollment requirements, but for a teaching load of 4 courses, the average class size is about 45 students.'}"
      ]
     },
     "execution_count": 9,
     "metadata": {},
     "output_type": "execute_result"
    }
   ],
   "source": [
    "results = comparison.rag(\"What is the average class size?\")\n",
    "results"
   ]
  },
  {
   "cell_type": "code",
   "execution_count": 13,
   "metadata": {},
   "outputs": [
    {
     "data": {
      "text/plain": [
       "{'typesense': 'The student to faculty ratio at SUNY Brockport is 16:1.',\n",
       " 'old': \"I'm sorry, I don't know.\"}"
      ]
     },
     "execution_count": 13,
     "metadata": {},
     "output_type": "execute_result"
    }
   ],
   "source": [
    "results = comparison.rag(\"What is the student to faculty ratio?\")\n",
    "results"
   ]
  },
  {
   "cell_type": "code",
   "execution_count": 11,
   "metadata": {},
   "outputs": [
    {
     "data": {
      "text/plain": [
       "{'typesense': \"No, smoking and vaping are not allowed on SUNY Brockport's campus. This policy promotes a healthy, safe, and sustainable environment for everyone.\",\n",
       " 'old': \"No, smoking is not allowed on SUNY Brockport's campus. This includes the sale and delivery of tobacco products.\"}"
      ]
     },
     "execution_count": 11,
     "metadata": {},
     "output_type": "execute_result"
    }
   ],
   "source": [
    "results = comparison.rag(\"Is smoking allowed on campus?\")\n",
    "results"
   ]
  },
  {
   "cell_type": "code",
   "execution_count": 14,
   "metadata": {},
   "outputs": [
    {
     "data": {
      "text/plain": [
       "{'typesense': 'Yes, the Computer Science Department at SUNY Brockport encourages students to pursue research experiences and offers programs to serve the needs of computer scientists and researchers.',\n",
       " 'old': 'Yes, there is research in the computer science department, and students have opportunities to publish papers and present their work at conferences. The program encourages research experiences and offers two tracks of study.'}"
      ]
     },
     "execution_count": 14,
     "metadata": {},
     "output_type": "execute_result"
    }
   ],
   "source": [
    "results = comparison.rag(\"Is there any research in the computer science department?\")\n",
    "results"
   ]
  },
  {
   "cell_type": "code",
   "execution_count": 15,
   "metadata": {},
   "outputs": [
    {
     "data": {
      "text/plain": [
       "{'typesense': 'You can pay your bill through QuikPAY via Web Banner’s “Student Accounts” menu. Simply log in and select the “View Accounts”/”Current Statement” option to make your payment.',\n",
       " 'old': 'You can pay your bill by logging into Web Banner, selecting the \"Student Services\" tab, clicking on the \"Student Accounts\" menu, and choosing the \"Pay Your Bill\" option. You can then make your payment securely using Visa, MasterCard, or Discover in the QuikPAY system.'}"
      ]
     },
     "execution_count": 15,
     "metadata": {},
     "output_type": "execute_result"
    }
   ],
   "source": [
    "results = comparison.rag(\"Where can I go to pay my bill?\")\n",
    "results"
   ]
  },
  {
   "cell_type": "code",
   "execution_count": 16,
   "metadata": {},
   "outputs": [
    {
     "data": {
      "text/plain": [
       "{'typesense': 'You can call University Police at (585) 395-2222 for immediate help on campus.',\n",
       " 'old': 'You should contact University Police immediately at x2222 for immediate help on campus.'}"
      ]
     },
     "execution_count": 16,
     "metadata": {},
     "output_type": "execute_result"
    }
   ],
   "source": [
    "results = comparison.rag(\"Who can I call for immediate help on campus?\")\n",
    "results"
   ]
  },
  {
   "cell_type": "code",
   "execution_count": 18,
   "metadata": {},
   "outputs": [],
   "source": [
    "questions = [\n",
    "    \"Are SAT scores required to apply for undergrad?\",\n",
    "    \"Does Brockport have a computer science department?\",\n",
    "    \"Is there a masters program in computer science?\",\n",
    "    \"What is the average class size?\",\n",
    "    \"What is the student to faculty ratio?\",\n",
    "    \"How many programs does Brockport offer?\",\n",
    "    \"What is the cost of attendance?\",\n",
    "    \"Where can I view and pay my bill?\",\n",
    "    \"How can I apply for financial aid? I'm a new student.\",\n",
    "    \"Does Brockport offer any scholarships?\",\n",
    "    \"How do I apply for scholarships?\",\n",
    "    \"Do I need to take any math classes for a bachelor's in computer science?\",\n",
    "    \"How many students are enrolled at Brockport?\",\n",
    "    \"What are the most popular majors at SUNY Brockport? Are there any unique or standout programs?\",\n",
    "    \"What is the student-to-faculty ratio? How accessible are the professors outside of class?\",\n",
    "    \"What are the dormitories like? Are there options for living on campus throughout my undergraduate years?\",\n",
    "    \"What kinds of student organizations and clubs are available? How easy is it to start a new one?\",\n",
    "    \"What kind of support does the career services office offer for internships and job placement?\",\n",
    "    \"What types of scholarships and financial aid are available? How does the financial aid process work?\",\n",
    "    \"What is the town of Brockport like? How close is it to major cities or attractions?\",\n",
    "    \"Are there study abroad programs? If so, what are some of the destinations and how does the credit transfer work?\",\n",
    "    \"Are there opportunities for undergraduates to engage in research? How can students get involved?\",\n",
    "    \"What kind of health, wellness, and academic support services are available on campus?\",\n",
    "    \"How well-equipped are the campus libraries and labs, especially for STEM fields?\",\n",
    "    \"How strong is the alumni network? Are there mentoring or networking opportunities with alumni?\",\n",
    "    \"What are the athletic facilities like? Are there intramural sports teams?\",\n",
    "    \"What kinds of cultural and social events happen on campus?\",\n",
    "    \"How do students typically get around campus and the town? Is there public transportation available?\",\n",
    "    \"How does SUNY Brockport support mental health and counseling services for students?\",\n",
    "    \"What are the safety measures on campus, especially for students living in dorms?\",\n",
    "    \"How diverse is the student body, and what kind of inclusivity initiatives are in place?\",\n",
    "    \"What are some notable events or traditions unique to SUNY Brockport?\",\n",
    "    \"How does the university assist students with disabilities?\",\n",
    "    \"What are the options for on-campus dining? Are there healthy and diverse food choices?\",\n",
    "    \"How is the technology infrastructure, especially for online learning and digital resources?\",\n",
    "    \"What kind of environmental or sustainability initiatives does the campus have?\",\n",
    "    \"Are there opportunities for student leadership and governance?\",\n",
    "    \"What is the process for selecting and registering for classes?\",\n",
    "    \"What are the unique features of the Computer Science program at SUNY Brockport?\",\n",
    "    \"Does the Math department offer any specialized tracks or concentrations?\",\n",
    "    \"How does the Business school integrate real-world experiences into its curriculum?\",\n",
    "    \"What research facilities are available for students in the Sciences?\",\n",
    "    \"Are there collaborative opportunities between different departments, like Engineering and Art?\",\n",
    "    \"How does the English department support creative writing and literary studies?\",\n",
    "    \"What internship opportunities are available for Political Science majors?\",\n",
    "    \"Does the Music department offer performance opportunities for students?\",\n",
    "    \"How does the Psychology program incorporate practical experience in its coursework?\",\n",
    "    \"What kind of projects do students in the Environmental Science program work on?\",\n",
    "    \"Are there any interdisciplinary programs combining areas like History and Digital Media?\"\n",
    "]\n",
    "\n",
    "questions\n",
    "\n",
    "\n",
    "with open(\"results.txt\", \"w\") as f:\n",
    "    for question in questions:\n",
    "        results = comparison.rag(question)\n",
    "        f.write(f\"{question}\\n\")\n",
    "        f.write(f\"{results}\\n\\n\")"
   ]
  },
  {
   "cell_type": "code",
   "execution_count": null,
   "metadata": {},
   "outputs": [],
   "source": []
  }
 ],
 "metadata": {
  "kernelspec": {
   "display_name": "thesis",
   "language": "python",
   "name": "python3"
  },
  "language_info": {
   "codemirror_mode": {
    "name": "ipython",
    "version": 3
   },
   "file_extension": ".py",
   "mimetype": "text/x-python",
   "name": "python",
   "nbconvert_exporter": "python",
   "pygments_lexer": "ipython3",
   "version": "3.11.4"
  }
 },
 "nbformat": 4,
 "nbformat_minor": 2
}
