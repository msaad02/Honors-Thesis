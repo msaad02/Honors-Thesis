{
 "cells": [
  {
   "cell_type": "code",
   "execution_count": 1,
   "metadata": {},
   "outputs": [],
   "source": [
    "from question_classifier import QuestionClassifier\n",
    "import os\n",
    "\n",
    "class QuestionClassifierWrapper:\n",
    "    \"Gets a question and using the probability output returns the exact places to do text retrieval from.\"\n",
    "    def __init__(\n",
    "            self, \n",
    "            main_categorization_model_dir: str = \"model\",\n",
    "            subcategorization_model_dir: str = \"subcat_models\"\n",
    "        ):\n",
    "        self.main_classifier = QuestionClassifier(model_dir=main_categorization_model_dir)\n",
    "        self.subcategory_classifiers = {}\n",
    "        for subcat in os.listdir(subcategorization_model_dir):\n",
    "            self.subcategory_classifiers[subcat] = QuestionClassifier(subcategorization_model_dir + subcat)\n",
    "\n",
    "    def _predict(self, question: str, return_probabilities: bool = False):\n",
    "        \"Raw interface between the classifier and the user.\"\n",
    "        prediction = {}\n",
    "        if return_probabilities:\n",
    "            prediction['category'], prediction['main_probs'] = self.main_classifier.predict(question, True)\n",
    "        else:\n",
    "            prediction['category'] = self.main_classifier.predict(question)\n",
    "\n",
    "        if prediction['category'] in self.subcategory_classifiers:\n",
    "            subcategory_classifier = self.subcategory_classifiers[prediction['category']]\n",
    "\n",
    "            if return_probabilities:\n",
    "                prediction['subcategory'], prediction['sub_probs'] = subcategory_classifier.predict(question, True)\n",
    "            else:\n",
    "                prediction['subcategory'] = subcategory_classifier.predict(question)\n",
    "        return prediction\n",
    "    \n",
    "    def get_text_retrieval_places(self, question: str):\n",
    "        \"Higher level interface between the classifier and the user. Tells us where to do text retrieval from.\"\n",
    "        print(\"hi\")\n",
    "        return 1\n",
    "    \n",
    "    def retreive_text(self, question: str):\n",
    "        \"Retrieves text\""
   ]
  },
  {
   "cell_type": "code",
   "execution_count": 2,
   "metadata": {},
   "outputs": [
    {
     "data": {
      "text/plain": [
       "{'category': 'academics', 'subcategory': 'honors-college'}"
      ]
     },
     "execution_count": 2,
     "metadata": {},
     "output_type": "execute_result"
    }
   ],
   "source": [
    "classifier = QuestionClassifierWrapper()\n",
    "\n",
    "classifier.predict(\"tell me about the honors college\")"
   ]
  }
 ],
 "metadata": {
  "kernelspec": {
   "display_name": "thesis",
   "language": "python",
   "name": "python3"
  },
  "language_info": {
   "codemirror_mode": {
    "name": "ipython",
    "version": 3
   },
   "file_extension": ".py",
   "mimetype": "text/x-python",
   "name": "python",
   "nbconvert_exporter": "python",
   "pygments_lexer": "ipython3",
   "version": "3.11.4"
  }
 },
 "nbformat": 4,
 "nbformat_minor": 2
}
