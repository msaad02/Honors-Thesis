{
 "cells": [
  {
   "cell_type": "code",
   "execution_count": 1,
   "metadata": {},
   "outputs": [],
   "source": [
    "from transformers import AutoModelForSequenceClassification, AutoTokenizer\n",
    "from question_classifier import QuestionClassifier\n",
    "from sentence_transformers import SentenceTransformer\n",
    "from datasets import load_dataset\n",
    "import torch\n",
    "import pandas as pd\n",
    "import pickle\n",
    "import os\n",
    "\n",
    "class QuestionClassifierWrapper:\n",
    "    \"Gets a question and using the probability output returns the exact places to do text retrieval from.\"\n",
    "    def __init__(\n",
    "            self, \n",
    "            main_categorization_model_dir: str = \"model\",\n",
    "            subcategorization_model_dir: str = \"subcat_models/\",\n",
    "            device: str = 'cuda' if torch.cuda.is_available() else 'cpu'\n",
    "        ):\n",
    "        self.categorized_data = load_dataset(\"msaad02/categorized-data\", split=\"train\").to_pandas()\n",
    "        embeddings = pickle.load(open(\"embeddings.pickle\", \"rb\"))\n",
    "        self.data = embeddings['data']\n",
    "        self.embeddings = embeddings['embeddings']\n",
    "        self.main_classifier = QuestionClassifier(model_dir=main_categorization_model_dir)\n",
    "        self.embedding_model = SentenceTransformer('BAAI/bge-large-en-v1.5')\n",
    "        self.device = device\n",
    "        self.rerank_tokenizer = AutoTokenizer.from_pretrained('BAAI/bge-reranker-large')\n",
    "        self.rerank_model = AutoModelForSequenceClassification.from_pretrained('BAAI/bge-reranker-large').to(self.device)\n",
    "        self.rerank_model.eval()\n",
    "\n",
    "        self.subcategory_classifiers = {}\n",
    "        for subcat in os.listdir(subcategorization_model_dir):\n",
    "            self.subcategory_classifiers[subcat] = QuestionClassifier(subcategorization_model_dir + subcat)\n",
    "\n",
    "    def _predict(self, question: str, return_probabilities: bool = False):\n",
    "        \"Raw interface between the classifier and the user.\"\n",
    "        prediction = {}\n",
    "        if return_probabilities:\n",
    "            prediction['category'], prediction['main_probs'] = self.main_classifier.predict(question, True)\n",
    "        else:\n",
    "            prediction['category'] = self.main_classifier.predict(question)\n",
    "\n",
    "        category = prediction['category']\n",
    "        if category in self.subcategory_classifiers:\n",
    "            subcategory_classifier = self.subcategory_classifiers[category]\n",
    "\n",
    "            if return_probabilities:\n",
    "                prediction['subcategory'], sub_probs = subcategory_classifier.predict(question, True)\n",
    "                prediction['sub_probs'] = {f'{category}-{subcat}': prob for subcat, prob in sub_probs.items()}\n",
    "            else:\n",
    "                prediction['subcategory'] = subcategory_classifier.predict(question)\n",
    "        return prediction\n",
    "    \n",
    "    def _get_text_retrieval_places(self, question: str):\n",
    "        \"\"\"\n",
    "        High level interface between the classifier and the user. Tells us where to do text retrieval from. Based on the probability output of the categorization models.\n",
    "\n",
    "        It does this by returning the top categories with confidence > 0.2 of the highest probability category. (I refer to confidence as the model's probability output.)\n",
    "\n",
    "        Returns:\n",
    "            dict: {\n",
    "                'main_categories': [str],\n",
    "                'subcategories': [str]\n",
    "            }\n",
    "        \"\"\"\n",
    "        prediction = self._predict(question, True)\n",
    "\n",
    "        # main category\n",
    "        main_cat_probs_df = pd.DataFrame(\n",
    "            [(category, prob) for category, prob in prediction['main_probs'].items()], \n",
    "            columns=['category', 'probability']\n",
    "        ).sort_values(by='probability', ascending=False).reset_index(drop=True)\n",
    "\n",
    "        # Highest category probability\n",
    "        max_main_prob = main_cat_probs_df['probability'][0]\n",
    "\n",
    "        # if max_main_prob < 0.5: use everything regardless (classifier is not confident enough)\n",
    "        if max_main_prob < 0.5:\n",
    "            main_categories_to_use = main_cat_probs_df['category'].tolist()\n",
    "            subcategories_to_use = list(self.subcategory_classifiers.keys())\n",
    "        else:\n",
    "            # Use all categories at the top within 0.2 of the best category\n",
    "            main_categories_to_use = main_cat_probs_df[main_cat_probs_df['probability'] > max_main_prob - 0.2]['category'].tolist()\n",
    "\n",
    "            if 'sub_probs' in prediction.keys():\n",
    "                subcategory_probs_df = pd.DataFrame(\n",
    "                    [(category, prob) for category, prob in prediction['sub_probs'].items()], \n",
    "                    columns=['category', 'probability']\n",
    "                ).sort_values(by='probability', ascending=False).reset_index(drop=True)\n",
    "\n",
    "                # Highest subcategory probability\n",
    "                max_sub_prob = subcategory_probs_df['probability'][0]\n",
    "\n",
    "                # Subcategories within 0.2 of the highest subcategory\n",
    "                subcategories_to_use = subcategory_probs_df[subcategory_probs_df['probability'] > max_sub_prob - 0.2]['category'].tolist()\n",
    "\n",
    "        text_retreival_places = {\n",
    "            'main_categories': main_categories_to_use,\n",
    "            'subcategories': subcategories_to_use if 'sub_probs' in prediction.keys() else []\n",
    "        }\n",
    "\n",
    "        return text_retreival_places\n",
    "\n",
    "    def retreive_text(self, question: str, top_n: int = 10):\n",
    "        \"\"\"\n",
    "        This is the last step of retreival. The next (and final) step is to rerank the results using the reranker model.\n",
    "\n",
    "        The output of this model is the top n results using semantic search. The results it is pulling from are the ones that are in the categories returned by the _get_text_retrieval_places function, which itself is using the probability output of the categorization models.\n",
    "        \"\"\"\n",
    "\n",
    "        text_retrieval_places = self._get_text_retrieval_places(question)\n",
    "        \n",
    "        question_embedding = self.embedding_model.encode(question, normalize_embeddings=True)\n",
    "\n",
    "        text_embedding_for_question = []\n",
    "        raw_text_for_question = []\n",
    "\n",
    "        for category in text_retrieval_places['main_categories']:\n",
    "            if category in self.embeddings.keys():\n",
    "                text_embedding_for_question.extend(self.embeddings[category])\n",
    "                raw_text_for_question.extend(self.data[category])\n",
    "\n",
    "        for subcategory in text_retrieval_places['subcategories']:\n",
    "            if subcategory in self.embeddings.keys():\n",
    "                text_embedding_for_question.extend(self.embeddings[subcategory])\n",
    "                raw_text_for_question.extend(self.data[subcategory])\n",
    "\n",
    "        similarity = text_embedding_for_question @ question_embedding.T\n",
    "        top_args = similarity.argsort()[::-1][:top_n]\n",
    "\n",
    "        data = pd.DataFrame(\n",
    "            [(raw_text_for_question[i], similarity[i]) for i in top_args], \n",
    "            columns=['text', 'similarity']\n",
    "        ).sort_values(by='similarity', ascending=False).reset_index(drop=True)\n",
    "\n",
    "        return data\n",
    "    \n",
    "    def rerank(self, question: str, top_n: int = 10):\n",
    "        \"Pefroms reranking on the top n results of the text retreival step.\"\n",
    "        \n",
    "        matches = self.retreive_text(question, top_n)\n",
    "        pairs = [[question, text] for text in matches['text'].to_list()]\n",
    "\n",
    "        with torch.no_grad():\n",
    "            inputs = self.rerank_tokenizer(\n",
    "                pairs, \n",
    "                padding=True, \n",
    "                truncation=True, \n",
    "                return_tensors='pt', \n",
    "                max_length=512\n",
    "            ).to(self.device)\n",
    "            \n",
    "            scores = self.rerank_model(**inputs, return_dict=True).logits.view(-1, ).float()\n",
    "\n",
    "        return scores, matches"
   ]
  },
  {
   "cell_type": "code",
   "execution_count": 2,
   "metadata": {},
   "outputs": [
    {
     "name": "stderr",
     "output_type": "stream",
     "text": [
      "2023-12-30 20:40:40.498379: I tensorflow/core/util/port.cc:110] oneDNN custom operations are on. You may see slightly different numerical results due to floating-point round-off errors from different computation orders. To turn them off, set the environment variable `TF_ENABLE_ONEDNN_OPTS=0`.\n",
      "2023-12-30 20:40:40.520924: I tensorflow/core/platform/cpu_feature_guard.cc:182] This TensorFlow binary is optimized to use available CPU instructions in performance-critical operations.\n",
      "To enable the following instructions: AVX2 AVX_VNNI FMA, in other operations, rebuild TensorFlow with the appropriate compiler flags.\n",
      "2023-12-30 20:40:40.960529: W tensorflow/compiler/tf2tensorrt/utils/py_utils.cc:38] TF-TRT Warning: Could not find TensorRT\n"
     ]
    }
   ],
   "source": [
    "classifier = QuestionClassifierWrapper()"
   ]
  },
  {
   "cell_type": "code",
   "execution_count": 11,
   "metadata": {},
   "outputs": [],
   "source": [
    "question = \"tell me about the nursing program\"\n",
    "n_top_semantic_search_results = 50"
   ]
  },
  {
   "cell_type": "code",
   "execution_count": 12,
   "metadata": {},
   "outputs": [
    {
     "data": {
      "text/plain": [
       "{'main_categories': ['academics'], 'subcategories': ['academics-nursing']}"
      ]
     },
     "execution_count": 12,
     "metadata": {},
     "output_type": "execute_result"
    }
   ],
   "source": [
    "classifier._get_text_retrieval_places(question)"
   ]
  },
  {
   "cell_type": "code",
   "execution_count": 13,
   "metadata": {},
   "outputs": [
    {
     "data": {
      "text/html": [
       "<div>\n",
       "<style scoped>\n",
       "    .dataframe tbody tr th:only-of-type {\n",
       "        vertical-align: middle;\n",
       "    }\n",
       "\n",
       "    .dataframe tbody tr th {\n",
       "        vertical-align: top;\n",
       "    }\n",
       "\n",
       "    .dataframe thead th {\n",
       "        text-align: right;\n",
       "    }\n",
       "</style>\n",
       "<table border=\"1\" class=\"dataframe\">\n",
       "  <thead>\n",
       "    <tr style=\"text-align: right;\">\n",
       "      <th></th>\n",
       "      <th>text</th>\n",
       "      <th>similarity</th>\n",
       "    </tr>\n",
       "  </thead>\n",
       "  <tbody>\n",
       "    <tr>\n",
       "      <th>0</th>\n",
       "      <td>The following are criteria for eligibility for...</td>\n",
       "      <td>0.693463</td>\n",
       "    </tr>\n",
       "    <tr>\n",
       "      <th>1</th>\n",
       "      <td>My name is Dr. Kathleen Peterson and I’m a Pro...</td>\n",
       "      <td>0.692909</td>\n",
       "    </tr>\n",
       "    <tr>\n",
       "      <th>2</th>\n",
       "      <td>Questions regarding this program may be direct...</td>\n",
       "      <td>0.684233</td>\n",
       "    </tr>\n",
       "    <tr>\n",
       "      <th>3</th>\n",
       "      <td>For new and prospective students, it is import...</td>\n",
       "      <td>0.681480</td>\n",
       "    </tr>\n",
       "    <tr>\n",
       "      <th>4</th>\n",
       "      <td>5 to keep their Direct Admit status in the nur...</td>\n",
       "      <td>0.679146</td>\n",
       "    </tr>\n",
       "    <tr>\n",
       "      <th>5</th>\n",
       "      <td>Reviewed 10/2/22. Our graduates will be poised...</td>\n",
       "      <td>0.673470</td>\n",
       "    </tr>\n",
       "    <tr>\n",
       "      <th>6</th>\n",
       "      <td>Questions related to this program may be direc...</td>\n",
       "      <td>0.673358</td>\n",
       "    </tr>\n",
       "    <tr>\n",
       "      <th>7</th>\n",
       "      <td>All Brockport students who intend to progress ...</td>\n",
       "      <td>0.671576</td>\n",
       "    </tr>\n",
       "    <tr>\n",
       "      <th>8</th>\n",
       "      <td>Students applying to and continuing in the Nur...</td>\n",
       "      <td>0.669394</td>\n",
       "    </tr>\n",
       "    <tr>\n",
       "      <th>9</th>\n",
       "      <td>The RN-BSN Fast Track completion program can b...</td>\n",
       "      <td>0.668930</td>\n",
       "    </tr>\n",
       "  </tbody>\n",
       "</table>\n",
       "</div>"
      ],
      "text/plain": [
       "                                                text  similarity\n",
       "0  The following are criteria for eligibility for...    0.693463\n",
       "1  My name is Dr. Kathleen Peterson and I’m a Pro...    0.692909\n",
       "2  Questions regarding this program may be direct...    0.684233\n",
       "3  For new and prospective students, it is import...    0.681480\n",
       "4  5 to keep their Direct Admit status in the nur...    0.679146\n",
       "5  Reviewed 10/2/22. Our graduates will be poised...    0.673470\n",
       "6  Questions related to this program may be direc...    0.673358\n",
       "7  All Brockport students who intend to progress ...    0.671576\n",
       "8  Students applying to and continuing in the Nur...    0.669394\n",
       "9  The RN-BSN Fast Track completion program can b...    0.668930"
      ]
     },
     "execution_count": 13,
     "metadata": {},
     "output_type": "execute_result"
    }
   ],
   "source": [
    "classifier.retreive_text(question, top_n=n_top_semantic_search_results).head(10)"
   ]
  },
  {
   "cell_type": "code",
   "execution_count": 14,
   "metadata": {},
   "outputs": [
    {
     "data": {
      "text/plain": [
       "'Please contact the nursing department administrative assistant and request an advisor as needed. Students are encouraged to meet with their advisor for mentoring and advisement regarding their nursing career as they progress through the program. Students may communicate with faculty by email or by office phone.'"
      ]
     },
     "execution_count": 14,
     "metadata": {},
     "output_type": "execute_result"
    }
   ],
   "source": [
    "rerank = classifier.rerank(question, top_n=n_top_semantic_search_results)\n",
    "rerank[1].iloc[rerank[0].argmax().cpu().item()]['text']"
   ]
  },
  {
   "cell_type": "code",
   "execution_count": 7,
   "metadata": {},
   "outputs": [
    {
     "data": {
      "text/plain": [
       "tensor([49, 16, 41, 37, 29,  9, 47, 27, 15, 11, 18, 39, 44, 35, 23, 30,  7, 31,\n",
       "        22,  8, 34, 42, 20,  5, 48, 10, 26, 38, 46,  2, 25, 14, 12, 33, 28, 45,\n",
       "        17, 13,  1, 32, 40,  3, 43,  4, 21, 36,  0,  6, 24, 19],\n",
       "       device='cuda:0')"
      ]
     },
     "execution_count": 7,
     "metadata": {},
     "output_type": "execute_result"
    }
   ],
   "source": [
    "rerank[0].argsort()"
   ]
  },
  {
   "cell_type": "code",
   "execution_count": 9,
   "metadata": {},
   "outputs": [],
   "source": [
    "def get_answer(question: str, n_top_semantic_search_results: int = 50):\n",
    "    \"Returns the answer to the question.\"\n",
    "    rerank = classifier.rerank(question, top_n=n_top_semantic_search_results)\n",
    "    return rerank[1].iloc[rerank[0].argmax().cpu().item()]['text']"
   ]
  },
  {
   "cell_type": "code",
   "execution_count": 15,
   "metadata": {},
   "outputs": [
    {
     "data": {
      "text/plain": [
       "'Please contact the nursing department administrative assistant and request an advisor as needed. Students are encouraged to meet with their advisor for mentoring and advisement regarding their nursing career as they progress through the program. Students may communicate with faculty by email or by office phone.'"
      ]
     },
     "execution_count": 15,
     "metadata": {},
     "output_type": "execute_result"
    }
   ],
   "source": [
    "question = \"Tell me about the nursing program\"\n",
    "get_answer(question)"
   ]
  },
  {
   "cell_type": "code",
   "execution_count": 17,
   "metadata": {},
   "outputs": [],
   "source": [
    "similarity, ss_sim = rerank"
   ]
  },
  {
   "cell_type": "code",
   "execution_count": 21,
   "metadata": {},
   "outputs": [
    {
     "data": {
      "text/plain": [
       "array([-3.1427033, -1.5799706, -1.830896 , -2.0069695, -3.154744 ,\n",
       "       -2.1335776, -2.5212982, -3.4353988, -3.3755329, -2.7681444,\n",
       "       -2.6527863, -1.1456999, -3.7866366, -2.9875748, -3.3234618,\n",
       "       -3.287079 , -2.4159267, -2.8408773, -8.181602 , -3.5338557,\n",
       "       -3.6986136, -1.1045159, -2.0176663, -4.813224 , -3.2054005,\n",
       "       -1.9416322, -2.8401613, -3.5818055, -4.064646 , -3.4296677,\n",
       "       -1.5681468, -1.5681468, -2.5591252, -4.0109396, -4.246321 ,\n",
       "       -3.2925527, -5.3028083, -4.131873 , -2.5948722, -3.4582655,\n",
       "       -3.8869991, -2.8953946, -2.3300664, -3.914299 , -3.084533 ,\n",
       "       -2.467959 , -2.467959 , -2.8770254, -3.7362592, -4.123514 ],\n",
       "      dtype=float32)"
      ]
     },
     "execution_count": 21,
     "metadata": {},
     "output_type": "execute_result"
    }
   ],
   "source": [
    "similarity.cpu().numpy()"
   ]
  },
  {
   "cell_type": "code",
   "execution_count": 22,
   "metadata": {},
   "outputs": [],
   "source": [
    "ss_sim['rerank_similarity'] = similarity.cpu().numpy()"
   ]
  },
  {
   "cell_type": "code",
   "execution_count": 29,
   "metadata": {},
   "outputs": [
    {
     "data": {
      "text/plain": [
       "['Please contact the nursing department administrative assistant and request an advisor as needed. Students are encouraged to meet with their advisor for mentoring and advisement regarding their nursing career as they progress through the program. Students may communicate with faculty by email or by office phone.',\n",
       " 'Letter to All Prospective Nursing Students for the Traditional Bachelor of Science in Nursing (BSN) Program. (Please note this does not apply to students accepted into the RN-BSN program or the Bachelor’s to BSN: Accelerated Degree Summer Start Program). Please read this letter carefully.',\n",
       " 'Our 100% online Doctorate of Nursing Program is the first doctorate level nursing program in the SUNY comprehensive sector and serves as the most advanced degree in the field of nursing.',\n",
       " 'Our 100% online Doctorate of Nursing Program is the first doctorate level nursing program in the SUNY comprehensive sector and serves as the most advanced degree in the field of nursing.',\n",
       " 'My name is Dr. Kathleen Peterson and I’m a Professor and Chairperson in the Department of Nursing. We offer a variety of programs to meet the needs of many different groups of students interested in becoming nurses. Our traditional undergraduate program is a four- year program for students interested in becoming nurses.',\n",
       " 'Questions regarding this program may be directed to fnp@brockport.edu or rlockett@brockport.edu . There is a plethora of opportunities for students in the nursing program. We offer many scholarships and awards, one specifically for Nursing Intents involved in the Army ROTC program.',\n",
       " 'The Department of Nursing is a department in the School of Education, Health, and Human Services. The upper division nursing program was initiated in 1968 and graduated its first class of three students in 1972 with a Bachelor of Science in Nursing. The National League for Nursing granted initial accreditation to the nursing program in 1977.',\n",
       " 'For new and prospective students, it is important to understand how the Nursing department handles applications and progression into the traditional nursing program. While acceptance to Brockport is a huge step, it does not necessarily mean progression into the Nursing program.',\n",
       " 'The world needs more nurses. Our degrees produce some of the best in the field. With entry points to our programs at every level of college education, you can start saving lives now. Our programs prepare professional nurses who can meet the health care needs of a culturally diverse society.',\n",
       " 'Reviewed 10/2/22. Our graduates will be poised to lead and to make significant contributions to our patients and communities within present and future health care environments. Reviewed 10/2/22. Nursing is a profession with the primary purpose of facilitating an optimal level of wellness through purposeful interventions.']"
      ]
     },
     "execution_count": 29,
     "metadata": {},
     "output_type": "execute_result"
    }
   ],
   "source": [
    "ss_sim.sort_values(by='rerank_similarity', ascending=False).head(10)['text'].to_list()"
   ]
  },
  {
   "cell_type": "code",
   "execution_count": null,
   "metadata": {},
   "outputs": [],
   "source": []
  }
 ],
 "metadata": {
  "kernelspec": {
   "display_name": "thesis",
   "language": "python",
   "name": "python3"
  },
  "language_info": {
   "codemirror_mode": {
    "name": "ipython",
    "version": 3
   },
   "file_extension": ".py",
   "mimetype": "text/x-python",
   "name": "python",
   "nbconvert_exporter": "python",
   "pygments_lexer": "ipython3",
   "version": "3.11.4"
  }
 },
 "nbformat": 4,
 "nbformat_minor": 2
}
