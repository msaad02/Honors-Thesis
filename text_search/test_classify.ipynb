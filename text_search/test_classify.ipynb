{
 "cells": [
  {
   "cell_type": "code",
   "execution_count": 1,
   "metadata": {},
   "outputs": [
    {
     "name": "stderr",
     "output_type": "stream",
     "text": [
      "2024-01-02 14:13:22.709016: I tensorflow/core/util/port.cc:110] oneDNN custom operations are on. You may see slightly different numerical results due to floating-point round-off errors from different computation orders. To turn them off, set the environment variable `TF_ENABLE_ONEDNN_OPTS=0`.\n",
      "2024-01-02 14:13:22.731098: I tensorflow/core/platform/cpu_feature_guard.cc:182] This TensorFlow binary is optimized to use available CPU instructions in performance-critical operations.\n",
      "To enable the following instructions: AVX2 AVX_VNNI FMA, in other operations, rebuild TensorFlow with the appropriate compiler flags.\n",
      "2024-01-02 14:13:23.169157: W tensorflow/compiler/tf2tensorrt/utils/py_utils.cc:38] TF-TRT Warning: Could not find TensorRT\n"
     ]
    }
   ],
   "source": [
    "from text_retriever import TextRetriever\n",
    "\n",
    "classifier = TextRetriever()"
   ]
  },
  {
   "cell_type": "code",
   "execution_count": 2,
   "metadata": {},
   "outputs": [],
   "source": [
    "question = \"What would I learn in a math major?\"\n",
    "n_top_semantic_search_results = 100"
   ]
  },
  {
   "cell_type": "code",
   "execution_count": 3,
   "metadata": {},
   "outputs": [
    {
     "data": {
      "text/plain": [
       "{'main_categories': ['academics'], 'subcategories': ['academics-mathematics']}"
      ]
     },
     "execution_count": 3,
     "metadata": {},
     "output_type": "execute_result"
    }
   ],
   "source": [
    "classifier._get_text_retrieval_places(question)"
   ]
  },
  {
   "cell_type": "code",
   "execution_count": 4,
   "metadata": {},
   "outputs": [
    {
     "data": {
      "text/html": [
       "<div>\n",
       "<style scoped>\n",
       "    .dataframe tbody tr th:only-of-type {\n",
       "        vertical-align: middle;\n",
       "    }\n",
       "\n",
       "    .dataframe tbody tr th {\n",
       "        vertical-align: top;\n",
       "    }\n",
       "\n",
       "    .dataframe thead th {\n",
       "        text-align: right;\n",
       "    }\n",
       "</style>\n",
       "<table border=\"1\" class=\"dataframe\">\n",
       "  <thead>\n",
       "    <tr style=\"text-align: right;\">\n",
       "      <th></th>\n",
       "      <th>text</th>\n",
       "      <th>semantic_similarity</th>\n",
       "    </tr>\n",
       "  </thead>\n",
       "  <tbody>\n",
       "    <tr>\n",
       "      <th>0</th>\n",
       "      <td>It sets you up for success in business, teachi...</td>\n",
       "      <td>0.727160</td>\n",
       "    </tr>\n",
       "    <tr>\n",
       "      <th>1</th>\n",
       "      <td>The major and minor programs in mathematics ar...</td>\n",
       "      <td>0.702699</td>\n",
       "    </tr>\n",
       "    <tr>\n",
       "      <th>2</th>\n",
       "      <td>A major or minor in mathematics is a natural a...</td>\n",
       "      <td>0.698190</td>\n",
       "    </tr>\n",
       "    <tr>\n",
       "      <th>3</th>\n",
       "      <td>How does this growing interest in statistics a...</td>\n",
       "      <td>0.688856</td>\n",
       "    </tr>\n",
       "  </tbody>\n",
       "</table>\n",
       "</div>"
      ],
      "text/plain": [
       "                                                text  semantic_similarity\n",
       "0  It sets you up for success in business, teachi...             0.727160\n",
       "1  The major and minor programs in mathematics ar...             0.702699\n",
       "2  A major or minor in mathematics is a natural a...             0.698190\n",
       "3  How does this growing interest in statistics a...             0.688856"
      ]
     },
     "execution_count": 4,
     "metadata": {},
     "output_type": "execute_result"
    }
   ],
   "source": [
    "semantic_results = classifier._semantic_search(question, top_n=n_top_semantic_search_results).head(4)\n",
    "semantic_results"
   ]
  },
  {
   "cell_type": "code",
   "execution_count": 5,
   "metadata": {},
   "outputs": [
    {
     "data": {
      "text/plain": [
       "['It sets you up for success in business, teaching, computing, government, law, engineering, the sciences, and medicine. Students in the mathematics major pursue either a Bachelor of Arts or a Bachelor of Science degree, while exploring both the theory and the practice of math.Curriculum & Learning Outcomes.',\n",
       " 'The major and minor programs in mathematics are designed to provide the knowledge and skills necessary to pursue graduate study or to support career goals in a range of professions. Recent graduates who have majored in mathematics have found rewarding careers in business, teaching, computing, government, law, engineering, and medicine.',\n",
       " 'A major or minor in mathematics is a natural adjunct to the study of physics, chemistry, biology, earth science, business, economics, computer science or the social sciences. The department offers a Bachelor of Science (BS) and Master of Arts (MA) degree in Mathematics. In addition, we offer a combined BS/MA program.',\n",
       " 'How does this growing interest in statistics and data science fit in with the mathematics curriculum? Should our math majors be exposed to data analysis? If so, what course or courses should they see? What should those courses look like? What recommendations do the national organizations make?']"
      ]
     },
     "execution_count": 5,
     "metadata": {},
     "output_type": "execute_result"
    }
   ],
   "source": [
    "semantic_results['text'].to_list()"
   ]
  },
  {
   "cell_type": "code",
   "execution_count": 6,
   "metadata": {},
   "outputs": [
    {
     "data": {
      "text/html": [
       "<div>\n",
       "<style scoped>\n",
       "    .dataframe tbody tr th:only-of-type {\n",
       "        vertical-align: middle;\n",
       "    }\n",
       "\n",
       "    .dataframe tbody tr th {\n",
       "        vertical-align: top;\n",
       "    }\n",
       "\n",
       "    .dataframe thead th {\n",
       "        text-align: right;\n",
       "    }\n",
       "</style>\n",
       "<table border=\"1\" class=\"dataframe\">\n",
       "  <thead>\n",
       "    <tr style=\"text-align: right;\">\n",
       "      <th></th>\n",
       "      <th>text</th>\n",
       "      <th>semantic_similarity</th>\n",
       "      <th>rerank_similarity</th>\n",
       "    </tr>\n",
       "  </thead>\n",
       "  <tbody>\n",
       "    <tr>\n",
       "      <th>0</th>\n",
       "      <td>The major and minor programs in mathematics ar...</td>\n",
       "      <td>0.702699</td>\n",
       "      <td>4.233122</td>\n",
       "    </tr>\n",
       "    <tr>\n",
       "      <th>1</th>\n",
       "      <td>A major or minor in mathematics is a natural a...</td>\n",
       "      <td>0.698190</td>\n",
       "      <td>3.730787</td>\n",
       "    </tr>\n",
       "    <tr>\n",
       "      <th>2</th>\n",
       "      <td>To complete a major in mathematics, students t...</td>\n",
       "      <td>0.664996</td>\n",
       "      <td>2.983075</td>\n",
       "    </tr>\n",
       "    <tr>\n",
       "      <th>3</th>\n",
       "      <td>You can elect to study in one of three tracks:...</td>\n",
       "      <td>0.617569</td>\n",
       "      <td>2.564683</td>\n",
       "    </tr>\n",
       "  </tbody>\n",
       "</table>\n",
       "</div>"
      ],
      "text/plain": [
       "                                                text  semantic_similarity  \\\n",
       "0  The major and minor programs in mathematics ar...             0.702699   \n",
       "1  A major or minor in mathematics is a natural a...             0.698190   \n",
       "2  To complete a major in mathematics, students t...             0.664996   \n",
       "3  You can elect to study in one of three tracks:...             0.617569   \n",
       "\n",
       "   rerank_similarity  \n",
       "0           4.233122  \n",
       "1           3.730787  \n",
       "2           2.983075  \n",
       "3           2.564683  "
      ]
     },
     "execution_count": 6,
     "metadata": {},
     "output_type": "execute_result"
    }
   ],
   "source": [
    "results = classifier._rerank(question, top_n=n_top_semantic_search_results).head(4)\n",
    "results"
   ]
  },
  {
   "cell_type": "code",
   "execution_count": 7,
   "metadata": {},
   "outputs": [
    {
     "data": {
      "text/plain": [
       "['The major and minor programs in mathematics are designed to provide the knowledge and skills necessary to pursue graduate study or to support career goals in a range of professions. Recent graduates who have majored in mathematics have found rewarding careers in business, teaching, computing, government, law, engineering, and medicine.',\n",
       " 'A major or minor in mathematics is a natural adjunct to the study of physics, chemistry, biology, earth science, business, economics, computer science or the social sciences. The department offers a Bachelor of Science (BS) and Master of Arts (MA) degree in Mathematics. In addition, we offer a combined BS/MA program.',\n",
       " 'To complete a major in mathematics, students take nine required courses that provide a thorough foundation in several central areas of mathematics, a course in structured programming, and a minimum of three advanced courses chosen to give special depth in at least one area.',\n",
       " 'You can elect to study in one of three tracks: Traditional, Actuarial Mathematics, or Statistics. Each prepares you to use math to model and analyze real-world problems. The Wall Street Journal consistently ranks mathematician at the top of “best jobs” lists.']"
      ]
     },
     "execution_count": 7,
     "metadata": {},
     "output_type": "execute_result"
    }
   ],
   "source": [
    "results['text'].to_list()"
   ]
  },
  {
   "cell_type": "code",
   "execution_count": 8,
   "metadata": {},
   "outputs": [],
   "source": [
    "del classifier"
   ]
  },
  {
   "cell_type": "markdown",
   "metadata": {},
   "source": [
    "# How is the classifier doing?\n",
    "\n",
    "Lets try with it on and off to get a feel for how it is doing."
   ]
  },
  {
   "cell_type": "code",
   "execution_count": 9,
   "metadata": {},
   "outputs": [],
   "source": [
    "from text_retriever import TextRetriever\n",
    "\n",
    "classifier_no_classifier = TextRetriever(question_classifier=False)\n",
    "classifier_yes_classifier = TextRetriever(question_classifier=True)"
   ]
  },
  {
   "cell_type": "code",
   "execution_count": 10,
   "metadata": {},
   "outputs": [],
   "source": [
    "question = \"what mental health services are available for students?\""
   ]
  },
  {
   "cell_type": "code",
   "execution_count": 11,
   "metadata": {},
   "outputs": [
    {
     "data": {
      "text/plain": [
       "['More information regarding psychiatric services is available on request. Students seeking medication refills or experiencing an urgent need for psychiatric evaluation will be referred or otherwise assisted according to their needs.',\n",
       " 'The Counseling Center provides a goal focused therapy model to assist students who are experiencing mental health concerns and needs that are interfering with their ability to be successful in school and/or with their individual personal growth, functioning and adjustment.',\n",
       " 'The Counseling Center provides a goal focused therapy model to assist students who are experiencing mental health concerns and needs that are interfering with their ability to be successful in school and/or with their individual personal growth, functioning and adjustment.']"
      ]
     },
     "execution_count": 11,
     "metadata": {},
     "output_type": "execute_result"
    }
   ],
   "source": [
    "with_classifier = classifier_yes_classifier._rerank(question, top_n=100).head(10)\n",
    "with_classifier['text'].to_list()[0:3]"
   ]
  },
  {
   "cell_type": "code",
   "execution_count": 12,
   "metadata": {},
   "outputs": [
    {
     "data": {
      "text/html": [
       "<div>\n",
       "<style scoped>\n",
       "    .dataframe tbody tr th:only-of-type {\n",
       "        vertical-align: middle;\n",
       "    }\n",
       "\n",
       "    .dataframe tbody tr th {\n",
       "        vertical-align: top;\n",
       "    }\n",
       "\n",
       "    .dataframe thead th {\n",
       "        text-align: right;\n",
       "    }\n",
       "</style>\n",
       "<table border=\"1\" class=\"dataframe\">\n",
       "  <thead>\n",
       "    <tr style=\"text-align: right;\">\n",
       "      <th></th>\n",
       "      <th>text</th>\n",
       "      <th>semantic_similarity</th>\n",
       "      <th>rerank_similarity</th>\n",
       "    </tr>\n",
       "  </thead>\n",
       "  <tbody>\n",
       "    <tr>\n",
       "      <th>0</th>\n",
       "      <td>More information regarding psychiatric service...</td>\n",
       "      <td>0.729194</td>\n",
       "      <td>1.179050</td>\n",
       "    </tr>\n",
       "    <tr>\n",
       "      <th>1</th>\n",
       "      <td>The Counseling Center provides a goal focused ...</td>\n",
       "      <td>0.671862</td>\n",
       "      <td>0.659906</td>\n",
       "    </tr>\n",
       "    <tr>\n",
       "      <th>2</th>\n",
       "      <td>The Counseling Center provides a goal focused ...</td>\n",
       "      <td>0.671862</td>\n",
       "      <td>0.659906</td>\n",
       "    </tr>\n",
       "    <tr>\n",
       "      <th>3</th>\n",
       "      <td>These services are available at the cost of $1...</td>\n",
       "      <td>0.657228</td>\n",
       "      <td>0.650025</td>\n",
       "    </tr>\n",
       "    <tr>\n",
       "      <th>4</th>\n",
       "      <td>Students are evaluated individually and the pr...</td>\n",
       "      <td>0.648248</td>\n",
       "      <td>0.545389</td>\n",
       "    </tr>\n",
       "    <tr>\n",
       "      <th>5</th>\n",
       "      <td>Three essential roles for advancing the educat...</td>\n",
       "      <td>0.685089</td>\n",
       "      <td>-0.035548</td>\n",
       "    </tr>\n",
       "    <tr>\n",
       "      <th>6</th>\n",
       "      <td>Recommendations may include receiving services...</td>\n",
       "      <td>0.612455</td>\n",
       "      <td>-0.185482</td>\n",
       "    </tr>\n",
       "    <tr>\n",
       "      <th>7</th>\n",
       "      <td>College staff will provide support services an...</td>\n",
       "      <td>0.624334</td>\n",
       "      <td>-0.293312</td>\n",
       "    </tr>\n",
       "    <tr>\n",
       "      <th>8</th>\n",
       "      <td>Students may be referred any time by their CC ...</td>\n",
       "      <td>0.663310</td>\n",
       "      <td>-0.694186</td>\n",
       "    </tr>\n",
       "    <tr>\n",
       "      <th>9</th>\n",
       "      <td>As described above, brief therapy is appropria...</td>\n",
       "      <td>0.621730</td>\n",
       "      <td>-1.223735</td>\n",
       "    </tr>\n",
       "  </tbody>\n",
       "</table>\n",
       "</div>"
      ],
      "text/plain": [
       "                                                text  semantic_similarity  \\\n",
       "0  More information regarding psychiatric service...             0.729194   \n",
       "1  The Counseling Center provides a goal focused ...             0.671862   \n",
       "2  The Counseling Center provides a goal focused ...             0.671862   \n",
       "3  These services are available at the cost of $1...             0.657228   \n",
       "4  Students are evaluated individually and the pr...             0.648248   \n",
       "5  Three essential roles for advancing the educat...             0.685089   \n",
       "6  Recommendations may include receiving services...             0.612455   \n",
       "7  College staff will provide support services an...             0.624334   \n",
       "8  Students may be referred any time by their CC ...             0.663310   \n",
       "9  As described above, brief therapy is appropria...             0.621730   \n",
       "\n",
       "   rerank_similarity  \n",
       "0           1.179050  \n",
       "1           0.659906  \n",
       "2           0.659906  \n",
       "3           0.650025  \n",
       "4           0.545389  \n",
       "5          -0.035548  \n",
       "6          -0.185482  \n",
       "7          -0.293312  \n",
       "8          -0.694186  \n",
       "9          -1.223735  "
      ]
     },
     "execution_count": 12,
     "metadata": {},
     "output_type": "execute_result"
    }
   ],
   "source": [
    "with_classifier"
   ]
  },
  {
   "cell_type": "code",
   "execution_count": 13,
   "metadata": {},
   "outputs": [
    {
     "data": {
      "text/plain": [
       "['Such actions should be documented and pursued by the instructor in the same way as described for single or multiple event disruptions. Students will be referred to the Health and Counseling Service. Student behavioral issues may be referred to the Student Behavioral Consultant Team for investigation.',\n",
       " 'SUNY Brockport provides a range of support services and resources to address the medical and mental health needs of students (refer to: Links to Related Procedures and Information – near the end of this policy). At times, students may experience medical and/or mental health issues that impact their behaviors and/or disrupt the campus community.',\n",
       " 'Students may be asked to sign a Release of Information authorizing the Director of the Hazen Center for Integrated Care and/or the Associate Director of the Counseling Center to communicate with their Licensed Mental Health Provider(s), including the psychiatrist and therapist(s) primarily involved in their care; and.']"
      ]
     },
     "execution_count": 13,
     "metadata": {},
     "output_type": "execute_result"
    }
   ],
   "source": [
    "without_classifier = classifier_no_classifier._rerank(question, top_n=100).head(10)\n",
    "without_classifier['text'].to_list()[0:3]"
   ]
  },
  {
   "cell_type": "code",
   "execution_count": 14,
   "metadata": {},
   "outputs": [],
   "source": [
    "del classifier_no_classifier\n",
    "del classifier_yes_classifier"
   ]
  },
  {
   "cell_type": "markdown",
   "metadata": {},
   "source": [
    "# Expected Usage\n",
    "\n",
    "The above is mostly for development. This is to test the real usage of the retriever system."
   ]
  },
  {
   "cell_type": "code",
   "execution_count": 15,
   "metadata": {},
   "outputs": [],
   "source": [
    "from text_retriever import TextRetriever\n",
    "\n",
    "classifier = TextRetriever()"
   ]
  },
  {
   "cell_type": "code",
   "execution_count": 21,
   "metadata": {},
   "outputs": [
    {
     "name": "stdout",
     "output_type": "stream",
     "text": [
      "Students who have questions regarding a Special or Unusual Circumstance are encouraged to call the Financial Aid Office at 585-395-2501, to speak with a member of our staff about possible appeal options based on their situation.\n",
      "\n",
      "See a Financial Aid Advisor to review your situation. If you leave in the fall, remember that spring aid is canceled. If you plan to return in the spring, contact Financial Aid concerning reactivation of your aid. Since we have limited funds, reinstatement of all aid is not automatic.\n",
      "\n",
      "If you are in need of financial aid, please contact the Financial Aid Office before you apply\n"
     ]
    }
   ],
   "source": [
    "output = classifier.retrieve(\n",
    "    question=\"Who can I contact about financial aid?\",\n",
    "    metadata=False,\n",
    "    top_n=3,\n",
    "    top_n_semantic=50\n",
    ")\n",
    "\n",
    "print(output)"
   ]
  }
 ],
 "metadata": {
  "kernelspec": {
   "display_name": "thesis",
   "language": "python",
   "name": "python3"
  },
  "language_info": {
   "codemirror_mode": {
    "name": "ipython",
    "version": 3
   },
   "file_extension": ".py",
   "mimetype": "text/x-python",
   "name": "python",
   "nbconvert_exporter": "python",
   "pygments_lexer": "ipython3",
   "version": "3.11.4"
  }
 },
 "nbformat": 4,
 "nbformat_minor": 2
}
