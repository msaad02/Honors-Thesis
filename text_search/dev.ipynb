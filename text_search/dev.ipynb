{
 "cells": [
  {
   "cell_type": "code",
   "execution_count": 1,
   "metadata": {},
   "outputs": [
    {
     "data": {
      "text/plain": [
       "{'main_categories': ['academics'], 'sub_categories': ['academics|mathematics']}"
      ]
     },
     "execution_count": 1,
     "metadata": {},
     "output_type": "execute_result"
    }
   ],
   "source": [
    "from category_classifier import QuestionClassifier\n",
    "classifier = QuestionClassifier()\n",
    "classifier.predict('What will I learn in a math major?')"
   ]
  },
  {
   "cell_type": "code",
   "execution_count": 4,
   "metadata": {},
   "outputs": [
    {
     "data": {
      "text/plain": [
       "{'support': 0.1069,\n",
       " 'research-foundation': 0.0043,\n",
       " 'admissions': 0.0538,\n",
       " 'alumni': 0.2675,\n",
       " 'life': 0.0345,\n",
       " 'live': 0.0842,\n",
       " 'scholarships-aid': 0.036,\n",
       " 'academics': 0.231,\n",
       " 'about': 0.0964,\n",
       " 'graduate': 0.0685,\n",
       " 'bsg': 0.0047,\n",
       " 'library': 0.0122}"
      ]
     },
     "execution_count": 4,
     "metadata": {},
     "output_type": "execute_result"
    }
   ],
   "source": [
    "classifier.predict('Is Brockport a good school?', return_probabilities=True)['main_probs']"
   ]
  },
  {
   "cell_type": "code",
   "execution_count": 1,
   "metadata": {},
   "outputs": [],
   "source": [
    "import docker"
   ]
  },
  {
   "cell_type": "code",
   "execution_count": 3,
   "metadata": {},
   "outputs": [
    {
     "data": {
      "text/plain": [
       "<docker.client.DockerClient at 0x7f8cbe47e790>"
      ]
     },
     "execution_count": 3,
     "metadata": {},
     "output_type": "execute_result"
    }
   ],
   "source": [
    "client = docker.from_env()\n",
    "client"
   ]
  },
  {
   "cell_type": "code",
   "execution_count": 4,
   "metadata": {},
   "outputs": [],
   "source": [
    "container = client.containers.get(\"typesense_container\")\n",
    "container.stop()\n",
    "container.remove()"
   ]
  }
 ],
 "metadata": {
  "kernelspec": {
   "display_name": "thesis",
   "language": "python",
   "name": "python3"
  },
  "language_info": {
   "codemirror_mode": {
    "name": "ipython",
    "version": 3
   },
   "file_extension": ".py",
   "mimetype": "text/x-python",
   "name": "python",
   "nbconvert_exporter": "python",
   "pygments_lexer": "ipython3",
   "version": "3.11.4"
  }
 },
 "nbformat": 4,
 "nbformat_minor": 2
}
