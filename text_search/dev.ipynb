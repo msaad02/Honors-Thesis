{
 "cells": [
  {
   "cell_type": "code",
   "execution_count": 133,
   "metadata": {},
   "outputs": [],
   "source": [
    "from text_retriever_class import TextRetriever\n",
    "\n",
    "semantic = TextRetriever(print_categories=False)"
   ]
  },
  {
   "cell_type": "code",
   "execution_count": 134,
   "metadata": {},
   "outputs": [
    {
     "data": {
      "text/plain": [
       "\"What are my core clases? I'm a math major.\""
      ]
     },
     "execution_count": 134,
     "metadata": {},
     "output_type": "execute_result"
    }
   ],
   "source": [
    "question"
   ]
  },
  {
   "cell_type": "code",
   "execution_count": 141,
   "metadata": {},
   "outputs": [
    {
     "name": "stdout",
     "output_type": "stream",
     "text": [
      "49.5 ms ± 6.79 ms per loop (mean ± std. dev. of 7 runs, 10 loops each)\n"
     ]
    }
   ],
   "source": [
    "%%timeit\n",
    "\n",
    "semantic.retrieve(\n",
    "    question=question,\n",
    "    type=\"semantic\",\n",
    "    use_classifier=False,\n",
    "    top_n=1\n",
    ")"
   ]
  },
  {
   "cell_type": "code",
   "execution_count": 130,
   "metadata": {},
   "outputs": [
    {
     "name": "stdout",
     "output_type": "stream",
     "text": [
      "Selected 'no categorization' - continuing with searching all categories...\n"
     ]
    },
    {
     "data": {
      "text/plain": [
       "'To complete a major in mathematics, students take nine required courses that provide a thorough foundation in several central areas of mathematics, a course in structured programming, and a minimum of three advanced courses chosen to give special depth in at least one area.'"
      ]
     },
     "execution_count": 130,
     "metadata": {},
     "output_type": "execute_result"
    }
   ],
   "source": [
    "semantic.retrieve(\n",
    "    question=question,\n",
    "    type=\"semantic_rerank\",\n",
    "    use_classifier=False,\n",
    "    top_n=1\n",
    ")"
   ]
  },
  {
   "cell_type": "code",
   "execution_count": 131,
   "metadata": {},
   "outputs": [
    {
     "name": "stdout",
     "output_type": "stream",
     "text": [
      "{'main_categories': ['academics'], 'sub_categories': ['academics|mathematics']}\n"
     ]
    },
    {
     "data": {
      "text/plain": [
       "'To complete a major in mathematics, students take nine required courses that provide a thorough foundation in several central areas of mathematics, a course in structured programming, and a minimum of three advanced courses chosen to give special depth in at least one area.'"
      ]
     },
     "execution_count": 131,
     "metadata": {},
     "output_type": "execute_result"
    }
   ],
   "source": [
    "semantic.retrieve(\n",
    "    question=question,\n",
    "    type=\"semantic_rerank\",\n",
    "    use_classifier=True,\n",
    "    top_n=1\n",
    ")"
   ]
  },
  {
   "cell_type": "code",
   "execution_count": 18,
   "metadata": {},
   "outputs": [
    {
     "name": "stdout",
     "output_type": "stream",
     "text": [
      "Docker container not found...\n",
      "Docker container is not running. Starting it now...\n",
      "Docker container started.\n",
      "\n"
     ]
    }
   ],
   "source": [
    "from text_retriever_class import TypesenseRetriever\n",
    "\n",
    "typesense = TypesenseRetriever(print_categories=True)"
   ]
  },
  {
   "cell_type": "code",
   "execution_count": 24,
   "metadata": {},
   "outputs": [],
   "source": [
    "question=\"How can I apply to Brockport for an undergraduate degree?\"\n",
    "alpha=1"
   ]
  },
  {
   "cell_type": "code",
   "execution_count": 32,
   "metadata": {},
   "outputs": [
    {
     "name": "stdout",
     "output_type": "stream",
     "text": [
      "{'main_categories': ['admissions'], 'sub_categories': []}\n"
     ]
    },
    {
     "data": {
      "text/plain": [
       "'Brockport operates on a rolling admissions basis, which means we make decisions on applications as they become complete. First-time students who meet academic and income guidelines are eligible to apply.'"
      ]
     },
     "execution_count": 32,
     "metadata": {},
     "output_type": "execute_result"
    }
   ],
   "source": [
    "typesense.retrieve(\n",
    "    question=question,\n",
    "    top_n=1,\n",
    "    alpha=0.8,\n",
    "    use_classifier=True\n",
    ")"
   ]
  },
  {
   "cell_type": "code",
   "execution_count": 128,
   "metadata": {},
   "outputs": [
    {
     "name": "stdout",
     "output_type": "stream",
     "text": [
      "{'main_categories': ['academics'], 'sub_categories': ['academics|mathematics']}\n"
     ]
    },
    {
     "data": {
      "text/plain": [
       "'Our program meets the needs of a broad range of students by providing a solid foundation in the major areas of mathematics, an appreciation for the structures and theories of advanced mathematics, and a deeper understanding of the role of mathematics in applications. The program is structured around the three main areas of algebra, analysis, and statistics, and allows you to adapt your education to your specific career goals.'"
      ]
     },
     "execution_count": 128,
     "metadata": {},
     "output_type": "execute_result"
    }
   ],
   "source": [
    "typesense.retrieve(\n",
    "    question=question,\n",
    "    top_n=1,\n",
    "    alpha=alpha,\n",
    "    use_classifier=True\n",
    ")"
   ]
  },
  {
   "cell_type": "code",
   "execution_count": null,
   "metadata": {},
   "outputs": [],
   "source": []
  },
  {
   "cell_type": "code",
   "execution_count": null,
   "metadata": {},
   "outputs": [],
   "source": []
  },
  {
   "cell_type": "code",
   "execution_count": 1,
   "metadata": {},
   "outputs": [
    {
     "data": {
      "text/plain": [
       "{'main_categories': ['academics'], 'sub_categories': ['academics|mathematics']}"
      ]
     },
     "execution_count": 1,
     "metadata": {},
     "output_type": "execute_result"
    }
   ],
   "source": [
    "from category_classifier import QuestionClassifier\n",
    "classifier = QuestionClassifier()\n",
    "classifier.predict('What will I learn in a math major?')"
   ]
  },
  {
   "cell_type": "code",
   "execution_count": 4,
   "metadata": {},
   "outputs": [
    {
     "data": {
      "text/plain": [
       "{'support': 0.1069,\n",
       " 'research-foundation': 0.0043,\n",
       " 'admissions': 0.0538,\n",
       " 'alumni': 0.2675,\n",
       " 'life': 0.0345,\n",
       " 'live': 0.0842,\n",
       " 'scholarships-aid': 0.036,\n",
       " 'academics': 0.231,\n",
       " 'about': 0.0964,\n",
       " 'graduate': 0.0685,\n",
       " 'bsg': 0.0047,\n",
       " 'library': 0.0122}"
      ]
     },
     "execution_count": 4,
     "metadata": {},
     "output_type": "execute_result"
    }
   ],
   "source": [
    "classifier.predict('Is Brockport a good school?', return_probabilities=True)['main_probs']"
   ]
  },
  {
   "cell_type": "code",
   "execution_count": 1,
   "metadata": {},
   "outputs": [],
   "source": [
    "import docker"
   ]
  },
  {
   "cell_type": "code",
   "execution_count": 3,
   "metadata": {},
   "outputs": [
    {
     "data": {
      "text/plain": [
       "<docker.client.DockerClient at 0x7f8cbe47e790>"
      ]
     },
     "execution_count": 3,
     "metadata": {},
     "output_type": "execute_result"
    }
   ],
   "source": [
    "client = docker.from_env()\n",
    "client"
   ]
  },
  {
   "cell_type": "code",
   "execution_count": 4,
   "metadata": {},
   "outputs": [],
   "source": [
    "container = client.containers.get(\"typesense_container\")\n",
    "container.stop()\n",
    "container.remove()"
   ]
  },
  {
   "cell_type": "markdown",
   "metadata": {},
   "source": [
    "# Rework main classifier"
   ]
  },
  {
   "cell_type": "code",
   "execution_count": 13,
   "metadata": {},
   "outputs": [],
   "source": [
    "from sklearn.feature_extraction.text import CountVectorizer\n",
    "from sklearn.metrics import accuracy_score, confusion_matrix, classification_report\n",
    "from torch.utils.data import TensorDataset, DataLoader\n",
    "from datasets import load_dataset\n",
    "import matplotlib.pyplot as plt\n",
    "from copy import deepcopy\n",
    "import torch.nn as nn\n",
    "import pandas as pd\n",
    "import numpy as np\n",
    "import shutil\n",
    "import torch\n",
    "import joblib\n",
    "import json\n",
    "import os\n",
    "\n",
    "# Set default device based on whether CUDA is available\n",
    "device = torch.device('cuda' if torch.cuda.is_available() else 'cpu')\n",
    "\n",
    "dataset = load_dataset(\"msaad02/categorized-data\", split=\"train\")\n",
    "category_df = dataset.to_pandas()\n",
    "\n",
    "qa_df = pd.concat([\n",
    "    load_dataset(\"msaad02/brockport-gpt-4-qa\", split=\"train\").to_pandas(),\n",
    "    load_dataset(\"msaad02/brockport-gpt-3.5-qa\", split=\"train\").to_pandas()\n",
    "])\n",
    "\n",
    "df = pd.merge(qa_df, category_df[[\"url\", \"category\", \"subcategory\"]], on=\"url\", how=\"left\")\n"
   ]
  },
  {
   "cell_type": "code",
   "execution_count": 23,
   "metadata": {},
   "outputs": [
    {
     "data": {
      "text/plain": [
       "1935.6666666666667"
      ]
     },
     "execution_count": 23,
     "metadata": {},
     "output_type": "execute_result"
    }
   ],
   "source": [
    "df['category'].value_counts().mean()"
   ]
  },
  {
   "cell_type": "code",
   "execution_count": 10,
   "metadata": {},
   "outputs": [],
   "source": [
    "\n",
    "df.dropna(subset=['category'], inplace=True)"
   ]
  },
  {
   "cell_type": "code",
   "execution_count": 12,
   "metadata": {},
   "outputs": [
    {
     "data": {
      "text/plain": [
       "0             live\n",
       "1        academics\n",
       "2             life\n",
       "3             life\n",
       "4        academics\n",
       "           ...    \n",
       "23233      support\n",
       "23234      support\n",
       "23235      support\n",
       "23236      support\n",
       "23237    academics\n",
       "Name: category, Length: 23228, dtype: object"
      ]
     },
     "execution_count": 12,
     "metadata": {},
     "output_type": "execute_result"
    }
   ],
   "source": [
    "df['category']"
   ]
  },
  {
   "cell_type": "code",
   "execution_count": 14,
   "metadata": {},
   "outputs": [
    {
     "data": {
      "text/html": [
       "<div>\n",
       "<style scoped>\n",
       "    .dataframe tbody tr th:only-of-type {\n",
       "        vertical-align: middle;\n",
       "    }\n",
       "\n",
       "    .dataframe tbody tr th {\n",
       "        vertical-align: top;\n",
       "    }\n",
       "\n",
       "    .dataframe thead th {\n",
       "        text-align: right;\n",
       "    }\n",
       "</style>\n",
       "<table border=\"1\" class=\"dataframe\">\n",
       "  <thead>\n",
       "    <tr style=\"text-align: right;\">\n",
       "      <th></th>\n",
       "      <th>url</th>\n",
       "      <th>question</th>\n",
       "      <th>answer</th>\n",
       "      <th>category</th>\n",
       "      <th>subcategory</th>\n",
       "    </tr>\n",
       "  </thead>\n",
       "  <tbody>\n",
       "    <tr>\n",
       "      <th>0</th>\n",
       "      <td>https://www2.brockport.edu/live/profiles/5447-...</td>\n",
       "      <td>Are there any areas on campus where my service...</td>\n",
       "      <td>SUNY Brockport is committed to ensuring the sa...</td>\n",
       "      <td>live</td>\n",
       "      <td>profiles</td>\n",
       "    </tr>\n",
       "    <tr>\n",
       "      <th>1</th>\n",
       "      <td>https://www2.brockport.edu/academics/sociology...</td>\n",
       "      <td>Are there opportunities for internships or res...</td>\n",
       "      <td>Absolutely! Many of our sociology students com...</td>\n",
       "      <td>academics</td>\n",
       "      <td>sociology</td>\n",
       "    </tr>\n",
       "    <tr>\n",
       "      <th>2</th>\n",
       "      <td>https://www2.brockport.edu/life/residential-li...</td>\n",
       "      <td>What can I expect during the individual interv...</td>\n",
       "      <td>During the individual interview, you'll meet w...</td>\n",
       "      <td>life</td>\n",
       "      <td>residential-life</td>\n",
       "    </tr>\n",
       "    <tr>\n",
       "      <th>3</th>\n",
       "      <td>https://www2.brockport.edu/life/campus-recreat...</td>\n",
       "      <td>How can I sign up for personal training sessio...</td>\n",
       "      <td>You can sign up for personal training sessions...</td>\n",
       "      <td>life</td>\n",
       "      <td>campus-recreation</td>\n",
       "    </tr>\n",
       "    <tr>\n",
       "      <th>4</th>\n",
       "      <td>https://www2.brockport.edu/academics/education...</td>\n",
       "      <td>How can attending the PFSP benefit me as a new...</td>\n",
       "      <td>Attending the PFSP can significantly benefit y...</td>\n",
       "      <td>academics</td>\n",
       "      <td>educational-opportunity-program</td>\n",
       "    </tr>\n",
       "    <tr>\n",
       "      <th>...</th>\n",
       "      <td>...</td>\n",
       "      <td>...</td>\n",
       "      <td>...</td>\n",
       "      <td>...</td>\n",
       "      <td>...</td>\n",
       "    </tr>\n",
       "    <tr>\n",
       "      <th>23233</th>\n",
       "      <td>https://www2.brockport.edu/support/university-...</td>\n",
       "      <td>What are the primary, secondary, and tertiary ...</td>\n",
       "      <td>SUNY Brockport's color palette consists of pri...</td>\n",
       "      <td>support</td>\n",
       "      <td>university-communications</td>\n",
       "    </tr>\n",
       "    <tr>\n",
       "      <th>23234</th>\n",
       "      <td>https://www2.brockport.edu/support/university-...</td>\n",
       "      <td>What are the guidelines for submitting content...</td>\n",
       "      <td>Content must be limited to 250 words and shoul...</td>\n",
       "      <td>support</td>\n",
       "      <td>university-communications</td>\n",
       "    </tr>\n",
       "    <tr>\n",
       "      <th>23235</th>\n",
       "      <td>https://www2.brockport.edu/support/human-resou...</td>\n",
       "      <td>How does SUNY Brockport promote diversity and ...</td>\n",
       "      <td>Diversity and inclusion are core values at SUN...</td>\n",
       "      <td>support</td>\n",
       "      <td>human-resources</td>\n",
       "    </tr>\n",
       "    <tr>\n",
       "      <th>23236</th>\n",
       "      <td>https://www2.brockport.edu/support/human-resou...</td>\n",
       "      <td>How can I apply for tuition assistance at SUNY...</td>\n",
       "      <td>You can apply for tuition assistance through p...</td>\n",
       "      <td>support</td>\n",
       "      <td>human-resources</td>\n",
       "    </tr>\n",
       "    <tr>\n",
       "      <th>23237</th>\n",
       "      <td>https://www2.brockport.edu/academics/special-s...</td>\n",
       "      <td>What is the refund policy for Session I, II, a...</td>\n",
       "      <td>For Session I, II, and III courses, dropping a...</td>\n",
       "      <td>academics</td>\n",
       "      <td>special-sessions</td>\n",
       "    </tr>\n",
       "  </tbody>\n",
       "</table>\n",
       "<p>23238 rows × 5 columns</p>\n",
       "</div>"
      ],
      "text/plain": [
       "                                                     url  \\\n",
       "0      https://www2.brockport.edu/live/profiles/5447-...   \n",
       "1      https://www2.brockport.edu/academics/sociology...   \n",
       "2      https://www2.brockport.edu/life/residential-li...   \n",
       "3      https://www2.brockport.edu/life/campus-recreat...   \n",
       "4      https://www2.brockport.edu/academics/education...   \n",
       "...                                                  ...   \n",
       "23233  https://www2.brockport.edu/support/university-...   \n",
       "23234  https://www2.brockport.edu/support/university-...   \n",
       "23235  https://www2.brockport.edu/support/human-resou...   \n",
       "23236  https://www2.brockport.edu/support/human-resou...   \n",
       "23237  https://www2.brockport.edu/academics/special-s...   \n",
       "\n",
       "                                                question  \\\n",
       "0      Are there any areas on campus where my service...   \n",
       "1      Are there opportunities for internships or res...   \n",
       "2      What can I expect during the individual interv...   \n",
       "3      How can I sign up for personal training sessio...   \n",
       "4      How can attending the PFSP benefit me as a new...   \n",
       "...                                                  ...   \n",
       "23233  What are the primary, secondary, and tertiary ...   \n",
       "23234  What are the guidelines for submitting content...   \n",
       "23235  How does SUNY Brockport promote diversity and ...   \n",
       "23236  How can I apply for tuition assistance at SUNY...   \n",
       "23237  What is the refund policy for Session I, II, a...   \n",
       "\n",
       "                                                  answer   category  \\\n",
       "0      SUNY Brockport is committed to ensuring the sa...       live   \n",
       "1      Absolutely! Many of our sociology students com...  academics   \n",
       "2      During the individual interview, you'll meet w...       life   \n",
       "3      You can sign up for personal training sessions...       life   \n",
       "4      Attending the PFSP can significantly benefit y...  academics   \n",
       "...                                                  ...        ...   \n",
       "23233  SUNY Brockport's color palette consists of pri...    support   \n",
       "23234  Content must be limited to 250 words and shoul...    support   \n",
       "23235  Diversity and inclusion are core values at SUN...    support   \n",
       "23236  You can apply for tuition assistance through p...    support   \n",
       "23237  For Session I, II, and III courses, dropping a...  academics   \n",
       "\n",
       "                           subcategory  \n",
       "0                             profiles  \n",
       "1                            sociology  \n",
       "2                     residential-life  \n",
       "3                    campus-recreation  \n",
       "4      educational-opportunity-program  \n",
       "...                                ...  \n",
       "23233        university-communications  \n",
       "23234        university-communications  \n",
       "23235                  human-resources  \n",
       "23236                  human-resources  \n",
       "23237                 special-sessions  \n",
       "\n",
       "[23238 rows x 5 columns]"
      ]
     },
     "execution_count": 14,
     "metadata": {},
     "output_type": "execute_result"
    }
   ],
   "source": [
    "df"
   ]
  },
  {
   "cell_type": "code",
   "execution_count": 15,
   "metadata": {},
   "outputs": [],
   "source": [
    "# Set default device based on whether CUDA is available\n",
    "device = torch.device('cuda' if torch.cuda.is_available() else 'cpu')\n",
    "\n",
    "dataset = load_dataset(\"msaad02/categorized-data\", split=\"train\")\n",
    "category_df = dataset.to_pandas()\n",
    "\n",
    "qa_df = pd.concat([\n",
    "    load_dataset(\"msaad02/brockport-gpt-4-qa\", split=\"train\").to_pandas(),\n",
    "    load_dataset(\"msaad02/brockport-gpt-3.5-qa\", split=\"train\").to_pandas()\n",
    "])\n",
    "\n",
    "df = pd.merge(qa_df, category_df[[\"url\", \"category\", \"subcategory\"]], on=\"url\", how=\"left\")\n",
    "df = df.dropna(subset=['category'])"
   ]
  },
  {
   "cell_type": "code",
   "execution_count": 16,
   "metadata": {},
   "outputs": [
    {
     "data": {
      "text/html": [
       "<div>\n",
       "<style scoped>\n",
       "    .dataframe tbody tr th:only-of-type {\n",
       "        vertical-align: middle;\n",
       "    }\n",
       "\n",
       "    .dataframe tbody tr th {\n",
       "        vertical-align: top;\n",
       "    }\n",
       "\n",
       "    .dataframe thead th {\n",
       "        text-align: right;\n",
       "    }\n",
       "</style>\n",
       "<table border=\"1\" class=\"dataframe\">\n",
       "  <thead>\n",
       "    <tr style=\"text-align: right;\">\n",
       "      <th></th>\n",
       "      <th>url</th>\n",
       "      <th>question</th>\n",
       "      <th>answer</th>\n",
       "      <th>category</th>\n",
       "      <th>subcategory</th>\n",
       "    </tr>\n",
       "  </thead>\n",
       "  <tbody>\n",
       "    <tr>\n",
       "      <th>0</th>\n",
       "      <td>https://www2.brockport.edu/live/profiles/5447-...</td>\n",
       "      <td>Are there any areas on campus where my service...</td>\n",
       "      <td>SUNY Brockport is committed to ensuring the sa...</td>\n",
       "      <td>live</td>\n",
       "      <td>profiles</td>\n",
       "    </tr>\n",
       "    <tr>\n",
       "      <th>1</th>\n",
       "      <td>https://www2.brockport.edu/academics/sociology...</td>\n",
       "      <td>Are there opportunities for internships or res...</td>\n",
       "      <td>Absolutely! Many of our sociology students com...</td>\n",
       "      <td>academics</td>\n",
       "      <td>sociology</td>\n",
       "    </tr>\n",
       "    <tr>\n",
       "      <th>2</th>\n",
       "      <td>https://www2.brockport.edu/life/residential-li...</td>\n",
       "      <td>What can I expect during the individual interv...</td>\n",
       "      <td>During the individual interview, you'll meet w...</td>\n",
       "      <td>life</td>\n",
       "      <td>residential-life</td>\n",
       "    </tr>\n",
       "    <tr>\n",
       "      <th>3</th>\n",
       "      <td>https://www2.brockport.edu/life/campus-recreat...</td>\n",
       "      <td>How can I sign up for personal training sessio...</td>\n",
       "      <td>You can sign up for personal training sessions...</td>\n",
       "      <td>life</td>\n",
       "      <td>campus-recreation</td>\n",
       "    </tr>\n",
       "    <tr>\n",
       "      <th>4</th>\n",
       "      <td>https://www2.brockport.edu/academics/education...</td>\n",
       "      <td>How can attending the PFSP benefit me as a new...</td>\n",
       "      <td>Attending the PFSP can significantly benefit y...</td>\n",
       "      <td>academics</td>\n",
       "      <td>educational-opportunity-program</td>\n",
       "    </tr>\n",
       "    <tr>\n",
       "      <th>...</th>\n",
       "      <td>...</td>\n",
       "      <td>...</td>\n",
       "      <td>...</td>\n",
       "      <td>...</td>\n",
       "      <td>...</td>\n",
       "    </tr>\n",
       "    <tr>\n",
       "      <th>23233</th>\n",
       "      <td>https://www2.brockport.edu/support/university-...</td>\n",
       "      <td>What are the primary, secondary, and tertiary ...</td>\n",
       "      <td>SUNY Brockport's color palette consists of pri...</td>\n",
       "      <td>support</td>\n",
       "      <td>university-communications</td>\n",
       "    </tr>\n",
       "    <tr>\n",
       "      <th>23234</th>\n",
       "      <td>https://www2.brockport.edu/support/university-...</td>\n",
       "      <td>What are the guidelines for submitting content...</td>\n",
       "      <td>Content must be limited to 250 words and shoul...</td>\n",
       "      <td>support</td>\n",
       "      <td>university-communications</td>\n",
       "    </tr>\n",
       "    <tr>\n",
       "      <th>23235</th>\n",
       "      <td>https://www2.brockport.edu/support/human-resou...</td>\n",
       "      <td>How does SUNY Brockport promote diversity and ...</td>\n",
       "      <td>Diversity and inclusion are core values at SUN...</td>\n",
       "      <td>support</td>\n",
       "      <td>human-resources</td>\n",
       "    </tr>\n",
       "    <tr>\n",
       "      <th>23236</th>\n",
       "      <td>https://www2.brockport.edu/support/human-resou...</td>\n",
       "      <td>How can I apply for tuition assistance at SUNY...</td>\n",
       "      <td>You can apply for tuition assistance through p...</td>\n",
       "      <td>support</td>\n",
       "      <td>human-resources</td>\n",
       "    </tr>\n",
       "    <tr>\n",
       "      <th>23237</th>\n",
       "      <td>https://www2.brockport.edu/academics/special-s...</td>\n",
       "      <td>What is the refund policy for Session I, II, a...</td>\n",
       "      <td>For Session I, II, and III courses, dropping a...</td>\n",
       "      <td>academics</td>\n",
       "      <td>special-sessions</td>\n",
       "    </tr>\n",
       "  </tbody>\n",
       "</table>\n",
       "<p>23228 rows × 5 columns</p>\n",
       "</div>"
      ],
      "text/plain": [
       "                                                     url  \\\n",
       "0      https://www2.brockport.edu/live/profiles/5447-...   \n",
       "1      https://www2.brockport.edu/academics/sociology...   \n",
       "2      https://www2.brockport.edu/life/residential-li...   \n",
       "3      https://www2.brockport.edu/life/campus-recreat...   \n",
       "4      https://www2.brockport.edu/academics/education...   \n",
       "...                                                  ...   \n",
       "23233  https://www2.brockport.edu/support/university-...   \n",
       "23234  https://www2.brockport.edu/support/university-...   \n",
       "23235  https://www2.brockport.edu/support/human-resou...   \n",
       "23236  https://www2.brockport.edu/support/human-resou...   \n",
       "23237  https://www2.brockport.edu/academics/special-s...   \n",
       "\n",
       "                                                question  \\\n",
       "0      Are there any areas on campus where my service...   \n",
       "1      Are there opportunities for internships or res...   \n",
       "2      What can I expect during the individual interv...   \n",
       "3      How can I sign up for personal training sessio...   \n",
       "4      How can attending the PFSP benefit me as a new...   \n",
       "...                                                  ...   \n",
       "23233  What are the primary, secondary, and tertiary ...   \n",
       "23234  What are the guidelines for submitting content...   \n",
       "23235  How does SUNY Brockport promote diversity and ...   \n",
       "23236  How can I apply for tuition assistance at SUNY...   \n",
       "23237  What is the refund policy for Session I, II, a...   \n",
       "\n",
       "                                                  answer   category  \\\n",
       "0      SUNY Brockport is committed to ensuring the sa...       live   \n",
       "1      Absolutely! Many of our sociology students com...  academics   \n",
       "2      During the individual interview, you'll meet w...       life   \n",
       "3      You can sign up for personal training sessions...       life   \n",
       "4      Attending the PFSP can significantly benefit y...  academics   \n",
       "...                                                  ...        ...   \n",
       "23233  SUNY Brockport's color palette consists of pri...    support   \n",
       "23234  Content must be limited to 250 words and shoul...    support   \n",
       "23235  Diversity and inclusion are core values at SUN...    support   \n",
       "23236  You can apply for tuition assistance through p...    support   \n",
       "23237  For Session I, II, and III courses, dropping a...  academics   \n",
       "\n",
       "                           subcategory  \n",
       "0                             profiles  \n",
       "1                            sociology  \n",
       "2                     residential-life  \n",
       "3                    campus-recreation  \n",
       "4      educational-opportunity-program  \n",
       "...                                ...  \n",
       "23233        university-communications  \n",
       "23234        university-communications  \n",
       "23235                  human-resources  \n",
       "23236                  human-resources  \n",
       "23237                 special-sessions  \n",
       "\n",
       "[23228 rows x 5 columns]"
      ]
     },
     "execution_count": 16,
     "metadata": {},
     "output_type": "execute_result"
    }
   ],
   "source": [
    "df"
   ]
  }
 ],
 "metadata": {
  "kernelspec": {
   "display_name": "thesis",
   "language": "python",
   "name": "python3"
  },
  "language_info": {
   "codemirror_mode": {
    "name": "ipython",
    "version": 3
   },
   "file_extension": ".py",
   "mimetype": "text/x-python",
   "name": "python",
   "nbconvert_exporter": "python",
   "pygments_lexer": "ipython3",
   "version": "3.11.4"
  }
 },
 "nbformat": 4,
 "nbformat_minor": 2
}
