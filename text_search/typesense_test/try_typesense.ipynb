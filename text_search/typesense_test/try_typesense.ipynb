{
 "cells": [
  {
   "cell_type": "code",
   "execution_count": 1,
   "metadata": {},
   "outputs": [],
   "source": [
    "from typesense_retrieval import TypesenseRetrieval\n",
    "\n",
    "qa = TypesenseRetrieval()"
   ]
  },
  {
   "cell_type": "code",
   "execution_count": 2,
   "metadata": {},
   "outputs": [
    {
     "name": "stdout",
     "output_type": "stream",
     "text": [
      "The first step in the application process is to view our Graduate Programs for a complete listing of graduate programs offered here at SUNY Brockport. Once you’ve identified your program of interest, step two is to visit our How to Apply page to review those application instructions that are specific to your program of interest, as well as those requirements that are unique to international applicants.\n",
      "\n",
      "Go to the online Brockport Foundation Scholarship portal and sign in with your Brockport email account. Enter your credentials and then the system will take you directly to the General Application. Students are required to complete the General Application prior to being considered for a scholarship. This requires the applicant to supply personal information, resume information, responses to four (4) writing prompts, and reference information (see Reference below).\n"
     ]
    }
   ],
   "source": [
    "response = qa.ask(\"How do I apply to Brockport?\")\n",
    "print(response)"
   ]
  },
  {
   "cell_type": "code",
   "execution_count": 3,
   "metadata": {},
   "outputs": [
    {
     "name": "stdout",
     "output_type": "stream",
     "text": [
      "Students in the mathematics major pursue either a Bachelor of Arts or a Bachelor of Science degree, while exploring both the theory and the practice of math.Curriculum & Learning Outcomes. You can elect to study in one of three tracks: Traditional, Actuarial Mathematics, or Statistics. Each prepares you to use math to model and analyze real-world problems. The Wall Street Journal consistently ranks mathematician at the top of “best jobs” lists.\n",
      "\n",
      "Recent graduates who have majored in mathematics have found rewarding careers in business, teaching, computing, government, law, engineering, and medicine. A major or minor in mathematics is a natural adjunct to the study of physics, chemistry, biology, earth science, business, economics, computer science or the social sciences. The department offers a Bachelor of Science (BS) and Master of Arts (MA) degree in Mathematics. In addition, we offer a combined BS/MA program.\n"
     ]
    }
   ],
   "source": [
    "question = \"tell me about the math major\"\n",
    "print(qa.ask(question, alpha=0.8))"
   ]
  },
  {
   "cell_type": "code",
   "execution_count": 4,
   "metadata": {},
   "outputs": [
    {
     "name": "stdout",
     "output_type": "stream",
     "text": [
      "Gain an understanding of the physiological, emotional, social, and behavioral processes that make us who we are from cradle to grave. Dive into subjects like abnormal psychology, child development, brain science, and more.Curriculum & Learning Outcomes. Get involved in research at all levels — from helping faculty with their ideas to pursuing your own inspirations — to create new knowledge in the field.\n",
      "\n",
      "Is it really possible for one person to have multiple personalities? What makes someone a psychopath? Why do people continue to vape when they know it’s dangerous? Our coursework focuses on more than just the foundation of psychology. Our professors are actively engaged in research. Students have the opportunity to engage in the research process alongside professors investigating topics such as:. Understanding and assisting children with developmental learning disorders.\n"
     ]
    }
   ],
   "source": [
    "question = \"What is developmental psychology?\"\n",
    "print(qa.ask(question, alpha=0.8))"
   ]
  },
  {
   "cell_type": "code",
   "execution_count": 5,
   "metadata": {},
   "outputs": [
    {
     "name": "stdout",
     "output_type": "stream",
     "text": [
      "Located along the Erie Canal, the Village of Brockport is a quaint village with around 8,300 residents. The campus is conveniently located between two major metropolitan cities within commuting distance of Buffalo and just a 25-minute drive to Rochester. Nearby Rochester is home to numerous museums, galleries, shops and restaurants. Buffalo, Niagara Falls and Toronto are all just a few hours drive away. Once home to Susan B.\n",
      "\n",
      "Founded in 1835, SUNY Brockport is a nationally recognized four-year comprehensive public university focused on student success. Located in Greater Rochester (Monroe County), the campus is 16 miles from downtown Rochester, and 45 miles east of Buffalo, NY. The department of Campus Recreation provides opportunities to recreate through Informal Recreation, Fitness and Wellness, Club Sports and Intramurals, and Instructional Programs.\n"
     ]
    }
   ],
   "source": [
    "question = \"Where is Brockport located?\"\n",
    "print(qa.ask(question, alpha=0.8))"
   ]
  },
  {
   "cell_type": "code",
   "execution_count": 6,
   "metadata": {},
   "outputs": [
    {
     "name": "stdout",
     "output_type": "stream",
     "text": [
      "Following are brief descriptions of identified University audiences. Students: As of Fall 2019, the University had approximately 6,670 undergraduate students and 1,250 graduate students. Of the undergraduate population, approximately one-third live on campus, one-third live in or nearby the Village of Brockport, and one-third are true commuter students. Faculty/Staff: The University has more than 1,100 employees, comprising faculty and professional/.\n",
      "\n",
      "In total, over 339 students were surveyed reflecting a range of class-statuses, age-groups and majors from a student in the 18 – 25 years age-group to a student in the 50 years-plus age-group as well as faculty and staff-members. This was a convenience sample and is not considered representative of the population. However, for the exploratory purposes of this study, this mixed-method approach proves effective at revealing the complex factors at play in shaping individual and public perceptions.\n"
     ]
    }
   ],
   "source": [
    "question = \"How many students are there?\"\n",
    "print(qa.ask(question, alpha=0.8))"
   ]
  },
  {
   "cell_type": "code",
   "execution_count": 7,
   "metadata": {},
   "outputs": [
    {
     "name": "stdout",
     "output_type": "stream",
     "text": [
      "In addition, we offer a combined BS/MA program. The traditional BS degree in mathematics allows students to tailor their learning to a specific track in either Statistics and Actuarial Science. We also offer a minor in mathematics.\n",
      "\n",
      "We offer the opportunity to earn both a bachelor’s and master’s through a combined program, earning both degrees within five years. Students complete a full mathematics degree, which develops analytical and critical thinking skills, understanding of complex problems, and foundational and forward-thinking knowledge.Curriculum & Learning Outcomes. SUNY Brockport’s Math Club is for anyone interested in math.\n"
     ]
    }
   ],
   "source": [
    "question = \"Is there a masters program in math?\"\n",
    "print(qa.ask(question, alpha=0.8))"
   ]
  },
  {
   "cell_type": "code",
   "execution_count": 8,
   "metadata": {},
   "outputs": [
    {
     "name": "stdout",
     "output_type": "stream",
     "text": [
      "Explore all the opportunities our program offers. Ranging from internships to intensive in class career training. Today more than ever employers need graduates with a strong foundation in the fundamentals of computer science and specialized computing skills. Graduates have successfully entered graduate programs and obtained employment with companies such as Amazon, Calero Software LLC, Excellus BCBS, Google, Harris, Wegmans, and Xerox. Get personalized information about your area of interest.\n",
      "\n",
      "Fields of graduate study include computer science, mathematics, information systems, information management, and various areas of science and engineering. Students should strive to choose a coherent set of courses aimed at achieving their educational goals. An individual student’s program should, however, be discussed with his or her computer science faculty advisor. It is suggested that students consider a minor or second major in another discipline to complement their computer science major\n"
     ]
    }
   ],
   "source": [
    "question = \"Is there a masters program in computer science?\"\n",
    "print(qa.ask(question, alpha=0.8))"
   ]
  },
  {
   "cell_type": "code",
   "execution_count": 9,
   "metadata": {},
   "outputs": [
    {
     "name": "stdout",
     "output_type": "stream",
     "text": [
      "Muntaqim. Out of an abundance of caution, all in-person instruction and co-curricular activities will conclude at 4:50 pm today on Wednesday, April 6. Classes that are in-progress at that time will end early. In-person classes that begin after 4:50 pm are cancelled. This action is taken to help reduce pedestrian and vehicular traffic in advance of the speech and potential protests.\n",
      "\n",
      "Check out the University Events Calendar for more opportunities. Our Interfaith Calendar includes information about some of the many religious holy days celebrated by faculty, staff, and students at SUNY Brockport. The Diversity Conference seeks to promote open-mindedness, celebrate diversity, and promote awareness of divergent views on our campus and within our communities. Learn about the conference committee.\n"
     ]
    }
   ],
   "source": [
    "question = \"what events are going on today?\"\n",
    "print(qa.ask(question, alpha=0.8))"
   ]
  },
  {
   "cell_type": "code",
   "execution_count": 10,
   "metadata": {},
   "outputs": [
    {
     "name": "stdout",
     "output_type": "stream",
     "text": [
      "Consequently, medical schools recommend that applicants complete introductory courses in biology, chemistry, biochemistry and mathematics through calculus II. History majors are able to get these courses as easily as are majors in the natural sciences, and some can count for General Education requirements. Business in the 21st century covers a wide variety of skills and professional abilities.\n",
      "\n",
      "Includes Pre-requisites from a Selection of Schools SUNY Brockport Students Often Apply To:. a A student should choose to major in a field he/she is passionate about and in which he/she will excel. The health professions requirements are also the foundation courses for a major in Biology, Biochemistry, or Chemistry. For a Physics major, Physics and Calculus should begin in year 1.\n"
     ]
    }
   ],
   "source": [
    "question = \"What are the requirements for a bio major?\"\n",
    "print(qa.ask(question, alpha=0.8))"
   ]
  },
  {
   "cell_type": "code",
   "execution_count": 11,
   "metadata": {},
   "outputs": [
    {
     "name": "stdout",
     "output_type": "stream",
     "text": [
      "In the fall of 2021 with the emphasis on academic strategic planning, there were 69 undergraduate programs and majors, 58 undergraduate minors, and 60 tracks and concentrations with the program portfolio at SUNY Brockport. The use of tracks or concentrations within academic programs has precluded the need to formally change some majors given the State of Education rule that 30% of a major program can be altered without State level review.\n",
      "\n",
      "SUNY Brockport is a public institution. In 2022, 5,149 undergraduates and 1,277 graduate students were enrolled at SUNY Brockport. Approximately more than 1,752 undergraduate students resided in 11 residence halls and 1 student townhomes complex on the main campus. In Fall 2022, SUNY Brockport employed 1,280 faculty and staff. Students, faculty, employees, and members of the public have access to academic, recreational and administrative facilities on campus during regular hours of operation.\n"
     ]
    }
   ],
   "source": [
    "question = \"How many programs does SUNY Brockport offer?\"\n",
    "print(qa.ask(question, alpha=0.8))"
   ]
  }
 ],
 "metadata": {
  "kernelspec": {
   "display_name": "thesis",
   "language": "python",
   "name": "python3"
  },
  "language_info": {
   "codemirror_mode": {
    "name": "ipython",
    "version": 3
   },
   "file_extension": ".py",
   "mimetype": "text/x-python",
   "name": "python",
   "nbconvert_exporter": "python",
   "pygments_lexer": "ipython3",
   "version": "3.11.4"
  }
 },
 "nbformat": 4,
 "nbformat_minor": 2
}
