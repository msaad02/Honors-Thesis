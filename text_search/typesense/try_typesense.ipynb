{
 "cells": [
  {
   "cell_type": "code",
   "execution_count": 1,
   "metadata": {},
   "outputs": [],
   "source": [
    "from typesense_retrieval import TypesenseRetrieval\n",
    "import typesense\n",
    "\n",
    "qa = TypesenseRetrieval()\n",
    "\n",
    "# Initialize Typesense client\n",
    "client = typesense.Client({\n",
    "    'nodes': [{\n",
    "        'host': 'localhost',\n",
    "        'port': '8108',\n",
    "        'protocol': 'http'\n",
    "    }],\n",
    "    'api_key': 'xyz',\n",
    "    'connection_timeout_seconds': 60,\n",
    "    'retry_interval_seconds': 5\n",
    "})"
   ]
  },
  {
   "cell_type": "code",
   "execution_count": 12,
   "metadata": {},
   "outputs": [
    {
     "data": {
      "text/plain": [
       "[{'context': 'This was my first experience to see anything of historical importance from those events, and I think being able to actually see it puts it into perspective. History is incredibly important to me, and I am a firm believer that if we don’t learn about it and contextualize it, we’ll repeat it.',\n",
       "  'url': 'https://www2.brockport.edu/academics/honors-college/newsletter/',\n",
       "  'hybrid_search_info': {'rank_fusion_score': 0.699999988079071},\n",
       "  'text_match_info': {'best_field_score': '2216159019008',\n",
       "   'best_field_weight': 15,\n",
       "   'fields_matched': 1,\n",
       "   'score': '1733920950581198969',\n",
       "   'tokens_matched': 3}},\n",
       " {'context': 'The graduate program builds on the fundamental principles of nursing to ensure the provision of high quality care. Students learn critical assessment, diagnosis, and treatment skills and are mentored in the application of these skills throughout their clinical rotations.',\n",
       "  'url': 'https://www2.brockport.edu/academics/nursing/family-nurse-practitioner/',\n",
       "  'hybrid_search_info': {'rank_fusion_score': 0.30000001192092896},\n",
       "  'text_match_info': {'best_field_score': '0',\n",
       "   'best_field_weight': 0,\n",
       "   'fields_matched': 0,\n",
       "   'score': '0',\n",
       "   'tokens_matched': 0}},\n",
       " {'context': 'Our programs prepare professional nurses who can meet the health care needs of a culturally diverse society. Many of our faculty are still actively practicing in healthcare settings and bring that knowledge directly to their students in the classroom. Our students take what they learn inside the classroom directly into patient care.',\n",
       "  'url': 'https://www2.brockport.edu/academics/nursing/?program=family-nurse-practitioner-cas',\n",
       "  'hybrid_search_info': {'rank_fusion_score': 0.15000000596046448},\n",
       "  'text_match_info': {'best_field_score': '0',\n",
       "   'best_field_weight': 0,\n",
       "   'fields_matched': 0,\n",
       "   'score': '0',\n",
       "   'tokens_matched': 0}}]"
      ]
     },
     "execution_count": 12,
     "metadata": {},
     "output_type": "execute_result"
    }
   ],
   "source": [
    "question = \"Tell me about the nursing program\"\n",
    "\n",
    "search_parameters = {\n",
    "  'q'         : question,\n",
    "  'query_by'  : 'embedding,context',\n",
    "  'prefix'    : False,\n",
    "  'limit'     : 3,\n",
    "  #'filter_by' : 'url:https://www2.brockport.edu/academics/computing-sciences/'\n",
    "}\n",
    "\n",
    "response = client.collections['brockport_data_v1'].documents.search(search_parameters)\n",
    "\n",
    "results = []\n",
    "for response in response['hits']:\n",
    "    results.append({\n",
    "        'context': response['document']['context'], \n",
    "        'url': response['document']['url'], \n",
    "        'hybrid_search_info': response['hybrid_search_info'],\n",
    "        'text_match_info': response['text_match_info']\n",
    "    })\n",
    "results"
   ]
  },
  {
   "cell_type": "code",
   "execution_count": 13,
   "metadata": {},
   "outputs": [
    {
     "data": {
      "text/plain": [
       "{'main_categories': ['academics'], 'subcategories': ['academics-nursing']}"
      ]
     },
     "execution_count": 13,
     "metadata": {},
     "output_type": "execute_result"
    }
   ],
   "source": [
    "search_urls = qa._get_text_retrieval_places(question)\n",
    "search_urls"
   ]
  },
  {
   "cell_type": "code",
   "execution_count": 14,
   "metadata": {},
   "outputs": [],
   "source": [
    "main_url = search_urls['main_categories'][0]\n",
    "\n",
    "urls = []\n",
    "base = \"https://www2.brockport.edu/\"\n",
    "for url in search_urls['main_categories']:\n",
    "    urls.append(base + url)\n",
    "\n",
    "for url in search_urls['subcategories']:\n",
    "    urls.append(base + main_url + '/' + (url.split('-', 1)[1] if '-' in url else url))"
   ]
  },
  {
   "cell_type": "code",
   "execution_count": 15,
   "metadata": {},
   "outputs": [],
   "source": [
    "response = client.multi_search.perform(\n",
    "    search_queries={\n",
    "        'searches': [{\n",
    "                'q': question,\n",
    "                'limit': 3,\n",
    "                'filter_by': f\"url:{str(urls)}\"\n",
    "            }]\n",
    "        },\n",
    "    common_params = {\n",
    "        'collection': 'brockport_data_v1',\n",
    "        'query_by': 'embedding,context',\n",
    "        'prefix': False,\n",
    "    }\n",
    ")"
   ]
  },
  {
   "cell_type": "code",
   "execution_count": 16,
   "metadata": {},
   "outputs": [
    {
     "data": {
      "text/plain": [
       "[{'context': 'Our 100% online Doctorate of Nursing Program is the first doctorate level nursing program in the SUNY comprehensive sector and serves as the most advanced degree in the field of nursing.',\n",
       "  'url': 'https://www2.brockport.edu/academics/nursing/',\n",
       "  'hybrid_search_info': {'rank_fusion_score': 1.0},\n",
       "  'text_match_info': {'best_field_score': '517734',\n",
       "   'best_field_weight': 102,\n",
       "   'fields_matched': 3,\n",
       "   'score': '1060320051',\n",
       "   'tokens_matched': 0}},\n",
       " {'context': 'The Department of Nursing will be conducting an accreditation visit through the Commission on Collegiate Nursing Education (CCNE) on February 28, 29, and March 1, 2024. CCNE provides the opportunity for program constituents and other interested parties to submit, in writing, comments concerning a program’s qualifications for accreditation.',\n",
       "  'url': 'https://www2.brockport.edu/academics/nursing/',\n",
       "  'hybrid_search_info': {'rank_fusion_score': 0.42500001192092896},\n",
       "  'text_match_info': {'best_field_score': '513638',\n",
       "   'best_field_weight': 102,\n",
       "   'fields_matched': 3,\n",
       "   'score': '1051931443',\n",
       "   'tokens_matched': 0}},\n",
       " {'context': 'The world needs more nurses. Our degrees produce some of the best in the field. With entry points to our programs at every level of college education, you can start saving lives now. Our programs prepare professional nurses who can meet the health care needs of a culturally diverse society.',\n",
       "  'url': 'https://www2.brockport.edu/academics/nursing/',\n",
       "  'hybrid_search_info': {'rank_fusion_score': 0.15000000596046448},\n",
       "  'text_match_info': {'best_field_score': '0',\n",
       "   'best_field_weight': 0,\n",
       "   'fields_matched': 0,\n",
       "   'score': '0',\n",
       "   'tokens_matched': 0}}]"
      ]
     },
     "execution_count": 16,
     "metadata": {},
     "output_type": "execute_result"
    }
   ],
   "source": [
    "results = []\n",
    "for response in response['results'][0]['hits']:\n",
    "    results.append({\n",
    "        'context': response['document']['context'], \n",
    "        'url': response['document']['url'], \n",
    "        'hybrid_search_info': response['hybrid_search_info'],\n",
    "        'text_match_info': response['text_match_info']\n",
    "    })\n",
    "results"
   ]
  }
 ],
 "metadata": {
  "kernelspec": {
   "display_name": "thesis",
   "language": "python",
   "name": "python3"
  },
  "language_info": {
   "codemirror_mode": {
    "name": "ipython",
    "version": 3
   },
   "file_extension": ".py",
   "mimetype": "text/x-python",
   "name": "python",
   "nbconvert_exporter": "python",
   "pygments_lexer": "ipython3",
   "version": "3.11.4"
  }
 },
 "nbformat": 4,
 "nbformat_minor": 2
}
