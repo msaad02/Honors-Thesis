{
 "cells": [
  {
   "cell_type": "code",
   "execution_count": 1,
   "metadata": {},
   "outputs": [
    {
     "name": "stdout",
     "output_type": "stream",
     "text": [
      "Typesense container (presumably) exists already.\n",
      "Typesense container is already running...\n"
     ]
    },
    {
     "name": "stderr",
     "output_type": "stream",
     "text": [
      "2024-04-14 13:07:15.548957: I tensorflow/core/util/port.cc:110] oneDNN custom operations are on. You may see slightly different numerical results due to floating-point round-off errors from different computation orders. To turn them off, set the environment variable `TF_ENABLE_ONEDNN_OPTS=0`.\n",
      "2024-04-14 13:07:15.570844: I tensorflow/core/platform/cpu_feature_guard.cc:182] This TensorFlow binary is optimized to use available CPU instructions in performance-critical operations.\n",
      "To enable the following instructions: AVX2 AVX_VNNI FMA, in other operations, rebuild TensorFlow with the appropriate compiler flags.\n",
      "2024-04-14 13:07:15.995609: W tensorflow/compiler/tf2tensorrt/utils/py_utils.cc:38] TF-TRT Warning: Could not find TensorRT\n"
     ]
    }
   ],
   "source": [
    "from rag import RAG\n",
    "from tqdm import tqdm\n",
    "\n",
    "model = RAG()"
   ]
  },
  {
   "cell_type": "code",
   "execution_count": 2,
   "metadata": {},
   "outputs": [],
   "source": [
    "config = {\n",
    "    \"search_type\": \"typesense\",\n",
    "    \"use_classifier\": True,\n",
    "    \"n_results\": 5,\n",
    "    \"model_kwargs\": {\"temperature\": 0.0},\n",
    "}"
   ]
  },
  {
   "cell_type": "code",
   "execution_count": 3,
   "metadata": {},
   "outputs": [
    {
     "name": "stderr",
     "output_type": "stream",
     "text": [
      "100%|██████████| 11/11 [00:15<00:00,  1.37s/it]\n"
     ]
    },
    {
     "data": {
      "text/plain": [
       "['Yes, there is a math major at SUNY Brockport.',\n",
       " \"I'm sorry, I don't know.\",\n",
       " 'The Nursing Major at SUNY Brockport provides students with the knowledge, behaviors, and skills needed for nursing practice at the baccalaureate level. The program emphasizes critical assessment, diagnosis, and treatment skills through clinical rotations. Upon acceptance, students transition from \"Nursing Intent\" to Nursing Major status, receiving guidance in transfer credits, advisement, and registration. Advanced Practice Nurses are in high demand in major health systems and community organizations in the region. Admission to the DNP program considers academic requirements and professional demands for a systems leadership role.',\n",
       " 'You can get involved in undergraduate research at SUNY Brockport by working closely with a faculty mentor on scholarly or creative projects related to your major. Reach out to the Scholarship, Research & Sponsored Programs Office for more information and opportunities available for undergraduate research.',\n",
       " \"To get involved in clubs at SUNY Brockport, you can visit the myBROCKPORT page to explore different clubs and their activities. Attend club meetings, participate in events, and consider taking on leadership roles to develop your skills and contribute to the club's success.\",\n",
       " 'At SUNY Brockport, students have opportunities to receive scholarships, grants, loans, and employment as part of their financial aid package. The Financial Aid Office assists students in obtaining the necessary financial resources to attend the university.',\n",
       " 'You can file a report online about incidents of sexual misconduct using our Gender-Based and/or Sexual Assault Report. You can choose to remain anonymous if you prefer. Remember, everyone should have access to reporting options and support services, even if they do not wish to formally report an incident.',\n",
       " 'Yes, you can receive credit for completing an internship in the math department at SUNY Brockport.',\n",
       " 'Yes, SUNY Brockport has a gym available to students on campus.',\n",
       " 'To apply to SUNY Brockport, you can submit the SUNY Application or Common Application for admission. Once admitted, complete any additional requirements specific to your program or interest, such as applying for scholarships, the Honors College, or certification programs. Remember to also complete the FAFSA for financial aid consideration.',\n",
       " \"I'm sorry, I don't know.\"]"
      ]
     },
     "execution_count": 3,
     "metadata": {},
     "output_type": "execute_result"
    }
   ],
   "source": [
    "questions = [\n",
    "    \"Is there a math major at SUNY Brockport?\",\n",
    "    \"Is there an engineering major at SUNY Brockport?\",\n",
    "    \"Tell me about the nursing major.\",\n",
    "    \"How can I get involved in undergraduate research?\",\n",
    "    \"How can I get involved in clubs?\",\n",
    "    \"What options are there for financial aid at Brockport?\",\n",
    "    \"How can I report sexual misconduct?\",\n",
    "    \"Can I get credit for completing an internship in the math department?\",\n",
    "    \"Is there a gym available to students on campus?\",\n",
    "    \"How can I apply to SUNY Brockport?\",\n",
    "    \"What is the meaning of life?\",\n",
    "]\n",
    "\n",
    "output = []\n",
    "\n",
    "for question in tqdm(questions):\n",
    "    output.append(model(question=question, config=config))\n",
    "\n",
    "output"
   ]
  },
  {
   "cell_type": "markdown",
   "metadata": {},
   "source": [
    "# old"
   ]
  },
  {
   "cell_type": "code",
   "execution_count": 1,
   "metadata": {},
   "outputs": [],
   "source": [
    "import pandas as pd\n",
    "from datasets import load_dataset\n",
    "\n",
    "qas = load_dataset(\"msaad02/brockport-gpt-4-qa\")['test'].to_pandas()\n",
    "data = pd.read_csv(\"../data_collection/data/chunked_data.csv\")"
   ]
  },
  {
   "cell_type": "code",
   "execution_count": 2,
   "metadata": {},
   "outputs": [
    {
     "data": {
      "text/plain": [
       "1345"
      ]
     },
     "execution_count": 2,
     "metadata": {},
     "output_type": "execute_result"
    }
   ],
   "source": [
    "len(qas)"
   ]
  },
  {
   "cell_type": "code",
   "execution_count": 2,
   "metadata": {},
   "outputs": [
    {
     "name": "stdout",
     "output_type": "stream",
     "text": [
      "Typesense container started.\n",
      "\n"
     ]
    },
    {
     "name": "stderr",
     "output_type": "stream",
     "text": [
      "2024-04-07 16:11:00.943299: I tensorflow/core/util/port.cc:110] oneDNN custom operations are on. You may see slightly different numerical results due to floating-point round-off errors from different computation orders. To turn them off, set the environment variable `TF_ENABLE_ONEDNN_OPTS=0`.\n",
      "2024-04-07 16:11:00.967788: I tensorflow/core/platform/cpu_feature_guard.cc:182] This TensorFlow binary is optimized to use available CPU instructions in performance-critical operations.\n",
      "To enable the following instructions: AVX2 AVX_VNNI FMA, in other operations, rebuild TensorFlow with the appropriate compiler flags.\n",
      "2024-04-07 16:11:01.430658: W tensorflow/compiler/tf2tensorrt/utils/py_utils.cc:38] TF-TRT Warning: Could not find TensorRT\n"
     ]
    }
   ],
   "source": [
    "from text_retriever_class import TypesenseRetriever, TextRetriever\n",
    "\n",
    "hybrid = TypesenseRetriever()\n",
    "semantic = TextRetriever()"
   ]
  },
  {
   "cell_type": "code",
   "execution_count": 15,
   "metadata": {},
   "outputs": [],
   "source": [
    "from tqdm import tqdm\n",
    "\n",
    "ten_qas = qas.sample(n=1000).reset_index(drop=True)"
   ]
  },
  {
   "cell_type": "code",
   "execution_count": 16,
   "metadata": {},
   "outputs": [
    {
     "name": "stderr",
     "output_type": "stream",
     "text": [
      "1000it [07:45,  2.15it/s]\n"
     ]
    },
    {
     "data": {
      "text/plain": [
       "393"
      ]
     },
     "execution_count": 16,
     "metadata": {},
     "output_type": "execute_result"
    }
   ],
   "source": [
    "hybrid_classifier_count = 0\n",
    "\n",
    "for row in tqdm(ten_qas.iterrows()):\n",
    "    retrieved = hybrid.retrieve(row[1]['question'], top_n=10).split(\"\\n\\n\")\n",
    "    df = data[data['chunked_data'].isin(retrieved)]\n",
    "\n",
    "    if row[1]['url'] in df['url'].values:\n",
    "        hybrid_classifier_count += 1\n",
    "\n",
    "hybrid_classifier_count"
   ]
  },
  {
   "cell_type": "code",
   "execution_count": 17,
   "metadata": {},
   "outputs": [
    {
     "name": "stderr",
     "output_type": "stream",
     "text": [
      "1000it [07:55,  2.10it/s]\n"
     ]
    },
    {
     "data": {
      "text/plain": [
       "478"
      ]
     },
     "execution_count": 17,
     "metadata": {},
     "output_type": "execute_result"
    }
   ],
   "source": [
    "hybrid_no_classifier_count = 0\n",
    "\n",
    "for row in tqdm(ten_qas.iterrows()):\n",
    "    retrieved = hybrid.retrieve(row[1]['question'], top_n=10, use_classifier=False).split(\"\\n\\n\")\n",
    "    df = data[data['chunked_data'].isin(retrieved)]\n",
    "\n",
    "    if row[1]['url'] in df['url'].values:\n",
    "        hybrid_no_classifier_count += 1\n",
    "\n",
    "hybrid_no_classifier_count"
   ]
  },
  {
   "cell_type": "code",
   "execution_count": 18,
   "metadata": {},
   "outputs": [
    {
     "name": "stderr",
     "output_type": "stream",
     "text": [
      "1000it [04:12,  3.96it/s]\n"
     ]
    },
    {
     "data": {
      "text/plain": [
       "400"
      ]
     },
     "execution_count": 18,
     "metadata": {},
     "output_type": "execute_result"
    }
   ],
   "source": [
    "rerank_classifier_count = 0\n",
    "\n",
    "for row in tqdm(ten_qas.iterrows()):\n",
    "    retrieved = semantic.retrieve(row[1]['question'], top_n=10).split(\"\\n\\n\")\n",
    "    df = data[data['chunked_data'].isin(retrieved)]\n",
    "\n",
    "    if row[1]['url'] in df['url'].values:\n",
    "        rerank_classifier_count += 1\n",
    "\n",
    "rerank_classifier_count"
   ]
  },
  {
   "cell_type": "code",
   "execution_count": 19,
   "metadata": {},
   "outputs": [
    {
     "name": "stderr",
     "output_type": "stream",
     "text": [
      "1000it [04:39,  3.58it/s]\n"
     ]
    },
    {
     "data": {
      "text/plain": [
       "481"
      ]
     },
     "execution_count": 19,
     "metadata": {},
     "output_type": "execute_result"
    }
   ],
   "source": [
    "rerank_no_classifier_count = 0\n",
    "\n",
    "for row in tqdm(ten_qas.iterrows()):\n",
    "    retrieved = semantic.retrieve(row[1]['question'], top_n=10, use_classifier=False).split(\"\\n\\n\")\n",
    "    df = data[data['chunked_data'].isin(retrieved)]\n",
    "\n",
    "    if row[1]['url'] in df['url'].values:\n",
    "        rerank_no_classifier_count += 1\n",
    "\n",
    "rerank_no_classifier_count"
   ]
  },
  {
   "cell_type": "code",
   "execution_count": 20,
   "metadata": {},
   "outputs": [
    {
     "name": "stderr",
     "output_type": "stream",
     "text": [
      "1000it [00:26, 37.80it/s]\n"
     ]
    },
    {
     "data": {
      "text/plain": [
       "386"
      ]
     },
     "execution_count": 20,
     "metadata": {},
     "output_type": "execute_result"
    }
   ],
   "source": [
    "semantic_classifier_count = 0\n",
    "\n",
    "for row in tqdm(ten_qas.iterrows()):\n",
    "    retrieved = semantic.retrieve(row[1]['question'], top_n=10, type=\"semantic\").split(\"\\n\\n\")\n",
    "    df = data[data['chunked_data'].isin(retrieved)]\n",
    "\n",
    "    if row[1]['url'] in df['url'].values:\n",
    "        semantic_classifier_count += 1\n",
    "\n",
    "semantic_classifier_count"
   ]
  },
  {
   "cell_type": "code",
   "execution_count": 21,
   "metadata": {},
   "outputs": [
    {
     "name": "stderr",
     "output_type": "stream",
     "text": [
      "1000it [01:06, 14.99it/s]\n"
     ]
    },
    {
     "data": {
      "text/plain": [
       "486"
      ]
     },
     "execution_count": 21,
     "metadata": {},
     "output_type": "execute_result"
    }
   ],
   "source": [
    "semantic_no_classifier_count = 0\n",
    "\n",
    "for row in tqdm(ten_qas.iterrows()):\n",
    "    retrieved = semantic.retrieve(row[1]['question'], top_n=10, type=\"semantic\", use_classifier=False).split(\"\\n\\n\")\n",
    "    df = data[data['chunked_data'].isin(retrieved)]\n",
    "\n",
    "    if row[1]['url'] in df['url'].values:\n",
    "        semantic_no_classifier_count += 1\n",
    "\n",
    "semantic_no_classifier_count"
   ]
  },
  {
   "cell_type": "code",
   "execution_count": 22,
   "metadata": {},
   "outputs": [
    {
     "name": "stdout",
     "output_type": "stream",
     "text": [
      "Hybrid classifier count: 39.3%\n",
      "Hybrid no classifier count: 47.8%\n",
      "Rerank classifier count: 40.0%\n",
      "Rerank no classifier count: 48.1%\n",
      "Semantic classifier count: 38.6%\n",
      "Semantic no classifier count: 48.6%\n"
     ]
    }
   ],
   "source": [
    "print(f\"Hybrid classifier count: {round(100*hybrid_classifier_count/len(ten_qas), 2)}%\")\n",
    "print(f\"Hybrid no classifier count: {round(100*hybrid_no_classifier_count/len(ten_qas), 2)}%\")\n",
    "print(f\"Rerank classifier count: {round(100*rerank_classifier_count/len(ten_qas), 2)}%\")\n",
    "print(f\"Rerank no classifier count: {round(100*rerank_no_classifier_count/len(ten_qas), 2)}%\")\n",
    "print(f\"Semantic classifier count: {round(100*semantic_classifier_count/len(ten_qas), 2)}%\")\n",
    "print(f\"Semantic no classifier count: {round(100*semantic_no_classifier_count/len(ten_qas), 2)}%\")"
   ]
  },
  {
   "cell_type": "markdown",
   "metadata": {},
   "source": [
    "From 1k TRAIN run:\n",
    "\n",
    "Hybrid classifier count: 41.2%\n",
    "Hybrid no classifier count: 45.4%\n",
    "Rerank classifier count: 42.3%\n",
    "Rerank no classifier count: 47.2%\n",
    "Semantic classifier count: 39.6%\n",
    "Semantic no classifier count: 45.8%"
   ]
  },
  {
   "cell_type": "markdown",
   "metadata": {},
   "source": [
    "Hybrid classifier count: 47.0\n",
    "Hybrid no classifier count: 57\n",
    "Rerank classifier count: 44\n",
    "Rerank no classifier count: 51\n",
    "Semantic classifier count: 44\n",
    "Semantic no classifier count: 53"
   ]
  },
  {
   "cell_type": "code",
   "execution_count": 43,
   "metadata": {},
   "outputs": [
    {
     "name": "stdout",
     "output_type": "stream",
     "text": [
      "73.1 ms ± 2.66 ms per loop (mean ± std. dev. of 7 runs, 10 loops each)\n"
     ]
    }
   ],
   "source": [
    "%%timeit\n",
    "\n",
    "retrieved = semantic.retrieve(\"Tell me about the math major at SUNY Brockport.\", top_n=10, type=\"semantic\", use_classifier=False)\n"
   ]
  },
  {
   "cell_type": "code",
   "execution_count": 44,
   "metadata": {},
   "outputs": [
    {
     "name": "stdout",
     "output_type": "stream",
     "text": [
      "24.7 ms ± 5.41 ms per loop (mean ± std. dev. of 7 runs, 10 loops each)\n"
     ]
    }
   ],
   "source": [
    "%%timeit\n",
    "\n",
    "retrieved = semantic.retrieve(\"Tell me about the math major at SUNY Brockport.\", top_n=10, type=\"semantic\", use_classifier=True)"
   ]
  },
  {
   "cell_type": "code",
   "execution_count": 36,
   "metadata": {},
   "outputs": [
    {
     "name": "stdout",
     "output_type": "stream",
     "text": [
      "276 ms ± 2.83 ms per loop (mean ± std. dev. of 7 runs, 1 loop each)\n"
     ]
    }
   ],
   "source": [
    "%%timeit\n",
    "\n",
    "retrieved = semantic.retrieve(\"Tell me about the math major at SUNY Brockport.\", top_n=10, type=\"semantic_rerank\", use_classifier=False)\n"
   ]
  },
  {
   "cell_type": "code",
   "execution_count": 37,
   "metadata": {},
   "outputs": [
    {
     "name": "stdout",
     "output_type": "stream",
     "text": [
      "220 ms ± 3.88 ms per loop (mean ± std. dev. of 7 runs, 1 loop each)\n"
     ]
    }
   ],
   "source": [
    "%%timeit\n",
    "\n",
    "retrieved = semantic.retrieve(\"Tell me about the math major at SUNY Brockport.\", top_n=10, type=\"semantic_rerank\", use_classifier=True)"
   ]
  },
  {
   "cell_type": "code",
   "execution_count": 48,
   "metadata": {},
   "outputs": [
    {
     "name": "stdout",
     "output_type": "stream",
     "text": [
      "431 ms ± 64.8 ms per loop (mean ± std. dev. of 7 runs, 1 loop each)\n"
     ]
    }
   ],
   "source": [
    "%%timeit\n",
    "retrieved = hybrid.retrieve(\"Tell me about the math major at SUNY Brockport.\", top_n=10, use_classifier=False)"
   ]
  },
  {
   "cell_type": "code",
   "execution_count": 47,
   "metadata": {},
   "outputs": [
    {
     "name": "stdout",
     "output_type": "stream",
     "text": [
      "451 ms ± 74 ms per loop (mean ± std. dev. of 7 runs, 1 loop each)\n"
     ]
    }
   ],
   "source": [
    "%%timeit\n",
    "retrieved = hybrid.retrieve(\"Tell me about the math major at SUNY Brockport.\", top_n=10, use_classifier=True)"
   ]
  }
 ],
 "metadata": {
  "kernelspec": {
   "display_name": "thesis",
   "language": "python",
   "name": "python3"
  },
  "language_info": {
   "codemirror_mode": {
    "name": "ipython",
    "version": 3
   },
   "file_extension": ".py",
   "mimetype": "text/x-python",
   "name": "python",
   "nbconvert_exporter": "python",
   "pygments_lexer": "ipython3",
   "version": "3.11.4"
  }
 },
 "nbformat": 4,
 "nbformat_minor": 2
}
