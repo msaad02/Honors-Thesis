{
 "cells": [
  {
   "cell_type": "code",
   "execution_count": 1,
   "metadata": {},
   "outputs": [],
   "source": [
    "# Run Fine-Tune Llama2-7b on SE paired dataset\n",
    "import torch\n",
    "from transformers import AutoModelForCausalLM, AutoTokenizer, BitsAndBytesConfig\n",
    "\n",
    "import textwrap"
   ]
  },
  {
   "cell_type": "code",
   "execution_count": 2,
   "metadata": {},
   "outputs": [
    {
     "data": {
      "application/vnd.jupyter.widget-view+json": {
       "model_id": "380bf41ae8714afa91d04d6405b5ed9e",
       "version_major": 2,
       "version_minor": 0
      },
      "text/plain": [
       "Loading checkpoint shards:   0%|          | 0/2 [00:00<?, ?it/s]"
      ]
     },
     "metadata": {},
     "output_type": "display_data"
    }
   ],
   "source": [
    "bnb_config = BitsAndBytesConfig(\n",
    "    load_in_4bit=True,\n",
    "    bnb_4bit_quant_type=\"nf4\",\n",
    "    bnb_4bit_compute_dtype=torch.bfloat16,\n",
    ")\n",
    "\n",
    "model = AutoModelForCausalLM.from_pretrained(\n",
    "    \"./results/final_merged_checkpoint/\",\n",
    "    quantization_config=bnb_config,\n",
    "    device_map={\"\": 0},\n",
    "    trust_remote_code=True\n",
    ")"
   ]
  },
  {
   "cell_type": "code",
   "execution_count": 3,
   "metadata": {},
   "outputs": [
    {
     "name": "stderr",
     "output_type": "stream",
     "text": [
      "Xformers is not installed correctly. If you want to use memory_efficient_attention to accelerate training use the following command to install Xformers\n",
      "pip install xformers.\n"
     ]
    }
   ],
   "source": [
    "from transformers import pipeline\n",
    "\n",
    "pipe = pipeline(\n",
    "    task=\"text-generation\",\n",
    "    model=model,\n",
    "    tokenizer=\"meta-llama/Llama-2-7b-hf\"\n",
    ")"
   ]
  },
  {
   "cell_type": "code",
   "execution_count": 4,
   "metadata": {},
   "outputs": [],
   "source": [
    "def qa(text: str, full = False):\n",
    "    # textwrap.dedent gets rid of indenting at the start of each newline\n",
    "    text = textwrap.dedent(f\"\"\"\\\n",
    "        Below is an inquiry related to SUNY Brockport - from academics, admissions, and faculty support to student life. Prioritize accuracy and brevity.\n",
    "\n",
    "        ### Instruction:\n",
    "        {text}\n",
    "\n",
    "        ### Response:\n",
    "        \"\"\")\n",
    "    \n",
    "    response = pipe(text, max_length=100, do_sample=True, top_k=50, top_p=0.95, temperature=1.0)\n",
    "    response = response[0]['generated_text']\n",
    "    response = response.split(\"### Response:\\n\")[1] if not full else response\n",
    "\n",
    "    return response\n"
   ]
  },
  {
   "cell_type": "code",
   "execution_count": 5,
   "metadata": {},
   "outputs": [
    {
     "name": "stdout",
     "output_type": "stream",
     "text": [
      "Below is an inquiry related to SUNY Brockport - from academics, admissions, and faculty support to student life. Prioritize accuracy and brevity.\n",
      "\n",
      "### Instruction:\n",
      "How do I apply?\n",
      "\n",
      "### Response:\n",
      "To apply to SUNY Brockport, you need to visit their website and follow the application process.\n"
     ]
    }
   ],
   "source": [
    "print(qa(\"How do I apply?\", full = True))"
   ]
  },
  {
   "cell_type": "code",
   "execution_count": 6,
   "metadata": {},
   "outputs": [
    {
     "name": "stdout",
     "output_type": "stream",
     "text": [
      "Below is an inquiry related to SUNY Brockport - from academics, admissions, and faculty support to student life. Prioritize accuracy and brevity.\n",
      "\n",
      "### Instruction:\n",
      "Are SAT scores required at Brockport?\n",
      "\n",
      "### Response:\n",
      "For transfer students, SAT scores are no longer required for acceptance at Brockport.\n"
     ]
    }
   ],
   "source": [
    "print(qa(\"Are SAT scores required at Brockport?\", full = True))"
   ]
  },
  {
   "cell_type": "code",
   "execution_count": 20,
   "metadata": {},
   "outputs": [
    {
     "name": "stdout",
     "output_type": "stream",
     "text": [
      "Below is an inquiry related to SUNY Brockport - from academics, admissions, and faculty support to student life. Prioritize accuracy and brevity.\n",
      "\n",
      "### Instruction:\n",
      "Does Brockport have a CS department?\n",
      "\n",
      "### Response:\n",
      "Yes, Brockport has a CS department.\n"
     ]
    }
   ],
   "source": [
    "print(qa(\"Does Brockport have a CS department?\", full = True))"
   ]
  },
  {
   "cell_type": "code",
   "execution_count": 8,
   "metadata": {},
   "outputs": [
    {
     "name": "stdout",
     "output_type": "stream",
     "text": [
      "Below is an inquiry related to SUNY Brockport - from academics, admissions, and faculty support to student life. Prioritize accuracy and brevity.\n",
      "\n",
      "### Instruction:\n",
      "How can I report an incident that happened on campus?\n",
      "\n",
      "### Response:\n",
      "You can report an incident that happened on campus by going through the Incident Reporting Center. This is accessible through the Incident Reporting Center website.\n"
     ]
    }
   ],
   "source": [
    "print(qa(\"How can I report an incident that happened on campus?\", full = True))\n",
    "\n",
    "# NOT A VALID PHONE NUMBER!"
   ]
  },
  {
   "cell_type": "code",
   "execution_count": 18,
   "metadata": {},
   "outputs": [
    {
     "name": "stdout",
     "output_type": "stream",
     "text": [
      "Below is an inquiry related to SUNY Brockport - from academics, admissions, and faculty support to student life. Prioritize accuracy and brevity.\n",
      "\n",
      "### Instruction:\n",
      "whats the process of applying\n",
      "\n",
      "### Response:\n",
      "The process of applying to SUNY Brockport can be found on their website.\n"
     ]
    }
   ],
   "source": [
    "print(qa(\"whats the process of applying\", full = True))"
   ]
  },
  {
   "cell_type": "code",
   "execution_count": 19,
   "metadata": {},
   "outputs": [
    {
     "name": "stdout",
     "output_type": "stream",
     "text": [
      "Below is an inquiry related to SUNY Brockport - from academics, admissions, and faculty support to student life. Prioritize accuracy and brevity.\n",
      "\n",
      "### Instruction:\n",
      "what are some of the classes for CS?\n",
      "\n",
      "### Response:\n",
      "Some of the classes for CS are CS110 Computer Literacy, CS120 Introduction to Programming I, CS220 Introduction to Programming II, CS330\n"
     ]
    }
   ],
   "source": [
    "print(qa(\"what are some of the classes for CS?\", full = True))\n",
    "\n",
    "# Hallucination"
   ]
  }
 ],
 "metadata": {
  "kernelspec": {
   "display_name": "thesis",
   "language": "python",
   "name": "python3"
  },
  "language_info": {
   "codemirror_mode": {
    "name": "ipython",
    "version": 3
   },
   "file_extension": ".py",
   "mimetype": "text/x-python",
   "name": "python",
   "nbconvert_exporter": "python",
   "pygments_lexer": "ipython3",
   "version": "3.11.4"
  },
  "orig_nbformat": 4
 },
 "nbformat": 4,
 "nbformat_minor": 2
}
