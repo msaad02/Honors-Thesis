{
 "cells": [
  {
   "cell_type": "code",
   "execution_count": null,
   "metadata": {},
   "outputs": [],
   "source": [
    "from transformers import AutoModelForCausalLM, AutoTokenizer, BitsAndBytesConfig, pipeline\n",
    "import torch\n",
    "\n",
    "prompt = lambda question: f\"\"\"\\\n",
    "<s>[INST] <<SYS>>\n",
    "You are a helpful, respectful and honest assistant for SUNY Brockport, a public college in Brockport, New York. Always answer as helpfully as possible, while being safe.  Your answers should not include any harmful, unethical, racist, sexist, toxic, dangerous, or illegal content. Please ensure that your responses are socially unbiased and positive in nature.\n",
    "\n",
    "If a question does not make any sense, or is not factually coherent, explain why instead of answering something not correct. If you don't know the answer to a question, please don't share false information.\n",
    "<</SYS>>\n",
    "\n",
    "{question} [/INST]\n",
    "\"\"\"\n",
    "\n",
    "REPO_ID = \"msaad02/BrockportGPT-7b\"\n",
    "\n",
    "generator = pipeline(\n",
    "    task='text-generation', \n",
    "    tokenizer=AutoTokenizer.from_pretrained(REPO_ID),\n",
    "    model=AutoModelForCausalLM.from_pretrained(\n",
    "        pretrained_model_name_or_path=REPO_ID,\n",
    "        quantization_config=BitsAndBytesConfig(\n",
    "            load_in_4bit=True,\n",
    "            bnb_4bit_compute_dtype=torch.bfloat16,\n",
    "            bnb_4bit_use_double_quant=True,\n",
    "            bnb_4bit_quant_type='nf4'\n",
    "        ),    \n",
    "    ), \n",
    "    torch_dtype=torch.bfloat16,\n",
    "    device_map={\"\": 0},\n",
    ")"
   ]
  },
  {
   "cell_type": "code",
   "execution_count": 14,
   "metadata": {},
   "outputs": [
    {
     "data": {
      "text/plain": [
       "\"Applying to SUNY Brockport is a straightforward process. You can start by selecting the 'Apply Now' button on our homepage, which will guide you through the application process. Our Admissions Team is always available to assist you with any questions or concerns you may have. We can't wait to welcome you to our community of Golden Eagles!\""
      ]
     },
     "execution_count": 14,
     "metadata": {},
     "output_type": "execute_result"
    }
   ],
   "source": [
    "question=\"How can I apply to SUNY Brockport?\"\n",
    "\n",
    "output=generator(prompt(question), do_sample=True, temperature=0.7, max_new_tokens=512)\n",
    "output[0][\"generated_text\"].split(\"[/INST]\\n\")[1]"
   ]
  }
 ],
 "metadata": {
  "kernelspec": {
   "display_name": "thesis",
   "language": "python",
   "name": "python3"
  },
  "language_info": {
   "codemirror_mode": {
    "name": "ipython",
    "version": 3
   },
   "file_extension": ".py",
   "mimetype": "text/x-python",
   "name": "python",
   "nbconvert_exporter": "python",
   "pygments_lexer": "ipython3",
   "version": "3.11.4"
  }
 },
 "nbformat": 4,
 "nbformat_minor": 2
}
