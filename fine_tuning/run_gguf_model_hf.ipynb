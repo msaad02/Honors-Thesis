{
 "cells": [
  {
   "cell_type": "markdown",
   "metadata": {},
   "source": [
    "# GGUF Format\n",
    "\n",
    "GGUF is the current state of the art model, started being supported for llama.cpp on August 23rd, 2023. Today is August 25th, so pretty recent, you could say! GGML is its predacessor and has since been depricated.\n",
    "\n",
    "To use, I recommend using ctransformers, but you can also use the llama.cpp library directly as well. Be sure that you have the most updated versions, ctransformers required version >=0.2.24 for gguf support, and llama.cpp python bindings does not yet support it -- you need to be careful"
   ]
  },
  {
   "cell_type": "code",
   "execution_count": 1,
   "metadata": {},
   "outputs": [
    {
     "data": {
      "application/vnd.jupyter.widget-view+json": {
       "model_id": "c1a94a01a29c4c039c42333bb1d48191",
       "version_major": 2,
       "version_minor": 0
      },
      "text/plain": [
       "Fetching 1 files:   0%|          | 0/1 [00:00<?, ?it/s]"
      ]
     },
     "metadata": {},
     "output_type": "display_data"
    },
    {
     "data": {
      "application/vnd.jupyter.widget-view+json": {
       "model_id": "625c6581cd35454a9c92c9f639d6449b",
       "version_major": 2,
       "version_minor": 0
      },
      "text/plain": [
       "Fetching 1 files:   0%|          | 0/1 [00:00<?, ?it/s]"
      ]
     },
     "metadata": {},
     "output_type": "display_data"
    }
   ],
   "source": [
    "from ctransformers import AutoModelForCausalLM\n",
    "\n",
    "llm = AutoModelForCausalLM.from_pretrained(\n",
    "    model_path_or_repo_id=\"msaad02/llama2_7b_brockportgpt_gguf\",\n",
    "    model_file=\"brockportgpt-7b-q4_1.gguf\",\n",
    "    model_type=\"llama\"\n",
    ")"
   ]
  },
  {
   "cell_type": "code",
   "execution_count": 2,
   "metadata": {},
   "outputs": [],
   "source": [
    "llm_config = {\n",
    "    \"max_new_tokens\": 256,\n",
    "    \"stream\": True,\n",
    "}\n",
    "\n",
    "def qa(text: str, full = False):\n",
    "    text = f\"\"\"Below is an inquiry related to SUNY Brockport - from academics, admissions, and faculty support to student life. Prioritize accuracy and brevity.\n",
    "\n",
    "### Instruction:\n",
    "{text}\n",
    "\n",
    "### Response:\n",
    "\"\"\"\n",
    "    \n",
    "    generator = llm(text, **llm_config)\n",
    "\n",
    "    # print beginning?\n",
    "    if full:\n",
    "        print(text, end=\"\")\n",
    "\n",
    "    response = \"\"\n",
    "    for token in generator:\n",
    "        response = response + token\n",
    "        print(token, end=\"\")\n",
    "\n",
    "    response = (text + response) if full else response\n",
    "\n",
    "    return response"
   ]
  },
  {
   "cell_type": "code",
   "execution_count": 3,
   "metadata": {},
   "outputs": [
    {
     "name": "stdout",
     "output_type": "stream",
     "text": [
      "Below is an inquiry related to SUNY Brockport - from academics, admissions, and faculty support to student life. Prioritize accuracy and brevity.\n",
      "\n",
      "### Instruction:\n",
      "How do I apply?\n",
      "\n",
      "### Response:\n",
      "To apply, you need to visit the Application page on their website where you can find all the necessary information regarding application procedures."
     ]
    }
   ],
   "source": [
    "output = qa(\"How do I apply?\", full=True)"
   ]
  },
  {
   "cell_type": "code",
   "execution_count": 4,
   "metadata": {},
   "outputs": [
    {
     "name": "stdout",
     "output_type": "stream",
     "text": [
      "No, not currently."
     ]
    }
   ],
   "source": [
    "output = qa(\"is there a CS department?\")"
   ]
  },
  {
   "cell_type": "code",
   "execution_count": 5,
   "metadata": {},
   "outputs": [
    {
     "name": "stdout",
     "output_type": "stream",
     "text": [
      "The CS department offers courses on Computer Science, Information Systems & Web Design, and Cybersecurity & Digital Forensics."
     ]
    }
   ],
   "source": [
    "output = qa(\"Tell me about the CS department at Brockport.\")\n",
    "\n",
    "# yikes!! Didn't follow the format perfectly, and kept going. No good."
   ]
  },
  {
   "cell_type": "code",
   "execution_count": 6,
   "metadata": {},
   "outputs": [],
   "source": [
    "def sample_qa(text: str, full = False, n = 3):\n",
    "    \"\"\"\n",
    "    For a given question, run the model n times to see a variety of responses.\n",
    "    \"\"\"\n",
    "    answer_list = []\n",
    "\n",
    "    print(\"1. \", end=\"\")\n",
    "    for num in range(n):\n",
    "        answer_list.append(qa(text, full))\n",
    "\n",
    "        if num+1 < n:\n",
    "            print(f\"\\n\\n{num+2}. \", end=\"\")\n",
    "\n",
    "    return answer_list"
   ]
  },
  {
   "cell_type": "code",
   "execution_count": 7,
   "metadata": {},
   "outputs": [
    {
     "name": "stdout",
     "output_type": "stream",
     "text": [
      "1. The CS department at Brockport provides courses that range from introductory programming to advanced topics in computer science. The program covers foundational concepts such as data structures, algorithms, operating systems, networking, and web development, while also offering specialized courses on emerging technologies like artificial intelligence, machine learning, cybersecurity, and blockchain technology. Students at Brockport are well-prepared to enter the tech industry or pursue graduate studies in computer science.\n",
      "\n",
      "2. The Computer Science Department offers courses in programming, design & systems development as well as computer science education.\n",
      "\n",
      "3. The Department of Computer Science (CS) at SUNY Brockport is committed to preparing students for success in a rapidly changing world. The program provides an in-depth education, research opportunities, and hands-on experience in the field."
     ]
    }
   ],
   "source": [
    "output = sample_qa(\"Tell me about the CS department at Brockport.\")"
   ]
  },
  {
   "cell_type": "code",
   "execution_count": 8,
   "metadata": {},
   "outputs": [
    {
     "name": "stdout",
     "output_type": "stream",
     "text": [
      "1. The steps to apply as an undergraduate to SUNY Brockport can be found here in Step #1 of the application process.\n",
      "\n",
      "2. To apply as an undergraduate at SUNY Brockport, you can either use the online application or download a printable version from their website.\n",
      "\n",
      "3. The steps to apply as an undergraduate student include filling out the online application form, submitting your official transcripts with the Advanced Placement (AP) results if applicable, and paying the $50 application fee."
     ]
    }
   ],
   "source": [
    "output = sample_qa(\"Im an undergrad. What are the steps to apply?\")"
   ]
  }
 ],
 "metadata": {
  "kernelspec": {
   "display_name": "thesis",
   "language": "python",
   "name": "python3"
  },
  "language_info": {
   "codemirror_mode": {
    "name": "ipython",
    "version": 3
   },
   "file_extension": ".py",
   "mimetype": "text/x-python",
   "name": "python",
   "nbconvert_exporter": "python",
   "pygments_lexer": "ipython3",
   "version": "3.11.4"
  },
  "orig_nbformat": 4
 },
 "nbformat": 4,
 "nbformat_minor": 2
}
