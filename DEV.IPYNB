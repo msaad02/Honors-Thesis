{
 "cells": [
  {
   "cell_type": "code",
   "execution_count": 8,
   "metadata": {},
   "outputs": [
    {
     "name": "stdout",
     "output_type": "stream",
     "text": [
      "/Users/matthewsaad/dev/honors-thesis\n"
     ]
    }
   ],
   "source": [
    "import pandas as pd\n",
    "import json\n",
    "import re\n",
    "import os\n",
    "\n",
    "print(os.getcwd())\n",
    "\n",
    "with open(\"./NEW_data_collection/data/website_data.json\") as f:\n",
    "    data = json.load(f)\n",
    "\n",
    "# data = pd.read_csv(\"NEW_data_collection/data/web_data_with_questions.csv\")"
   ]
  },
  {
   "cell_type": "code",
   "execution_count": 9,
   "metadata": {},
   "outputs": [
    {
     "data": {
      "text/plain": [
       "[{'url': 'https://www2.brockport.edu/',\n",
       "  'data': \"Main Page Content\\nBe ThereEvents Calendar\\nWhat's Happening?More on Brockport Today\\nExcellence Within Your Reach\\nGet to Know Us\\n- STEM Day\\nFebruary 3, 2024\\n- Undergraduate Campus Tours\\nSchedule Yours Today, Monday – Friday\\n- Graduate Video Chats\\nSee Schedule\\nFind Your Degree\\nTurn your career goals into a reality. Explore the 100+ programs SUNY Brockport has to offer.Majors, Minors, Graduate, and Online Programs\\nYour Future Home\\n#1\\nStudent Union*\\n#1\\nLibrary Resources•\\n#1\\nAthletics Programs•\\n#2\\nAthletic & Recreational Facilities•\\n* Out of 27 SUNY 4-year institutions\\n• Out of 12 SUNY university colleges\"},\n",
       " {'url': 'https://www2.brockport.edu/about/',\n",
       "  'data': 'About\\nSUNY Brockport is a selective, nationally recognized and accredited public institution. We are an inclusive learning community that inspires excellence through growth, engagement, and transformation.\\nSpotlight\\nAmazon Career Choice Program\\nWe’ve partnered with Amazon to help you take your career to the next level.\\nBrockport Today\\nLearn the latest news and information about SUNY Brockport’s students, faculty, staff and alumni.\\nOur Mission\\nSUNY Brockport is an inclusive learning community that inspires excellence through growth, engagement, and transformation.\\nOur Vision\\nBuilding meaningful lives and vibrant communities\\nOur Values\\nExcellence • Community • Inclusion\\nTransformation • Engagement\\nThe Brockport Promise\\nSUNY Brockport promises to engage our students each day in cultivating their capacity for intellectual, physical, and creative accomplishment.\\nCommunity\\nWe are a University engaged with its community. From its main Brockport campus, to the Village of Brockport, Greater Rochester, and beyond, SUNY Brockport seek ways to engage with community partners to strengthen our area and enrich lives.\\nKey Facts\\nHistory\\nEstablished 1835\\nLocation\\n464 Acres in Brockport, NY\\nDiversity\\n21.6% Underrepresented Students\\n6,934\\nEnrollment\\n5,432 Undergraduate\\n1,502 Graduate\\nLeadership\\nSUNY Brockport is led by Dr. Heidi Macpherson, the first female president in the University’s history. She has broad responsibilities for all academic, student, financial and administrative dimensions of the University, as well as donor and alumni relations and partnership activities locally, regionally, nationally and internationally.\\nDiversity\\nSUNY Brockport is an inclusive learning community that values and celebrates the differences among us. Our Chief Diversity Officer, who is a member of the President’s senior leadership team, leads the effort to conceptualize and cultivate diversity as an institutional priority.\\nInstitutional Accountability\\nSUNY Brockport ensures institutional effectiveness and accountability through a variety of offices, systems, and relationships. We offer multiple sources of information available to the public that is used to make evidenced-based decisions that support fulfillment of the University Mission and its Strategic Plan.'},\n",
       " {'url': 'https://www2.brockport.edu/about/title-ix/',\n",
       "  'data': 'Make a Report\\nMake a Title IX related report online with the option to make your report anonymous.\\nPlease Note\\nDenine Carr will meet with students in person or remotely, whichever the student prefers.\\nOnline sexual harassment, dating violence, and stalking continue to be violations of SUNY Brockport policies.\\nWhat is Title IX\\nTitle IX is a federal civil rights law that protects people in education programs from discrimination based on sex.\\nFAQs for Complainants\\nIf you are reporting an act of sexual assault, IPV, or other sexual misconduct, our complainant’s FAQ can help you understand the basics of the Title IX Grievance Policy, the Code of Student Conduct policy, the resources available to you, and other common questions or concerns.\\nFAQs for Respondents\\nIf you have been accused of sexual assault, IPV, or other sexual misconduct, our respondent’s FAQ can help you understand Title IX Grievance, Code of Student Conduct, and criminal processes, available resources, and other common questions.\\nFAQs for Parents\\nIf your student is involved in a situation that involves the Title IX Office, refer to our FAQs for Parents webpage for more information.\\nTitle IX Coordinators\\nIt is the responsibility of Title IX coordinators to remain an unbiased resource for both parties throughout a gender-based and/or sexual misconduct incident reported to SUNY Brockport\\nStatement on Nondiscrimination\\nSUNY Brockport does not discriminate. SUNY Brockport is an Affirmative Action/Equal Opportunity Employer. The University is committed to fostering a diverse community of outstanding faculty, staff, and students, as well as ensuring equal educational opportunity, employment, and access to services, programs, and activities, without regard to an individual’s race, color, national origin, religion, creed, age, disability, sex, gender identity, sexual orientation, familial status, pregnancy, predisposing genetic characteristics, military status, domestic violence victim status, or criminal conviction. Employees, students, applicants or other members of the University community (including but not limited to vendors, visitors, and guests) may not be subjected to harassment that is prohibited by law, or treated adversely or retaliated against based upon a protected characteristic.'},\n",
       " {'url': 'https://www2.brockport.edu/academics/',\n",
       "  'data': 'Academics\\nWe’re committed to academic excellence, scholarship, research, and service. An education at Brockport helps prepare our students to be ready for what the future holds.\\nOur Degrees\\nWe offer an extensive and diverse range of programs at SUNY Brockport. Whether you are just starting your college career as an undergraduate or you are an experienced learner with your sights on a graduate degree, we have a program that is a perfect fit for you.\\nFeatured Programs\\nCybersecurity\\nLearn to secure computer systems from attack and compromise, and become an expert in one of today’s fastest growing occupations.\\nMaster of Public Health (MPH)\\nThe demand for public health workers and educators continues to grow. Get your MPH 100% online.\\nAcademic Support\\nWe are dedicated to ensuring the success of our students not only during their time at Brockport, but for the career they plan to build after graduating.\\nLearn More:\\nDiversity\\nWe strive to create an inclusive and diverse learning environment at Brockport through programs and scholarships dedicated to helping traditionally underrepresented groups within higher education.\\nCourses & Registration\\nStay up to date with the important deadlines and information related to registration and your course schedule.\\nEngaged Learning\\nOur students work alongside faculty on innovative activities that support and advance your education. Pursue your own research, creative activity, fieldwork, and internships.'},\n",
       " {'url': 'https://www2.brockport.edu/academics/calendar/',\n",
       "  'data': 'Academic Calendar\\nFall Semester 2023\\nWinter Session 2024\\nSpring Semester 2024\\nSummer Session 2024\\nM.W.F. Classes (from 8:00 AM to 3:20 PM) are 50 minutes in length with 15 minutes between classes.\\nT.R. Classes (from 8:00 AM to 4:30 PM) are 75 minutes in length with 15 minutes between classes.\\nUnder section 224-A of the Education Law of the State of New York, absence from class for religious beliefs is excused, and the opportunity to make up work is provided.\\nAcademic Year Definition\\nSUNY Brockport operates on a semester system. The calendar consists of a fall and spring semester during the academic year. The fall and spring semesters shall be a minimum of 15 weeks of instruction each, inclusive of periods for examinations. The winter and summer sessions are of varying lengths.'},\n",
       " {'url': 'https://www2.brockport.edu/academics/career/employer/',\n",
       "  'data': 'SUNY Brockport offers many opportunities for students who are interested in developing their leadership skills.\\nPotential Employers\\nOur goal is to effectively and conveniently meet your recruiting needs, whether you are in search of candidates for part-time or full-time jobs, internships, or volunteer opportunities.\\nThe Employer Relations Team is committed to:\\n- Collaborating with employers to facilitate a beneficial experience.\\n- Being a convenient and effective partner.\\n- Developing creative solutions to maximize your experience with SUNY Brockport.\\n- Providing exceptional customer service.\\nTo connect with a member of the Employer Relations team, please call (585) 395-2159. We would be happy to host you on campus.\\nWe sincerely appreciate your interest and look forward to working with you.\\nEMPLOYEE ADVISORY BOARD\\nOur mission is to provide a forum for employers and staff members from SUNY Brockport’s Office of Career Services to engage in relevant discussion regarding a wide variety of career and employment issues from outside the University. Information gathered from these discussions will contribute to the quality and impact of career programs and services for Brockport students.\\nThe Advisory Board will include representatives from a wide variety of industries, which employ university graduates, focusing on Western/Central New York. This board will meet at least twice each year on the University’s campus. Faculty and other university staff will interact with Board members (when/where applicable) while they are on campus.'},\n",
       " {'url': 'https://www2.brockport.edu/academics/eagle-success/',\n",
       "  'data': 'Login to EagleSUCCESS\\nWe believe a campus community engaged with our students will lead to their success. EagleSUCCESS is a collaborative tool for instructors, advisors, and students. With it we can more quickly identify students who are struggling and implement interventions with students in a timely way. How does using EagleSUCCESS increase student success?\\nStudents can:\\n- Advocate for themselves and ask for help.\\n- Know their progress.\\n- Schedule advisement and tutoring appointments.\\n- See all campus resources listed in one place.\\nAdvisors can:\\n- See a fuller picture of each student and their performance.\\n- Implement interventions early and effectively.\\n- Connect students to campus resources.\\nInstructors can:\\n- Share concerns with students and advisors.\\n- Refer students to Tutoring and other resources.\\n- Celebrate student achievements.\\nLearn How to Use EagleSUCCESS\\nLook for the EagleSUCCESS tutorial guides and videos in Brightspace.\\nQUESTIONS?\\nEmail EagleSUCCESS\\nor\\nThomas Chew\\nDirector of Academic Success Center\\nPhone: (585) 395-2311'},\n",
       " {'url': 'https://www2.brockport.edu/admissions/',\n",
       "  'data': 'Admissions\\nWorld-class education, distinguished faculty, and modern facilities, all at one of the lowest tuition rates in the nation. Excellence is within your reach.\\nMillions Available in Scholarships\\nWe know that affordability and value for your undergraduate or graduate degree is more important than ever. So we’re here to help.\\nOur Degrees\\nGet ready to soar. Find your Academic Degree & Career Path.\\nRequest Info\\nNo matter what you’re looking for out of your college experience, we’ve got you covered. Learn more about Brockport’s 50 undergraduate majors and 55+ minors, 50+ graduate programs, 100+ clubs & organizations, 23 athletic teams, and so much more.\\nApply\\nFirst apply to Brockport. Then: land your dream career. An education from SUNY Brockport doesn’t just carry you through the classroom — it will carry you through the entirety of your career.\\nApply as a:\\nVisit\\nVisit us in person or visit us virtually. Either way, we’re confident that you’ll fall in love with the vibrant character of Brockport.\\nDiversity & Opportunity Programs\\nEquity, Diversity and Inclusion are at the forefront of our values as an institution. We are enriched by a diverse student population. So no matter your background, race, religion – we welcome it. Apply to SUNY Brockport today.\\nEducational Opportunity Program\\nBrockport’s Educational Opportunity Program allows economically and educationally disadvantaged students to achieve their educational goals.\\nMcNair Program\\nThe McNair Program is designed to prepare low-income, first-generation college juniors and seniors and students from traditionally underrepresented groups to matriculate and retain in graduate programs and earn doctoral degrees.\\nFannie Barrier Williams Scholars\\nThe Fannie Barrier Williams Scholars (FBWS) program will provide four-year scholarships to approximately 30 to low-income students per academic year.\\nAccepted Students\\nYou did it! Congratulations on your acceptance to Brockport. Grab your green and gold, and let’s do this.\\nUndergraduate Students\\nWelcome Home! The Golden Eagle family is ready and waiting to help you make the most of your next 4 years at Brockport.\\nNext Steps:\\nGraduate Students\\nOn behalf of our Center for Graduate Studies, congratulations! Completing your advanced degree at SUNY Brockport will allow you to further your education, and pursue your career goals – all at an exceptional value.\\nNext Steps:\\nUndergraduate Admissions\\nWhat to know. When to visit. How to apply. It’s all here to help you Begin at Brockport.\\nHours & Location\\nRakov Center for Student Services (Main Office)\\nMon – Fri: 8 am – 5 pm\\nRobert Wyant\\nDirector, Undergraduate Admissions\\nCall: (585) 395-2751\\nText: (585) 366-8886\\nEmail: admit@brockport.edu\\nCenter for Graduate Studies\\nEarn your graduate degree from SUNY Brockport. With 50+ online, hybrid, and face-to-face programs — the right time is now.\\nHours & Location\\nRakov Center for Student Services 101\\nMon – Fri: 8 am – 4 pm\\nMichael Harrison\\nDirector, Center for Graduate Studies\\nCall: (585) 395-2525\\nEmail: gradadmit@brockport.edu'},\n",
       " {'url': 'https://www2.brockport.edu/admissions/apply-to-brockport/',\n",
       "  'data': 'Student Type\\nFirst-time Student\\nIf you are a high school senior, homeschooled, or have never attended college, choose this option. If you have earned college credits while still in high school, we consider you a first-time student.\\nGraduate Student\\nFor individuals interested in study beyond the bachelor’s degree. Also combined degree programs for high parameter students seeking to complete both their bachelor’s and master’s degree within 5 years.\\nTransfer Student\\nIf you have attended any college after high school graduation, you should choose this option.\\nInternational Student\\nIf you are not a US citizen and interested in undergraduate or graduate study, you should choose this option.\\nVeteran Student\\nIf you have ever served or are serving in the US Armed Forces, you may be eligible for veterans or military education benefits. Students should apply as a first-time, transfer or graduate student.'},\n",
       " {'url': 'https://www2.brockport.edu/admissions/request/',\n",
       "  'data': 'Skip to main content\\nSkip to page navigation\\nsearch\\nopen main navigation\\nInformation For:\\nInformation For\\nFuture Students\\nInternational Students\\nCurrent Students\\nFaculty & Staff\\nParents\\nAlumni\\nInfo For:\\nFuture Students\\nInternational Students\\nCurrent Students\\nFaculty & Staff\\nParents\\nAlumni\\nApply\\nRequest Info\\nGive\\nQuicklinks:\\nQuicklinks\\nWebmail\\nWeb Banner (Brockportal)\\nBrightspace\\nDirectory\\nCourse Schedule\\nAccommodate\\nStudent Bill Pay\\nEagleSUCCESS\\nmyBROCKPORT\\nUniversity Policies\\nBrockport Today\\nEvents Calendar\\nAcademic Calendar\\nLibrary\\nIT Service Desk\\nNetID Lookup & Password Change\\nEmergency Info\\nIssue Reporting Center\\nAbout\\nScholarships & Aid\\nAcademics\\nAdmissions\\nStudent Life\\nAthletics\\nQuicklinks\\nsearch\\nHome\\nAdmissions\\nRequest Information\\nRequest Information\\nLoading…\\nLogin'},\n",
       " {'url': 'https://www2.brockport.edu/admissions/visit/',\n",
       "  'data': \"Visit\\nUndergraduate Visits\\nTo plan your visit, explore the options below or contact Undergraduate Admissions at (585) 395-2751 or admit@brockport.edu.\\nSchedule a Tour\\nStart picturing yourself here. We offer guided tours of campus Monday through Friday, throughout the year, which include:\\n- A 30-minute info session\\n- A 60-minute campus tour with a Student Tour Guide\\nBrockport Campus 90 minutes Book a Tour\\nGroup Tours\\nA chance for 9-12th grade high school students to visit SUNY Brockport.\\nBrockport Campus Varies Request a Group Tour\\nSpring Events\\nSTEM Day & Kinesiology, Sport Studies & Physical Education Day\\nJoin us for two special Open Houses for students interested in Science, Technology, Engineering, Math or Kinesiology, Sport Studies and Physical Education:\\n- Tour campus\\n- Meet with professors and academic advisors\\n- Learn more about admissions, financial aid, and scholarships\\n- Connect with current students and learn about student life, athletics, and living on campus\\nFebruary 3 Brockport Campus 4–5 Hours\\nRegister for STEM Day Register for Kinesiology & Sport Studies Day\\nAccepted Student Days\\nCongratulations on your acceptance to SUNY Brockport! Now it’s time to celebrate. Join us on campus for an exciting day where you’ll learn about all that Brockport has to offer:\\n- Academic presentations\\n- Workshops on career development, financial aid, residential life, and more\\n- Chat with student clubs and organizations\\n- Tours of campus and the residence halls\\n- Free lunch!\\nBrockport Campus 5 Hours\\nDay-Long Shadow\\nShadow a current student as they go through a typical day on campus. Accepted Students will spend the day attending classes, eating in Harrison Dining Hall, and hanging out with a student host.\\nBrockport Campus 3+ Hours\\nScholars Sleepover\\nTake a “last look” at campus in the most in-depth way possible: by sleeping over. Students will stay the night in a residence hall, eat in the dining halls, shadow college classes, and connect with current students.\\nBrockport Campus Overnight\\nFall Events\\nFall Open House\\nConsidering Brockport? We'd love to meet you! Join us at a Fall Open House to:\\n- Tour campus\\n- Meet with professors and academic advisors\\n- Learn more about admissions, financial aid, and scholarships\\n- Connect with current students and learn about student life, athletics, and living on campus\\nBrockport Campus 5 Hours\\nOff Campus\\nWe know there's a lot riding on your college decision. We're giving you lots of opportunities to connect with SUNY Brockport, even if you can't make it to campus.\\nAccepted Student Receptions\\nBrockport is coming to you this Spring. Join us for a dinner and conversation in a nearby city. Meet with students, staff, and alumni. Learn all about what makes Brockport the right fit for you.\\nBinghamton, Syracuse, NYC & Albany 2 hours Reserve Your Spot\\nHigh School Visits\\nMark your calendars for any of the upcoming college fairs happening throughout the state. Meet with one of our representatives, get your questions answered, and learn more about Brockport!\\nYour High School Varies Find Us at Your School\\nCollege Fairs\\nA chance for 9-12th grade high school students to visit SUNY Brockport.\\nState-wide Varies Find a Fair\\nTransfer Fairs\\nAre you a current student at a SUNY community college? Meet with our Admissions representatives right at your school. Explore your options for transferring to Brockport.\\nState-wide Varies Find a Fair\\nVirtual\\nThese days, we all know and love a virtual meeting option. If you’re not right around the corner, connect with us virtually and get your questions answered, all from the comfort of your screen!\\nTransfer Video Appointments\\nRegister to talk with a Transfer Advisor virtually and have all your questions answered.\\nVirtual 30 minutes Make an Appointment\\nVideo Tours\\nWatch as our student tour guides take you on a tour of some of our most popular spots on campus.\\nVirtual Varies Watch Now\\nGraduate Visits\\nThe Center for Graduate Studies offers a variety of opportunities to connect with us. Please contact us if you have any questions: gradadmit@brockport.edu or (585) 395-2525. We welcome appointments and drop-in visits on the Brockport campus, 101 Rakov, Monday – Friday, 8am – 4pm.\\nVirtual Chats\\nOffered twice a month, our Graduate Video Chats give students an opportunity to connect with the Center for Graduate Studies on various topics or to just check-in and ask questions.\\nVirtual 1 hour Sign Up\"},\n",
       " {'url': 'https://www2.brockport.edu/alumni/',\n",
       "  'data': 'The Port\\nKeep up with the latest news, stories, videos, photos, events, Class Notes, and much more. The Port is a monthly e-newsletter delivered the first Thursday of every month throughout the academic year. Update your info to ensure you receive The Port and other emails from us all year long.\\nCareer Connections\\nLeverage the power of the Brockport network, make connections, and find career opportunities through our LinkedIn group: Eagle Links. Order your transcripts or utilize Career Services for a lifetime of professional guidance.\\nHomecoming & Family Weekend\\nReuniting with family & friends during Homecoming & Family Weekend is a time to reminisce and make new memories. Homecoming & Family Weekend 2024 will run from September 19 - September 22. We’ve got something for everyone. You don’t want to miss it!'},\n",
       " {'url': 'https://www2.brockport.edu/alumni/be-generous/ways-to-give/',\n",
       "  'data': 'As public funding for higher education continues to decrease, private support has never been more vital to help fulfill the mission of the University. Whether it’s providing funding for scholarships, enhancements to academic programs and campus life, emergency funds, or even student research, your philanthropy makes a lasting impact. Below you will find all the ways you can make a gift — no matter the size - and make a difference today!\\nQuestions about the different ways to support SUNY Brockport? Don’t hesitate to reach out. Thank you for your support!\\nPhone: (585) 395-2451\\nEmail: giving@brockport.edu\\nOnline\\nMake your gift through the University’s secure online giving form . Use your cell phone and take advantage of Apple Pay and Google Pay for easy processing.\\nGive us a Call\\nCall (585) 395-2451 to make a gift over the phone with a credit card.\\nBy mail\\nPlease make checks payable to “The Brockport Foundation,” and send it to:\\nThe Brockport Foundation, 350 New Campus Drive, Brockport, NY 14420\\nEmail us for paper forms.\\nEndowment\\nInterested in creating an endowed scholarship or honoring a person or organization with a gift to the University that lasts forever. Learn more.\\nPlanned Giving\\nProviding a planned gift could be as simple as including Brockport in your will. Or, consider a variety of investment strategies.\\nIf you are ready to begin your will today, you can use FreeWill, a free, online tool to guide you through the process of creating your will today. It takes about 20 minutes to complete and makes it easy for you to include a lasting legacy with SUNY Brockport.\\nIf you have already included a gift to SUNY Brockport in your will, please fill out this form to let us know about your gift intentions.\\nStocks and Appreciated Assets\\nDonating stocks allows you to avoid capital gains tax and often take a charitable deduction for the full value of the asset. We have insisted in this secure stock donation tool to make it easier than ever.\\nPlease note: When you donate stock, please use this Donate My Stock link so we can track your gift, send you the correct receipt, and you can get the tax savings you deserve.\\nIf you would prefer to make your donation through your broker, access our transfer information from the link above to notify SUNY Brockport of your gift.\\nDonor-Advised Funds\\nDonor-Advised Funds (DAFs) are investment accounts for the sole purpose of supporting charitable organizations today. If you have a DAF, you can use this secure DAF-giving tool to make your impact today. By using the link below, you can:\\n- Recommend how you’d like your grant to be allocated\\n- Communicate your wishes to SUNY Brockport\\n- Share the details of your DAF grant\\n- Make your grant recommendation\\nUsing this tool to grant from your DAF also saves us a lot of time, so thank you! It’s also a great way to ensure we have consistent financial support while saving cash for immediate needs.\\nCryptocurrency\\nWe now accept donations of Ethereum, Bitcoin, and other cryptocurrencies! This gives us one more way to fund our work and can provide you with extra tax benefits.\\nMatching Gifts\\nMany employers sponsor matching gift programs and will match most charitable contributions made by their employees. To find out if your company has a matching gift policy, please enter your employer’s name below. Some companies will match gifts made by retirees, spouses and/or board members. The impact of your gift to SUNY Brockport could be doubled by submitting your matching gift form.'},\n",
       " {'url': 'https://www2.brockport.edu/graduate/current-students/',\n",
       "  'data': 'Academics Programs Course Catalog Course Schedule Course Registration Degree Works Tutoring Library, Information and Technology Services New Students New Student Checklist Financing Your Education Residental Life/Learning Communities New Student FAQs Campus Services Accessibility & Accommodations Career Services Eagle Cares Financial Aid Health Center Parking and Transportation Services Registration and Records Student Accounts Title IX'},\n",
       " {'url': 'https://www2.brockport.edu/library/',\n",
       "  'data': 'Skip to main content\\nSkip to page navigation\\nsearch\\nopen main navigation\\nInformation For:\\nInformation For\\nFuture Students\\nInternational Students\\nCurrent Students\\nFaculty & Staff\\nParents\\nAlumni\\nInfo For:\\nFuture Students\\nInternational Students\\nCurrent Students\\nFaculty & Staff\\nParents\\nAlumni\\nApply\\nRequest Info\\nGive\\nQuicklinks:\\nQuicklinks\\nWebmail\\nWeb Banner (Brockportal)\\nBrightspace\\nDirectory\\nCourse Schedule\\nAccommodate\\nStudent Bill Pay\\nEagleSUCCESS\\nmyBROCKPORT\\nUniversity Policies\\nBrockport Today\\nEvents Calendar\\nAcademic Calendar\\nLibrary\\nIT Service Desk\\nNetID Lookup & Password Change\\nEmergency Info\\nIssue Reporting Center\\nAbout\\nScholarships & Aid\\nAcademics\\nAdmissions\\nStudent Life\\nAthletics\\nQuicklinks\\nsearch\\nHome\\nDrake Memorial Library\\nDrake Memorial Library\\nFriday, December 22, 2023 • 8am - 4pm\\nSearch terms:\\nfilter/sort\\nSearch\\nAdvanced\\nItem type:\\nAll\\nArticles\\nBooks\\nVideos\\nCourse Reserves\\nNewspapers\\nJournal Titles\\nSort By:\\nRelevance\\nDate-newest\\nShow (multiple):\\nPeer Reviewed/Scholarly\\nAvailable In Library\\nAvailable Online\\nDictionaries & Encyclopedias\\nLast Ten Years\\nAsk a Librarian\\nRooms in the Library\\nDatabases by Subject\\nMy Accounts\\nDatabases by Subject\\nGeneral, Multidisciplinary\\nAfrican American Studies\\nAnthropology\\nArchaeology\\nArt\\nArts for Children\\nBiology\\nBook Reviews\\nBusiness & Economics\\nChemistry\\nCommunication\\nComputer Science\\nControversial Issues\\nCounselor Education\\nCriminal Justice\\nDance\\nEarth Science\\nEducation\\nEnglish Literature\\nEnvironmental Science\\nFilm Studies\\nHealthcare Studies\\nHistory\\nKinesiology, Sports & Phys. Ed.\\nLaw\\nMathematics\\nMilitary Science\\nModern Languages\\nMusic\\nNews\\nNursing\\nPhilosophy\\nPhysics\\nPolitical Science\\nPsychology\\nPublic Administration\\nPublic Health & Health Ed.\\nRecreation & Leisure Studies\\nSocial Work\\nSociology\\nTheatre\\nWomen & Gender Studies\\n×\\nFind\\nAbout\\nServices\\nHelp\\nContact Us\\nLibrarian Instruction for Classes\\nArticles, Databases & Journals\\nArticle Look up by Citation\\nArticle Lookup by DOI\\nDatabases A-Z\\nDatabases by Subject\\nJournals & Newspapers Listing\\nResearch Guides\\nBooks, Videos & More\\nWorldCat (beyond Drake Library)\\nDigital Collections\\nDictionaries & Encyclopedias\\nThe Rose Archives\\nBrockport @ SUNY Open Repositories\\nThe Rose Archives\\nBorrowing Policies\\nBrockport Downtown\\nDirectory\\nFriends of the Library\\nGive to the Library\\nHours\\nLibrary Advisory Council\\nMaps & Floor Plans\\nOur Mission, Vision and Values\\nRooms in the Library\\nStudent Employment\\nVisitor Information\\nAlumni Services\\nAsk a Librarian\\nBorrowing Policies\\nCopyright Basics\\nFaculty & Staff Support\\nFaxing\\nInterlibrary Loan\\nLibrarian Instruction for Classes\\nRenew My Loans\\nResearch Appointment\\nRooms & Reservations\\nScreening Room\\nTech Tools\\nThe Rose College Archives\\nAsk a Librarian\\nCiting Your Sources\\nHow do I find…\\nIT Service Desk\\nMake a Research Appointment\\nPhone Numbers\\nResearch Guides\\nRequest Librarian Instruction\\nVLab Instructions\\nWireless Printing\\nEmail:\\naskdrake@brockport.edu\\nCirculation Desk Phone:\\n(585) 395-2277\\nText: (585) 449-6811\\nWe’re here to help\\n24/7\\nOnline Access\\n10\\nLibrarians\\n226\\nComputers\\nLogin'},\n",
       " {'url': 'https://www2.brockport.edu/life/',\n",
       "  'data': 'Student Life\\nWelcome to a community that embraces and celebrates who you are, engages in learning both inside and outside of the classroom, and commits to being by your side every step of the way.\\nSpotlight\\nIdentity & Belonging\\nFind your folx, be embraced by a community of peers, and feel supported along the way. Learn more about how to BeYou at Brockport.\\nIntercultural Center\\nThe Joey Jackson Intercultural Center provides students of color with opportunities for leadership development, celebration, and education on issues related to inclusive excellence.\\nHousing & Dining\\nResidential Life\\n13 residence halls, a student townhome complex, and an entire residential staff dedicated to making you feel comfortable.\\nYour Home Awaits:\\nDining\\nOur Dining Services (Brockport Auxiliary Service Corporation) are consistently ranked as one of the best in all of SUNY. Choose from 9 dining locations, diversified menus, including vegan, vegetarian, gluten-free, and ethnic entrees, and flexible & affordable meal plans.\\nHungry?\\nDiversity\\nWe know that to make a better world, we must continually build a better Brockport. Our commitment to diversity shines through in our 23 multicultural clubs, our award-winning annual conference on diversity and acceptance, and programming that relentlessly teaches multiculturalism, social justice, and inclusive excellence.\\nExperience a Bias Incident?\\nWe are committed to providing a safe & supportive environment for all.\\nHealth & Counseling\\nFrom physical health to mental wellness, to Prevention & Outreach Services and Student Accessibility, the Hazen Center for Integrated Care is here to support your mind, body and spirit.\\nBe Well:\\nSafety\\nWe pride ourselves on the safety of our campus, and the relationships fostered between law enforcement & our community.'},\n",
       " {'url': 'https://www2.brockport.edu/live/profiles/5360-web-privacy-policy',\n",
       "  'data': 'Policy Statement\\nThis policy describes Brockport’s privacy practices regarding information collected from visitors to this website. It also describes what data is collected and how that information is used. Brockport may, at its sole discretion, change, modify, add, or delete portions of this policy.\\nThis website provides links to other websites that are not under Brockport’s control or governed by this policy. Because this privacy policy only applies to this site, you should examine the privacy policy of any other website, including other State sites that you access through this website.\\nWe do not collect any personal information about you unless you provide that information voluntarily by sending email or completing an online form. This policy is consistent with the provisions of the Internet Security and Privacy Act, the Freedom of Information Law, and the Personal Privacy Protection Law.\\nPurpose/Scope\\nOur Commitment to Privacy\\nThis website is designed to make it easier and more efficient for individuals and businesses to interact with SUNY Brockport, State University of New York. Like all online resources, we recognize that visitors to this website are concerned about their privacy. Brockport is committed to preserving your privacy when visiting this website.\\nApplicability\\nThere is no applicability provided for this policy at this time\\nDefinitions\\nThe following definitions apply to terms used in this policy:\\nTerms such as “us,” “we,” “our” and “Brockport” refer to SUNY Brockport, State University of New York.\\n“Our website” refers to all Web pages officially maintained by us within the brockport.edu domain for our marketing efforts or to conduct our day-to-day business with our students, alumni, faculty and staff. This term does not apply to personal or other unofficial pages unrelated to our marketing efforts or our day-to-day business.\\nThe following terms appear in italics throughout this policy:\\nPersonal information: For purposes of this policy, “personal information” means any information concerning a natural person which, because of name, number, symbol, mark, or other identifier, can be used to identify that natural person.\\nUser: shall have the meaning set forth in subdivision 8 of section 202 of the State Technology Law.\\nPolicy Procedures\\nInformation Collected When You Visit This Website\\nWhen visiting this website, Brockport automatically collects and stores the following information about your visit:\\n- The Internet Protocol address. The Internet Protocol address is a numerical identifier assigned either to your Internet service provider or directly to your computer, which is used to direct Internet traffic to you;\\n- The type of browser, its version and the operating system you used;\\n- The date and time you visited this site;\\n- The web pages or services you accessed at this site;\\n- The website you visited prior to coming to this website;\\n- The website you visit as you leave this website; and\\n- If you downloaded a file, the file that was downloaded.\\nNone of the foregoing information is deemed to constitute personal information by the Internet Privacy and Security Act.\\nThe University uses Google Analytics to automatically collect and aggregate this information on many parts of the website. You can read how Google uses data when you visit our website.\\nThe information collected is used to improve the content of the Brockport website and to help us understand how our users interact with our website. This information is collected for statistical analysis and to determine what information is of most and least interest to our users. The information is not collected for commercial marketing purposes, and Brockport does not sell or otherwise disclose the information collected from our website for commercial marketing purposes.\\nInformation Collected When You Email Us or Complete a Transaction\\nIf at any time you email us, your email address and the contents of your email will be collected. This includes not only text characters, but also any audio, video and graphic information formats you send us.\\nYour email address and the information included in your message will be used to respond to you, to address issues you identify, to improve this website, or to forward your message to another SUNY or State agency for appropriate action. Your email address is not collected for non-university commercial purposes, and we are not authorized to sell or otherwise disclose your email address for non-university commercial purposes.\\nDuring your visit to the Brockport website you may take a survey, register for a class, fill out an application, conduct a financial transaction, access an authenticated file, complete an order form or complete an online form for some other purpose. We will use the data you provide us during these transactions, including personal information, to operate our programs, which may include the provision of goods, services and information.\\nThe information collected by Brockport may be disclosed by Brockport for those purposes that may be reasonably ascertained from the nature and terms of the transaction in which the information was submitted.\\nWe do not knowingly collect personal information from children or create profiles of children through this website. Users are cautioned, however, that the collection of personal information will be treated as though it was submitted by an adult.\\nDisclosure of Information Collected Through This Website\\nInformation collected through this website, personal or otherwise, may, if not protected by federal or state law, be subject to disclosure pursuant to law, such as the Freedom of Information Law (FOIL), or court order.\\nAdditionally, we may disclose personal information to federal or state law enforcement authorities to enforce our rights against unauthorized access or attempted unauthorized access to our information.\\nFinally, we may aggregate and disclose information collected through this website using statistical techniques in a form that cannot be used to identify any particular person. Such data might be publicly disclosed for the purposes of program evaluation.\\nSecurity\\nWe are strongly committed to protecting personal information collected through our website against unauthorized access, use or disclosure. Confidentiality, integrity, and availability of information are staples of our security goals which drive our procedures. Consequently, we limit employee access to personal information from this website to only those employees who need access to perform a specific job. Security measures have been integrated into the design, implementation and day-to-day operations of this site as part of our continuing commitment to the security of electronic content as well as the electronic transmission of information. Our procedures include, but are not limited to, authentication, authorization, monitoring, auditing, and encryption.\\nNOTE: The information contained in this policy should not be construed in any way as giving business, legal, or other advice, or warranting as fail proof, the security of information provided via this website. For site security purposes and to ensure that this website remains available to all users, we employ software to monitor traffic to identify unauthorized attempts to upload or change information or otherwise cause damage to this site.\\nCookies\\nCookies are simple text files stored by your Web browser to provide a means of distinguishing among users of this website. The use of cookies is a standard practice among Internet websites. Most often, cookies store a randomly generated identifying tag on the software or hardware you use to access this website. The software and hardware you use to access this website allows you to refuse new cookies or delete existing cookies.\\nWe use cookies in the following ways to better serve you:\\n- to verify authorized access to web systems that contain personal information (e.g. Blackboard, Banner);\\n- to enhance or customize your visit to our website (e.g. to remember user preferences); and\\n- to better understand the use of our website so we can better serve users in the future.\\nTo protect personal information, we may require users to accept cookies to access certain online services. However, we do not require the use of cookies to access any public areas of our website.\\nIn addition, we use and share site analytics and data with various third-party services for behavioral and remarketing campaigns. These marketing activities may involve:\\n- showing online advertisements to users whose online habits have indicated a possible interest in Brockport’s academic programs;\\n- showing online advertisements to users who have previously visited our website.\\nThese third-party vendors may use cookies to track Internet use. Information gathered by these cookies may be used to display Brockport advertisements on websites across the Internet. To opt-out of receiving behavioral or remarketing messages from us, you need to opt-out by using tools provided by various third-party vendors:\\nLinks Disclaimer\\nIn order to provide visitors with certain information, this website provides links to local, state and federal government agencies, and websites of other organizations. A link does not constitute an endorsement of the content, viewpoint, accuracy, opinions, policies, products, services or accessibility of those websites. Once you visit another website from this website, you are subject to the terms and conditions of that website, including, but not limited to, its privacy policy.\\nInformation Disclaimer\\nInformation provided on this website is intended to allow visitors immediate access to public information. While all attempts are made to provide accurate, current and reliable information, we recognize the possibility of human and/or mechanical error. Therefore, SUNY Brockport, its employees, officers and agencies make no representations as to the accuracy, completeness, currency or suitability of the information provided by this site, and deny any expressed or implied warranty as to the same.\\nLinks to Related Procedures and Information\\nThere are no links for this policy at this time.\\nContact Information\\nSUNY Brockport may revise or update this Privacy Policy. Please contact us as described below or check back at this site to obtain a copy of this Privacy Policy.\\nFor questions regarding this Internet privacy policy, please contact our privacy officer via e-mail at privacy@brockport.edu or by regular mail at:\\nPrivacy Compliance Officer\\nSUNY Brockport\\n350 New Campus Dr.\\nBrockport, NY 14420\\nHistory (in descending order)\\nApproval\\nThere are no approvals for this policy at this time.'},\n",
       " {'url': 'https://www2.brockport.edu/scholarships-aid/',\n",
       "  'data': 'Scholarships & Aid\\nAffordability starts here. We invest millions of scholarship dollars in our students. We drive down out-of-pocket costs. And we make financial aid resources that are more accessible than ever.\\nTuition & Cost\\nBrockport offers one of the lowest tuition rates in the nation. Why pay more?\\nUndergraduate\\nCosts by Year\\nGraduate\\nCosts by Semester\\n*Tuition amount reflects standard graduate programs. Learn more about tuition rates for specialized professional programs, including MSW, MBA and Doctor of Nursing Practice.\\nFirst-Year & Transfer Scholarships\\nBrockport’s scholarship program is one of the most competitive in New York State.\\nGold Scholarship\\n$4,500/year\\nAwarded to students with high school GPAs of 93+.\\nGreen Scholarship\\n$2,500/year\\nAwarded to students with high school GPAs of 88+.\\nPrometheus (Honors) Scholarship\\n$6,000/year\\nAwarded to qualified Honors Students. Includes: campus parking pass, priority registration privileges, first choice placement in a Living Learning Community, and more.\\nEmpire Scholarship\\nfor Out-of-State Students\\n$5,000/year\\nAwarded to qualified Non-NYS Residents to help offset the cost of out-of-state tuition.\\nResidential Scholars Award*\\nFree Housing for your First Year\\nOne-time award for first-year residents with 96 or higher GPAs.\\n*Available to NYS residents only. Eligible out-of-state students will receive the Gold and Empire Scholarships (totaling $11,000) which will cover the cost of housing.\\nEagle Scholarship\\n$1,000 one-time award\\nAwarded to help offset on-campus housing expenses.\\nTransfer Scholarships\\n$1,500 & $1,000 Transfer Awards\\nScholarships for qualified students entering Brockport with 24 or more credits.\\nQuestions about Scholarships?\\nHours & Location\\nRakov Center for Student Services (Main Office)\\nMon – Fri: 8 am – 5 pm\\nRobert Wyant\\nDirector, Undergraduate Admissions\\nCall: (585) 395-2751\\nText: (585) 366-8886\\nEmail: admit@brockport.edu\\nGraduate Aid\\nWith SUNY tuition, getting your advanced degree is more affordable than ever. In addition to Federal Student Aid, we offer a variety of scholarships, fellowships, and graduate/teaching assistantships to assist in the funding of your graduate education.\\nQuestions about Graduate Aid?\\nHours & Location\\nRakov Center for Student Services 101\\nMon – Fri: 8 am – 4 pm\\nMichael Harrison\\nDirector, Center for Graduate Studies\\nCall: (585) 395-2525\\nEmail: gradadmit@brockport.edu\\nCurrent Student Scholarships\\nFoundation Scholarships\\n350+ awards\\ncreated by Brockport donors.\\nScholarships from the Brockport Foundation recognize students for their academic excellence, co-curricular activities, and professional promise. Current students in each of the three academic schools as well as participants in many student activities have opportunities to receive these scholarships.\\nApply from November 15 – February 15.\\nTuition-Free Programs\\nSee if you can go to SUNY Brockport for free.\\nThrough both state-aid programs and our own competitive initiatives, students have opportunities to complete their Brockport education for free.\\nExcelsior Scholarship\\nFull tuition for NYS residents in middle-class households.\\nFannie Barrier Williams\\nScholars\\nTotal cost of attendance fully-covered for low-income students.\\nAmazon Career Choice\\nPursue a fully pre-paid Brockport degree as an Amazon employee.\\nFinancial Aid\\nApplying for aid can be difficult, but we’re here to help. Find resources for filling out your FAFSA, information on grants and loans, or speak to one of our seasoned financial aid professionals.\\nQuestions about Financial Aid?\\nSchool Codes\\nFederal Code (FAFSA): 002841\\nNew York State TAP Code: Undergraduate 0900\\nKimberley Willis\\nDirector, Financial Aid\\nCall: (585) 395-2501\\nEmail: faid@brockport.edu'},\n",
       " {'url': 'https://www2.brockport.edu/support/emergency/',\n",
       "  'data': 'It is imperative that everyone be prepared before an emergency occurs. Familiarize yourself with our emergency information and procedures, including pre-incident planning, emergency response communication systems, a crisis management program for faculty and staff, and operational recovery strategies.\\nRAVE Emergency Alert System\\nSign up for RAVE to receive warnings and emergency information via text message, phone call, email and other outlets. This service is free and secure, and is a crucial step in keeping yourself informed when emergencies arise.\\nSign up for RAVE! Get the Eagle Guardian App\\nEmergency Numbers\\nResources'},\n",
       " {'url': 'https://www2.brockport.edu/support/faculty-staff/',\n",
       "  'data': 'Classroom Assistance\\nForms & Requests\\nHave a Concern?\\nFind the right resource to voice your concern, or to find help.\\nUnions & Bargaining Units\\nAdministration & Finance\\nThe Division of Administration and Finance oversees the physical upkeep of the campus, budget, employee relations, and more.'},\n",
       " {'url': 'https://www2.brockport.edu/support/human-resources/careers/',\n",
       "  'data': 'Search Faculty Jobs Search Staff Jobs Existing Applicants\\nExceptional Benefits\\nHealth Insurance, Fringe Benefits, Retirement, and more. Learn about all of the many benefits offered to our employees.\\nDiversity & Inclusion\\nDiversity & Inclusion are at the forefront of our values as an institution. Learn more about the diverse community you would be joining at Brockport.\\nRochester Educational Opportunity Center\\nLocated in the heart of downtown Rochester and an extension of SUNY Brockport, REOC and Brockport Downtown provide educational and employment opportunities.\\nOn-Campus Childcare\\nOn-site childcare makes your transition to Brockport even more seamless.\\nThe Village of Brockport\\nYou’ll fall in love with the quaint Village of Brockport, nestled right along the Erie Canal.\\nCity of Rochester\\nStart exploring New York State’s 3rd largest city.'},\n",
       " {'url': 'https://www2.brockport.edu/support/human-resources/nondiscrimination/',\n",
       "  'data': 'SUNY Brockport does not discriminate. SUNY Brockport is an Affirmative Action/Equal Opportunity Employer. The University is committed to fostering a diverse community of outstanding faculty, staff, and students, as well as ensuring equal educational opportunity, employment, and access to services, programs, and activities, without regard to an individual’s race, color, national origin, religion, creed, age, disability, sex, gender identity, sexual orientation, familial status, pregnancy, predisposing genetic characteristics, military status, domestic violence victim status, or criminal conviction. Employees, students, applicants or other members of the University community (including but not limited to vendors, visitors, and guests) may not be subjected to harassment that is prohibited by law, or treated adversely or retaliated against based upon a protected characteristic.\\nReporting a Discrimination or Harassment Concern\\nIf you are considering a report of discrimination or harassment and would like to be contacted, please fill out this form. This report will be sent directly to the Affirmative Action Officer.\\nForms\\n- Request for Reasonable Accommodation\\n- Request for Sign Language Interpreter (Contact HR for more information)\\nAffirmative Action Laws & Policies\\nThe University’s policy is in accordance with federal and state laws and regulations prohibiting discrimination and harassment. These laws include the Americans with Disabilities Act (ADA), Section 504 of the Rehabilitation Act of 1973, Title IX of the Education Amendments of 1972, Title VII of the Civil Rights Act of 1964 as Amended by the Equal Employment Opportunity Act of 1972, and the New York State Human Rights Law. These laws prohibit discrimination and harassment, including sexual harassment and sexual violence.\\n- SUNY Discrimination and Sexual Harassment Complaint Procedure\\n- SUNY Policy on Equal Opportunity: Access, Employment and Fair Treatment in the State University of New York\\n- SUNY Sexual Harassment Response and Prevention Policy Statement\\n- SUNY Brockport’s Affirmative Action Compliance Statement\\n- SUNY Brockport’s Affirmative Action Recruitment Policy\\n-\\nContact\\nCHRISTIANA ORTIZ\\nAFFIRMATIVE ACTION OFFICER/DIVERSITY RECRUITMENT AND RETENTION SPECIALIST\\n407 Allen Administration Building\\nBrockport, New York 14420\\nPhone: (585) 395-5039\\nEmail: cortiz@brockport.edu\\nINQUIRIES MAY ALSO BE DIRECTED TO:\\nThe United States Department of Education’s Office for Civil Rights\\n32 Old Slip 26th Floor\\nNew York, NY 10005-2500\\nPhone: (646) 428-3800\\nEmail: OCR.NewYork@ed.gov\\nCivil Rights Compliance Officers\\nDenine Carr\\nTitle IX College and Compliance Officer\\n(585) 395-5066 • dcarr@brockport.edu\\nChristiana Ortiz\\nAffirmative Action Officer\\n(585) 395-5039 • cortiz@brockport.edu\\nTammy Gouger\\nAssistant Vice-President for Human Resources\\n(585) 395-2442 • tgouger@brockport.edu'},\n",
       " {'url': 'https://www2.brockport.edu/support/issue-center/',\n",
       "  'data': 'This page is for non-emergencies only. If this is an emergency, please call University Police at (585) 395-2222 (on campus) or 911 (off campus).\\nWe are here to listen\\nSUNY Brockport is committed to providing a safe and supportive environment for all community members. We have a number of reporting structures established on campus. Please select from the following list which issue you would like to report.\\n-\\nBias Related Incident Reporting System\\nThe term “bias related incident” refers to language and/or behaviors which demonstrate bias against persons or groups because of factors (actual or perceived).\\n-\\nFacilities\\nCall the Service Center directly at ext. 2408 with any questions/concerns for issues of any kind of urgency. This number is monitored 24/7/365.\\n-\\nUniversity Police\\nFor emergencies or to report immediate concerns, call University Police at\\n585-395-2222.\\n-\\nEnvironmental Health & Safety\\nTo report accidents or injuries or emergency spill responses.\\n-\\nIT Service Desk\\nLet us know something is broken, access self-help and how-to articles, and request assistance from Information Technology Services.\\n-\\nGeneral Concern or Question?\\nNot sure who to go to when a concern arises? Review our reporting structures.\\n-\\nConcerned about a Student?\\nHave a concern about a student? Share it with our behavioral intervention team here.\\n-\\nStudent Conduct\\nConcerned about a student’s behavior and/or a possible Code of Conduct Violation? Learn more about reporting it.\\n-\\nSexual/ Relationship Violence\\nReport concerns related to sexual assault, sexual harassment, stalking and dating violence (Title IX).\\n-\\nUniversity Police\\nFor emergencies or to report immediate concerns, call University Police at\\n585-395-2222.\\n-\\nStudent Government (BSG)\\nStudents can create petitions and get responses from BSG.\\n-\\nHazing\\nReport concerns about possible hazing.\\n-\\nGeneral Concern or Question?\\nNot sure who to go to when a concern arises? Review our reporting structures.\\n-\\nAcademic Dishonesty\\nAcademic dishonesty is considered a serious breach of academic integrity and can result in a range of disciplinary actions.\\n-\\nGrade Appeals\\nStudents have certain rights to appeal grade as explained by the policy.\\n-\\nAcademic Dismissals and Probation\\nThe University’s probation and dismissal policy is a system for warning students who are not meeting minimal academic standards and dismissing them if the problem continues.\\nUndergraduate Dismissal and Probation\\n-\\nCredit Transfers\\nSUNY Brockport awards transfer credit for course work completed at accredited institutions and is accepted upon departmental recommendation.\\nGraduate Transfer Credit Approval\\n-\\nAdding, Dropping and Withdrawing Courses\\nAn explanation of the process for withdrawing from a course.\\nWithdrawal from a Graduate Program\\n-\\nTuition Refunds\\nAn overview of the refund schedule and processes.\\n-\\nGeneral Concern or Question?\\nNot sure who to go to when a concern arises? Review our reporting structures.\\n-\\nAffirmative Action, Harassment & Discrimination\\nSUNY Brockport is committed to a work environment in which all individuals are treated with respect and dignity.\\nHarassment and Discrimination Policy\\n-\\nDisability Accommodation\\nTo identify and implement such accommodation, the University engages in an “interactive process,” in which the University and individuals with disabilities who request accommodations work together to reach an appropriate outcome.\\n-\\nEmployee\\nRelations\\nCoaching, Counseling, Discipline, Contractual Agreements, Performance Management'},\n",
       " {'url': 'https://www2.brockport.edu/support/parents/',\n",
       "  'data': 'Get Connected\\nSUNY Brockport encourages the families of our students to stay connected. Join our Parents of Brockport Students Facebook group to talk with other parents and keep up to date with what is happening around campus.\\nStay Informed\\nWe offer many services tailored to helping your student succeed, not only academically, but mentally as well.\\nEagle Mail\\nSend your Golden Eagle a personalized postcard to let them know you are thinking about them! A customized postcard with your message will be sent directly to your student within two weeks of completing the above form.\\nFrequently Asked Questions\\nSending your student off to college can lead to a handful of questions. Our FAQ answers the most common questions our parents tend to ask. If you cannot find an answer to your question, you can always reach us through email.'},\n",
       " {'url': 'https://www2.brockport.edu/support/policies/',\n",
       "  'data': 'All members of the University community (faculty, staff, students and visitors) are responsible for operating within the policy environment appropriate to their campus role.\\nThis web site provides the University community with ready access to policy information to reduce risk and confusion and to provide a resource for policy management, development and review.\\nContents include:\\n- Current campus policies accessible by category or searchable format.\\n- New York State, SUNY and Research Foundation policies and ethics and compliance resources.\\n- Campus policy management/development guidelines.\\nCampus Administrative Policy Development & Life Cycle Process\\nRecently Updated Policies\\nHarassment and Discrimination Policy\\n2023-12-18\\nSUNY Brockport is committed to a work environment in which all individuals are treated with respect and dignity. Each individual has the right to work in a professional atmosphere that promotes equ\\n…\\nRetention of IT Privileges Policy\\n2023-10-05\\nIT privileges generally expire when an individual separates from the University.\\nUUP Professional Request for Promotion or Salary Increase Policy\\n2023-09-21\\nSUNY Brockport has established policies and procedures pertaining to the consideration of requests from Professional Staff represented by United University Professions (UUP), or the supervisors of said Professional Staff, for promotion and/or certain salary increases. Definitions of terms, guidelines, and procedures are described herein.\\nTitle IX Grievance Policy\\n2023-08-11\\nGrievance Policy for Addressing Formal Complaints of Sexual Harassment Under the Title IX Regulations.\\nAttendance Guidelines Policy\\n2023-07-14 (Senate Resolution 2022-2023 #64)\\nUniversity faculty value regular attendance in all classes, as explained in these guidelines.\\nFaculty are expected to publicize their attendance policy within their course syllabus, consistent with these guidelines.'},\n",
       " {'url': 'https://www2.brockport.edu/support/student-accounts/',\n",
       "  'data': 'The Office of Student Accounts & Accounting will be closed from 4 pm on Friday, December 22 through Monday, January 1.\\nDuring this time, phone and email will be inactive and unmonitored. The office will reopen at 8 am on Tuesday, January 2.\\nSpring 2024 PAYMENT PLAN ENROLLMENT INFORMATION\\nThe federal ID number (EIN) reported on SUNY Brockport 1098-T forms is 16-1514621\\nInformation Regarding Taxpayer Relief Act Of 1997 And 1098T Availability\\nNotice Regarding Informational Holds For Quikpay Refund Direct Deposit & Payment Plan Participants\\nOnline Bill Payment\\nThe University is no longer issuing paper student bills. Please use the online bill payment system to view and/or pay your student bill. The QuikPAY System requires the use of Microsoft Internet Explorer 11.0 or newer, Mozilla Firefox 34 or newer, Google Chrome 41 or newer, Opera 28 or newer, or Safari 7.0 or newer.\\nDo NOT use the link below to remit Advance Housing or Advance Tuition Deposits.\\n- View Bill\\n- Remit Payment\\n- Refund Direct Deposit\\n- Payment Plan Enrollment\\nThe links below are for DEPOSITS ONLY. Do NOT use it to remit bill payments.\\n- Remit Advance Tuition Deposit\\n- Remit Advance Housing Deposit\\nFIRST-TIME/INCOMING STUDENTS ONLY\\nRETURNING STUDENTS ONLY\\nDo NOT use the link below to remit Advance Housing or Advance Tuition Deposits.\\n- View Bill\\n- Remit Payment\\n- Payment Plan Enrollment\\nAuthorized User access can only be established by the student\\nMission Statement\\nThe Office of Student Accounts and Accounting is responsible for the collection and accounting of student educational charges. Staff processes and distributes federal, state, and privately funded financial aid funds, and administers an installment payment plan for students. The office is committed to ideals of service excellence and have developed internal policies and processes with the intent of enabling students to achieve academically without undue concern over finances.\\nContact Information\\nSUNY Brockport\\nOffice of Student Accounts and Accounting\\nRakov Center for Student Services\\n350 New Campus Drive\\nBrockport, NY 14420-2938\\nTelephone: (585) 395-2473\\nFax: (585) 395-2325\\nEmail: bursar@brockport.edu\\nOffice Hours: 8 am–4 pm'},\n",
       " {'url': 'https://www2.brockport.edu/support/university-police/',\n",
       "  'data': 'Emergency Contact Information\\nOn-Campus: (585) 395-2222 | Off Campus: 911\\nWeekly Incident Reports Report a Lost Item Sign up for RAVE\\nThe University Police Department is committed to providing a safe and secure campus environment for all students, staff, faculty, and visitors. With emphasis on crime prevention and deterrence, personal safety education and service to the university community, we continually strive to improve our performance and work together in mutual respect.\\nDivision of Criminal Justice Services Accreditation\\nThe University Police Department is accredited by the Division of Criminal Justice Services. We are the 14th out of 29 SUNY University Police Departments to receive this accreditation.\\nStudent Patrol\\nThe Student Patrol program allows students work in the Law Enforcement field and gain valuable life experience while assisting University Police in maintaining a safe and secure campus.\\nEagle Guardian\\nDownload the FREE Eagle Guardian safety app to help you stay safe, both on and off campus. Turn your phone into a safety device and receive emergency notifications right to your fingertips.\\nSafe Exchange Zone\\nIf you need a safe place for an in-person exchange of goods, the SUNY Brockport University Police Department has established two “Safe Exchange Zones”. See link above for move information.\\nFlag Status\\nFlags on state government buildings are currently at full staff.\\nVisit Flags on New York State Buildings for more information.'}]"
      ]
     },
     "execution_count": 9,
     "metadata": {},
     "output_type": "execute_result"
    }
   ],
   "source": [
    "data"
   ]
  },
  {
   "cell_type": "code",
   "execution_count": 19,
   "metadata": {},
   "outputs": [],
   "source": [
    "# avg_prompt_tokens = sum([json.loads(data.iloc[idx, 2])['usage']['prompt_tokens'] for idx in range(len(data))])/len(data)\n",
    "# avg_completion_tokens = sum([json.loads(data.iloc[idx, 2])['usage']['completion_tokens'] for idx in range(len(data))])/len(data)\n",
    "\n",
    "# avg_cost_per_page = 0.01 * (avg_prompt_tokens/1000) + 0.03 * (avg_completion_tokens/1000)\n",
    "# print(avg_cost_per_page*7000)"
   ]
  },
  {
   "cell_type": "code",
   "execution_count": 20,
   "metadata": {},
   "outputs": [],
   "source": [
    "# avg_cost_per_page = 0.001 * (avg_prompt_tokens/1000) + 0.002 * (avg_completion_tokens/1000)\n",
    "# print(avg_cost_per_page*7000)"
   ]
  },
  {
   "cell_type": "markdown",
   "metadata": {},
   "source": [
    "# Side by side gpt3.5 and gpt4 questions"
   ]
  },
  {
   "cell_type": "code",
   "execution_count": 21,
   "metadata": {},
   "outputs": [],
   "source": [
    "import pandas as pd\n",
    "import json\n",
    "\n",
    "data3 = pd.read_csv(\"NEW_data_collection/data/GPT3.5 questions.csv\")\n",
    "data4 = pd.read_csv(\"NEW_data_collection/data/GPT4 questions.csv\")\n",
    "\n",
    "\n",
    "\n",
    "# data3 and data4 are almost the same just with different questions. \n",
    "# We will join on questions then view them side by side to see if there are any differences\n",
    "combined = pd.merge(data3, data4, on=['url', 'data'], how='inner')"
   ]
  },
  {
   "cell_type": "markdown",
   "metadata": {},
   "source": [
    "# GPT 4\n",
    "\n",
    "SUPER easy to parse the output. UNLIKE GPT3.5"
   ]
  },
  {
   "cell_type": "code",
   "execution_count": 32,
   "metadata": {},
   "outputs": [
    {
     "data": {
      "text/plain": [
       "0     ```json\\n[\\n    {\\n        \"question\": \"How ca...\n",
       "1     ```json\\n[\\n  {\\n    \"question\": \"How does SUN...\n",
       "2     ```json\\n[\\n  {\\n    \"question\": \"How can I an...\n",
       "3     ```json\\n[\\n  {\\n    \"question\": \"What kind of...\n",
       "4     ```json\\n[\\n  {\\n    \"question\": \"What is the ...\n",
       "5     ```json\\n[\\n    {\\n        \"question\": \"How ca...\n",
       "6     ```json\\n[\\n    {\\n        \"question\": \"How ca...\n",
       "7     ```json\\n[\\n  {\\n    \"question\": \"How can I ap...\n",
       "8     ```json\\n[\\n    {\\n        \"question\": \"What c...\n",
       "9     ```json\\n[\\n    {\\n        \"question\": \"How ca...\n",
       "10    ```json\\n[\\n  {\\n    \"question\": \"How can I sc...\n",
       "11    ```json\\n[\\n  {\\n    \"question\": \"How can I su...\n",
       "12    ```json\\n[\\n    {\\n        \"question\": \"How ca...\n",
       "13    ```json\\n[\\n  {\\n    \"question\": \"Where can I ...\n",
       "14    ```json\\n[\\n  {\\n    \"question\": \"How can futu...\n",
       "15    ```json\\n[\\n  {\\n    \"question\": \"How do I get...\n",
       "16    ```json\\n[\\n  {\\n    \"question\": \"How can I le...\n",
       "17    ```json\\n[\\n  {\\n    \"question\": \"How can I ap...\n",
       "18    ```json\\n[\\n    {\\n        \"question\": \"How ca...\n",
       "19    ```json\\n[\\n    {\\n        \"question\": \"How ca...\n",
       "20    ```json\\n[\\n  {\\n    \"question\": \"How can I fi...\n",
       "21    ```json\\n[\\n  {\\n    \"question\": \"How can I re...\n",
       "22    ```json\\n[\\n  {\\n    \"question\": \"How can I re...\n",
       "23    ```json\\n[\\n    {\\n        \"question\": \"How ca...\n",
       "24    ```json\\n[\\n  {\\n    \"question\": \"How can I ac...\n",
       "25    ```json\\n[\\n    {\\n        \"question\": \"What i...\n",
       "26    ```json\\n[\\n  {\\n    \"question\": \"How do I con...\n",
       "Name: cleaned_qa, dtype: object"
      ]
     },
     "execution_count": 32,
     "metadata": {},
     "output_type": "execute_result"
    }
   ],
   "source": [
    "data4['cleaned_qa'] = [json.loads(data4.loc[idx, 'questions'])['choices'][0]['message']['content'].strip().replace(\"questions\", \"\") for idx in range(len(data4))]\n",
    "data4['cleaned_qa']"
   ]
  },
  {
   "cell_type": "code",
   "execution_count": 36,
   "metadata": {},
   "outputs": [],
   "source": [
    "data4['super_cleaned_qa'] = data4['cleaned_qa'].apply(lambda x: json.loads(x[7:-3]))"
   ]
  },
  {
   "cell_type": "code",
   "execution_count": 37,
   "metadata": {},
   "outputs": [
    {
     "data": {
      "text/plain": [
       "0     [{'question': 'How can I schedule an undergrad...\n",
       "1     [{'question': 'How does SUNY Brockport foster ...\n",
       "2     [{'question': 'How can I anonymously report a ...\n",
       "3     [{'question': 'What kind of academic support d...\n",
       "4     [{'question': 'What is the duration of the Fal...\n",
       "5     [{'question': 'How can I develop my leadership...\n",
       "6     [{'question': 'How can students benefit from u...\n",
       "7     [{'question': 'How can I apply for scholarship...\n",
       "8     [{'question': 'What criteria should I meet to ...\n",
       "9     [{'question': 'How can I apply to SUNY Brockpo...\n",
       "10    [{'question': 'How can I schedule a tour of th...\n",
       "11    [{'question': 'How can I subscribe to The Port...\n",
       "12    [{'question': 'How can I make an online donati...\n",
       "13    [{'question': 'Where can I find the course cat...\n",
       "14    [{'question': 'How can future students apply t...\n",
       "15    [{'question': 'How do I get involved with mult...\n",
       "16    [{'question': 'How can I learn more about SUNY...\n",
       "17    [{'question': 'How can I apply for financial a...\n",
       "18    [{'question': 'How can I sign up for the RAVE ...\n",
       "19    [{'question': 'How can I find the appropriate ...\n",
       "20    [{'question': 'How can I find and apply to fac...\n",
       "21    [{'question': 'How can I request a sign langua...\n",
       "22    [{'question': 'How can I report a bias related...\n",
       "23    [{'question': 'How can I join the Parents of B...\n",
       "24    [{'question': 'How can I access the current ca...\n",
       "25    [{'question': 'What is the federal ID number f...\n",
       "26    [{'question': 'How do I contact the University...\n",
       "Name: super_cleaned_qa, dtype: object"
      ]
     },
     "execution_count": 37,
     "metadata": {},
     "output_type": "execute_result"
    }
   ],
   "source": [
    "data4['super_cleaned_qa']"
   ]
  },
  {
   "cell_type": "markdown",
   "metadata": {},
   "source": [
    "# GPT 3.5\n",
    "\n",
    "These are super hard responses to parse. It's responses are really all over the place. So much for \"JSON mode\""
   ]
  },
  {
   "cell_type": "code",
   "execution_count": 22,
   "metadata": {},
   "outputs": [],
   "source": [
    "data3['cleaned_qa'] = [json.loads(data3.loc[idx, 'questions'])['choices'][0]['message']['content'].strip().replace(\"questions\", \"\") for idx in range(len(data3))]"
   ]
  },
  {
   "cell_type": "code",
   "execution_count": 23,
   "metadata": {},
   "outputs": [
    {
     "data": {
      "text/plain": [
       "'{\"\": [\\n  {\"question\": \"What are the dates for the Fall Semester 2023?\", \"answer\": \"The Fall Semester 2023 dates have not been specified.\"},\\n  {\"question\": \"When is the Winter Session 2024?\", \"answer\": \"The date for the Winter Session 2024 has not been mentioned.\"},\\n  {\"question\": \"How long are the M.W.F. classes during the Fall Semester?\", \"answer\": \"M.W.F. classes during the Fall Semester are 50 minutes in length.\"},\\n  {\"question\": \"Can students request time off for religious beliefs?\", \"answer\": \"Yes, under section 224-A of the Education Law of the State of New York, absence from class for religious beliefs is excused.\"},\\n  {\"question\": \"How long are the T.R. classes during the Spring Semester?\", \"answer\": \"T.R. classes during the Spring Semester are 75 minutes in length.\"}\\n]}'"
      ]
     },
     "execution_count": 23,
     "metadata": {},
     "output_type": "execute_result"
    }
   ],
   "source": [
    "data3['cleaned_qa'][4]"
   ]
  },
  {
   "cell_type": "code",
   "execution_count": 24,
   "metadata": {},
   "outputs": [
    {
     "name": "stdout",
     "output_type": "stream",
     "text": [
      "{\"\": [\n",
      "{\"question\": \"How can I report a bias related incident at SUNY Brockport?\", \"answer\": \"You can report a bias related incident at SUNY Brockport through their Bias Related Incident Reporting System.\"},\n",
      "{\"question\": \"Who should I contact for urgent facilities issues at SUNY Brockport?\", \"answer\": \"For urgent facilities issues at SUNY Brockport, you can directly call the Service Center at ext. 2408.\"},\n",
      "{\"question\": \"How do I report accidents or injuries or emergency spill responses at SUNY Brockport?\", \"answer\": \"To report accidents or injuries or emergency spill responses at SUNY Brockport, you can contact their Environmental Health & Safety department.\"},\n",
      "{\"question\": \"Who can I contact at SUNY Brockport for IT assistance?\", \"answer\": \"If you require IT assistance at SUNY Brockport, you can contact their IT Service Desk for help.\"},\n",
      "{\"question\": \"What is the process for appealing a grade at SUNY Brockport?\", \"answer\": \"SUNY Brockport has a grade appeals process, and students have certain rights to appeal a grade as explained by the policy.\"}\n",
      "]}\n"
     ]
    }
   ],
   "source": [
    "print(data3['cleaned_qa'][22])"
   ]
  },
  {
   "cell_type": "code",
   "execution_count": 29,
   "metadata": {},
   "outputs": [],
   "source": [
    "def get_json_qa(value):\n",
    "    jsonqa = []\n",
    "\n",
    "    # First, try parsing as JSON\n",
    "    try:\n",
    "        parsed_json = json.loads(value)\n",
    "        if isinstance(parsed_json, list):\n",
    "            for item in parsed_json:\n",
    "                if 'question' in item and 'answer' in item:\n",
    "                    jsonqa.append({'question': item['question'], 'answer': item['answer']})\n",
    "        return jsonqa\n",
    "    except json.JSONDecodeError:\n",
    "        # If JSON parsing fails, use regex\n",
    "        pass\n",
    "\n",
    "    # Split the string by newlines and parse each line as JSON\n",
    "    for line in data_string.split('\\n'):\n",
    "        try:\n",
    "            json_obj = json.loads(line)\n",
    "            if 'question' in json_obj and 'answer' in json_obj:\n",
    "                jsonqa.append({'question': json_obj['question'], 'answer': json_obj['answer']})\n",
    "        except json.JSONDecodeError:\n",
    "            pass\n",
    "\n",
    "\n",
    "    # Regex pattern for plain text format\n",
    "    pattern = r'question:\\s*(.*?)\\n\\s*answer:\\s*(.*?)\\n\\n'\n",
    "    matches = re.findall(pattern, value, flags=re.DOTALL)\n",
    "    clean_value = [{\"question\": m[0].strip(), \"answer\": m[1].strip()} for m in matches if m[0] and m[1]]\n",
    "    jsonqa.extend(clean_value)\n",
    "\n",
    "    return jsonqa\n",
    "\n",
    "# def get_json_qa(value):\n",
    "#     jsonqa = []\n",
    "\n",
    "#     # First, try parsing as JSON\n",
    "#     try:\n",
    "#         parsed_json = json.loads(value)\n",
    "#         if isinstance(parsed_json, dict) and \"\" in parsed_json and isinstance(parsed_json[\"\"], list):\n",
    "#             for item in parsed_json[\"\"]:\n",
    "#                 if 'question' in item and 'answer' in item:\n",
    "#                     jsonqa.append({'question': item['question'], 'answer': item['answer']})\n",
    "#             return jsonqa\n",
    "#     except json.JSONDecodeError:\n",
    "#         # If JSON parsing fails, use regex\n",
    "#         pass\n",
    "\n",
    "#     # Split the string by newlines and parse each line as JSON\n",
    "#     for line in value.split('\\n'):\n",
    "#         try:\n",
    "#             json_obj = json.loads(line)\n",
    "#             if 'question' in json_obj and 'answer' in json_obj:\n",
    "#                 jsonqa.append({'question': json_obj['question'], 'answer': json_obj['answer']})\n",
    "#         except json.JSONDecodeError:\n",
    "#             pass\n",
    "\n",
    "#     # Regex pattern for plain text format\n",
    "#     pattern = r'question:\\s*(.*?)\\n\\s*answer:\\s*(.*?)\\n\\n'\n",
    "#     matches = re.findall(pattern, value, flags=re.DOTALL)\n",
    "#     clean_value = [{\"question\": m[0].strip(), \"answer\": m[1].strip()} for m in matches if m[0] and m[1]]\n",
    "#     jsonqa.extend(clean_value)\n",
    "\n",
    "#     return jsonqa"
   ]
  },
  {
   "cell_type": "code",
   "execution_count": 30,
   "metadata": {},
   "outputs": [
    {
     "ename": "NameError",
     "evalue": "name 'data_string' is not defined",
     "output_type": "error",
     "traceback": [
      "\u001b[0;31m---------------------------------------------------------------------------\u001b[0m",
      "\u001b[0;31mNameError\u001b[0m                                 Traceback (most recent call last)",
      "Cell \u001b[0;32mIn[30], line 1\u001b[0m\n\u001b[0;32m----> 1\u001b[0m \u001b[43mdata3\u001b[49m\u001b[43m[\u001b[49m\u001b[38;5;124;43m'\u001b[39;49m\u001b[38;5;124;43mcleaned_qa\u001b[39;49m\u001b[38;5;124;43m'\u001b[39;49m\u001b[43m]\u001b[49m\u001b[38;5;241;43m.\u001b[39;49m\u001b[43mapply\u001b[49m\u001b[43m(\u001b[49m\u001b[43mget_json_qa\u001b[49m\u001b[43m)\u001b[49m\n",
      "File \u001b[0;32m~/miniconda3/envs/thesis/lib/python3.11/site-packages/pandas/core/series.py:4630\u001b[0m, in \u001b[0;36mSeries.apply\u001b[0;34m(self, func, convert_dtype, args, **kwargs)\u001b[0m\n\u001b[1;32m   4520\u001b[0m \u001b[38;5;28;01mdef\u001b[39;00m \u001b[38;5;21mapply\u001b[39m(\n\u001b[1;32m   4521\u001b[0m     \u001b[38;5;28mself\u001b[39m,\n\u001b[1;32m   4522\u001b[0m     func: AggFuncType,\n\u001b[0;32m   (...)\u001b[0m\n\u001b[1;32m   4525\u001b[0m     \u001b[38;5;241m*\u001b[39m\u001b[38;5;241m*\u001b[39mkwargs,\n\u001b[1;32m   4526\u001b[0m ) \u001b[38;5;241m-\u001b[39m\u001b[38;5;241m>\u001b[39m DataFrame \u001b[38;5;241m|\u001b[39m Series:\n\u001b[1;32m   4527\u001b[0m \u001b[38;5;250m    \u001b[39m\u001b[38;5;124;03m\"\"\"\u001b[39;00m\n\u001b[1;32m   4528\u001b[0m \u001b[38;5;124;03m    Invoke function on values of Series.\u001b[39;00m\n\u001b[1;32m   4529\u001b[0m \n\u001b[0;32m   (...)\u001b[0m\n\u001b[1;32m   4628\u001b[0m \u001b[38;5;124;03m    dtype: float64\u001b[39;00m\n\u001b[1;32m   4629\u001b[0m \u001b[38;5;124;03m    \"\"\"\u001b[39;00m\n\u001b[0;32m-> 4630\u001b[0m     \u001b[38;5;28;01mreturn\u001b[39;00m \u001b[43mSeriesApply\u001b[49m\u001b[43m(\u001b[49m\u001b[38;5;28;43mself\u001b[39;49m\u001b[43m,\u001b[49m\u001b[43m \u001b[49m\u001b[43mfunc\u001b[49m\u001b[43m,\u001b[49m\u001b[43m \u001b[49m\u001b[43mconvert_dtype\u001b[49m\u001b[43m,\u001b[49m\u001b[43m \u001b[49m\u001b[43margs\u001b[49m\u001b[43m,\u001b[49m\u001b[43m \u001b[49m\u001b[43mkwargs\u001b[49m\u001b[43m)\u001b[49m\u001b[38;5;241;43m.\u001b[39;49m\u001b[43mapply\u001b[49m\u001b[43m(\u001b[49m\u001b[43m)\u001b[49m\n",
      "File \u001b[0;32m~/miniconda3/envs/thesis/lib/python3.11/site-packages/pandas/core/apply.py:1025\u001b[0m, in \u001b[0;36mSeriesApply.apply\u001b[0;34m(self)\u001b[0m\n\u001b[1;32m   1022\u001b[0m     \u001b[38;5;28;01mreturn\u001b[39;00m \u001b[38;5;28mself\u001b[39m\u001b[38;5;241m.\u001b[39mapply_str()\n\u001b[1;32m   1024\u001b[0m \u001b[38;5;66;03m# self.f is Callable\u001b[39;00m\n\u001b[0;32m-> 1025\u001b[0m \u001b[38;5;28;01mreturn\u001b[39;00m \u001b[38;5;28;43mself\u001b[39;49m\u001b[38;5;241;43m.\u001b[39;49m\u001b[43mapply_standard\u001b[49m\u001b[43m(\u001b[49m\u001b[43m)\u001b[49m\n",
      "File \u001b[0;32m~/miniconda3/envs/thesis/lib/python3.11/site-packages/pandas/core/apply.py:1076\u001b[0m, in \u001b[0;36mSeriesApply.apply_standard\u001b[0;34m(self)\u001b[0m\n\u001b[1;32m   1074\u001b[0m     \u001b[38;5;28;01melse\u001b[39;00m:\n\u001b[1;32m   1075\u001b[0m         values \u001b[38;5;241m=\u001b[39m obj\u001b[38;5;241m.\u001b[39mastype(\u001b[38;5;28mobject\u001b[39m)\u001b[38;5;241m.\u001b[39m_values\n\u001b[0;32m-> 1076\u001b[0m         mapped \u001b[38;5;241m=\u001b[39m \u001b[43mlib\u001b[49m\u001b[38;5;241;43m.\u001b[39;49m\u001b[43mmap_infer\u001b[49m\u001b[43m(\u001b[49m\n\u001b[1;32m   1077\u001b[0m \u001b[43m            \u001b[49m\u001b[43mvalues\u001b[49m\u001b[43m,\u001b[49m\n\u001b[1;32m   1078\u001b[0m \u001b[43m            \u001b[49m\u001b[43mf\u001b[49m\u001b[43m,\u001b[49m\n\u001b[1;32m   1079\u001b[0m \u001b[43m            \u001b[49m\u001b[43mconvert\u001b[49m\u001b[38;5;241;43m=\u001b[39;49m\u001b[38;5;28;43mself\u001b[39;49m\u001b[38;5;241;43m.\u001b[39;49m\u001b[43mconvert_dtype\u001b[49m\u001b[43m,\u001b[49m\n\u001b[1;32m   1080\u001b[0m \u001b[43m        \u001b[49m\u001b[43m)\u001b[49m\n\u001b[1;32m   1082\u001b[0m \u001b[38;5;28;01mif\u001b[39;00m \u001b[38;5;28mlen\u001b[39m(mapped) \u001b[38;5;129;01mand\u001b[39;00m \u001b[38;5;28misinstance\u001b[39m(mapped[\u001b[38;5;241m0\u001b[39m], ABCSeries):\n\u001b[1;32m   1083\u001b[0m     \u001b[38;5;66;03m# GH#43986 Need to do list(mapped) in order to get treated as nested\u001b[39;00m\n\u001b[1;32m   1084\u001b[0m     \u001b[38;5;66;03m#  See also GH#25959 regarding EA support\u001b[39;00m\n\u001b[1;32m   1085\u001b[0m     \u001b[38;5;28;01mreturn\u001b[39;00m obj\u001b[38;5;241m.\u001b[39m_constructor_expanddim(\u001b[38;5;28mlist\u001b[39m(mapped), index\u001b[38;5;241m=\u001b[39mobj\u001b[38;5;241m.\u001b[39mindex)\n",
      "File \u001b[0;32m~/miniconda3/envs/thesis/lib/python3.11/site-packages/pandas/_libs/lib.pyx:2834\u001b[0m, in \u001b[0;36mpandas._libs.lib.map_infer\u001b[0;34m()\u001b[0m\n",
      "Cell \u001b[0;32mIn[29], line 17\u001b[0m, in \u001b[0;36mget_json_qa\u001b[0;34m(value)\u001b[0m\n\u001b[1;32m     14\u001b[0m     \u001b[38;5;28;01mpass\u001b[39;00m\n\u001b[1;32m     16\u001b[0m \u001b[38;5;66;03m# Split the string by newlines and parse each line as JSON\u001b[39;00m\n\u001b[0;32m---> 17\u001b[0m \u001b[38;5;28;01mfor\u001b[39;00m line \u001b[38;5;129;01min\u001b[39;00m \u001b[43mdata_string\u001b[49m\u001b[38;5;241m.\u001b[39msplit(\u001b[38;5;124m'\u001b[39m\u001b[38;5;130;01m\\n\u001b[39;00m\u001b[38;5;124m'\u001b[39m):\n\u001b[1;32m     18\u001b[0m     \u001b[38;5;28;01mtry\u001b[39;00m:\n\u001b[1;32m     19\u001b[0m         json_obj \u001b[38;5;241m=\u001b[39m json\u001b[38;5;241m.\u001b[39mloads(line)\n",
      "\u001b[0;31mNameError\u001b[0m: name 'data_string' is not defined"
     ]
    }
   ],
   "source": [
    "data3['cleaned_qa'].apply(get_json_qa)"
   ]
  },
  {
   "cell_type": "code",
   "execution_count": 27,
   "metadata": {},
   "outputs": [],
   "source": [
    "def get_json_qa(value):\n",
    "    pattern = r'\"?question\"?:\\s*\"(.*?)\",.*?\"?answer\"?:\\s*\"(.*?)\"'\n",
    "    pattern = r'question\"?:\\s*(.*?)\\n\\s*answer\"?:\\s*(.*?)\\n\\n'\n",
    "    jsonqa = []\n",
    "\n",
    "    matches = re.findall(pattern, value, flags=re.DOTALL)\n",
    "    # Add a conditional filter in the list comprehension\n",
    "    clean_value = [{\"question\": m[0], \"answer\": m[1]} for m in matches if m[0] and m[1] and '\"' not in m[0] and '\"' not in m[1]]\n",
    "    jsonqa.append(clean_value)\n",
    "\n",
    "    jsonqa = list(chain(*jsonqa))\n",
    "\n",
    "    return jsonqa"
   ]
  },
  {
   "cell_type": "code",
   "execution_count": null,
   "metadata": {},
   "outputs": [],
   "source": []
  },
  {
   "cell_type": "code",
   "execution_count": 28,
   "metadata": {},
   "outputs": [
    {
     "ename": "NameError",
     "evalue": "name 'chain' is not defined",
     "output_type": "error",
     "traceback": [
      "\u001b[0;31m---------------------------------------------------------------------------\u001b[0m",
      "\u001b[0;31mNameError\u001b[0m                                 Traceback (most recent call last)",
      "Cell \u001b[0;32mIn[28], line 11\u001b[0m\n\u001b[1;32m      8\u001b[0m     clean_value \u001b[38;5;241m=\u001b[39m [{\u001b[38;5;124m\"\u001b[39m\u001b[38;5;124mquestion\u001b[39m\u001b[38;5;124m\"\u001b[39m: m[\u001b[38;5;241m0\u001b[39m], \u001b[38;5;124m\"\u001b[39m\u001b[38;5;124manswer\u001b[39m\u001b[38;5;124m\"\u001b[39m: m[\u001b[38;5;241m1\u001b[39m]} \u001b[38;5;28;01mfor\u001b[39;00m m \u001b[38;5;129;01min\u001b[39;00m matches \u001b[38;5;28;01mif\u001b[39;00m m[\u001b[38;5;241m0\u001b[39m] \u001b[38;5;129;01mand\u001b[39;00m m[\u001b[38;5;241m1\u001b[39m] \u001b[38;5;129;01mand\u001b[39;00m \u001b[38;5;124m'\u001b[39m\u001b[38;5;124m\"\u001b[39m\u001b[38;5;124m'\u001b[39m \u001b[38;5;129;01mnot\u001b[39;00m \u001b[38;5;129;01min\u001b[39;00m m[\u001b[38;5;241m0\u001b[39m] \u001b[38;5;129;01mand\u001b[39;00m \u001b[38;5;124m'\u001b[39m\u001b[38;5;124m\"\u001b[39m\u001b[38;5;124m'\u001b[39m \u001b[38;5;129;01mnot\u001b[39;00m \u001b[38;5;129;01min\u001b[39;00m m[\u001b[38;5;241m1\u001b[39m]]\n\u001b[1;32m      9\u001b[0m     jsonqa\u001b[38;5;241m.\u001b[39mappend(clean_value)\n\u001b[0;32m---> 11\u001b[0m jsonqa \u001b[38;5;241m=\u001b[39m \u001b[38;5;28mlist\u001b[39m(\u001b[43mchain\u001b[49m(\u001b[38;5;241m*\u001b[39mjsonqa))\n",
      "\u001b[0;31mNameError\u001b[0m: name 'chain' is not defined"
     ]
    }
   ],
   "source": [
    "import re\n",
    "pattern = r'\"question\":\\s*\"(.*?)\",.*?\"answer\":\\s*\"(.*?)\"'\n",
    "jsonqa = []\n",
    "\n",
    "for value in data3['cleaned_qa']:\n",
    "    matches = re.findall(pattern, value, flags=re.DOTALL)\n",
    "    # Add a conditional filter in the list comprehension\n",
    "    clean_value = [{\"question\": m[0], \"answer\": m[1]} for m in matches if m[0] and m[1] and '\"' not in m[0] and '\"' not in m[1]]\n",
    "    jsonqa.append(clean_value)\n",
    "\n",
    "jsonqa = list(chain(*jsonqa))"
   ]
  },
  {
   "cell_type": "code",
   "execution_count": null,
   "metadata": {},
   "outputs": [
    {
     "data": {
      "text/plain": [
       "[{'question': 'What events are happening at SUNY Brockport?',\n",
       "  'answer': 'You can find out about the events happening at SUNY Brockport by visiting the Be There Events Calendar on the website.'},\n",
       " {'question': 'When is the next STEM Day at SUNY Brockport?',\n",
       "  'answer': 'The next STEM Day at SUNY Brockport is scheduled for February 3, 2024.'},\n",
       " {'question': 'Can I schedule a campus tour at SUNY Brockport?',\n",
       "  'answer': 'Yes, you can schedule an undergraduate campus tour at SUNY Brockport. Tours are available Monday to Friday. Please contact the admissions office for more information.'},\n",
       " {'question': 'What programs does SUNY Brockport offer?',\n",
       "  'answer': 'SUNY Brockport offers over 100 programs including majors, minors, graduate, and online programs. You can explore the full range of programs on the website.'},\n",
       " {'question': 'What are the top-ranked facilities at SUNY Brockport?',\n",
       "  'answer': \"SUNY Brockport's Student Union, library resources, athletics programs, and athletic & recreational facilities are ranked among the top in comparison to other SUNY institutions. It is the #1 student union and has #1 library resources and athletics programs among 27 SUNY 4-year institutions. Additionally, it has #2 athletic & recreational facilities among 12 SUNY university colleges.\"},\n",
       " {'question': 'What is the mission of SUNY Brockport?',\n",
       "  'answer': \"SUNY Brockport's mission is to be an inclusive learning community that inspires excellence through growth, engagement, and transformation.\"},\n",
       " {'question': 'What is the size of the SUNY Brockport campus?',\n",
       "  'answer': 'The SUNY Brockport campus is located on 464 acres in Brockport, NY.'},\n",
       " {'question': 'Who is the president of SUNY Brockport?',\n",
       "  'answer': \"Dr. Heidi Macpherson is the current president of SUNY Brockport, and she is the first female president in the university's history.\"},\n",
       " {'question': 'How many undergraduate and graduate students are enrolled at SUNY Brockport?',\n",
       "  'answer': 'SUNY Brockport has an enrollment of 6,934 students, with 5,432 being undergraduate students and 1,502 being graduate students.'},\n",
       " {'question': 'How does SUNY Brockport value diversity?',\n",
       "  'answer': \"SUNY Brockport is an inclusive learning community that values and celebrates the differences among its students. The Chief Diversity Officer, who is a member of the President's senior leadership team, leads the effort to conceptualize and cultivate diversity as an institutional priority.\"},\n",
       " {'question': 'How can I make a Title IX related report online?',\n",
       "  'answer': 'You can make a Title IX related report online with the option to make your report anonymous.'},\n",
       " {'question': 'Who can I meet with regarding Title IX issues?',\n",
       "  'answer': 'You can meet with Denine Carr, who can meet with students in person or remotely, depending on your preference.'},\n",
       " {'question': 'What does Title IX protect against?',\n",
       "  'answer': 'Title IX is a federal civil rights law that protects people in education programs from discrimination based on sex.'},\n",
       " {'question': 'Where can I find FAQs for complainants regarding sexual misconduct?',\n",
       "  'answer': \"You can find the complainant's FAQ section to understand the basics of the Title IX Grievance Policy, Code of Student Conduct policy, available resources, and common questions or concerns.\"},\n",
       " {'question': 'Where can I find information for parents regarding Title IX incidents?',\n",
       "  'answer': 'You can visit the FAQs for Parents webpage to find more information if your student is involved in a situation that involves the Title IX Office.'},\n",
       " {'question': 'What programs does SUNY Brockport offer?',\n",
       "  'answer': 'SUNY Brockport offers an extensive and diverse range of programs for undergraduate and graduate students.'},\n",
       " {'question': 'What is the featured program in Cybersecurity at SUNY Brockport?',\n",
       "  'answer': 'The featured program in Cybersecurity at SUNY Brockport helps students learn to secure computer systems and become experts in this fast-growing field.'},\n",
       " {'question': 'Is the Master of Public Health (MPH) program available online?',\n",
       "  'answer': 'Yes, the Master of Public Health (MPH) program at SUNY Brockport is available 100% online.'},\n",
       " {'question': 'What academic support services are available at SUNY Brockport?',\n",
       "  'answer': 'SUNY Brockport offers academic support services to ensure the success of students both during their time at the university and in their future careers.'},\n",
       " {'question': 'What opportunities for engaged learning are available at SUNY Brockport?',\n",
       "  'answer': 'SUNY Brockport provides opportunities for students to work alongside faculty on innovative activities such as research, creative projects, fieldwork, and internships.'},\n",
       " {'question': 'What are the dates for the Fall Semester 2023?',\n",
       "  'answer': 'The Fall Semester 2023 dates have not been specified.'},\n",
       " {'question': 'When is the Winter Session 2024?',\n",
       "  'answer': 'The date for the Winter Session 2024 has not been mentioned.'},\n",
       " {'question': 'How long are the M.W.F. classes during the Fall Semester?',\n",
       "  'answer': 'M.W.F. classes during the Fall Semester are 50 minutes in length.'},\n",
       " {'question': 'Can students request time off for religious beliefs?',\n",
       "  'answer': 'Yes, under section 224-A of the Education Law of the State of New York, absence from class for religious beliefs is excused.'},\n",
       " {'question': 'How long are the T.R. classes during the Spring Semester?',\n",
       "  'answer': 'T.R. classes during the Spring Semester are 75 minutes in length.'},\n",
       " {'question': 'What opportunities does SUNY Brockport offer for students to develop their leadership skills?',\n",
       "  'answer': 'SUNY Brockport offers many opportunities for students who are interested in developing their leadership skills.'},\n",
       " {'question': 'How can employers connect with the Employer Relations team at SUNY Brockport?',\n",
       "  'answer': 'To connect with a member of the Employer Relations team, employers can call (585) 395-2159 and schedule a meeting or campus visit.'},\n",
       " {'question': 'What is the purpose of the Employee Advisory Board at SUNY Brockport?',\n",
       "  'answer': 'The purpose of the Employee Advisory Board at SUNY Brockport is to provide a forum for employers and staff members to engage in relevant discussions about career and employment issues that will contribute to the quality and impact of career programs and services for Brockport students.'},\n",
       " {'question': 'How often does the Employee Advisory Board at SUNY Brockport meet and where?',\n",
       "  'answer': \"The Employee Advisory Board at SUNY Brockport meets at least twice each year on the University's campus in Western/Central New York.\"},\n",
       " {'question': 'How can potential employers benefit from collaborating with the Employer Relations team at SUNY Brockport?',\n",
       "  'answer': \"Potential employers can benefit from collaborating with the Employer Relations team at SUNY Brockport by having their recruiting needs effectively and conveniently met for part-time or full-time jobs, internships, or volunteer opportunities. The team provides exceptional customer service and develops creative solutions to maximize the employer's experience with SUNY Brockport.\"},\n",
       " {'question': 'What is EagleSUCCESS?',\n",
       "  'answer': 'EagleSUCCESS is a collaborative tool for instructors, advisors, and students which aims to increase student success.'},\n",
       " {'question': 'How does using EagleSUCCESS increase student success?',\n",
       "  'answer': \"Using EagleSUCCESS allows students to advocate for themselves, track their progress, schedule advisement and tutoring appointments, and access all campus resources in one place. Advisors can have a better understanding of each student's performance and implement interventions early, while instructors can share concerns, refer students to resources, and celebrate achievements.\"},\n",
       " {'question': 'Where can I find tutorial guides and videos on using EagleSUCCESS?',\n",
       "  'answer': 'You can find the EagleSUCCESS tutorial guides and videos in Brightspace.'},\n",
       " {'question': 'Who should I contact if I have questions about EagleSUCCESS?',\n",
       "  'answer': 'You can email EagleSUCCESS or reach out to Thomas Chew, the Director of Academic Success Center, at (585) 395-2311.'},\n",
       " {'question': 'How can I apply to SUNY Brockport?',\n",
       "  'answer': 'To apply to SUNY Brockport, you can visit our website and complete the online application. You can also contact the Undergraduate Admissions office at (585) 395-2751 or email admit@brockport.edu for assistance.'},\n",
       " {'question': 'What scholarships are available at SUNY Brockport?',\n",
       "  'answer': 'SUNY Brockport offers millions of dollars in scholarships. You can find more information about available scholarships on our website or contact the Financial Aid office for assistance.'},\n",
       " {'question': 'What undergraduate majors and minors does SUNY Brockport offer?',\n",
       "  'answer': 'SUNY Brockport offers 50 undergraduate majors and over 55 minors. You can find a complete list of our academic programs on our website or contact the Admissions office for more information.'},\n",
       " {'question': 'How can I schedule a visit to SUNY Brockport?',\n",
       "  'answer': 'You can schedule a visit to SUNY Brockport by visiting our website and filling out the visit request form. You can also contact the Admissions office at (585) 395-2751 or email admit@brockport.edu to schedule a visit.'},\n",
       " {'question': 'What programs are available for economically disadvantaged students at SUNY Brockport?',\n",
       "  'answer': 'SUNY Brockport offers the Educational Opportunity Program (EOP) and the Fannie Barrier Williams Scholars (FBWS) program for economically disadvantaged students. These programs provide support and scholarships to eligible students. You can find more information on our website or contact the Admissions office for assistance.'},\n",
       " {'question': 'How can I schedule a tour of the SUNY Brockport campus?',\n",
       "  'answer': 'To schedule a tour of the SUNY Brockport campus, you can contact Undergraduate Admissions at (585) 395-2751 or email admit@brockport.edu.'},\n",
       " {'question': 'Are there group tours available for high school students at SUNY Brockport?',\n",
       "  'answer': 'Yes, high school groups can request a group tour of the SUNY Brockport campus. Contact Undergraduate Admissions for more information.'},\n",
       " {'question': 'What events are available for accepted students at SUNY Brockport?',\n",
       "  'answer': 'Accepted students have the opportunity to participate in Accepted Student Days, Day-Long Shadow experiences, and Scholars Sleepover events at the SUNY Brockport campus.'},\n",
       " {'question': \"Can I visit SUNY Brockport if I can't make it to campus?\",\n",
       "  'answer': 'Yes, SUNY Brockport offers virtual options for prospective students, including Transfer Video Appointments and Virtual Chats with admissions representatives.'},\n",
       " {'question': 'How can I connect with SUNY Brockport if I am a graduate student?',\n",
       "  'answer': 'Graduate students can connect with the Center for Graduate Studies at SUNY Brockport through virtual Graduate Video Chats or by scheduling an appointment or drop-in visit on campus.'},\n",
       " {'question': 'How can I update my information to ensure I receive The Port and other emails?',\n",
       "  'answer': 'You can update your information to ensure you receive The Port and other emails by visiting our website and accessing the update information form.'},\n",
       " {'question': 'How can I make connections and find career opportunities at SUNY Brockport?',\n",
       "  'answer': 'You can leverage the power of the Brockport network, make connections, and find career opportunities through our LinkedIn group called Eagle Links.'},\n",
       " {'question': 'How can I order my transcripts at SUNY Brockport?',\n",
       "  'answer': 'To order your transcripts, you can contact our Transcript Office, located at [location]. They will provide you with the necessary instructions and assistance.'},\n",
       " {'question': 'What services does Career Services offer at SUNY Brockport?',\n",
       "  'answer': 'Career Services at SUNY Brockport offers a lifetime of professional guidance, including assistance with resume building, job search strategies, interview preparation, and more.'},\n",
       " {'question': 'When will Homecoming & Family Weekend 2024 take place at SUNY Brockport?',\n",
       "  'answer': \"Homecoming & Family Weekend 2024 at SUNY Brockport will run from September 19 - September 22. It's a great time to reunite with family and friends, reminisce, and make new memories.\"},\n",
       " {'question': 'How can I make a gift to SUNY Brockport?',\n",
       "  'answer': 'You can make a gift to SUNY Brockport in multiple ways: online, over the phone, by mail, through endowment or planned giving, donating stocks, using donor-advised funds, or through cryptocurrency.'},\n",
       " {'question': 'How can I make an online donation to SUNY Brockport?',\n",
       "  'answer': \"To make an online donation to SUNY Brockport, you can use the University's secure online giving form. You can also use Apple Pay and Google Pay for easy processing.\"},\n",
       " {'question': 'How can I make a donation to SUNY Brockport over the phone?',\n",
       "  'answer': 'To make a donation to SUNY Brockport over the phone, you can call (585) 395-2451 and provide your credit card information.'},\n",
       " {'question': 'How can I donate stocks or appreciated assets to SUNY Brockport?',\n",
       "  'answer': 'To donate stocks or appreciated assets to SUNY Brockport, you can use the secure stock donation tool provided. It allows you to avoid capital gains tax and receive a charitable deduction for the full value of the asset.'},\n",
       " {'question': 'Does SUNY Brockport accept donations through cryptocurrency?',\n",
       "  'answer': 'Yes, SUNY Brockport now accepts donations of Ethereum, Bitcoin, and other cryptocurrencies. This provides an additional way to fund their work and may offer extra tax benefits to donors.'},\n",
       " {'question': 'How can I access the course catalog?',\n",
       "  'answer': \"You can access the course catalog on the university's website under the Academics section.\"},\n",
       " {'question': 'When can I register for courses?',\n",
       "  'answer': 'Course registration dates can be found on the Course Schedule provided by Registration and Records.'},\n",
       " {'question': 'What is Degree Works and how can I use it?',\n",
       "  'answer': \"Degree Works is an online tool that helps students track their academic progress and plan their courses. You can access Degree Works through the university's website using your student login credentials.\"},\n",
       " {'question': 'Where can I find information about tutoring services on campus?',\n",
       "  'answer': \"You can find information about tutoring services and schedules on the university's website or by visiting the Tutoring Center on campus.\"},\n",
       " {'question': 'How do I apply for financial aid?',\n",
       "  'answer': \"To apply for financial aid, you need to complete the Free Application for Federal Student Aid (FAFSA) form. The university's Financial Aid office can provide guidance and assistance throughout the process.\"},\n",
       " {'question': 'How can I apply for scholarships and financial aid?',\n",
       "  'answer': 'You can apply for scholarships and financial aid by visiting the Scholarships & Aid page on the SUNY Brockport website and following the instructions provided.'},\n",
       " {'question': 'What resources are available to help me with my research?',\n",
       "  'answer': 'The Drake Memorial Library offers a variety of resources to assist with research, including access to databases, books, journals, and research guides. You can also schedule a research appointment with a librarian for personalized assistance.'},\n",
       " {'question': 'How can I access my student email and other online services?',\n",
       "  'answer': 'To access your student email and other online services, you can login using your NetID and password. If you need assistance, you can contact the IT Service Desk.'},\n",
       " {'question': 'What library services are available to alumni?',\n",
       "  'answer': 'Alumni can access certain library services, including borrowing privileges, research assistance, and access to digital collections. For more information, you can contact the library or visit the Alumni Services page on the SUNY Brockport website.'},\n",
       " {'question': 'How can I reserve a room in the library?',\n",
       "  'answer': 'To reserve a room in the library, you can use the online room reservation system. You can also inquire at the circulation desk for assistance.'},\n",
       " {'question': 'What resources are available to support diversity and inclusion at Brockport?',\n",
       "  'answer': 'Brockport offers 23 multicultural clubs, an annual conference on diversity and acceptance, and programming focused on multiculturalism, social justice, and inclusive excellence.'},\n",
       " {'question': 'How many dining locations are there on campus, and what dietary options are available?',\n",
       "  'answer': 'Brockport has 9 dining locations offering diversified menus, including options for vegan, vegetarian, gluten-free, and ethnic entrees.'},\n",
       " {'question': 'What support services are provided for student health and wellness?',\n",
       "  'answer': \"Brockport's Hazen Center for Integrated Care offers support for physical health, mental wellness, prevention and outreach services, and student accessibility.\"},\n",
       " {'question': 'What housing options are available for students?',\n",
       "  'answer': 'Brockport provides 13 residence halls, a student townhome complex, and a dedicated residential staff to ensure students feel comfortable and at home.'},\n",
       " {'question': 'How does Brockport prioritize campus safety?',\n",
       "  'answer': 'Brockport prides itself on a safe campus environment and fosters positive relationships between law enforcement and the community.'},\n",
       " {'question': 'What information does SUNY Brockport collect when visitors access their website?',\n",
       "  'answer': 'When visiting the SUNY Brockport website, the following information is collected: the Internet Protocol address, the type of browser and operating system used, the date and time of the visit, the web pages or services accessed, the website visited prior to and after accessing the SUNY Brockport website, and if a file was downloaded.'},\n",
       " {'question': 'How is the collected information used by SUNY Brockport?',\n",
       "  'answer': 'The collected information is used for statistical analysis, to improve the content of the website, and to understand how users interact with the website. It is not used for commercial marketing purposes, and SUNY Brockport does not sell or disclose the information collected for commercial marketing purposes.'},\n",
       " {'question': 'How can I contact the privacy officer at SUNY Brockport for questions regarding their internet privacy policy?',\n",
       "  'answer': 'You can contact the privacy officer at SUNY Brockport by email at privacy@brockport.edu or by regular mail at Privacy Compliance Officer, SUNY Brockport, 350 New Campus Dr., Brockport, NY 14420.'},\n",
       " {'question': 'Does SUNY Brockport require the use of cookies to access their website?',\n",
       "  'answer': 'SUNY Brockport may require users to accept cookies in order to access certain online services, but the use of cookies is not required to access any public areas of the website.'},\n",
       " {'question': 'How does SUNY Brockport handle the security of personal information collected through their website?',\n",
       "  'answer': 'SUNY Brockport is strongly committed to protecting personal information against unauthorized access, use, or disclosure. They have implemented security measures, including authentication, authorization, monitoring, auditing, and encryption, to ensure the confidentiality, integrity, and availability of information.'},\n",
       " {'question': 'What scholarships does SUNY Brockport offer to undergraduate students?',\n",
       "  'answer': 'SUNY Brockport offers a variety of scholarships to undergraduate students, including the Gold Scholarship ($4,500/year), Green Scholarship ($2,500/year), Prometheus (Honors) Scholarship ($6,000/year), Empire Scholarship for Out-of-State Students ($5,000/year), Residential Scholars Award (free housing for first year), Eagle Scholarship ($1,000 one-time award), and Transfer Scholarships ($1,500 & $1,000 Transfer Awards).'},\n",
       " {'question': 'How can I apply for scholarships at SUNY Brockport?',\n",
       "  'answer': 'To apply for scholarships at SUNY Brockport, you can visit their website and follow the application instructions. Additionally, current students have opportunities to receive scholarships from the Brockport Foundation by applying between November 15 and February 15.'},\n",
       " {'question': 'What financial aid resources are available at SUNY Brockport?',\n",
       "  'answer': 'SUNY Brockport offers financial aid resources such as assistance with filling out the FAFSA, information on grants and loans, and guidance from experienced financial aid professionals. They provide resources to help students navigate the process.'},\n",
       " {'question': 'What tuition and cost options are available for graduate students at SUNY Brockport?',\n",
       "  'answer': 'SUNY Brockport offers a variety of tuition and cost options for graduate students. The tuition amount reflects standard graduate programs, but they also offer specialized professional programs with different tuition rates. Additionally, they provide scholarships, fellowships, and graduate/teaching assistantships to assist in the funding of graduate education.'},\n",
       " {'question': 'How can I contact the Financial Aid Office at SUNY Brockport?',\n",
       "  'answer': 'You can contact the Financial Aid Office at SUNY Brockport by calling Kimberley Willis, the Director of Financial Aid, at (585) 395-2501 or by sending an email to faid@brockport.edu. They are available to assist with any questions or concerns regarding financial aid.'},\n",
       " {'question': 'What is the RAVE Emergency Alert System?',\n",
       "  'answer': 'The RAVE Emergency Alert System is a service that sends warnings and emergency information via text message, phone call, email, and other outlets.'},\n",
       " {'question': 'How can I sign up for the RAVE Emergency Alert System?',\n",
       "  'answer': \"You can sign up for the RAVE Emergency Alert System to receive warnings and emergency information by visiting their website or contacting the school's emergency management office.\"},\n",
       " {'question': 'What is the Eagle Guardian App?',\n",
       "  'answer': 'The Eagle Guardian App is an app that can be used to receive emergency information and alerts.'},\n",
       " {'question': 'Are there any emergency numbers available?',\n",
       "  'answer': \"Yes, there are emergency numbers available. Please refer to the school's resources for a list of emergency numbers.\"},\n",
       " {'question': 'What should I do to be prepared for an emergency?',\n",
       "  'answer': \"To be prepared for an emergency, it is important to familiarize yourself with the school's emergency information and procedures, including pre-incident planning, emergency response communication systems, a crisis management program for faculty and staff, and operational recovery strategies.\"},\n",
       " {'question': 'How can I request classroom assistance?',\n",
       "  'answer': \"To request classroom assistance, you can fill out the appropriate form available on the school's website or contact the Office of Classroom Resources.\"},\n",
       " {'question': 'Where can I find the necessary forms and requests for various campus-related needs?',\n",
       "  'answer': \"You can find the necessary forms and requests on the school's website in the Forms & Requests section.\"},\n",
       " {'question': 'What should I do if I have a concern or need help?',\n",
       "  'answer': 'If you have a concern or need help, you can find the right resource to voice your concern or seek assistance by contacting the appropriate department or office.'},\n",
       " {'question': 'Which department oversees the physical upkeep of the campus and employee relations?',\n",
       "  'answer': 'The Division of Administration and Finance is responsible for overseeing the physical upkeep of the campus, budget, and employee relations, among other responsibilities.'},\n",
       " {'question': 'Are there any specific unions or bargaining units on campus?',\n",
       "  'answer': 'Yes, SUNY Brockport has specific unions and bargaining units. You can find more information about them by contacting the Division of Administration and Finance or the appropriate union representatives.'},\n",
       " {'question': 'What benefits are offered to employees at SUNY Brockport?',\n",
       "  'answer': 'Health insurance, fringe benefits, retirement, and more are offered to employees at SUNY Brockport.'},\n",
       " {'question': 'How does SUNY Brockport prioritize diversity and inclusion?',\n",
       "  'answer': 'Diversity and inclusion are at the forefront of our values at SUNY Brockport. We strive to create a diverse community for our students and employees.'},\n",
       " {'question': 'What educational and employment opportunities are available at the Rochester Educational Opportunity Center (REOC)?',\n",
       "  'answer': 'The REOC, located in downtown Rochester, offers educational and employment opportunities as an extension of SUNY Brockport.'},\n",
       " {'question': 'Does SUNY Brockport provide on-campus childcare?',\n",
       "  'answer': 'Yes, SUNY Brockport offers on-site childcare to make the transition to the university more seamless for students.'},\n",
       " {'question': 'What attractions can be found in the Village of Brockport?',\n",
       "  'answer': 'The Village of Brockport, nestled along the Erie Canal, offers a quaint and charming atmosphere that visitors often fall in love with.'},\n",
       " {'question': \"What is SUNY Brockport's policy on discrimination and harassment?\",\n",
       "  'answer': \"SUNY Brockport's policy is in accordance with federal and state laws and regulations prohibiting discrimination and harassment, including the Americans with Disabilities Act, Section 504 of the Rehabilitation Act of 1973, Title IX of the Education Amendments of 1972, Title VII of the Civil Rights Act of 1964, and the New York State Human Rights Law.\"},\n",
       " {'question': 'How can I report a discrimination or harassment concern at SUNY Brockport?',\n",
       "  'answer': 'To report a discrimination or harassment concern, you can fill out a form which will be directly sent to the Affirmative Action Officer. Contact information for the officer is available.'},\n",
       " {'question': 'What laws and policies does SUNY Brockport comply with regarding equal opportunity and discrimination?',\n",
       "  'answer': 'SUNY Brockport complies with the Americans with Disabilities Act, Section 504 of the Rehabilitation Act of 1973, Title IX of the Education Amendments of 1972, Title VII of the Civil Rights Act of 1964, the Equal Employment Opportunity Act of 1972, and the New York State Human Rights Law.'},\n",
       " {'question': 'Who can I contact if I have questions or concerns regarding discrimination or harassment at SUNY Brockport?',\n",
       "  'answer': 'You can contact Christiana Ortiz, the Affirmative Action Officer, or any of the Civil Rights Compliance Officers listed, depending on the nature of your concern.'},\n",
       " {'question': 'What is the contact information for Christiana Ortiz, the Affirmative Action Officer at SUNY Brockport?',\n",
       "  'answer': 'Christiana Ortiz can be reached at (585) 395-5039 or cortiz@brockport.edu. Her office is located at 407 Allen Administration Building, Brockport, New York 14420.'},\n",
       " {'question': 'How can I report a bias related incident at SUNY Brockport?',\n",
       "  'answer': 'You can report a bias related incident at SUNY Brockport through their Bias Related Incident Reporting System.'},\n",
       " {'question': 'Who should I contact for urgent facilities issues at SUNY Brockport?',\n",
       "  'answer': 'For urgent facilities issues at SUNY Brockport, you can directly call the Service Center at ext. 2408.'},\n",
       " {'question': 'How do I report accidents or injuries or emergency spill responses at SUNY Brockport?',\n",
       "  'answer': 'To report accidents or injuries or emergency spill responses at SUNY Brockport, you can contact their Environmental Health & Safety department.'},\n",
       " {'question': 'Who can I contact at SUNY Brockport for IT assistance?',\n",
       "  'answer': 'If you require IT assistance at SUNY Brockport, you can contact their IT Service Desk for help.'},\n",
       " {'question': 'What is the process for appealing a grade at SUNY Brockport?',\n",
       "  'answer': 'SUNY Brockport has a grade appeals process, and students have certain rights to appeal a grade as explained by the policy.'},\n",
       " {'question': 'When will the Office of Student Accounts & Accounting reopen?',\n",
       "  'answer': 'The Office of Student Accounts & Accounting will reopen at 8 am on Tuesday, January 2.'},\n",
       " {'question': 'What is the federal ID number (EIN) reported on SUNY Brockport 1098-T forms?',\n",
       "  'answer': 'The federal ID number (EIN) reported on SUNY Brockport 1098-T forms is 16-1514621.'},\n",
       " {'question': 'How can I view and pay my student bill?',\n",
       "  'answer': 'The University is no longer issuing paper student bills. Please use the online bill payment system to view and/or pay your student bill. The QuikPAY System requires the use of Microsoft Internet Explorer 11.0 or newer, Mozilla Firefox 34 or newer, Google Chrome 41 or newer, Opera 28 or newer, or Safari 7.0 or newer.'},\n",
       " {'question': 'How can I establish Authorized User access?',\n",
       "  'answer': 'Authorized User access can only be established by the student.'},\n",
       " {'question': 'What services does the Office of Student Accounts and Accounting provide?',\n",
       "  'answer': 'The Office of Student Accounts and Accounting is responsible for the collection and accounting of student educational charges, processing and distributing financial aid funds, and administering an installment payment plan for students.'},\n",
       " {'question': 'How can I contact the University Police Department in case of an emergency?',\n",
       "  'answer': 'In case of an emergency on campus, call (585) 395-2222. For off-campus emergencies, please dial 911.'},\n",
       " {'question': 'What services does the University Police Department provide to the campus community?',\n",
       "  'answer': 'The University Police Department is committed to providing a safe and secure campus environment for all students, staff, faculty, and visitors. They emphasize crime prevention, personal safety education, and offer service to the university community. Their goal is to continually improve their performance and work together in mutual respect.'},\n",
       " {'question': 'How can I report a lost item?',\n",
       "  'answer': \"To report a lost item, you can sign up for RAVE on the University Police Department's website. RAVE is a system that allows you to submit reports for lost items.\"},\n",
       " {'question': 'What is the Student Patrol program?',\n",
       "  'answer': 'The Student Patrol program at SUNY Brockport allows students to work in the Law Enforcement field and gain valuable life experience while assisting the University Police in maintaining a safe and secure campus.'},\n",
       " {'question': 'How can I ensure my safety both on and off campus?',\n",
       "  'answer': 'To ensure your safety, you can download the FREE Eagle Guardian safety app. This app will turn your phone into a safety device and you will receive emergency notifications directly to your fingertips. It is designed to keep you safe both on and off campus.'}]"
      ]
     },
     "execution_count": 151,
     "metadata": {},
     "output_type": "execute_result"
    }
   ],
   "source": [
    "jsonqa"
   ]
  },
  {
   "cell_type": "code",
   "execution_count": null,
   "metadata": {},
   "outputs": [
    {
     "name": "stdout",
     "output_type": "stream",
     "text": [
      "1. What opportunities does SUNY Brockport offer for students to develop their leadership skills?\n",
      "{\"question\": \"What opportunities does SUNY Brockport offer for students to develop their leadership skills?\", \n",
      "\"answer\": \"SUNY Brockport offers many opportunities for students who are interested in developing their leadership skills.\"}\n",
      "\n",
      "2. How can employers connect with the Employer Relations team at SUNY Brockport?\n",
      "{\"question\": \"How can employers connect with the Employer Relations team at SUNY Brockport?\", \n",
      "\"answer\": \"To connect with a member of the Employer Relations team, employers can call (585) 395-2159 and schedule a meeting or campus visit.\"}\n",
      "\n",
      "3. What is the purpose of the Employee Advisory Board at SUNY Brockport?\n",
      "{\"question\": \"What is the purpose of the Employee Advisory Board at SUNY Brockport?\", \n",
      "\"answer\": \"The purpose of the Employee Advisory Board at SUNY Brockport is to provide a forum for employers and staff members to engage in relevant discussions about career and employment issues that will contribute to the quality and impact of career programs and services for Brockport students.\"}\n",
      "\n",
      "4. How often does the Employee Advisory Board at SUNY Brockport meet and where?\n",
      "{\"question\": \"How often does the Employee Advisory Board at SUNY Brockport meet and where?\", \n",
      "\"answer\": \"The Employee Advisory Board at SUNY Brockport meets at least twice each year on the University's campus in Western/Central New York.\"}\n",
      "\n",
      "5. How can potential employers benefit from collaborating with the Employer Relations team at SUNY Brockport?\n",
      "{\"question\": \"How can potential employers benefit from collaborating with the Employer Relations team at SUNY Brockport?\", \n",
      "\"answer\": \"Potential employers can benefit from collaborating with the Employer Relations team at SUNY Brockport by having their recruiting needs effectively and conveniently met for part-time or full-time jobs, internships, or volunteer opportunities. The team provides exceptional customer service and develops creative solutions to maximize the employer's experience with SUNY Brockport.\"}\n"
     ]
    }
   ],
   "source": [
    "print(json.loads(combined.loc[5, 'questions_x'])['choices'][0]['message']['content'])"
   ]
  },
  {
   "cell_type": "code",
   "execution_count": null,
   "metadata": {},
   "outputs": [
    {
     "ename": "JSONDecodeError",
     "evalue": "Extra data: line 1 column 2 (char 1)",
     "output_type": "error",
     "traceback": [
      "\u001b[0;31m---------------------------------------------------------------------------\u001b[0m",
      "\u001b[0;31mJSONDecodeError\u001b[0m                           Traceback (most recent call last)",
      "Cell \u001b[0;32mIn[115], line 1\u001b[0m\n\u001b[0;32m----> 1\u001b[0m \u001b[43mjson\u001b[49m\u001b[38;5;241;43m.\u001b[39;49m\u001b[43mloads\u001b[49m\u001b[43m(\u001b[49m\u001b[43mjson\u001b[49m\u001b[38;5;241;43m.\u001b[39;49m\u001b[43mloads\u001b[49m\u001b[43m(\u001b[49m\u001b[43mcombined\u001b[49m\u001b[38;5;241;43m.\u001b[39;49m\u001b[43mloc\u001b[49m\u001b[43m[\u001b[49m\u001b[38;5;241;43m5\u001b[39;49m\u001b[43m,\u001b[49m\u001b[43m \u001b[49m\u001b[38;5;124;43m'\u001b[39;49m\u001b[38;5;124;43mquestions_x\u001b[39;49m\u001b[38;5;124;43m'\u001b[39;49m\u001b[43m]\u001b[49m\u001b[43m)\u001b[49m\u001b[43m[\u001b[49m\u001b[38;5;124;43m'\u001b[39;49m\u001b[38;5;124;43mchoices\u001b[39;49m\u001b[38;5;124;43m'\u001b[39;49m\u001b[43m]\u001b[49m\u001b[43m[\u001b[49m\u001b[38;5;241;43m0\u001b[39;49m\u001b[43m]\u001b[49m\u001b[43m[\u001b[49m\u001b[38;5;124;43m'\u001b[39;49m\u001b[38;5;124;43mmessage\u001b[39;49m\u001b[38;5;124;43m'\u001b[39;49m\u001b[43m]\u001b[49m\u001b[43m[\u001b[49m\u001b[38;5;124;43m'\u001b[39;49m\u001b[38;5;124;43mcontent\u001b[39;49m\u001b[38;5;124;43m'\u001b[39;49m\u001b[43m]\u001b[49m\u001b[43m)\u001b[49m\n",
      "File \u001b[0;32m~/miniconda3/envs/thesis/lib/python3.11/json/__init__.py:346\u001b[0m, in \u001b[0;36mloads\u001b[0;34m(s, cls, object_hook, parse_float, parse_int, parse_constant, object_pairs_hook, **kw)\u001b[0m\n\u001b[1;32m    341\u001b[0m     s \u001b[38;5;241m=\u001b[39m s\u001b[38;5;241m.\u001b[39mdecode(detect_encoding(s), \u001b[38;5;124m'\u001b[39m\u001b[38;5;124msurrogatepass\u001b[39m\u001b[38;5;124m'\u001b[39m)\n\u001b[1;32m    343\u001b[0m \u001b[38;5;28;01mif\u001b[39;00m (\u001b[38;5;28mcls\u001b[39m \u001b[38;5;129;01mis\u001b[39;00m \u001b[38;5;28;01mNone\u001b[39;00m \u001b[38;5;129;01mand\u001b[39;00m object_hook \u001b[38;5;129;01mis\u001b[39;00m \u001b[38;5;28;01mNone\u001b[39;00m \u001b[38;5;129;01mand\u001b[39;00m\n\u001b[1;32m    344\u001b[0m         parse_int \u001b[38;5;129;01mis\u001b[39;00m \u001b[38;5;28;01mNone\u001b[39;00m \u001b[38;5;129;01mand\u001b[39;00m parse_float \u001b[38;5;129;01mis\u001b[39;00m \u001b[38;5;28;01mNone\u001b[39;00m \u001b[38;5;129;01mand\u001b[39;00m\n\u001b[1;32m    345\u001b[0m         parse_constant \u001b[38;5;129;01mis\u001b[39;00m \u001b[38;5;28;01mNone\u001b[39;00m \u001b[38;5;129;01mand\u001b[39;00m object_pairs_hook \u001b[38;5;129;01mis\u001b[39;00m \u001b[38;5;28;01mNone\u001b[39;00m \u001b[38;5;129;01mand\u001b[39;00m \u001b[38;5;129;01mnot\u001b[39;00m kw):\n\u001b[0;32m--> 346\u001b[0m     \u001b[38;5;28;01mreturn\u001b[39;00m \u001b[43m_default_decoder\u001b[49m\u001b[38;5;241;43m.\u001b[39;49m\u001b[43mdecode\u001b[49m\u001b[43m(\u001b[49m\u001b[43ms\u001b[49m\u001b[43m)\u001b[49m\n\u001b[1;32m    347\u001b[0m \u001b[38;5;28;01mif\u001b[39;00m \u001b[38;5;28mcls\u001b[39m \u001b[38;5;129;01mis\u001b[39;00m \u001b[38;5;28;01mNone\u001b[39;00m:\n\u001b[1;32m    348\u001b[0m     \u001b[38;5;28mcls\u001b[39m \u001b[38;5;241m=\u001b[39m JSONDecoder\n",
      "File \u001b[0;32m~/miniconda3/envs/thesis/lib/python3.11/json/decoder.py:340\u001b[0m, in \u001b[0;36mJSONDecoder.decode\u001b[0;34m(self, s, _w)\u001b[0m\n\u001b[1;32m    338\u001b[0m end \u001b[38;5;241m=\u001b[39m _w(s, end)\u001b[38;5;241m.\u001b[39mend()\n\u001b[1;32m    339\u001b[0m \u001b[38;5;28;01mif\u001b[39;00m end \u001b[38;5;241m!=\u001b[39m \u001b[38;5;28mlen\u001b[39m(s):\n\u001b[0;32m--> 340\u001b[0m     \u001b[38;5;28;01mraise\u001b[39;00m JSONDecodeError(\u001b[38;5;124m\"\u001b[39m\u001b[38;5;124mExtra data\u001b[39m\u001b[38;5;124m\"\u001b[39m, s, end)\n\u001b[1;32m    341\u001b[0m \u001b[38;5;28;01mreturn\u001b[39;00m obj\n",
      "\u001b[0;31mJSONDecodeError\u001b[0m: Extra data: line 1 column 2 (char 1)"
     ]
    }
   ],
   "source": [
    "json.loads(json.loads(combined.loc[5, 'questions_x'])['choices'][0]['message']['content'])"
   ]
  },
  {
   "cell_type": "code",
   "execution_count": null,
   "metadata": {},
   "outputs": [],
   "source": [
    "import re\n",
    "import random\n",
    "from itertools import chain\n",
    "\n",
    "\n",
    "def generate_json(gpt_output: pd.Series):\n",
    "    \"\"\"\n",
    "    Parses GPT output into a JSON file. This function uses regex to parse for all the instructions (questions), and \n",
    "    outputs (answers) from the GPT output which is a dictionary. The parsed data is returned into a Python list of \n",
    "    dictionaries, which is appended for each webpage. This list is shuffled to mix up the questions and then dumped \n",
    "    to a JSON file.\n",
    "\n",
    "    Args:\n",
    "        gpt_output (dict): The dictionary containing the GPT output.\n",
    "        filename (str): The JSON filename to write the parsed and shuffled list of dictionaries to.\n",
    "    \"\"\"\n",
    "\n",
    "    # The regular expression pattern for a JSON object with \"instruction\" and \"output\"\n",
    "    pattern = r'\"question\":\\s*\"(.*?)\",.*?\"answer\":\\s*\"(.*?)\"'\n",
    "    jsonqa = []\n",
    "\n",
    "    for value in gpt_output:\n",
    "        matches = re.findall(pattern, value, flags=re.DOTALL)\n",
    "        # Add a conditional filter in the list comprehension\n",
    "        clean_value = [{\"question\": m[0], \"answer\": m[1]} for m in matches if m[0] and m[1] and '\"' not in m[0] and '\"' not in m[1]]\n",
    "        jsonqa.append(clean_value)\n",
    "\n",
    "    jsonqa = list(chain(*jsonqa))\n",
    "\n",
    "    random.shuffle(jsonqa)\n",
    "\n",
    "    return jsonqa\n"
   ]
  },
  {
   "cell_type": "code",
   "execution_count": null,
   "metadata": {},
   "outputs": [
    {
     "data": {
      "text/plain": [
       "[{'question': 'How often does the Employee Advisory Board at SUNY Brockport meet and where?',\n",
       "  'answer': \"The Employee Advisory Board at SUNY Brockport meets at least twice each year on the University's campus in Western/Central New York.\"},\n",
       " {'question': 'What opportunities does SUNY Brockport offer for students to develop their leadership skills?',\n",
       "  'answer': 'SUNY Brockport offers many opportunities for students who are interested in developing their leadership skills.'},\n",
       " {'question': 'How can employers connect with the Employer Relations team at SUNY Brockport?',\n",
       "  'answer': 'To connect with a member of the Employer Relations team, employers can call (585) 395-2159 and schedule a meeting or campus visit.'},\n",
       " {'question': 'What is the purpose of the Employee Advisory Board at SUNY Brockport?',\n",
       "  'answer': 'The purpose of the Employee Advisory Board at SUNY Brockport is to provide a forum for employers and staff members to engage in relevant discussions about career and employment issues that will contribute to the quality and impact of career programs and services for Brockport students.'},\n",
       " {'question': 'How can potential employers benefit from collaborating with the Employer Relations team at SUNY Brockport?',\n",
       "  'answer': \"Potential employers can benefit from collaborating with the Employer Relations team at SUNY Brockport by having their recruiting needs effectively and conveniently met for part-time or full-time jobs, internships, or volunteer opportunities. The team provides exceptional customer service and develops creative solutions to maximize the employer's experience with SUNY Brockport.\"}]"
      ]
     },
     "execution_count": 124,
     "metadata": {},
     "output_type": "execute_result"
    }
   ],
   "source": [
    "test_gpt_output = {\"URL\": \"\"\"1. What opportunities does SUNY Brockport offer for students to develop their leadership skills?\n",
    "{\"question\": \"What opportunities does SUNY Brockport offer for students to develop their leadership skills?\", \n",
    "\"answer\": \"SUNY Brockport offers many opportunities for students who are interested in developing their leadership skills.\"}\n",
    "\n",
    "2. How can employers connect with the Employer Relations team at SUNY Brockport?\n",
    "{\"question\": \"How can employers connect with the Employer Relations team at SUNY Brockport?\", \n",
    "\"answer\": \"To connect with a member of the Employer Relations team, employers can call (585) 395-2159 and schedule a meeting or campus visit.\"}\n",
    "\n",
    "3. What is the purpose of the Employee Advisory Board at SUNY Brockport?\n",
    "{\"question\": \"What is the purpose of the Employee Advisory Board at SUNY Brockport?\", \n",
    "\"answer\": \"The purpose of the Employee Advisory Board at SUNY Brockport is to provide a forum for employers and staff members to engage in relevant discussions about career and employment issues that will contribute to the quality and impact of career programs and services for Brockport students.\"}\n",
    "\n",
    "4. How often does the Employee Advisory Board at SUNY Brockport meet and where?\n",
    "{\"question\": \"How often does the Employee Advisory Board at SUNY Brockport meet and where?\", \n",
    "\"answer\": \"The Employee Advisory Board at SUNY Brockport meets at least twice each year on the University's campus in Western/Central New York.\"}\n",
    "\n",
    "5. How can potential employers benefit from collaborating with the Employer Relations team at SUNY Brockport?\n",
    "{\"question\": \"How can potential employers benefit from collaborating with the Employer Relations team at SUNY Brockport?\", \n",
    "\"answer\": \"Potential employers can benefit from collaborating with the Employer Relations team at SUNY Brockport by having their recruiting needs effectively and conveniently met for part-time or full-time jobs, internships, or volunteer opportunities. The team provides exceptional customer service and develops creative solutions to maximize the employer's experience with SUNY Brockport.\"}\"\"\"}\n",
    "\n",
    "generate_json(test_gpt_output)"
   ]
  }
 ],
 "metadata": {
  "kernelspec": {
   "display_name": "thesis",
   "language": "python",
   "name": "python3"
  },
  "language_info": {
   "codemirror_mode": {
    "name": "ipython",
    "version": 3
   },
   "file_extension": ".py",
   "mimetype": "text/x-python",
   "name": "python",
   "nbconvert_exporter": "python",
   "pygments_lexer": "ipython3",
   "version": "3.11.7"
  }
 },
 "nbformat": 4,
 "nbformat_minor": 2
}
