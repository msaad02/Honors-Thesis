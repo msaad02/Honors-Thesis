{
 "cells": [
  {
   "cell_type": "code",
   "execution_count": 18,
   "metadata": {},
   "outputs": [],
   "source": [
    "import pandas as pd\n",
    "import json\n",
    "import re\n",
    "\n",
    "# data = pd.read_csv(\"NEW_data_collection/data/web_data_with_questions.csv\")"
   ]
  },
  {
   "cell_type": "code",
   "execution_count": 19,
   "metadata": {},
   "outputs": [],
   "source": [
    "# avg_prompt_tokens = sum([json.loads(data.iloc[idx, 2])['usage']['prompt_tokens'] for idx in range(len(data))])/len(data)\n",
    "# avg_completion_tokens = sum([json.loads(data.iloc[idx, 2])['usage']['completion_tokens'] for idx in range(len(data))])/len(data)\n",
    "\n",
    "# avg_cost_per_page = 0.01 * (avg_prompt_tokens/1000) + 0.03 * (avg_completion_tokens/1000)\n",
    "# print(avg_cost_per_page*7000)"
   ]
  },
  {
   "cell_type": "code",
   "execution_count": 20,
   "metadata": {},
   "outputs": [],
   "source": [
    "# avg_cost_per_page = 0.001 * (avg_prompt_tokens/1000) + 0.002 * (avg_completion_tokens/1000)\n",
    "# print(avg_cost_per_page*7000)"
   ]
  },
  {
   "cell_type": "markdown",
   "metadata": {},
   "source": [
    "# Side by side gpt3.5 and gpt4 questions"
   ]
  },
  {
   "cell_type": "code",
   "execution_count": 21,
   "metadata": {},
   "outputs": [],
   "source": [
    "import pandas as pd\n",
    "import json\n",
    "\n",
    "data3 = pd.read_csv(\"NEW_data_collection/data/GPT3.5 questions.csv\")\n",
    "data4 = pd.read_csv(\"NEW_data_collection/data/GPT4 questions.csv\")\n",
    "\n",
    "\n",
    "\n",
    "# data3 and data4 are almost the same just with different questions. \n",
    "# We will join on questions then view them side by side to see if there are any differences\n",
    "combined = pd.merge(data3, data4, on=['url', 'data'], how='inner')"
   ]
  },
  {
   "cell_type": "markdown",
   "metadata": {},
   "source": [
    "# GPT 4\n",
    "\n",
    "SUPER easy to parse the output. UNLIKE GPT3.5"
   ]
  },
  {
   "cell_type": "code",
   "execution_count": 32,
   "metadata": {},
   "outputs": [
    {
     "data": {
      "text/plain": [
       "0     ```json\\n[\\n    {\\n        \"question\": \"How ca...\n",
       "1     ```json\\n[\\n  {\\n    \"question\": \"How does SUN...\n",
       "2     ```json\\n[\\n  {\\n    \"question\": \"How can I an...\n",
       "3     ```json\\n[\\n  {\\n    \"question\": \"What kind of...\n",
       "4     ```json\\n[\\n  {\\n    \"question\": \"What is the ...\n",
       "5     ```json\\n[\\n    {\\n        \"question\": \"How ca...\n",
       "6     ```json\\n[\\n    {\\n        \"question\": \"How ca...\n",
       "7     ```json\\n[\\n  {\\n    \"question\": \"How can I ap...\n",
       "8     ```json\\n[\\n    {\\n        \"question\": \"What c...\n",
       "9     ```json\\n[\\n    {\\n        \"question\": \"How ca...\n",
       "10    ```json\\n[\\n  {\\n    \"question\": \"How can I sc...\n",
       "11    ```json\\n[\\n  {\\n    \"question\": \"How can I su...\n",
       "12    ```json\\n[\\n    {\\n        \"question\": \"How ca...\n",
       "13    ```json\\n[\\n  {\\n    \"question\": \"Where can I ...\n",
       "14    ```json\\n[\\n  {\\n    \"question\": \"How can futu...\n",
       "15    ```json\\n[\\n  {\\n    \"question\": \"How do I get...\n",
       "16    ```json\\n[\\n  {\\n    \"question\": \"How can I le...\n",
       "17    ```json\\n[\\n  {\\n    \"question\": \"How can I ap...\n",
       "18    ```json\\n[\\n    {\\n        \"question\": \"How ca...\n",
       "19    ```json\\n[\\n    {\\n        \"question\": \"How ca...\n",
       "20    ```json\\n[\\n  {\\n    \"question\": \"How can I fi...\n",
       "21    ```json\\n[\\n  {\\n    \"question\": \"How can I re...\n",
       "22    ```json\\n[\\n  {\\n    \"question\": \"How can I re...\n",
       "23    ```json\\n[\\n    {\\n        \"question\": \"How ca...\n",
       "24    ```json\\n[\\n  {\\n    \"question\": \"How can I ac...\n",
       "25    ```json\\n[\\n    {\\n        \"question\": \"What i...\n",
       "26    ```json\\n[\\n  {\\n    \"question\": \"How do I con...\n",
       "Name: cleaned_qa, dtype: object"
      ]
     },
     "execution_count": 32,
     "metadata": {},
     "output_type": "execute_result"
    }
   ],
   "source": [
    "data4['cleaned_qa'] = [json.loads(data4.loc[idx, 'questions'])['choices'][0]['message']['content'].strip().replace(\"questions\", \"\") for idx in range(len(data4))]\n",
    "data4['cleaned_qa']"
   ]
  },
  {
   "cell_type": "code",
   "execution_count": 36,
   "metadata": {},
   "outputs": [],
   "source": [
    "data4['super_cleaned_qa'] = data4['cleaned_qa'].apply(lambda x: json.loads(x[7:-3]))"
   ]
  },
  {
   "cell_type": "code",
   "execution_count": 37,
   "metadata": {},
   "outputs": [
    {
     "data": {
      "text/plain": [
       "0     [{'question': 'How can I schedule an undergrad...\n",
       "1     [{'question': 'How does SUNY Brockport foster ...\n",
       "2     [{'question': 'How can I anonymously report a ...\n",
       "3     [{'question': 'What kind of academic support d...\n",
       "4     [{'question': 'What is the duration of the Fal...\n",
       "5     [{'question': 'How can I develop my leadership...\n",
       "6     [{'question': 'How can students benefit from u...\n",
       "7     [{'question': 'How can I apply for scholarship...\n",
       "8     [{'question': 'What criteria should I meet to ...\n",
       "9     [{'question': 'How can I apply to SUNY Brockpo...\n",
       "10    [{'question': 'How can I schedule a tour of th...\n",
       "11    [{'question': 'How can I subscribe to The Port...\n",
       "12    [{'question': 'How can I make an online donati...\n",
       "13    [{'question': 'Where can I find the course cat...\n",
       "14    [{'question': 'How can future students apply t...\n",
       "15    [{'question': 'How do I get involved with mult...\n",
       "16    [{'question': 'How can I learn more about SUNY...\n",
       "17    [{'question': 'How can I apply for financial a...\n",
       "18    [{'question': 'How can I sign up for the RAVE ...\n",
       "19    [{'question': 'How can I find the appropriate ...\n",
       "20    [{'question': 'How can I find and apply to fac...\n",
       "21    [{'question': 'How can I request a sign langua...\n",
       "22    [{'question': 'How can I report a bias related...\n",
       "23    [{'question': 'How can I join the Parents of B...\n",
       "24    [{'question': 'How can I access the current ca...\n",
       "25    [{'question': 'What is the federal ID number f...\n",
       "26    [{'question': 'How do I contact the University...\n",
       "Name: super_cleaned_qa, dtype: object"
      ]
     },
     "execution_count": 37,
     "metadata": {},
     "output_type": "execute_result"
    }
   ],
   "source": [
    "data4['super_cleaned_qa']"
   ]
  },
  {
   "cell_type": "markdown",
   "metadata": {},
   "source": [
    "# GPT 3.5\n",
    "\n",
    "These are super hard responses to parse. It's responses are really all over the place. So much for \"JSON mode\""
   ]
  },
  {
   "cell_type": "code",
   "execution_count": 22,
   "metadata": {},
   "outputs": [],
   "source": [
    "data3['cleaned_qa'] = [json.loads(data3.loc[idx, 'questions'])['choices'][0]['message']['content'].strip().replace(\"questions\", \"\") for idx in range(len(data3))]"
   ]
  },
  {
   "cell_type": "code",
   "execution_count": 23,
   "metadata": {},
   "outputs": [
    {
     "data": {
      "text/plain": [
       "'{\"\": [\\n  {\"question\": \"What are the dates for the Fall Semester 2023?\", \"answer\": \"The Fall Semester 2023 dates have not been specified.\"},\\n  {\"question\": \"When is the Winter Session 2024?\", \"answer\": \"The date for the Winter Session 2024 has not been mentioned.\"},\\n  {\"question\": \"How long are the M.W.F. classes during the Fall Semester?\", \"answer\": \"M.W.F. classes during the Fall Semester are 50 minutes in length.\"},\\n  {\"question\": \"Can students request time off for religious beliefs?\", \"answer\": \"Yes, under section 224-A of the Education Law of the State of New York, absence from class for religious beliefs is excused.\"},\\n  {\"question\": \"How long are the T.R. classes during the Spring Semester?\", \"answer\": \"T.R. classes during the Spring Semester are 75 minutes in length.\"}\\n]}'"
      ]
     },
     "execution_count": 23,
     "metadata": {},
     "output_type": "execute_result"
    }
   ],
   "source": [
    "data3['cleaned_qa'][4]"
   ]
  },
  {
   "cell_type": "code",
   "execution_count": 24,
   "metadata": {},
   "outputs": [
    {
     "name": "stdout",
     "output_type": "stream",
     "text": [
      "{\"\": [\n",
      "{\"question\": \"How can I report a bias related incident at SUNY Brockport?\", \"answer\": \"You can report a bias related incident at SUNY Brockport through their Bias Related Incident Reporting System.\"},\n",
      "{\"question\": \"Who should I contact for urgent facilities issues at SUNY Brockport?\", \"answer\": \"For urgent facilities issues at SUNY Brockport, you can directly call the Service Center at ext. 2408.\"},\n",
      "{\"question\": \"How do I report accidents or injuries or emergency spill responses at SUNY Brockport?\", \"answer\": \"To report accidents or injuries or emergency spill responses at SUNY Brockport, you can contact their Environmental Health & Safety department.\"},\n",
      "{\"question\": \"Who can I contact at SUNY Brockport for IT assistance?\", \"answer\": \"If you require IT assistance at SUNY Brockport, you can contact their IT Service Desk for help.\"},\n",
      "{\"question\": \"What is the process for appealing a grade at SUNY Brockport?\", \"answer\": \"SUNY Brockport has a grade appeals process, and students have certain rights to appeal a grade as explained by the policy.\"}\n",
      "]}\n"
     ]
    }
   ],
   "source": [
    "print(data3['cleaned_qa'][22])"
   ]
  },
  {
   "cell_type": "code",
   "execution_count": 29,
   "metadata": {},
   "outputs": [],
   "source": [
    "def get_json_qa(value):\n",
    "    jsonqa = []\n",
    "\n",
    "    # First, try parsing as JSON\n",
    "    try:\n",
    "        parsed_json = json.loads(value)\n",
    "        if isinstance(parsed_json, list):\n",
    "            for item in parsed_json:\n",
    "                if 'question' in item and 'answer' in item:\n",
    "                    jsonqa.append({'question': item['question'], 'answer': item['answer']})\n",
    "        return jsonqa\n",
    "    except json.JSONDecodeError:\n",
    "        # If JSON parsing fails, use regex\n",
    "        pass\n",
    "\n",
    "    # Split the string by newlines and parse each line as JSON\n",
    "    for line in data_string.split('\\n'):\n",
    "        try:\n",
    "            json_obj = json.loads(line)\n",
    "            if 'question' in json_obj and 'answer' in json_obj:\n",
    "                jsonqa.append({'question': json_obj['question'], 'answer': json_obj['answer']})\n",
    "        except json.JSONDecodeError:\n",
    "            pass\n",
    "\n",
    "\n",
    "    # Regex pattern for plain text format\n",
    "    pattern = r'question:\\s*(.*?)\\n\\s*answer:\\s*(.*?)\\n\\n'\n",
    "    matches = re.findall(pattern, value, flags=re.DOTALL)\n",
    "    clean_value = [{\"question\": m[0].strip(), \"answer\": m[1].strip()} for m in matches if m[0] and m[1]]\n",
    "    jsonqa.extend(clean_value)\n",
    "\n",
    "    return jsonqa\n",
    "\n",
    "# def get_json_qa(value):\n",
    "#     jsonqa = []\n",
    "\n",
    "#     # First, try parsing as JSON\n",
    "#     try:\n",
    "#         parsed_json = json.loads(value)\n",
    "#         if isinstance(parsed_json, dict) and \"\" in parsed_json and isinstance(parsed_json[\"\"], list):\n",
    "#             for item in parsed_json[\"\"]:\n",
    "#                 if 'question' in item and 'answer' in item:\n",
    "#                     jsonqa.append({'question': item['question'], 'answer': item['answer']})\n",
    "#             return jsonqa\n",
    "#     except json.JSONDecodeError:\n",
    "#         # If JSON parsing fails, use regex\n",
    "#         pass\n",
    "\n",
    "#     # Split the string by newlines and parse each line as JSON\n",
    "#     for line in value.split('\\n'):\n",
    "#         try:\n",
    "#             json_obj = json.loads(line)\n",
    "#             if 'question' in json_obj and 'answer' in json_obj:\n",
    "#                 jsonqa.append({'question': json_obj['question'], 'answer': json_obj['answer']})\n",
    "#         except json.JSONDecodeError:\n",
    "#             pass\n",
    "\n",
    "#     # Regex pattern for plain text format\n",
    "#     pattern = r'question:\\s*(.*?)\\n\\s*answer:\\s*(.*?)\\n\\n'\n",
    "#     matches = re.findall(pattern, value, flags=re.DOTALL)\n",
    "#     clean_value = [{\"question\": m[0].strip(), \"answer\": m[1].strip()} for m in matches if m[0] and m[1]]\n",
    "#     jsonqa.extend(clean_value)\n",
    "\n",
    "#     return jsonqa"
   ]
  },
  {
   "cell_type": "code",
   "execution_count": 30,
   "metadata": {},
   "outputs": [
    {
     "ename": "NameError",
     "evalue": "name 'data_string' is not defined",
     "output_type": "error",
     "traceback": [
      "\u001b[0;31m---------------------------------------------------------------------------\u001b[0m",
      "\u001b[0;31mNameError\u001b[0m                                 Traceback (most recent call last)",
      "Cell \u001b[0;32mIn[30], line 1\u001b[0m\n\u001b[0;32m----> 1\u001b[0m \u001b[43mdata3\u001b[49m\u001b[43m[\u001b[49m\u001b[38;5;124;43m'\u001b[39;49m\u001b[38;5;124;43mcleaned_qa\u001b[39;49m\u001b[38;5;124;43m'\u001b[39;49m\u001b[43m]\u001b[49m\u001b[38;5;241;43m.\u001b[39;49m\u001b[43mapply\u001b[49m\u001b[43m(\u001b[49m\u001b[43mget_json_qa\u001b[49m\u001b[43m)\u001b[49m\n",
      "File \u001b[0;32m~/miniconda3/envs/thesis/lib/python3.11/site-packages/pandas/core/series.py:4630\u001b[0m, in \u001b[0;36mSeries.apply\u001b[0;34m(self, func, convert_dtype, args, **kwargs)\u001b[0m\n\u001b[1;32m   4520\u001b[0m \u001b[38;5;28;01mdef\u001b[39;00m \u001b[38;5;21mapply\u001b[39m(\n\u001b[1;32m   4521\u001b[0m     \u001b[38;5;28mself\u001b[39m,\n\u001b[1;32m   4522\u001b[0m     func: AggFuncType,\n\u001b[0;32m   (...)\u001b[0m\n\u001b[1;32m   4525\u001b[0m     \u001b[38;5;241m*\u001b[39m\u001b[38;5;241m*\u001b[39mkwargs,\n\u001b[1;32m   4526\u001b[0m ) \u001b[38;5;241m-\u001b[39m\u001b[38;5;241m>\u001b[39m DataFrame \u001b[38;5;241m|\u001b[39m Series:\n\u001b[1;32m   4527\u001b[0m \u001b[38;5;250m    \u001b[39m\u001b[38;5;124;03m\"\"\"\u001b[39;00m\n\u001b[1;32m   4528\u001b[0m \u001b[38;5;124;03m    Invoke function on values of Series.\u001b[39;00m\n\u001b[1;32m   4529\u001b[0m \n\u001b[0;32m   (...)\u001b[0m\n\u001b[1;32m   4628\u001b[0m \u001b[38;5;124;03m    dtype: float64\u001b[39;00m\n\u001b[1;32m   4629\u001b[0m \u001b[38;5;124;03m    \"\"\"\u001b[39;00m\n\u001b[0;32m-> 4630\u001b[0m     \u001b[38;5;28;01mreturn\u001b[39;00m \u001b[43mSeriesApply\u001b[49m\u001b[43m(\u001b[49m\u001b[38;5;28;43mself\u001b[39;49m\u001b[43m,\u001b[49m\u001b[43m \u001b[49m\u001b[43mfunc\u001b[49m\u001b[43m,\u001b[49m\u001b[43m \u001b[49m\u001b[43mconvert_dtype\u001b[49m\u001b[43m,\u001b[49m\u001b[43m \u001b[49m\u001b[43margs\u001b[49m\u001b[43m,\u001b[49m\u001b[43m \u001b[49m\u001b[43mkwargs\u001b[49m\u001b[43m)\u001b[49m\u001b[38;5;241;43m.\u001b[39;49m\u001b[43mapply\u001b[49m\u001b[43m(\u001b[49m\u001b[43m)\u001b[49m\n",
      "File \u001b[0;32m~/miniconda3/envs/thesis/lib/python3.11/site-packages/pandas/core/apply.py:1025\u001b[0m, in \u001b[0;36mSeriesApply.apply\u001b[0;34m(self)\u001b[0m\n\u001b[1;32m   1022\u001b[0m     \u001b[38;5;28;01mreturn\u001b[39;00m \u001b[38;5;28mself\u001b[39m\u001b[38;5;241m.\u001b[39mapply_str()\n\u001b[1;32m   1024\u001b[0m \u001b[38;5;66;03m# self.f is Callable\u001b[39;00m\n\u001b[0;32m-> 1025\u001b[0m \u001b[38;5;28;01mreturn\u001b[39;00m \u001b[38;5;28;43mself\u001b[39;49m\u001b[38;5;241;43m.\u001b[39;49m\u001b[43mapply_standard\u001b[49m\u001b[43m(\u001b[49m\u001b[43m)\u001b[49m\n",
      "File \u001b[0;32m~/miniconda3/envs/thesis/lib/python3.11/site-packages/pandas/core/apply.py:1076\u001b[0m, in \u001b[0;36mSeriesApply.apply_standard\u001b[0;34m(self)\u001b[0m\n\u001b[1;32m   1074\u001b[0m     \u001b[38;5;28;01melse\u001b[39;00m:\n\u001b[1;32m   1075\u001b[0m         values \u001b[38;5;241m=\u001b[39m obj\u001b[38;5;241m.\u001b[39mastype(\u001b[38;5;28mobject\u001b[39m)\u001b[38;5;241m.\u001b[39m_values\n\u001b[0;32m-> 1076\u001b[0m         mapped \u001b[38;5;241m=\u001b[39m \u001b[43mlib\u001b[49m\u001b[38;5;241;43m.\u001b[39;49m\u001b[43mmap_infer\u001b[49m\u001b[43m(\u001b[49m\n\u001b[1;32m   1077\u001b[0m \u001b[43m            \u001b[49m\u001b[43mvalues\u001b[49m\u001b[43m,\u001b[49m\n\u001b[1;32m   1078\u001b[0m \u001b[43m            \u001b[49m\u001b[43mf\u001b[49m\u001b[43m,\u001b[49m\n\u001b[1;32m   1079\u001b[0m \u001b[43m            \u001b[49m\u001b[43mconvert\u001b[49m\u001b[38;5;241;43m=\u001b[39;49m\u001b[38;5;28;43mself\u001b[39;49m\u001b[38;5;241;43m.\u001b[39;49m\u001b[43mconvert_dtype\u001b[49m\u001b[43m,\u001b[49m\n\u001b[1;32m   1080\u001b[0m \u001b[43m        \u001b[49m\u001b[43m)\u001b[49m\n\u001b[1;32m   1082\u001b[0m \u001b[38;5;28;01mif\u001b[39;00m \u001b[38;5;28mlen\u001b[39m(mapped) \u001b[38;5;129;01mand\u001b[39;00m \u001b[38;5;28misinstance\u001b[39m(mapped[\u001b[38;5;241m0\u001b[39m], ABCSeries):\n\u001b[1;32m   1083\u001b[0m     \u001b[38;5;66;03m# GH#43986 Need to do list(mapped) in order to get treated as nested\u001b[39;00m\n\u001b[1;32m   1084\u001b[0m     \u001b[38;5;66;03m#  See also GH#25959 regarding EA support\u001b[39;00m\n\u001b[1;32m   1085\u001b[0m     \u001b[38;5;28;01mreturn\u001b[39;00m obj\u001b[38;5;241m.\u001b[39m_constructor_expanddim(\u001b[38;5;28mlist\u001b[39m(mapped), index\u001b[38;5;241m=\u001b[39mobj\u001b[38;5;241m.\u001b[39mindex)\n",
      "File \u001b[0;32m~/miniconda3/envs/thesis/lib/python3.11/site-packages/pandas/_libs/lib.pyx:2834\u001b[0m, in \u001b[0;36mpandas._libs.lib.map_infer\u001b[0;34m()\u001b[0m\n",
      "Cell \u001b[0;32mIn[29], line 17\u001b[0m, in \u001b[0;36mget_json_qa\u001b[0;34m(value)\u001b[0m\n\u001b[1;32m     14\u001b[0m     \u001b[38;5;28;01mpass\u001b[39;00m\n\u001b[1;32m     16\u001b[0m \u001b[38;5;66;03m# Split the string by newlines and parse each line as JSON\u001b[39;00m\n\u001b[0;32m---> 17\u001b[0m \u001b[38;5;28;01mfor\u001b[39;00m line \u001b[38;5;129;01min\u001b[39;00m \u001b[43mdata_string\u001b[49m\u001b[38;5;241m.\u001b[39msplit(\u001b[38;5;124m'\u001b[39m\u001b[38;5;130;01m\\n\u001b[39;00m\u001b[38;5;124m'\u001b[39m):\n\u001b[1;32m     18\u001b[0m     \u001b[38;5;28;01mtry\u001b[39;00m:\n\u001b[1;32m     19\u001b[0m         json_obj \u001b[38;5;241m=\u001b[39m json\u001b[38;5;241m.\u001b[39mloads(line)\n",
      "\u001b[0;31mNameError\u001b[0m: name 'data_string' is not defined"
     ]
    }
   ],
   "source": [
    "data3['cleaned_qa'].apply(get_json_qa)"
   ]
  },
  {
   "cell_type": "code",
   "execution_count": 27,
   "metadata": {},
   "outputs": [],
   "source": [
    "def get_json_qa(value):\n",
    "    pattern = r'\"?question\"?:\\s*\"(.*?)\",.*?\"?answer\"?:\\s*\"(.*?)\"'\n",
    "    pattern = r'question\"?:\\s*(.*?)\\n\\s*answer\"?:\\s*(.*?)\\n\\n'\n",
    "    jsonqa = []\n",
    "\n",
    "    matches = re.findall(pattern, value, flags=re.DOTALL)\n",
    "    # Add a conditional filter in the list comprehension\n",
    "    clean_value = [{\"question\": m[0], \"answer\": m[1]} for m in matches if m[0] and m[1] and '\"' not in m[0] and '\"' not in m[1]]\n",
    "    jsonqa.append(clean_value)\n",
    "\n",
    "    jsonqa = list(chain(*jsonqa))\n",
    "\n",
    "    return jsonqa"
   ]
  },
  {
   "cell_type": "code",
   "execution_count": null,
   "metadata": {},
   "outputs": [],
   "source": []
  },
  {
   "cell_type": "code",
   "execution_count": 28,
   "metadata": {},
   "outputs": [
    {
     "ename": "NameError",
     "evalue": "name 'chain' is not defined",
     "output_type": "error",
     "traceback": [
      "\u001b[0;31m---------------------------------------------------------------------------\u001b[0m",
      "\u001b[0;31mNameError\u001b[0m                                 Traceback (most recent call last)",
      "Cell \u001b[0;32mIn[28], line 11\u001b[0m\n\u001b[1;32m      8\u001b[0m     clean_value \u001b[38;5;241m=\u001b[39m [{\u001b[38;5;124m\"\u001b[39m\u001b[38;5;124mquestion\u001b[39m\u001b[38;5;124m\"\u001b[39m: m[\u001b[38;5;241m0\u001b[39m], \u001b[38;5;124m\"\u001b[39m\u001b[38;5;124manswer\u001b[39m\u001b[38;5;124m\"\u001b[39m: m[\u001b[38;5;241m1\u001b[39m]} \u001b[38;5;28;01mfor\u001b[39;00m m \u001b[38;5;129;01min\u001b[39;00m matches \u001b[38;5;28;01mif\u001b[39;00m m[\u001b[38;5;241m0\u001b[39m] \u001b[38;5;129;01mand\u001b[39;00m m[\u001b[38;5;241m1\u001b[39m] \u001b[38;5;129;01mand\u001b[39;00m \u001b[38;5;124m'\u001b[39m\u001b[38;5;124m\"\u001b[39m\u001b[38;5;124m'\u001b[39m \u001b[38;5;129;01mnot\u001b[39;00m \u001b[38;5;129;01min\u001b[39;00m m[\u001b[38;5;241m0\u001b[39m] \u001b[38;5;129;01mand\u001b[39;00m \u001b[38;5;124m'\u001b[39m\u001b[38;5;124m\"\u001b[39m\u001b[38;5;124m'\u001b[39m \u001b[38;5;129;01mnot\u001b[39;00m \u001b[38;5;129;01min\u001b[39;00m m[\u001b[38;5;241m1\u001b[39m]]\n\u001b[1;32m      9\u001b[0m     jsonqa\u001b[38;5;241m.\u001b[39mappend(clean_value)\n\u001b[0;32m---> 11\u001b[0m jsonqa \u001b[38;5;241m=\u001b[39m \u001b[38;5;28mlist\u001b[39m(\u001b[43mchain\u001b[49m(\u001b[38;5;241m*\u001b[39mjsonqa))\n",
      "\u001b[0;31mNameError\u001b[0m: name 'chain' is not defined"
     ]
    }
   ],
   "source": [
    "import re\n",
    "pattern = r'\"question\":\\s*\"(.*?)\",.*?\"answer\":\\s*\"(.*?)\"'\n",
    "jsonqa = []\n",
    "\n",
    "for value in data3['cleaned_qa']:\n",
    "    matches = re.findall(pattern, value, flags=re.DOTALL)\n",
    "    # Add a conditional filter in the list comprehension\n",
    "    clean_value = [{\"question\": m[0], \"answer\": m[1]} for m in matches if m[0] and m[1] and '\"' not in m[0] and '\"' not in m[1]]\n",
    "    jsonqa.append(clean_value)\n",
    "\n",
    "jsonqa = list(chain(*jsonqa))"
   ]
  },
  {
   "cell_type": "code",
   "execution_count": null,
   "metadata": {},
   "outputs": [
    {
     "data": {
      "text/plain": [
       "[{'question': 'What events are happening at SUNY Brockport?',\n",
       "  'answer': 'You can find out about the events happening at SUNY Brockport by visiting the Be There Events Calendar on the website.'},\n",
       " {'question': 'When is the next STEM Day at SUNY Brockport?',\n",
       "  'answer': 'The next STEM Day at SUNY Brockport is scheduled for February 3, 2024.'},\n",
       " {'question': 'Can I schedule a campus tour at SUNY Brockport?',\n",
       "  'answer': 'Yes, you can schedule an undergraduate campus tour at SUNY Brockport. Tours are available Monday to Friday. Please contact the admissions office for more information.'},\n",
       " {'question': 'What programs does SUNY Brockport offer?',\n",
       "  'answer': 'SUNY Brockport offers over 100 programs including majors, minors, graduate, and online programs. You can explore the full range of programs on the website.'},\n",
       " {'question': 'What are the top-ranked facilities at SUNY Brockport?',\n",
       "  'answer': \"SUNY Brockport's Student Union, library resources, athletics programs, and athletic & recreational facilities are ranked among the top in comparison to other SUNY institutions. It is the #1 student union and has #1 library resources and athletics programs among 27 SUNY 4-year institutions. Additionally, it has #2 athletic & recreational facilities among 12 SUNY university colleges.\"},\n",
       " {'question': 'What is the mission of SUNY Brockport?',\n",
       "  'answer': \"SUNY Brockport's mission is to be an inclusive learning community that inspires excellence through growth, engagement, and transformation.\"},\n",
       " {'question': 'What is the size of the SUNY Brockport campus?',\n",
       "  'answer': 'The SUNY Brockport campus is located on 464 acres in Brockport, NY.'},\n",
       " {'question': 'Who is the president of SUNY Brockport?',\n",
       "  'answer': \"Dr. Heidi Macpherson is the current president of SUNY Brockport, and she is the first female president in the university's history.\"},\n",
       " {'question': 'How many undergraduate and graduate students are enrolled at SUNY Brockport?',\n",
       "  'answer': 'SUNY Brockport has an enrollment of 6,934 students, with 5,432 being undergraduate students and 1,502 being graduate students.'},\n",
       " {'question': 'How does SUNY Brockport value diversity?',\n",
       "  'answer': \"SUNY Brockport is an inclusive learning community that values and celebrates the differences among its students. The Chief Diversity Officer, who is a member of the President's senior leadership team, leads the effort to conceptualize and cultivate diversity as an institutional priority.\"},\n",
       " {'question': 'How can I make a Title IX related report online?',\n",
       "  'answer': 'You can make a Title IX related report online with the option to make your report anonymous.'},\n",
       " {'question': 'Who can I meet with regarding Title IX issues?',\n",
       "  'answer': 'You can meet with Denine Carr, who can meet with students in person or remotely, depending on your preference.'},\n",
       " {'question': 'What does Title IX protect against?',\n",
       "  'answer': 'Title IX is a federal civil rights law that protects people in education programs from discrimination based on sex.'},\n",
       " {'question': 'Where can I find FAQs for complainants regarding sexual misconduct?',\n",
       "  'answer': \"You can find the complainant's FAQ section to understand the basics of the Title IX Grievance Policy, Code of Student Conduct policy, available resources, and common questions or concerns.\"},\n",
       " {'question': 'Where can I find information for parents regarding Title IX incidents?',\n",
       "  'answer': 'You can visit the FAQs for Parents webpage to find more information if your student is involved in a situation that involves the Title IX Office.'},\n",
       " {'question': 'What programs does SUNY Brockport offer?',\n",
       "  'answer': 'SUNY Brockport offers an extensive and diverse range of programs for undergraduate and graduate students.'},\n",
       " {'question': 'What is the featured program in Cybersecurity at SUNY Brockport?',\n",
       "  'answer': 'The featured program in Cybersecurity at SUNY Brockport helps students learn to secure computer systems and become experts in this fast-growing field.'},\n",
       " {'question': 'Is the Master of Public Health (MPH) program available online?',\n",
       "  'answer': 'Yes, the Master of Public Health (MPH) program at SUNY Brockport is available 100% online.'},\n",
       " {'question': 'What academic support services are available at SUNY Brockport?',\n",
       "  'answer': 'SUNY Brockport offers academic support services to ensure the success of students both during their time at the university and in their future careers.'},\n",
       " {'question': 'What opportunities for engaged learning are available at SUNY Brockport?',\n",
       "  'answer': 'SUNY Brockport provides opportunities for students to work alongside faculty on innovative activities such as research, creative projects, fieldwork, and internships.'},\n",
       " {'question': 'What are the dates for the Fall Semester 2023?',\n",
       "  'answer': 'The Fall Semester 2023 dates have not been specified.'},\n",
       " {'question': 'When is the Winter Session 2024?',\n",
       "  'answer': 'The date for the Winter Session 2024 has not been mentioned.'},\n",
       " {'question': 'How long are the M.W.F. classes during the Fall Semester?',\n",
       "  'answer': 'M.W.F. classes during the Fall Semester are 50 minutes in length.'},\n",
       " {'question': 'Can students request time off for religious beliefs?',\n",
       "  'answer': 'Yes, under section 224-A of the Education Law of the State of New York, absence from class for religious beliefs is excused.'},\n",
       " {'question': 'How long are the T.R. classes during the Spring Semester?',\n",
       "  'answer': 'T.R. classes during the Spring Semester are 75 minutes in length.'},\n",
       " {'question': 'What opportunities does SUNY Brockport offer for students to develop their leadership skills?',\n",
       "  'answer': 'SUNY Brockport offers many opportunities for students who are interested in developing their leadership skills.'},\n",
       " {'question': 'How can employers connect with the Employer Relations team at SUNY Brockport?',\n",
       "  'answer': 'To connect with a member of the Employer Relations team, employers can call (585) 395-2159 and schedule a meeting or campus visit.'},\n",
       " {'question': 'What is the purpose of the Employee Advisory Board at SUNY Brockport?',\n",
       "  'answer': 'The purpose of the Employee Advisory Board at SUNY Brockport is to provide a forum for employers and staff members to engage in relevant discussions about career and employment issues that will contribute to the quality and impact of career programs and services for Brockport students.'},\n",
       " {'question': 'How often does the Employee Advisory Board at SUNY Brockport meet and where?',\n",
       "  'answer': \"The Employee Advisory Board at SUNY Brockport meets at least twice each year on the University's campus in Western/Central New York.\"},\n",
       " {'question': 'How can potential employers benefit from collaborating with the Employer Relations team at SUNY Brockport?',\n",
       "  'answer': \"Potential employers can benefit from collaborating with the Employer Relations team at SUNY Brockport by having their recruiting needs effectively and conveniently met for part-time or full-time jobs, internships, or volunteer opportunities. The team provides exceptional customer service and develops creative solutions to maximize the employer's experience with SUNY Brockport.\"},\n",
       " {'question': 'What is EagleSUCCESS?',\n",
       "  'answer': 'EagleSUCCESS is a collaborative tool for instructors, advisors, and students which aims to increase student success.'},\n",
       " {'question': 'How does using EagleSUCCESS increase student success?',\n",
       "  'answer': \"Using EagleSUCCESS allows students to advocate for themselves, track their progress, schedule advisement and tutoring appointments, and access all campus resources in one place. Advisors can have a better understanding of each student's performance and implement interventions early, while instructors can share concerns, refer students to resources, and celebrate achievements.\"},\n",
       " {'question': 'Where can I find tutorial guides and videos on using EagleSUCCESS?',\n",
       "  'answer': 'You can find the EagleSUCCESS tutorial guides and videos in Brightspace.'},\n",
       " {'question': 'Who should I contact if I have questions about EagleSUCCESS?',\n",
       "  'answer': 'You can email EagleSUCCESS or reach out to Thomas Chew, the Director of Academic Success Center, at (585) 395-2311.'},\n",
       " {'question': 'How can I apply to SUNY Brockport?',\n",
       "  'answer': 'To apply to SUNY Brockport, you can visit our website and complete the online application. You can also contact the Undergraduate Admissions office at (585) 395-2751 or email admit@brockport.edu for assistance.'},\n",
       " {'question': 'What scholarships are available at SUNY Brockport?',\n",
       "  'answer': 'SUNY Brockport offers millions of dollars in scholarships. You can find more information about available scholarships on our website or contact the Financial Aid office for assistance.'},\n",
       " {'question': 'What undergraduate majors and minors does SUNY Brockport offer?',\n",
       "  'answer': 'SUNY Brockport offers 50 undergraduate majors and over 55 minors. You can find a complete list of our academic programs on our website or contact the Admissions office for more information.'},\n",
       " {'question': 'How can I schedule a visit to SUNY Brockport?',\n",
       "  'answer': 'You can schedule a visit to SUNY Brockport by visiting our website and filling out the visit request form. You can also contact the Admissions office at (585) 395-2751 or email admit@brockport.edu to schedule a visit.'},\n",
       " {'question': 'What programs are available for economically disadvantaged students at SUNY Brockport?',\n",
       "  'answer': 'SUNY Brockport offers the Educational Opportunity Program (EOP) and the Fannie Barrier Williams Scholars (FBWS) program for economically disadvantaged students. These programs provide support and scholarships to eligible students. You can find more information on our website or contact the Admissions office for assistance.'},\n",
       " {'question': 'How can I schedule a tour of the SUNY Brockport campus?',\n",
       "  'answer': 'To schedule a tour of the SUNY Brockport campus, you can contact Undergraduate Admissions at (585) 395-2751 or email admit@brockport.edu.'},\n",
       " {'question': 'Are there group tours available for high school students at SUNY Brockport?',\n",
       "  'answer': 'Yes, high school groups can request a group tour of the SUNY Brockport campus. Contact Undergraduate Admissions for more information.'},\n",
       " {'question': 'What events are available for accepted students at SUNY Brockport?',\n",
       "  'answer': 'Accepted students have the opportunity to participate in Accepted Student Days, Day-Long Shadow experiences, and Scholars Sleepover events at the SUNY Brockport campus.'},\n",
       " {'question': \"Can I visit SUNY Brockport if I can't make it to campus?\",\n",
       "  'answer': 'Yes, SUNY Brockport offers virtual options for prospective students, including Transfer Video Appointments and Virtual Chats with admissions representatives.'},\n",
       " {'question': 'How can I connect with SUNY Brockport if I am a graduate student?',\n",
       "  'answer': 'Graduate students can connect with the Center for Graduate Studies at SUNY Brockport through virtual Graduate Video Chats or by scheduling an appointment or drop-in visit on campus.'},\n",
       " {'question': 'How can I update my information to ensure I receive The Port and other emails?',\n",
       "  'answer': 'You can update your information to ensure you receive The Port and other emails by visiting our website and accessing the update information form.'},\n",
       " {'question': 'How can I make connections and find career opportunities at SUNY Brockport?',\n",
       "  'answer': 'You can leverage the power of the Brockport network, make connections, and find career opportunities through our LinkedIn group called Eagle Links.'},\n",
       " {'question': 'How can I order my transcripts at SUNY Brockport?',\n",
       "  'answer': 'To order your transcripts, you can contact our Transcript Office, located at [location]. They will provide you with the necessary instructions and assistance.'},\n",
       " {'question': 'What services does Career Services offer at SUNY Brockport?',\n",
       "  'answer': 'Career Services at SUNY Brockport offers a lifetime of professional guidance, including assistance with resume building, job search strategies, interview preparation, and more.'},\n",
       " {'question': 'When will Homecoming & Family Weekend 2024 take place at SUNY Brockport?',\n",
       "  'answer': \"Homecoming & Family Weekend 2024 at SUNY Brockport will run from September 19 - September 22. It's a great time to reunite with family and friends, reminisce, and make new memories.\"},\n",
       " {'question': 'How can I make a gift to SUNY Brockport?',\n",
       "  'answer': 'You can make a gift to SUNY Brockport in multiple ways: online, over the phone, by mail, through endowment or planned giving, donating stocks, using donor-advised funds, or through cryptocurrency.'},\n",
       " {'question': 'How can I make an online donation to SUNY Brockport?',\n",
       "  'answer': \"To make an online donation to SUNY Brockport, you can use the University's secure online giving form. You can also use Apple Pay and Google Pay for easy processing.\"},\n",
       " {'question': 'How can I make a donation to SUNY Brockport over the phone?',\n",
       "  'answer': 'To make a donation to SUNY Brockport over the phone, you can call (585) 395-2451 and provide your credit card information.'},\n",
       " {'question': 'How can I donate stocks or appreciated assets to SUNY Brockport?',\n",
       "  'answer': 'To donate stocks or appreciated assets to SUNY Brockport, you can use the secure stock donation tool provided. It allows you to avoid capital gains tax and receive a charitable deduction for the full value of the asset.'},\n",
       " {'question': 'Does SUNY Brockport accept donations through cryptocurrency?',\n",
       "  'answer': 'Yes, SUNY Brockport now accepts donations of Ethereum, Bitcoin, and other cryptocurrencies. This provides an additional way to fund their work and may offer extra tax benefits to donors.'},\n",
       " {'question': 'How can I access the course catalog?',\n",
       "  'answer': \"You can access the course catalog on the university's website under the Academics section.\"},\n",
       " {'question': 'When can I register for courses?',\n",
       "  'answer': 'Course registration dates can be found on the Course Schedule provided by Registration and Records.'},\n",
       " {'question': 'What is Degree Works and how can I use it?',\n",
       "  'answer': \"Degree Works is an online tool that helps students track their academic progress and plan their courses. You can access Degree Works through the university's website using your student login credentials.\"},\n",
       " {'question': 'Where can I find information about tutoring services on campus?',\n",
       "  'answer': \"You can find information about tutoring services and schedules on the university's website or by visiting the Tutoring Center on campus.\"},\n",
       " {'question': 'How do I apply for financial aid?',\n",
       "  'answer': \"To apply for financial aid, you need to complete the Free Application for Federal Student Aid (FAFSA) form. The university's Financial Aid office can provide guidance and assistance throughout the process.\"},\n",
       " {'question': 'How can I apply for scholarships and financial aid?',\n",
       "  'answer': 'You can apply for scholarships and financial aid by visiting the Scholarships & Aid page on the SUNY Brockport website and following the instructions provided.'},\n",
       " {'question': 'What resources are available to help me with my research?',\n",
       "  'answer': 'The Drake Memorial Library offers a variety of resources to assist with research, including access to databases, books, journals, and research guides. You can also schedule a research appointment with a librarian for personalized assistance.'},\n",
       " {'question': 'How can I access my student email and other online services?',\n",
       "  'answer': 'To access your student email and other online services, you can login using your NetID and password. If you need assistance, you can contact the IT Service Desk.'},\n",
       " {'question': 'What library services are available to alumni?',\n",
       "  'answer': 'Alumni can access certain library services, including borrowing privileges, research assistance, and access to digital collections. For more information, you can contact the library or visit the Alumni Services page on the SUNY Brockport website.'},\n",
       " {'question': 'How can I reserve a room in the library?',\n",
       "  'answer': 'To reserve a room in the library, you can use the online room reservation system. You can also inquire at the circulation desk for assistance.'},\n",
       " {'question': 'What resources are available to support diversity and inclusion at Brockport?',\n",
       "  'answer': 'Brockport offers 23 multicultural clubs, an annual conference on diversity and acceptance, and programming focused on multiculturalism, social justice, and inclusive excellence.'},\n",
       " {'question': 'How many dining locations are there on campus, and what dietary options are available?',\n",
       "  'answer': 'Brockport has 9 dining locations offering diversified menus, including options for vegan, vegetarian, gluten-free, and ethnic entrees.'},\n",
       " {'question': 'What support services are provided for student health and wellness?',\n",
       "  'answer': \"Brockport's Hazen Center for Integrated Care offers support for physical health, mental wellness, prevention and outreach services, and student accessibility.\"},\n",
       " {'question': 'What housing options are available for students?',\n",
       "  'answer': 'Brockport provides 13 residence halls, a student townhome complex, and a dedicated residential staff to ensure students feel comfortable and at home.'},\n",
       " {'question': 'How does Brockport prioritize campus safety?',\n",
       "  'answer': 'Brockport prides itself on a safe campus environment and fosters positive relationships between law enforcement and the community.'},\n",
       " {'question': 'What information does SUNY Brockport collect when visitors access their website?',\n",
       "  'answer': 'When visiting the SUNY Brockport website, the following information is collected: the Internet Protocol address, the type of browser and operating system used, the date and time of the visit, the web pages or services accessed, the website visited prior to and after accessing the SUNY Brockport website, and if a file was downloaded.'},\n",
       " {'question': 'How is the collected information used by SUNY Brockport?',\n",
       "  'answer': 'The collected information is used for statistical analysis, to improve the content of the website, and to understand how users interact with the website. It is not used for commercial marketing purposes, and SUNY Brockport does not sell or disclose the information collected for commercial marketing purposes.'},\n",
       " {'question': 'How can I contact the privacy officer at SUNY Brockport for questions regarding their internet privacy policy?',\n",
       "  'answer': 'You can contact the privacy officer at SUNY Brockport by email at privacy@brockport.edu or by regular mail at Privacy Compliance Officer, SUNY Brockport, 350 New Campus Dr., Brockport, NY 14420.'},\n",
       " {'question': 'Does SUNY Brockport require the use of cookies to access their website?',\n",
       "  'answer': 'SUNY Brockport may require users to accept cookies in order to access certain online services, but the use of cookies is not required to access any public areas of the website.'},\n",
       " {'question': 'How does SUNY Brockport handle the security of personal information collected through their website?',\n",
       "  'answer': 'SUNY Brockport is strongly committed to protecting personal information against unauthorized access, use, or disclosure. They have implemented security measures, including authentication, authorization, monitoring, auditing, and encryption, to ensure the confidentiality, integrity, and availability of information.'},\n",
       " {'question': 'What scholarships does SUNY Brockport offer to undergraduate students?',\n",
       "  'answer': 'SUNY Brockport offers a variety of scholarships to undergraduate students, including the Gold Scholarship ($4,500/year), Green Scholarship ($2,500/year), Prometheus (Honors) Scholarship ($6,000/year), Empire Scholarship for Out-of-State Students ($5,000/year), Residential Scholars Award (free housing for first year), Eagle Scholarship ($1,000 one-time award), and Transfer Scholarships ($1,500 & $1,000 Transfer Awards).'},\n",
       " {'question': 'How can I apply for scholarships at SUNY Brockport?',\n",
       "  'answer': 'To apply for scholarships at SUNY Brockport, you can visit their website and follow the application instructions. Additionally, current students have opportunities to receive scholarships from the Brockport Foundation by applying between November 15 and February 15.'},\n",
       " {'question': 'What financial aid resources are available at SUNY Brockport?',\n",
       "  'answer': 'SUNY Brockport offers financial aid resources such as assistance with filling out the FAFSA, information on grants and loans, and guidance from experienced financial aid professionals. They provide resources to help students navigate the process.'},\n",
       " {'question': 'What tuition and cost options are available for graduate students at SUNY Brockport?',\n",
       "  'answer': 'SUNY Brockport offers a variety of tuition and cost options for graduate students. The tuition amount reflects standard graduate programs, but they also offer specialized professional programs with different tuition rates. Additionally, they provide scholarships, fellowships, and graduate/teaching assistantships to assist in the funding of graduate education.'},\n",
       " {'question': 'How can I contact the Financial Aid Office at SUNY Brockport?',\n",
       "  'answer': 'You can contact the Financial Aid Office at SUNY Brockport by calling Kimberley Willis, the Director of Financial Aid, at (585) 395-2501 or by sending an email to faid@brockport.edu. They are available to assist with any questions or concerns regarding financial aid.'},\n",
       " {'question': 'What is the RAVE Emergency Alert System?',\n",
       "  'answer': 'The RAVE Emergency Alert System is a service that sends warnings and emergency information via text message, phone call, email, and other outlets.'},\n",
       " {'question': 'How can I sign up for the RAVE Emergency Alert System?',\n",
       "  'answer': \"You can sign up for the RAVE Emergency Alert System to receive warnings and emergency information by visiting their website or contacting the school's emergency management office.\"},\n",
       " {'question': 'What is the Eagle Guardian App?',\n",
       "  'answer': 'The Eagle Guardian App is an app that can be used to receive emergency information and alerts.'},\n",
       " {'question': 'Are there any emergency numbers available?',\n",
       "  'answer': \"Yes, there are emergency numbers available. Please refer to the school's resources for a list of emergency numbers.\"},\n",
       " {'question': 'What should I do to be prepared for an emergency?',\n",
       "  'answer': \"To be prepared for an emergency, it is important to familiarize yourself with the school's emergency information and procedures, including pre-incident planning, emergency response communication systems, a crisis management program for faculty and staff, and operational recovery strategies.\"},\n",
       " {'question': 'How can I request classroom assistance?',\n",
       "  'answer': \"To request classroom assistance, you can fill out the appropriate form available on the school's website or contact the Office of Classroom Resources.\"},\n",
       " {'question': 'Where can I find the necessary forms and requests for various campus-related needs?',\n",
       "  'answer': \"You can find the necessary forms and requests on the school's website in the Forms & Requests section.\"},\n",
       " {'question': 'What should I do if I have a concern or need help?',\n",
       "  'answer': 'If you have a concern or need help, you can find the right resource to voice your concern or seek assistance by contacting the appropriate department or office.'},\n",
       " {'question': 'Which department oversees the physical upkeep of the campus and employee relations?',\n",
       "  'answer': 'The Division of Administration and Finance is responsible for overseeing the physical upkeep of the campus, budget, and employee relations, among other responsibilities.'},\n",
       " {'question': 'Are there any specific unions or bargaining units on campus?',\n",
       "  'answer': 'Yes, SUNY Brockport has specific unions and bargaining units. You can find more information about them by contacting the Division of Administration and Finance or the appropriate union representatives.'},\n",
       " {'question': 'What benefits are offered to employees at SUNY Brockport?',\n",
       "  'answer': 'Health insurance, fringe benefits, retirement, and more are offered to employees at SUNY Brockport.'},\n",
       " {'question': 'How does SUNY Brockport prioritize diversity and inclusion?',\n",
       "  'answer': 'Diversity and inclusion are at the forefront of our values at SUNY Brockport. We strive to create a diverse community for our students and employees.'},\n",
       " {'question': 'What educational and employment opportunities are available at the Rochester Educational Opportunity Center (REOC)?',\n",
       "  'answer': 'The REOC, located in downtown Rochester, offers educational and employment opportunities as an extension of SUNY Brockport.'},\n",
       " {'question': 'Does SUNY Brockport provide on-campus childcare?',\n",
       "  'answer': 'Yes, SUNY Brockport offers on-site childcare to make the transition to the university more seamless for students.'},\n",
       " {'question': 'What attractions can be found in the Village of Brockport?',\n",
       "  'answer': 'The Village of Brockport, nestled along the Erie Canal, offers a quaint and charming atmosphere that visitors often fall in love with.'},\n",
       " {'question': \"What is SUNY Brockport's policy on discrimination and harassment?\",\n",
       "  'answer': \"SUNY Brockport's policy is in accordance with federal and state laws and regulations prohibiting discrimination and harassment, including the Americans with Disabilities Act, Section 504 of the Rehabilitation Act of 1973, Title IX of the Education Amendments of 1972, Title VII of the Civil Rights Act of 1964, and the New York State Human Rights Law.\"},\n",
       " {'question': 'How can I report a discrimination or harassment concern at SUNY Brockport?',\n",
       "  'answer': 'To report a discrimination or harassment concern, you can fill out a form which will be directly sent to the Affirmative Action Officer. Contact information for the officer is available.'},\n",
       " {'question': 'What laws and policies does SUNY Brockport comply with regarding equal opportunity and discrimination?',\n",
       "  'answer': 'SUNY Brockport complies with the Americans with Disabilities Act, Section 504 of the Rehabilitation Act of 1973, Title IX of the Education Amendments of 1972, Title VII of the Civil Rights Act of 1964, the Equal Employment Opportunity Act of 1972, and the New York State Human Rights Law.'},\n",
       " {'question': 'Who can I contact if I have questions or concerns regarding discrimination or harassment at SUNY Brockport?',\n",
       "  'answer': 'You can contact Christiana Ortiz, the Affirmative Action Officer, or any of the Civil Rights Compliance Officers listed, depending on the nature of your concern.'},\n",
       " {'question': 'What is the contact information for Christiana Ortiz, the Affirmative Action Officer at SUNY Brockport?',\n",
       "  'answer': 'Christiana Ortiz can be reached at (585) 395-5039 or cortiz@brockport.edu. Her office is located at 407 Allen Administration Building, Brockport, New York 14420.'},\n",
       " {'question': 'How can I report a bias related incident at SUNY Brockport?',\n",
       "  'answer': 'You can report a bias related incident at SUNY Brockport through their Bias Related Incident Reporting System.'},\n",
       " {'question': 'Who should I contact for urgent facilities issues at SUNY Brockport?',\n",
       "  'answer': 'For urgent facilities issues at SUNY Brockport, you can directly call the Service Center at ext. 2408.'},\n",
       " {'question': 'How do I report accidents or injuries or emergency spill responses at SUNY Brockport?',\n",
       "  'answer': 'To report accidents or injuries or emergency spill responses at SUNY Brockport, you can contact their Environmental Health & Safety department.'},\n",
       " {'question': 'Who can I contact at SUNY Brockport for IT assistance?',\n",
       "  'answer': 'If you require IT assistance at SUNY Brockport, you can contact their IT Service Desk for help.'},\n",
       " {'question': 'What is the process for appealing a grade at SUNY Brockport?',\n",
       "  'answer': 'SUNY Brockport has a grade appeals process, and students have certain rights to appeal a grade as explained by the policy.'},\n",
       " {'question': 'When will the Office of Student Accounts & Accounting reopen?',\n",
       "  'answer': 'The Office of Student Accounts & Accounting will reopen at 8 am on Tuesday, January 2.'},\n",
       " {'question': 'What is the federal ID number (EIN) reported on SUNY Brockport 1098-T forms?',\n",
       "  'answer': 'The federal ID number (EIN) reported on SUNY Brockport 1098-T forms is 16-1514621.'},\n",
       " {'question': 'How can I view and pay my student bill?',\n",
       "  'answer': 'The University is no longer issuing paper student bills. Please use the online bill payment system to view and/or pay your student bill. The QuikPAY System requires the use of Microsoft Internet Explorer 11.0 or newer, Mozilla Firefox 34 or newer, Google Chrome 41 or newer, Opera 28 or newer, or Safari 7.0 or newer.'},\n",
       " {'question': 'How can I establish Authorized User access?',\n",
       "  'answer': 'Authorized User access can only be established by the student.'},\n",
       " {'question': 'What services does the Office of Student Accounts and Accounting provide?',\n",
       "  'answer': 'The Office of Student Accounts and Accounting is responsible for the collection and accounting of student educational charges, processing and distributing financial aid funds, and administering an installment payment plan for students.'},\n",
       " {'question': 'How can I contact the University Police Department in case of an emergency?',\n",
       "  'answer': 'In case of an emergency on campus, call (585) 395-2222. For off-campus emergencies, please dial 911.'},\n",
       " {'question': 'What services does the University Police Department provide to the campus community?',\n",
       "  'answer': 'The University Police Department is committed to providing a safe and secure campus environment for all students, staff, faculty, and visitors. They emphasize crime prevention, personal safety education, and offer service to the university community. Their goal is to continually improve their performance and work together in mutual respect.'},\n",
       " {'question': 'How can I report a lost item?',\n",
       "  'answer': \"To report a lost item, you can sign up for RAVE on the University Police Department's website. RAVE is a system that allows you to submit reports for lost items.\"},\n",
       " {'question': 'What is the Student Patrol program?',\n",
       "  'answer': 'The Student Patrol program at SUNY Brockport allows students to work in the Law Enforcement field and gain valuable life experience while assisting the University Police in maintaining a safe and secure campus.'},\n",
       " {'question': 'How can I ensure my safety both on and off campus?',\n",
       "  'answer': 'To ensure your safety, you can download the FREE Eagle Guardian safety app. This app will turn your phone into a safety device and you will receive emergency notifications directly to your fingertips. It is designed to keep you safe both on and off campus.'}]"
      ]
     },
     "execution_count": 151,
     "metadata": {},
     "output_type": "execute_result"
    }
   ],
   "source": [
    "jsonqa"
   ]
  },
  {
   "cell_type": "code",
   "execution_count": null,
   "metadata": {},
   "outputs": [
    {
     "name": "stdout",
     "output_type": "stream",
     "text": [
      "1. What opportunities does SUNY Brockport offer for students to develop their leadership skills?\n",
      "{\"question\": \"What opportunities does SUNY Brockport offer for students to develop their leadership skills?\", \n",
      "\"answer\": \"SUNY Brockport offers many opportunities for students who are interested in developing their leadership skills.\"}\n",
      "\n",
      "2. How can employers connect with the Employer Relations team at SUNY Brockport?\n",
      "{\"question\": \"How can employers connect with the Employer Relations team at SUNY Brockport?\", \n",
      "\"answer\": \"To connect with a member of the Employer Relations team, employers can call (585) 395-2159 and schedule a meeting or campus visit.\"}\n",
      "\n",
      "3. What is the purpose of the Employee Advisory Board at SUNY Brockport?\n",
      "{\"question\": \"What is the purpose of the Employee Advisory Board at SUNY Brockport?\", \n",
      "\"answer\": \"The purpose of the Employee Advisory Board at SUNY Brockport is to provide a forum for employers and staff members to engage in relevant discussions about career and employment issues that will contribute to the quality and impact of career programs and services for Brockport students.\"}\n",
      "\n",
      "4. How often does the Employee Advisory Board at SUNY Brockport meet and where?\n",
      "{\"question\": \"How often does the Employee Advisory Board at SUNY Brockport meet and where?\", \n",
      "\"answer\": \"The Employee Advisory Board at SUNY Brockport meets at least twice each year on the University's campus in Western/Central New York.\"}\n",
      "\n",
      "5. How can potential employers benefit from collaborating with the Employer Relations team at SUNY Brockport?\n",
      "{\"question\": \"How can potential employers benefit from collaborating with the Employer Relations team at SUNY Brockport?\", \n",
      "\"answer\": \"Potential employers can benefit from collaborating with the Employer Relations team at SUNY Brockport by having their recruiting needs effectively and conveniently met for part-time or full-time jobs, internships, or volunteer opportunities. The team provides exceptional customer service and develops creative solutions to maximize the employer's experience with SUNY Brockport.\"}\n"
     ]
    }
   ],
   "source": [
    "print(json.loads(combined.loc[5, 'questions_x'])['choices'][0]['message']['content'])"
   ]
  },
  {
   "cell_type": "code",
   "execution_count": null,
   "metadata": {},
   "outputs": [
    {
     "ename": "JSONDecodeError",
     "evalue": "Extra data: line 1 column 2 (char 1)",
     "output_type": "error",
     "traceback": [
      "\u001b[0;31m---------------------------------------------------------------------------\u001b[0m",
      "\u001b[0;31mJSONDecodeError\u001b[0m                           Traceback (most recent call last)",
      "Cell \u001b[0;32mIn[115], line 1\u001b[0m\n\u001b[0;32m----> 1\u001b[0m \u001b[43mjson\u001b[49m\u001b[38;5;241;43m.\u001b[39;49m\u001b[43mloads\u001b[49m\u001b[43m(\u001b[49m\u001b[43mjson\u001b[49m\u001b[38;5;241;43m.\u001b[39;49m\u001b[43mloads\u001b[49m\u001b[43m(\u001b[49m\u001b[43mcombined\u001b[49m\u001b[38;5;241;43m.\u001b[39;49m\u001b[43mloc\u001b[49m\u001b[43m[\u001b[49m\u001b[38;5;241;43m5\u001b[39;49m\u001b[43m,\u001b[49m\u001b[43m \u001b[49m\u001b[38;5;124;43m'\u001b[39;49m\u001b[38;5;124;43mquestions_x\u001b[39;49m\u001b[38;5;124;43m'\u001b[39;49m\u001b[43m]\u001b[49m\u001b[43m)\u001b[49m\u001b[43m[\u001b[49m\u001b[38;5;124;43m'\u001b[39;49m\u001b[38;5;124;43mchoices\u001b[39;49m\u001b[38;5;124;43m'\u001b[39;49m\u001b[43m]\u001b[49m\u001b[43m[\u001b[49m\u001b[38;5;241;43m0\u001b[39;49m\u001b[43m]\u001b[49m\u001b[43m[\u001b[49m\u001b[38;5;124;43m'\u001b[39;49m\u001b[38;5;124;43mmessage\u001b[39;49m\u001b[38;5;124;43m'\u001b[39;49m\u001b[43m]\u001b[49m\u001b[43m[\u001b[49m\u001b[38;5;124;43m'\u001b[39;49m\u001b[38;5;124;43mcontent\u001b[39;49m\u001b[38;5;124;43m'\u001b[39;49m\u001b[43m]\u001b[49m\u001b[43m)\u001b[49m\n",
      "File \u001b[0;32m~/miniconda3/envs/thesis/lib/python3.11/json/__init__.py:346\u001b[0m, in \u001b[0;36mloads\u001b[0;34m(s, cls, object_hook, parse_float, parse_int, parse_constant, object_pairs_hook, **kw)\u001b[0m\n\u001b[1;32m    341\u001b[0m     s \u001b[38;5;241m=\u001b[39m s\u001b[38;5;241m.\u001b[39mdecode(detect_encoding(s), \u001b[38;5;124m'\u001b[39m\u001b[38;5;124msurrogatepass\u001b[39m\u001b[38;5;124m'\u001b[39m)\n\u001b[1;32m    343\u001b[0m \u001b[38;5;28;01mif\u001b[39;00m (\u001b[38;5;28mcls\u001b[39m \u001b[38;5;129;01mis\u001b[39;00m \u001b[38;5;28;01mNone\u001b[39;00m \u001b[38;5;129;01mand\u001b[39;00m object_hook \u001b[38;5;129;01mis\u001b[39;00m \u001b[38;5;28;01mNone\u001b[39;00m \u001b[38;5;129;01mand\u001b[39;00m\n\u001b[1;32m    344\u001b[0m         parse_int \u001b[38;5;129;01mis\u001b[39;00m \u001b[38;5;28;01mNone\u001b[39;00m \u001b[38;5;129;01mand\u001b[39;00m parse_float \u001b[38;5;129;01mis\u001b[39;00m \u001b[38;5;28;01mNone\u001b[39;00m \u001b[38;5;129;01mand\u001b[39;00m\n\u001b[1;32m    345\u001b[0m         parse_constant \u001b[38;5;129;01mis\u001b[39;00m \u001b[38;5;28;01mNone\u001b[39;00m \u001b[38;5;129;01mand\u001b[39;00m object_pairs_hook \u001b[38;5;129;01mis\u001b[39;00m \u001b[38;5;28;01mNone\u001b[39;00m \u001b[38;5;129;01mand\u001b[39;00m \u001b[38;5;129;01mnot\u001b[39;00m kw):\n\u001b[0;32m--> 346\u001b[0m     \u001b[38;5;28;01mreturn\u001b[39;00m \u001b[43m_default_decoder\u001b[49m\u001b[38;5;241;43m.\u001b[39;49m\u001b[43mdecode\u001b[49m\u001b[43m(\u001b[49m\u001b[43ms\u001b[49m\u001b[43m)\u001b[49m\n\u001b[1;32m    347\u001b[0m \u001b[38;5;28;01mif\u001b[39;00m \u001b[38;5;28mcls\u001b[39m \u001b[38;5;129;01mis\u001b[39;00m \u001b[38;5;28;01mNone\u001b[39;00m:\n\u001b[1;32m    348\u001b[0m     \u001b[38;5;28mcls\u001b[39m \u001b[38;5;241m=\u001b[39m JSONDecoder\n",
      "File \u001b[0;32m~/miniconda3/envs/thesis/lib/python3.11/json/decoder.py:340\u001b[0m, in \u001b[0;36mJSONDecoder.decode\u001b[0;34m(self, s, _w)\u001b[0m\n\u001b[1;32m    338\u001b[0m end \u001b[38;5;241m=\u001b[39m _w(s, end)\u001b[38;5;241m.\u001b[39mend()\n\u001b[1;32m    339\u001b[0m \u001b[38;5;28;01mif\u001b[39;00m end \u001b[38;5;241m!=\u001b[39m \u001b[38;5;28mlen\u001b[39m(s):\n\u001b[0;32m--> 340\u001b[0m     \u001b[38;5;28;01mraise\u001b[39;00m JSONDecodeError(\u001b[38;5;124m\"\u001b[39m\u001b[38;5;124mExtra data\u001b[39m\u001b[38;5;124m\"\u001b[39m, s, end)\n\u001b[1;32m    341\u001b[0m \u001b[38;5;28;01mreturn\u001b[39;00m obj\n",
      "\u001b[0;31mJSONDecodeError\u001b[0m: Extra data: line 1 column 2 (char 1)"
     ]
    }
   ],
   "source": [
    "json.loads(json.loads(combined.loc[5, 'questions_x'])['choices'][0]['message']['content'])"
   ]
  },
  {
   "cell_type": "code",
   "execution_count": null,
   "metadata": {},
   "outputs": [],
   "source": [
    "import re\n",
    "import random\n",
    "from itertools import chain\n",
    "\n",
    "\n",
    "def generate_json(gpt_output: pd.Series):\n",
    "    \"\"\"\n",
    "    Parses GPT output into a JSON file. This function uses regex to parse for all the instructions (questions), and \n",
    "    outputs (answers) from the GPT output which is a dictionary. The parsed data is returned into a Python list of \n",
    "    dictionaries, which is appended for each webpage. This list is shuffled to mix up the questions and then dumped \n",
    "    to a JSON file.\n",
    "\n",
    "    Args:\n",
    "        gpt_output (dict): The dictionary containing the GPT output.\n",
    "        filename (str): The JSON filename to write the parsed and shuffled list of dictionaries to.\n",
    "    \"\"\"\n",
    "\n",
    "    # The regular expression pattern for a JSON object with \"instruction\" and \"output\"\n",
    "    pattern = r'\"question\":\\s*\"(.*?)\",.*?\"answer\":\\s*\"(.*?)\"'\n",
    "    jsonqa = []\n",
    "\n",
    "    for value in gpt_output:\n",
    "        matches = re.findall(pattern, value, flags=re.DOTALL)\n",
    "        # Add a conditional filter in the list comprehension\n",
    "        clean_value = [{\"question\": m[0], \"answer\": m[1]} for m in matches if m[0] and m[1] and '\"' not in m[0] and '\"' not in m[1]]\n",
    "        jsonqa.append(clean_value)\n",
    "\n",
    "    jsonqa = list(chain(*jsonqa))\n",
    "\n",
    "    random.shuffle(jsonqa)\n",
    "\n",
    "    return jsonqa\n"
   ]
  },
  {
   "cell_type": "code",
   "execution_count": null,
   "metadata": {},
   "outputs": [
    {
     "data": {
      "text/plain": [
       "[{'question': 'How often does the Employee Advisory Board at SUNY Brockport meet and where?',\n",
       "  'answer': \"The Employee Advisory Board at SUNY Brockport meets at least twice each year on the University's campus in Western/Central New York.\"},\n",
       " {'question': 'What opportunities does SUNY Brockport offer for students to develop their leadership skills?',\n",
       "  'answer': 'SUNY Brockport offers many opportunities for students who are interested in developing their leadership skills.'},\n",
       " {'question': 'How can employers connect with the Employer Relations team at SUNY Brockport?',\n",
       "  'answer': 'To connect with a member of the Employer Relations team, employers can call (585) 395-2159 and schedule a meeting or campus visit.'},\n",
       " {'question': 'What is the purpose of the Employee Advisory Board at SUNY Brockport?',\n",
       "  'answer': 'The purpose of the Employee Advisory Board at SUNY Brockport is to provide a forum for employers and staff members to engage in relevant discussions about career and employment issues that will contribute to the quality and impact of career programs and services for Brockport students.'},\n",
       " {'question': 'How can potential employers benefit from collaborating with the Employer Relations team at SUNY Brockport?',\n",
       "  'answer': \"Potential employers can benefit from collaborating with the Employer Relations team at SUNY Brockport by having their recruiting needs effectively and conveniently met for part-time or full-time jobs, internships, or volunteer opportunities. The team provides exceptional customer service and develops creative solutions to maximize the employer's experience with SUNY Brockport.\"}]"
      ]
     },
     "execution_count": 124,
     "metadata": {},
     "output_type": "execute_result"
    }
   ],
   "source": [
    "test_gpt_output = {\"URL\": \"\"\"1. What opportunities does SUNY Brockport offer for students to develop their leadership skills?\n",
    "{\"question\": \"What opportunities does SUNY Brockport offer for students to develop their leadership skills?\", \n",
    "\"answer\": \"SUNY Brockport offers many opportunities for students who are interested in developing their leadership skills.\"}\n",
    "\n",
    "2. How can employers connect with the Employer Relations team at SUNY Brockport?\n",
    "{\"question\": \"How can employers connect with the Employer Relations team at SUNY Brockport?\", \n",
    "\"answer\": \"To connect with a member of the Employer Relations team, employers can call (585) 395-2159 and schedule a meeting or campus visit.\"}\n",
    "\n",
    "3. What is the purpose of the Employee Advisory Board at SUNY Brockport?\n",
    "{\"question\": \"What is the purpose of the Employee Advisory Board at SUNY Brockport?\", \n",
    "\"answer\": \"The purpose of the Employee Advisory Board at SUNY Brockport is to provide a forum for employers and staff members to engage in relevant discussions about career and employment issues that will contribute to the quality and impact of career programs and services for Brockport students.\"}\n",
    "\n",
    "4. How often does the Employee Advisory Board at SUNY Brockport meet and where?\n",
    "{\"question\": \"How often does the Employee Advisory Board at SUNY Brockport meet and where?\", \n",
    "\"answer\": \"The Employee Advisory Board at SUNY Brockport meets at least twice each year on the University's campus in Western/Central New York.\"}\n",
    "\n",
    "5. How can potential employers benefit from collaborating with the Employer Relations team at SUNY Brockport?\n",
    "{\"question\": \"How can potential employers benefit from collaborating with the Employer Relations team at SUNY Brockport?\", \n",
    "\"answer\": \"Potential employers can benefit from collaborating with the Employer Relations team at SUNY Brockport by having their recruiting needs effectively and conveniently met for part-time or full-time jobs, internships, or volunteer opportunities. The team provides exceptional customer service and develops creative solutions to maximize the employer's experience with SUNY Brockport.\"}\"\"\"}\n",
    "\n",
    "generate_json(test_gpt_output)"
   ]
  }
 ],
 "metadata": {
  "kernelspec": {
   "display_name": "thesis",
   "language": "python",
   "name": "python3"
  },
  "language_info": {
   "codemirror_mode": {
    "name": "ipython",
    "version": 3
   },
   "file_extension": ".py",
   "mimetype": "text/x-python",
   "name": "python",
   "nbconvert_exporter": "python",
   "pygments_lexer": "ipython3",
   "version": "3.11.4"
  }
 },
 "nbformat": 4,
 "nbformat_minor": 2
}
