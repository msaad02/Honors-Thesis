{
 "cells": [
  {
   "cell_type": "code",
   "execution_count": null,
   "metadata": {},
   "outputs": [],
   "source": [
    "import datasets\n",
    "\n",
    "datasets.load_dataset(\"json\", data_files=\"NEW_data_collection/data/raw_scraper_output.json\")\n",
    "\n"
   ]
  },
  {
   "cell_type": "code",
   "execution_count": 3,
   "metadata": {},
   "outputs": [],
   "source": [
    "import json\n",
    "\n",
    "# load in json\n",
    "with open(\"NEW_data_collection/data/raw_scraper_output.json\") as f:\n",
    "    data = json.load(f)"
   ]
  },
  {
   "cell_type": "code",
   "execution_count": null,
   "metadata": {},
   "outputs": [],
   "source": [
    "data"
   ]
  },
  {
   "cell_type": "code",
   "execution_count": null,
   "metadata": {},
   "outputs": [],
   "source": [
    "with open(\"NEW_data_collection/data/raw_scraper_output.json\", \"r\") as f:\n",
    "    data = f.read()"
   ]
  },
  {
   "cell_type": "code",
   "execution_count": null,
   "metadata": {},
   "outputs": [],
   "source": [
    "import pandas as pd\n",
    "import json\n",
    "import re\n",
    "import os\n",
    "\n",
    "gpt35 = pd.read_csv(\"NEW_data_collection/data/gpt-3.5-data-qa.csv\")\n",
    "gpt4 = pd.read_csv(\"NEW_data_collection/data/gpt-4-data-qa.csv\")"
   ]
  },
  {
   "cell_type": "code",
   "execution_count": null,
   "metadata": {},
   "outputs": [],
   "source": [
    "idx = 15\n",
    "print(\"GPT-3.5 URL: \"+gpt35['url'][idx])\n",
    "print(\"GPT-4 URL: \"+gpt4['url'][idx])\n",
    "print(\"Context:\\n\"+gpt35['data'][idx])\n",
    "print(\"GPT-3.5:\\n\"+json.dumps(json.loads(gpt35['questions'][idx]), indent=4))\n",
    "print(\"GPT-4:\\n\"+json.dumps(json.loads(gpt4['questions'][idx]), indent=4))"
   ]
  },
  {
   "cell_type": "code",
   "execution_count": null,
   "metadata": {},
   "outputs": [],
   "source": []
  }
 ],
 "metadata": {
  "kernelspec": {
   "display_name": "thesis",
   "language": "python",
   "name": "python3"
  },
  "language_info": {
   "codemirror_mode": {
    "name": "ipython",
    "version": 3
   },
   "file_extension": ".py",
   "mimetype": "text/x-python",
   "name": "python",
   "nbconvert_exporter": "python",
   "pygments_lexer": "ipython3",
   "version": "3.11.7"
  }
 },
 "nbformat": 4,
 "nbformat_minor": 2
}
