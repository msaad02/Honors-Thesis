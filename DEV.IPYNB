{
 "cells": [
  {
   "cell_type": "code",
   "execution_count": 47,
   "metadata": {},
   "outputs": [],
   "source": [
    "import pandas as pd\n",
    "import json \n",
    "\n",
    "data = pd.read_csv(\"NEW_data_collection/data/gpt_3.5_data_qa.csv\")\n",
    "# data = data[data['api_res'].notnull()]\n",
    "\n",
    "# api_responses = [json.loads(api_res)['choices'][0]['message']['content'] for api_res in data['api_res']]\n",
    "# data['questions'] = [try: json.dumps(json.loads(api_output.strip()[7:-3])) except: None for api_output in api_responses]"
   ]
  },
  {
   "cell_type": "code",
   "execution_count": 50,
   "metadata": {},
   "outputs": [],
   "source": [
    "data.to_csv(\"NEW_data_collection/data/gpt_3.5_data_qa.csv\")"
   ]
  },
  {
   "cell_type": "code",
   "execution_count": 39,
   "metadata": {},
   "outputs": [],
   "source": [
    "def parse_output_for_questions(api_res):\n",
    "    try:\n",
    "        # Traverse output to find content of response\n",
    "        response = json.loads(api_res)['choices'][0]['message']['content']\n",
    "        # Remomove first 7 and last 3 (they are \"```json\" and \"```\" respectively), then standardize the jsons\n",
    "        questions = json.dumps(json.loads(response.strip()[7:-3]))\n",
    "    except:\n",
    "        # If there is an error, return None\n",
    "        questions = None\n",
    "    return questions\n",
    "\n",
    "data['questions'] = data['api_res'].apply(parse_output_for_questions)"
   ]
  },
  {
   "cell_type": "code",
   "execution_count": 45,
   "metadata": {},
   "outputs": [
    {
     "name": "stdout",
     "output_type": "stream",
     "text": [
      "\n",
      "Total cost: $4.2549\n"
     ]
    }
   ],
   "source": [
    "# Get cost for the run using the number of tokens used\n",
    "total_prompt_tokens = sum([json.loads(api_res)['usage']['prompt_tokens'] for api_res in data[data['api_res'].notnull()]['api_res']])\n",
    "total_completion_tokens = sum([json.loads(api_res)['usage']['completion_tokens'] for api_res in data[data['api_res'].notnull()]['api_res']])\n",
    "\n",
    "PROMPT_COST = 0.001                     # Price per 1000 prompt tokens for GPT-3.5-turbo-1106 as of 12/22/2023\n",
    "COMPLETION_COST = 0.002                 # Price per 1000 completion tokens for GPT-3.5-turbo-1106 as of 12/22/2023\n",
    "\n",
    "total_cost = PROMPT_COST * (total_prompt_tokens/1000) + COMPLETION_COST * (total_completion_tokens/1000)\n",
    "print(f\"\\nTotal cost: ${total_cost:.4f}\")"
   ]
  },
  {
   "cell_type": "code",
   "execution_count": 46,
   "metadata": {},
   "outputs": [
    {
     "name": "stdout",
     "output_type": "stream",
     "text": [
      "\n",
      "Total cost: $4.2549\n"
     ]
    }
   ],
   "source": [
    "not_null_api_responses = data[data['api_res'].notnull()]['api_res']\n",
    "total_prompt_tokens = sum([json.loads(api_res)['usage']['prompt_tokens'] for api_res in not_null_api_responses])\n",
    "total_completion_tokens = sum([json.loads(api_res)['usage']['completion_tokens'] for api_res in not_null_api_responses])\n",
    "\n",
    "total_cost = PROMPT_COST * (total_prompt_tokens/1000) + COMPLETION_COST * (total_completion_tokens/1000)\n",
    "print(f\"\\nTotal cost: ${total_cost:.4f}\")"
   ]
  },
  {
   "cell_type": "code",
   "execution_count": 40,
   "metadata": {},
   "outputs": [
    {
     "data": {
      "text/plain": [
       "0       [{\"question\": \"How can I request books and art...\n",
       "1       [{\"question\": \"How can I get quick help with a...\n",
       "2       [{\"question\": \"How can faculty and staff updat...\n",
       "3       [{\"question\": \"How can I schedule a campus tou...\n",
       "4       [{\"question\": \"How can I apply to SUNY Brockpo...\n",
       "                              ...                        \n",
       "2681    [{\"question\": \"What resources does SUNY Brockp...\n",
       "2682    [{\"question\": \"How can I request an escort if ...\n",
       "2683    [{\"question\": \"How can I report a sexual assau...\n",
       "2684    [{\"question\": \"How can I get involved in the S...\n",
       "2685    [{\"question\": \"How can I access the weekly inc...\n",
       "Name: questions, Length: 2686, dtype: object"
      ]
     },
     "execution_count": 40,
     "metadata": {},
     "output_type": "execute_result"
    }
   ],
   "source": [
    "data['questions']"
   ]
  },
  {
   "cell_type": "code",
   "execution_count": 34,
   "metadata": {},
   "outputs": [
    {
     "name": "stdout",
     "output_type": "stream",
     "text": [
      "```json\n",
      "[\n",
      "    {\n",
      "        \"question\": \"What are the typical pre-requisites for MTH 122, College Algebra?\",\n",
      "        \"answer\": \"For MTH 122, College Algebra, the typical pre-requisite is MTH 111. However, it is very rare that an entering CHM major would first need to complete MTH 111. This is because moving MTH 122 to a spring semester would be less ideal for the typical incoming CHM major to be able to complete upper division elective courses in the senior year, which we offer as part of the American Chemical Society certified chemistry degree.\"\n",
      "    },\n",
      "    {\n",
      "        \"question\": \"What upper division elective courses are offered for the American Chemical Society certified chemistry degree?\",\n",
      "        \"answer\": \"We offer a range of upper division elective courses as part of the American Chemical Society certified chemistry degree. These courses are designed to provide students with a comprehensive and rigorous education in chemistry, preparing them for a successful career in the field.\"\n",
      "    },\n",
      "    {\n",
      "        \"question\": \"How can I ensure that I am able to complete the upper division elective courses in my senior year as a CHM major?\",\n",
      "        \"answer\": \"As a CHM major, it's important to plan your course schedule carefully to ensure that you can complete the upper division elective courses in your senior year. You can work with your academic advisor to create a plan that aligns with your academic and career goals.\"\n",
      "]\n",
      "```\n",
      "```json\n",
      "[\n",
      "    {\n",
      "        \"question\": \"What are the requirements for the Accelerated Pathway for a BS in Kinesiology/MS in Athletic Training program?\",\n",
      "        \"answer\": \"To be eligible for the Accelerated Pathway program, students must maintain a minimum GPA of 3.0, complete all undergraduate degree requirements, and meet the admission requirements for the MS in Athletic Training program.\"\n",
      "    },\n",
      "    {\n",
      "        \"question\": \"How can I get involved in research opportunities within the Kinesiology/MS in Athletic Training program?\",\n",
      "        \"answer\": \"There are various research opportunities available within the Kinesiology/MS in Athletic Training program. Students can reach out to faculty members to express their interest in research, and also explore research assistant positions and internships within the department.\"\n",
      "    },\n",
      "    {\n",
      "        \"question\": \"What support services are available for students in the Kinesiology/MS in Athletic Training program?\",\n",
      "        \"answer\": \"Students in the Kinesiology/MS in Athletic Training program have access to academic advising, career counseling, tutoring services, and student organizations related to their field of study. The department also offers mentorship programs and networking events to support student success.\"\n",
      "    },\n",
      "    {\n",
      "        \"question\": \"Can I customize my course selection within the Kinesiology/MS in Athletic Training program?\",\n",
      "        \"answer\": \"Yes, students have the opportunity to select elective courses within the Kinesiology/MS in Athletic Training program to align with their specific interests and career goals. Academic advisors can provide guidance on choosing the most suitable elective courses for individual academic and professional development.\"\n",
      "    },\n",
      "    {\n",
      "        \"question\": \"How can I learn more about internship opportunities for Kinesiology/MS in Athletic Training students?\",\n",
      "        \"answer\": \"The department regularly organizes information sessions and workshops to provide students with details about internship opportunities. Additionally, students can connect with the career services office to explore internship placements and gain valuable practical experience in the field.\"\n",
      "]\n",
      "```\n",
      "```json\n",
      "[\n",
      "    {\n",
      "        \"question\": \"How can I apply to SUNY Brockport?\",\n",
      "        \"answer\": \"You can apply to SUNY Brockport by visiting our website and filling out the online application. Be sure to review the application requirements and deadlines to ensure a smooth application process.\"\n",
      "    },\n",
      "    {\n",
      "        \"question\": \"What programs does SUNY Brockport offer in the field of history and education?\",\n",
      "        \"answer\": \"SUNY Brockport offers a variety of programs in the fields of history and education, including BA in History, Adolescence Inclusive Social Studies with a Generalist Education Concentration. We also have programs for those interested in pursuing advanced studies in education and related fields.\"\n",
      "    },\n",
      "    {\n",
      "        \"question\": \"How can I get involved in volunteering and mental wellness initiatives at SUNY Brockport?\",\n",
      "        \"answer\": \"At SUNY Brockport, we value community engagement and mental wellness. There are various opportunities for students and faculty to get involved in volunteering and mental wellness initiatives on campus. You can connect with our student organizations, counseling services, or faculty members to explore these opportunities.\"\n",
      "    },\n",
      "    {\n",
      "        \"question\": \"What support does SUNY Brockport offer for students interested in pursuing a law degree?\",\n",
      "        \"answer\": \"SUNY Brockport provides support for students interested in pursuing a law degree, including advising and resources to help you prepare for law school. We also have connections with alumni and professionals in the legal field who can provide guidance and mentorship.\"\n",
      "    },\n",
      "    {\n",
      "        \"question\": \"Can you tell me more about SUNY Brockport's Dean's List and Honors program?\",\n",
      "        \"answer\": \"SUNY Brockport recognizes academic excellence through the Dean's List and Honors program. Students who achieve outstanding academic performance are acknowledged for their accomplishments. We provide support and resources to help students strive for academic success and achieve recognition for their hard work.\"\n",
      "]\n",
      "```\n",
      "```json\n",
      "[\n",
      "    {\n",
      "        \"question\": \"What are the New York State academic requirements to maintain eligibility for state financial aid programs at SUNY Brockport?\",\n",
      "        \"answer\": \"To maintain eligibility for state financial aid programs at SUNY Brockport, students must meet the New York State academic requirements, which include pursuing the program of study in which they are enrolled and making satisfactory academic progress toward the completion of their program’s requirements.\"\n",
      "    },\n",
      "    {\n",
      "        \"question\": \"What are the full-time and part-time awards available for students at SUNY Brockport under the New York State financial aid programs?\",\n",
      "        \"answer\": \"SUNY Brockport offers various full-time awards, including the Tuition Assistance Program (TAP), Flight 3407 Memorial Scholarships, Military Service Recognition Scholarship, and more. Additionally, there are part-time awards such as NYS Aid for Part-time Study (APTS) and Veteran Tuition Awards.\"\n",
      "    },\n",
      "    {\n",
      "        \"question\": \"How can students regain eligibility for state financial awards at SUNY Brockport if they fail to maintain good academic standing?\",\n",
      "        \"answer\": \"Students at SUNY Brockport can regain eligibility for state financial awards by achieving the required GPA and/or number of credits during a semester of attendance in which no state award is paid, transferring to another institution, being readmitted to Brockport after an absence of one calendar year or more, or by requesting a waiver of eligibility standards for state awards.\"\n",
      "    },\n",
      "    {\n",
      "        \"question\": \"What are the additional requirements to maintain state financial aid eligibility at SUNY Brockport?\",\n",
      "        \"answer\": \"In addition to academic progress, students at SUNY Brockport must meet requirements such as repeating \"D\" grades, achieving a \"C\" average, and declaring a major by the beginning of the junior year of the baccalaureate program to maintain eligibility for New York state financial aid.\"\n",
      "    },\n",
      "    {\n",
      "        \"question\": \"How can students request a waiver of eligibility for TAP or other State awards at SUNY Brockport?\",\n",
      "        \"answer\": \"Students at SUNY Brockport can request a waiver of eligibility for TAP or other State awards by submitting a written statement to the Office of Academic Advisement detailing the reasons why special consideration should be given. Documentation supporting stated reasons for special consideration must be provided and should be included with the written statement.\"\n",
      "    }\n",
      "]\n",
      "```\n",
      "```json\n",
      "[\n",
      "  {\n",
      "    \"question\": \"What information should be included when submitting a requisition?\",\n",
      "    \"answer\": \"When submitting a requisition, be sure to include a complete description including part/model number, name of manufacturer, suggested vendor, estimated price, and descriptive literature or written pricing obtained from a vendor. Also, check to ensure funds are available in the account being charged.\"\n",
      "  },\n",
      "  {\n",
      "    \"question\": \"What types of procurements require prior approval from Facilities, Planning, and BASC?\",\n",
      "    \"answer\": \"Procurements such as equipment requiring installation, utility modifications, room modifications, carpet installations, and those involving BASC funds require prior approval from Facilities, Planning, and BASC. It's important to reach out to them for approval before making such purchases.\"\n",
      "  },\n",
      "  {\n",
      "    \"question\": \"What should be done if there are discrepancies with a delivery made against a purchase order?\",\n",
      "    \"answer\": \"If there are any discrepancies with a delivery made against a purchase order, it should be reported to Procurement & Payment Services within two days after delivery. This will allow for reports to be filed with the vendor and/or carrier and delay payment if necessary.\"\n",
      "  },\n",
      "  {\n",
      "    \"question\": \"How should inquiries concerning a purchase order be handled?\",\n",
      "    \"answer\": \"All inquiries concerning a purchase order should be made to Procurement & Payment Services referencing the purchase order or requisition number. It's important that departments do not contact vendors directly with inquiries. If you need to check on the status of an order, contact the Purchasing Office at (585) 395-2351.\"\n",
      "  },\n",
      "  {\n",
      "    \"question\": \"What should be done in case of an emergency or rush purchase?\",\n",
      "    \"answer\": \"If an emergency or rush purchase is necessary, you can call the Procurement & Payment Services to assist with the process. They will be able to guide you through the necessary steps to handle the situation effectively.\"\n",
      "]\n",
      "```\n"
     ]
    }
   ],
   "source": [
    "# ([json.loads(api_output.strip()[7:-3]) for api_output in api_responses])\n",
    "\n",
    "for api_output in api_responses:\n",
    "    try:\n",
    "        json.loads(api_output.strip()[7:-3])\n",
    "    except:\n",
    "        print(api_output)"
   ]
  },
  {
   "cell_type": "code",
   "execution_count": 14,
   "metadata": {},
   "outputs": [
    {
     "data": {
      "text/plain": [
       "0       False\n",
       "1       False\n",
       "2       False\n",
       "3       False\n",
       "4       False\n",
       "        ...  \n",
       "2681    False\n",
       "2682    False\n",
       "2683    False\n",
       "2684    False\n",
       "2685    False\n",
       "Name: api_res, Length: 2686, dtype: bool"
      ]
     },
     "execution_count": 14,
     "metadata": {},
     "output_type": "execute_result"
    }
   ],
   "source": []
  },
  {
   "cell_type": "code",
   "execution_count": 19,
   "metadata": {},
   "outputs": [
    {
     "data": {
      "text/html": [
       "<div>\n",
       "<style scoped>\n",
       "    .dataframe tbody tr th:only-of-type {\n",
       "        vertical-align: middle;\n",
       "    }\n",
       "\n",
       "    .dataframe tbody tr th {\n",
       "        vertical-align: top;\n",
       "    }\n",
       "\n",
       "    .dataframe thead th {\n",
       "        text-align: right;\n",
       "    }\n",
       "</style>\n",
       "<table border=\"1\" class=\"dataframe\">\n",
       "  <thead>\n",
       "    <tr style=\"text-align: right;\">\n",
       "      <th></th>\n",
       "      <th>url</th>\n",
       "      <th>data</th>\n",
       "      <th>api_res</th>\n",
       "    </tr>\n",
       "  </thead>\n",
       "  <tbody>\n",
       "    <tr>\n",
       "      <th>0</th>\n",
       "      <td>https://brockport.illiad.oclc.org/illiad/logon...</td>\n",
       "      <td>Request books, articles and more!\\nNew to Inte...</td>\n",
       "      <td>{\"id\": \"chatcmpl-8YiunSnMOGnsQJQ6Un9qjp1GD0Xr9...</td>\n",
       "    </tr>\n",
       "    <tr>\n",
       "      <th>1</th>\n",
       "      <td>https://brockport.libanswers.com</td>\n",
       "      <td>1. Talk to Someone Now\\n24/7 Chat - Best for q...</td>\n",
       "      <td>{\"id\": \"chatcmpl-8YiunWCsgOjU2RV335pvATJyHyM5F...</td>\n",
       "    </tr>\n",
       "    <tr>\n",
       "      <th>2</th>\n",
       "      <td>https://today.brockport.edu/live/news/3550-how...</td>\n",
       "      <td>How to Update your Faculty/Staff Profile Webpa...</td>\n",
       "      <td>{\"id\": \"chatcmpl-8YiunCDbzf4yOSFXW21ADzRNNUMlF...</td>\n",
       "    </tr>\n",
       "    <tr>\n",
       "      <th>3</th>\n",
       "      <td>https://www2.brockport.edu/</td>\n",
       "      <td>Main Page Content\\nBe ThereEvents Calendar\\nWh...</td>\n",
       "      <td>{\"id\": \"chatcmpl-8YiuneWGdlgh8SHCfTPOS0kc2lqTM...</td>\n",
       "    </tr>\n",
       "    <tr>\n",
       "      <th>4</th>\n",
       "      <td>https://www2.brockport.edu/about/</td>\n",
       "      <td>About\\nSUNY Brockport is a selective, national...</td>\n",
       "      <td>{\"id\": \"chatcmpl-8YiunW6JI9USkBChNDbCeJFF1fAlK...</td>\n",
       "    </tr>\n",
       "    <tr>\n",
       "      <th>...</th>\n",
       "      <td>...</td>\n",
       "      <td>...</td>\n",
       "      <td>...</td>\n",
       "    </tr>\n",
       "    <tr>\n",
       "      <th>2681</th>\n",
       "      <td>https://www2.brockport.edu/support/university-...</td>\n",
       "      <td>V. Violence Against Women Act (VAWA) Crimes\\nV...</td>\n",
       "      <td>{\"id\": \"chatcmpl-8YjjFRqlqF9G1MTNnir9ttHuJKJyl...</td>\n",
       "    </tr>\n",
       "    <tr>\n",
       "      <th>2682</th>\n",
       "      <td>https://www2.brockport.edu/support/university-...</td>\n",
       "      <td>Although we enjoy a safe campus, no area is to...</td>\n",
       "      <td>{\"id\": \"chatcmpl-8YjjB1P7zHC9L1Fd4vkVfoT4i673G...</td>\n",
       "    </tr>\n",
       "    <tr>\n",
       "      <th>2683</th>\n",
       "      <td>https://www2.brockport.edu/support/university-...</td>\n",
       "      <td>Sexual Assault and the Law\\nSUNY Brockport has...</td>\n",
       "      <td>{\"id\": \"chatcmpl-8YjjCogCO7AtqnLxjneQDbST380q4...</td>\n",
       "    </tr>\n",
       "    <tr>\n",
       "      <th>2684</th>\n",
       "      <td>https://www2.brockport.edu/support/university-...</td>\n",
       "      <td>The Student Patrol program allows students wor...</td>\n",
       "      <td>{\"id\": \"chatcmpl-8YjjFg6NB3FAjD5gMIeMzdvn8R3xL...</td>\n",
       "    </tr>\n",
       "    <tr>\n",
       "      <th>2685</th>\n",
       "      <td>https://www2.brockport.edu/support/university-...</td>\n",
       "      <td>The weekly incident reports show the activity/...</td>\n",
       "      <td>{\"id\": \"chatcmpl-8YjjH01vH7Lifw1LJ2sEkS3Nbyhix...</td>\n",
       "    </tr>\n",
       "  </tbody>\n",
       "</table>\n",
       "<p>2667 rows × 3 columns</p>\n",
       "</div>"
      ],
      "text/plain": [
       "                                                    url  \\\n",
       "0     https://brockport.illiad.oclc.org/illiad/logon...   \n",
       "1                      https://brockport.libanswers.com   \n",
       "2     https://today.brockport.edu/live/news/3550-how...   \n",
       "3                           https://www2.brockport.edu/   \n",
       "4                     https://www2.brockport.edu/about/   \n",
       "...                                                 ...   \n",
       "2681  https://www2.brockport.edu/support/university-...   \n",
       "2682  https://www2.brockport.edu/support/university-...   \n",
       "2683  https://www2.brockport.edu/support/university-...   \n",
       "2684  https://www2.brockport.edu/support/university-...   \n",
       "2685  https://www2.brockport.edu/support/university-...   \n",
       "\n",
       "                                                   data  \\\n",
       "0     Request books, articles and more!\\nNew to Inte...   \n",
       "1     1. Talk to Someone Now\\n24/7 Chat - Best for q...   \n",
       "2     How to Update your Faculty/Staff Profile Webpa...   \n",
       "3     Main Page Content\\nBe ThereEvents Calendar\\nWh...   \n",
       "4     About\\nSUNY Brockport is a selective, national...   \n",
       "...                                                 ...   \n",
       "2681  V. Violence Against Women Act (VAWA) Crimes\\nV...   \n",
       "2682  Although we enjoy a safe campus, no area is to...   \n",
       "2683  Sexual Assault and the Law\\nSUNY Brockport has...   \n",
       "2684  The Student Patrol program allows students wor...   \n",
       "2685  The weekly incident reports show the activity/...   \n",
       "\n",
       "                                                api_res  \n",
       "0     {\"id\": \"chatcmpl-8YiunSnMOGnsQJQ6Un9qjp1GD0Xr9...  \n",
       "1     {\"id\": \"chatcmpl-8YiunWCsgOjU2RV335pvATJyHyM5F...  \n",
       "2     {\"id\": \"chatcmpl-8YiunCDbzf4yOSFXW21ADzRNNUMlF...  \n",
       "3     {\"id\": \"chatcmpl-8YiuneWGdlgh8SHCfTPOS0kc2lqTM...  \n",
       "4     {\"id\": \"chatcmpl-8YiunW6JI9USkBChNDbCeJFF1fAlK...  \n",
       "...                                                 ...  \n",
       "2681  {\"id\": \"chatcmpl-8YjjFRqlqF9G1MTNnir9ttHuJKJyl...  \n",
       "2682  {\"id\": \"chatcmpl-8YjjB1P7zHC9L1Fd4vkVfoT4i673G...  \n",
       "2683  {\"id\": \"chatcmpl-8YjjCogCO7AtqnLxjneQDbST380q4...  \n",
       "2684  {\"id\": \"chatcmpl-8YjjFg6NB3FAjD5gMIeMzdvn8R3xL...  \n",
       "2685  {\"id\": \"chatcmpl-8YjjH01vH7Lifw1LJ2sEkS3Nbyhix...  \n",
       "\n",
       "[2667 rows x 3 columns]"
      ]
     },
     "execution_count": 19,
     "metadata": {},
     "output_type": "execute_result"
    }
   ],
   "source": []
  },
  {
   "cell_type": "code",
   "execution_count": null,
   "metadata": {},
   "outputs": [],
   "source": [
    "import datasets\n",
    "\n",
    "datasets.load_dataset(\"json\", data_files=\"NEW_data_collection/data/raw_scraper_output.json\")\n",
    "\n"
   ]
  },
  {
   "cell_type": "code",
   "execution_count": 3,
   "metadata": {},
   "outputs": [],
   "source": [
    "import json\n",
    "\n",
    "# load in json\n",
    "with open(\"NEW_data_collection/data/raw_scraper_output.json\") as f:\n",
    "    data = json.load(f)"
   ]
  },
  {
   "cell_type": "code",
   "execution_count": null,
   "metadata": {},
   "outputs": [],
   "source": [
    "data"
   ]
  },
  {
   "cell_type": "code",
   "execution_count": null,
   "metadata": {},
   "outputs": [],
   "source": [
    "with open(\"NEW_data_collection/data/raw_scraper_output.json\", \"r\") as f:\n",
    "    data = f.read()"
   ]
  },
  {
   "cell_type": "code",
   "execution_count": null,
   "metadata": {},
   "outputs": [],
   "source": [
    "import pandas as pd\n",
    "import json\n",
    "import re\n",
    "import os\n",
    "\n",
    "gpt35 = pd.read_csv(\"NEW_data_collection/data/gpt-3.5-data-qa.csv\")\n",
    "gpt4 = pd.read_csv(\"NEW_data_collection/data/gpt-4-data-qa.csv\")"
   ]
  },
  {
   "cell_type": "code",
   "execution_count": null,
   "metadata": {},
   "outputs": [],
   "source": [
    "idx = 15\n",
    "print(\"GPT-3.5 URL: \"+gpt35['url'][idx])\n",
    "print(\"GPT-4 URL: \"+gpt4['url'][idx])\n",
    "print(\"Context:\\n\"+gpt35['data'][idx])\n",
    "print(\"GPT-3.5:\\n\"+json.dumps(json.loads(gpt35['questions'][idx]), indent=4))\n",
    "print(\"GPT-4:\\n\"+json.dumps(json.loads(gpt4['questions'][idx]), indent=4))"
   ]
  },
  {
   "cell_type": "code",
   "execution_count": null,
   "metadata": {},
   "outputs": [],
   "source": []
  }
 ],
 "metadata": {
  "kernelspec": {
   "display_name": "thesis",
   "language": "python",
   "name": "python3"
  },
  "language_info": {
   "codemirror_mode": {
    "name": "ipython",
    "version": 3
   },
   "file_extension": ".py",
   "mimetype": "text/x-python",
   "name": "python",
   "nbconvert_exporter": "python",
   "pygments_lexer": "ipython3",
   "version": "3.11.7"
  }
 },
 "nbformat": 4,
 "nbformat_minor": 2
}
