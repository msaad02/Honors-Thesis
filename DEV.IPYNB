{
 "cells": [
  {
   "cell_type": "code",
   "execution_count": 47,
   "metadata": {},
   "outputs": [
    {
     "name": "stdout",
     "output_type": "stream",
     "text": [
      "GPT-3.5 cost per 1000: $1.249\n",
      "GPT-4 cost per 1000: $17.0996\n"
     ]
    }
   ],
   "source": [
    "import pandas as pd\n",
    "import json\n",
    "import re\n",
    "import os\n",
    "\n",
    "gpt35 = pd.read_csv(\"NEW_data_collection/data/gpt35_qa.csv\")\n",
    "gpt4 = pd.read_csv(\"NEW_data_collection/data/gpt4_qa.csv\")\n",
    "\n",
    "def get_questions(raw_text_col):\n",
    "    api_outputs = [json.loads(api_output)['choices'][0]['message']['content'] for api_output in raw_text_col]\n",
    "    json_output = [json.loads(api_output.strip()[7:-3]) for api_output in api_outputs]\n",
    "\n",
    "    return json_output\n",
    "\n",
    "gpt35['cleaned_qa'] = get_questions(gpt35['questions'])\n",
    "gpt4['cleaned_qa'] = get_questions(gpt4['questions'])\n",
    "\n",
    "# Get average costs associated with each model too\n",
    "avg_prompt_tokens = sum([json.loads(gpt35.iloc[idx, 2])['usage']['prompt_tokens'] for idx in range(len(gpt35))])/len(gpt35)\n",
    "avg_completion_tokens = sum([json.loads(gpt35.iloc[idx, 2])['usage']['completion_tokens'] for idx in range(len(gpt35))])/len(gpt35)\n",
    "\n",
    "avg_cost_per_page = 0.001 * (avg_prompt_tokens/1000) + 0.002 * (avg_completion_tokens/1000)\n",
    "print(f\"GPT-3.5 cost per 1000: ${round(avg_cost_per_page*1000, 3)}\")\n",
    "\n",
    "avg_prompt_tokens = sum([json.loads(gpt4.iloc[idx, 2])['usage']['prompt_tokens'] for idx in range(len(gpt4))])/len(gpt4)\n",
    "avg_completion_tokens = sum([json.loads(gpt4.iloc[idx, 2])['usage']['completion_tokens'] for idx in range(len(gpt4))])/len(gpt4)\n",
    "\n",
    "avg_cost_per_page = 0.01 * (avg_prompt_tokens/1000) + 0.03 * (avg_completion_tokens/1000)\n",
    "print(f\"GPT-4 cost per 1000: ${round(avg_cost_per_page*1000, 4)}\")"
   ]
  },
  {
   "cell_type": "code",
   "execution_count": 58,
   "metadata": {},
   "outputs": [
    {
     "name": "stdout",
     "output_type": "stream",
     "text": [
      "GPT-3.5 URL: https://www2.brockport.edu/academics/eagle-success/\n",
      "GPT-4 URL: https://www2.brockport.edu/academics/eagle-success/\n",
      "Context:\n",
      "Login to EagleSUCCESS\n",
      "We believe a campus community engaged with our students will lead to their success. EagleSUCCESS is a collaborative tool for instructors, advisors, and students. With it we can more quickly identify students who are struggling and implement interventions with students in a timely way. How does using EagleSUCCESS increase student success?\n",
      "Students can:\n",
      "- Advocate for themselves and ask for help.\n",
      "- Know their progress.\n",
      "- Schedule advisement and tutoring appointments.\n",
      "- See all campus resources listed in one place.\n",
      "Advisors can:\n",
      "- See a fuller picture of each student and their performance.\n",
      "- Implement interventions early and effectively.\n",
      "- Connect students to campus resources.\n",
      "Instructors can:\n",
      "- Share concerns with students and advisors.\n",
      "- Refer students to Tutoring and other resources.\n",
      "- Celebrate student achievements.\n",
      "Learn How to Use EagleSUCCESS\n",
      "Look for the EagleSUCCESS tutorial guides and videos in Brightspace.\n",
      "QUESTIONS?\n",
      "Email EagleSUCCESS\n",
      "or\n",
      "Thomas Chew\n",
      "Director of Academic Success Center\n",
      "Phone: (585) 395-2311\n",
      "GPT-3.5:\n",
      "[\n",
      "    {\n",
      "        \"question\": \"How does using EagleSUCCESS increase student success?\",\n",
      "        \"answer\": \"Using EagleSUCCESS allows students to advocate for themselves, know their progress, schedule advisement and tutoring appointments, and see all campus resources listed in one place. Advisors can see a fuller picture of each student and their performance, implement interventions early and effectively, and connect students to campus resources. Instructors can share concerns with students and advisors, refer students to tutoring and other resources, and celebrate student achievements.\"\n",
      "    },\n",
      "    {\n",
      "        \"question\": \"Where can I find tutorial guides and videos for using EagleSUCCESS?\",\n",
      "        \"answer\": \"You can find the EagleSUCCESS tutorial guides and videos in Brightspace.\"\n",
      "    },\n",
      "    {\n",
      "        \"question\": \"How can students ask for help and advocate for themselves using EagleSUCCESS?\",\n",
      "        \"answer\": \"Students can ask for help and advocate for themselves by using EagleSUCCESS to schedule advisement and tutoring appointments, and by accessing all campus resources listed in one place.\"\n",
      "    },\n",
      "    {\n",
      "        \"question\": \"How can advisors use EagleSUCCESS to support students?\",\n",
      "        \"answer\": \"Advisors can use EagleSUCCESS to see a fuller picture of each student and their performance, implement interventions early and effectively, and connect students to campus resources.\"\n",
      "    },\n",
      "    {\n",
      "        \"question\": \"In what ways can instructors utilize EagleSUCCESS to assist students?\",\n",
      "        \"answer\": \"Instructors can utilize EagleSUCCESS to share concerns with students and advisors, refer students to tutoring and other resources, and celebrate student achievements.\"\n",
      "    }\n",
      "]\n",
      "GPT-4:\n",
      "[\n",
      "    {\n",
      "        \"question\": \"What is EagleSUCCESS and how does it contribute to student success at SUNY Brockport?\",\n",
      "        \"answer\": \"EagleSUCCESS is a collaborative tool used by instructors, advisors, and students at SUNY Brockport to enhance student success. It allows for early identification of students who are struggling, enabling timely interventions. Students can use it to ask for help, track their progress, schedule appointments, and access campus resources in one place. Advisors get a comprehensive view of student performance to implement effective interventions and connect students to resources. Instructors can communicate concerns, refer students to tutoring, and acknowledge student achievements.\"\n",
      "    },\n",
      "    {\n",
      "        \"question\": \"As a student, how can I use EagleSUCCESS to manage my academic progress?\",\n",
      "        \"answer\": \"As a student, you can use EagleSUCCESS to advocate for yourself by asking for help when needed, keep track of your academic progress, schedule advisement and tutoring appointments, and find all campus resources listed in one convenient location.\"\n",
      "    },\n",
      "    {\n",
      "        \"question\": \"How can advisors utilize EagleSUCCESS to support students?\",\n",
      "        \"answer\": \"Advisors can use EagleSUCCESS to get a fuller picture of each student's performance, implement early and effective interventions, and connect students with the appropriate campus resources to support their academic journey.\"\n",
      "    },\n",
      "    {\n",
      "        \"question\": \"What features are available to instructors in EagleSUCCESS?\",\n",
      "        \"answer\": \"Instructors can use EagleSUCCESS to share concerns with both students and advisors, refer students to tutoring and other campus resources, and celebrate student achievements to encourage their progress.\"\n",
      "    },\n",
      "    {\n",
      "        \"question\": \"Where can I find tutorial guides and videos to learn how to use EagleSUCCESS?\",\n",
      "        \"answer\": \"Tutorial guides and videos for EagleSUCCESS are available in Brightspace, which you can access to learn how to effectively use the platform.\"\n",
      "    },\n",
      "    {\n",
      "        \"question\": \"Who should I contact if I have questions about EagleSUCCESS?\",\n",
      "        \"answer\": \"If you have questions about EagleSUCCESS, you can email the EagleSUCCESS support team or contact Thomas Chew, the Director of Academic Success Center, at (585) 395-2311.\"\n",
      "    }\n",
      "]\n"
     ]
    }
   ],
   "source": [
    "idx = 6\n",
    "print(\"GPT-3.5 URL: \"+gpt35['url'][idx])\n",
    "print(\"GPT-4 URL: \"+gpt4['url'][idx])\n",
    "print(\"Context:\\n\"+gpt35['data'][idx])\n",
    "print(\"GPT-3.5:\\n\"+json.dumps(gpt35['cleaned_qa'][idx], indent=4))\n",
    "print(\"GPT-4:\\n\"+json.dumps(gpt4['cleaned_qa'][idx], indent=4))"
   ]
  }
 ],
 "metadata": {
  "kernelspec": {
   "display_name": "thesis",
   "language": "python",
   "name": "python3"
  },
  "language_info": {
   "codemirror_mode": {
    "name": "ipython",
    "version": 3
   },
   "file_extension": ".py",
   "mimetype": "text/x-python",
   "name": "python",
   "nbconvert_exporter": "python",
   "pygments_lexer": "ipython3",
   "version": "3.11.7"
  }
 },
 "nbformat": 4,
 "nbformat_minor": 2
}
