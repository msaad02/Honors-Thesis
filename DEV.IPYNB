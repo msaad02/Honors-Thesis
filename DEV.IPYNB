{
 "cells": [
  {
   "cell_type": "code",
   "execution_count": 70,
   "metadata": {},
   "outputs": [],
   "source": [
    "import pandas as pd\n",
    "import json\n",
    "import re\n",
    "import os\n",
    "\n",
    "gpt35 = pd.read_csv(\"NEW_data_collection/data/gpt-3.5-data-qa.csv\")\n",
    "gpt4 = pd.read_csv(\"NEW_data_collection/data/gpt-4-data-qa.csv\")"
   ]
  },
  {
   "cell_type": "code",
   "execution_count": 71,
   "metadata": {},
   "outputs": [
    {
     "name": "stdout",
     "output_type": "stream",
     "text": [
      "GPT-3.5 URL: https://www2.brockport.edu/life/\n",
      "GPT-4 URL: https://www2.brockport.edu/life/\n",
      "Context:\n",
      "Student Life\n",
      "Welcome to a community that embraces and celebrates who you are, engages in learning both inside and outside of the classroom, and commits to being by your side every step of the way.\n",
      "Spotlight\n",
      "Identity & Belonging\n",
      "Find your folx, be embraced by a community of peers, and feel supported along the way. Learn more about how to BeYou at Brockport.\n",
      "Intercultural Center\n",
      "The Joey Jackson Intercultural Center provides students of color with opportunities for leadership development, celebration, and education on issues related to inclusive excellence.\n",
      "Housing & Dining\n",
      "Residential Life\n",
      "13 residence halls, a student townhome complex, and an entire residential staff dedicated to making you feel comfortable.\n",
      "Your Home Awaits:\n",
      "Dining\n",
      "Our Dining Services (Brockport Auxiliary Service Corporation) are consistently ranked as one of the best in all of SUNY. Choose from 9 dining locations, diversified menus, including vegan, vegetarian, gluten-free, and ethnic entrees, and flexible & affordable meal plans.\n",
      "Hungry?\n",
      "Diversity\n",
      "We know that to make a better world, we must continually build a better Brockport. Our commitment to diversity shines through in our 23 multicultural clubs, our award-winning annual conference on diversity and acceptance, and programming that relentlessly teaches multiculturalism, social justice, and inclusive excellence.\n",
      "Experience a Bias Incident?\n",
      "We are committed to providing a safe & supportive environment for all.\n",
      "Health & Counseling\n",
      "From physical health to mental wellness, to Prevention & Outreach Services and Student Accessibility, the Hazen Center for Integrated Care is here to support your mind, body and spirit.\n",
      "Be Well:\n",
      "Safety\n",
      "We pride ourselves on the safety of our campus, and the relationships fostered between law enforcement & our community.\n",
      "GPT-3.5:\n",
      "[\n",
      "    {\n",
      "        \"question\": \"How can I get involved in multicultural clubs and activities at SUNY Brockport?\",\n",
      "        \"answer\": \"You can get involved in multicultural clubs and activities at SUNY Brockport by joining one of the 23 multicultural clubs on campus or participating in the annual conference on diversity and acceptance.\"\n",
      "    },\n",
      "    {\n",
      "        \"question\": \"What dining options are available at SUNY Brockport, and do they accommodate dietary restrictions?\",\n",
      "        \"answer\": \"SUNY Brockport offers 9 dining locations with diversified menus, including vegan, vegetarian, gluten-free, and ethnic entrees. The Dining Services are consistently ranked as one of the best in all of SUNY.\"\n",
      "    },\n",
      "    {\n",
      "        \"question\": \"How does SUNY Brockport support the physical and mental wellness of its students?\",\n",
      "        \"answer\": \"SUNY Brockport supports the physical and mental wellness of its students through the Hazen Center for Integrated Care, which provides services for physical health, mental wellness, prevention & outreach, and student accessibility.\"\n",
      "    },\n",
      "    {\n",
      "        \"question\": \"What housing options are available for students at SUNY Brockport?\",\n",
      "        \"answer\": \"SUNY Brockport offers 13 residence halls, a student townhome complex, and a dedicated residential staff to make students feel comfortable and at home.\"\n",
      "    },\n",
      "    {\n",
      "        \"question\": \"How does SUNY Brockport ensure the safety of its campus and community?\",\n",
      "        \"answer\": \"SUNY Brockport prides itself on the safety of its campus and the relationships fostered between law enforcement and the community, ensuring a safe and supportive environment for all.\"\n",
      "    }\n",
      "]\n",
      "GPT-4:\n",
      "[\n",
      "    {\n",
      "        \"question\": \"How can I learn more about the identity and belonging initiatives at SUNY Brockport?\",\n",
      "        \"answer\": \"You can learn more about identity and belonging initiatives by visiting the Joey Jackson Intercultural Center, participating in multicultural clubs, and attending our annual conference on diversity and acceptance. Additionally, you can explore the 'BeYou at Brockport' program for further information.\"\n",
      "    },\n",
      "    {\n",
      "        \"question\": \"What types of housing options are available at SUNY Brockport?\",\n",
      "        \"answer\": \"SUNY Brockport offers 13 residence halls, a student townhome complex, and a dedicated residential staff to ensure a comfortable living experience. You can find more information about your housing options by contacting the Residential Life office.\"\n",
      "    },\n",
      "    {\n",
      "        \"question\": \"What dining services are provided at SUNY Brockport?\",\n",
      "        \"answer\": \"Brockport Auxiliary Service Corporation provides dining services at SUNY Brockport, featuring 9 dining locations with diversified menus that include vegan, vegetarian, gluten-free, and ethnic options. There are also flexible and affordable meal plans available to students.\"\n",
      "    },\n",
      "    {\n",
      "        \"question\": \"What resources are available for students who experience a bias incident?\",\n",
      "        \"answer\": \"SUNY Brockport is committed to providing a safe and supportive environment for all. If you experience a bias incident, you can report it to the administration, and they will take appropriate action. The school also offers programming that teaches multiculturalism, social justice, and inclusive excellence.\"\n",
      "    },\n",
      "    {\n",
      "        \"question\": \"What kind of health and counseling services does SUNY Brockport offer?\",\n",
      "        \"answer\": \"The Hazen Center for Integrated Care at SUNY Brockport offers a range of services including physical health, mental wellness, Prevention & Outreach Services, and Student Accessibility support. These services are designed to support the mind, body, and spirit of students.\"\n",
      "    }\n",
      "]\n"
     ]
    }
   ],
   "source": [
    "idx = 15\n",
    "print(\"GPT-3.5 URL: \"+gpt35['url'][idx])\n",
    "print(\"GPT-4 URL: \"+gpt4['url'][idx])\n",
    "print(\"Context:\\n\"+gpt35['data'][idx])\n",
    "print(\"GPT-3.5:\\n\"+json.dumps(json.loads(gpt35['questions'][idx]), indent=4))\n",
    "print(\"GPT-4:\\n\"+json.dumps(json.loads(gpt4['questions'][idx]), indent=4))"
   ]
  },
  {
   "cell_type": "code",
   "execution_count": null,
   "metadata": {},
   "outputs": [],
   "source": []
  }
 ],
 "metadata": {
  "kernelspec": {
   "display_name": "thesis",
   "language": "python",
   "name": "python3"
  },
  "language_info": {
   "codemirror_mode": {
    "name": "ipython",
    "version": 3
   },
   "file_extension": ".py",
   "mimetype": "text/x-python",
   "name": "python",
   "nbconvert_exporter": "python",
   "pygments_lexer": "ipython3",
   "version": "3.11.7"
  }
 },
 "nbformat": 4,
 "nbformat_minor": 2
}
