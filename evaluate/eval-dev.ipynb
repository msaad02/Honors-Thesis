{
 "cells": [
  {
   "cell_type": "code",
   "execution_count": 1,
   "metadata": {},
   "outputs": [],
   "source": [
    "import json\n",
    "\n",
    "with open('./eval_questions.json') as f:\n",
    "    data = json.load(f)"
   ]
  },
  {
   "cell_type": "code",
   "execution_count": 5,
   "metadata": {},
   "outputs": [
    {
     "name": "stdout",
     "output_type": "stream",
     "text": [
      "How can I apply?\n",
      "You can apply to SUNY Brockport by completing the Common Application or the SUNY Application.\n",
      "-----------\n",
      "Are SAT scores required to apply?\n",
      "No, SAT scores are not required to apply, however, submitting a score can enhance your application.\n",
      "-----------\n",
      "How can I apply for financial aid?\n",
      "You can start your application process by completing the FAFSA. If you have any additional or specific questions, please contact the Financial Aid Office.\n",
      "-----------\n",
      "Does Brockport have a computer science department?\n",
      "Yes, SUNY Brockport does have a Computer Science department.\n",
      "-----------\n"
     ]
    }
   ],
   "source": [
    "for qa_pair in data:\n",
    "    question, answer = qa_pair['question'], qa_pair['answer']\n",
    "    \n",
    "    print(question)\n",
    "    print(answer)\n",
    "\n",
    "    print(\"-----------\")"
   ]
  }
 ],
 "metadata": {
  "kernelspec": {
   "display_name": "thesis",
   "language": "python",
   "name": "python3"
  },
  "language_info": {
   "codemirror_mode": {
    "name": "ipython",
    "version": 3
   },
   "file_extension": ".py",
   "mimetype": "text/x-python",
   "name": "python",
   "nbconvert_exporter": "python",
   "pygments_lexer": "ipython3",
   "version": "3.10.0"
  },
  "orig_nbformat": 4
 },
 "nbformat": 4,
 "nbformat_minor": 2
}
