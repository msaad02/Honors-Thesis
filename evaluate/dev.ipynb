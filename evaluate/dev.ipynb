{
 "cells": [
  {
   "cell_type": "code",
   "execution_count": 34,
   "metadata": {},
   "outputs": [],
   "source": [
    "from openai import OpenAI\n",
    "\n",
    "client = OpenAI()\n",
    "\n",
    "def chatgpt(prompt: str):\n",
    "\n",
    "    result = client.chat.completions.create(\n",
    "        model=\"gpt-4\",\n",
    "        messages=[{\"role\": \"user\", \"content\": prompt}],\n",
    "        temperature=1.0,\n",
    "        max_tokens=50\n",
    "    )\n",
    "    return result"
   ]
  },
  {
   "cell_type": "code",
   "execution_count": 20,
   "metadata": {},
   "outputs": [],
   "source": [
    "from datasets import load_dataset\n",
    "\n",
    "dataset = load_dataset(\"msaad02/brockport-gpt-4-qa\")['train'].to_pandas().loc[:, ['question', 'answer']]"
   ]
  },
  {
   "cell_type": "code",
   "execution_count": 52,
   "metadata": {},
   "outputs": [],
   "source": [
    "sampled_questions = dataset['question'].sample(n=2).to_list()"
   ]
  },
  {
   "cell_type": "code",
   "execution_count": 53,
   "metadata": {},
   "outputs": [],
   "source": [
    "def slightly_change_question(question: str):\n",
    "\n",
    "    result = client.chat.completions.create(\n",
    "        model=\"gpt-4\",\n",
    "        messages=[\n",
    "            {\"role\": \"user\", \"content\": \"You are a helpful assistant who slightly modifies questions while retaining their meaning. Only make slight modifications such as changing to similar words, or rephrasing the question. Do not change the meaning of the question. Only respond with the question, do not preface it with anything. The question is: \" + question}\n",
    "        ],\n",
    "        temperature=0.8,\n",
    "        max_tokens=50\n",
    "    )\n",
    "    return result.choices[0].message.content"
   ]
  },
  {
   "cell_type": "code",
   "execution_count": 54,
   "metadata": {},
   "outputs": [
    {
     "name": "stdout",
     "output_type": "stream",
     "text": [
      "Before:\n",
      "What will I learn in the adapted physical education concentration at SUNY Brockport?\n",
      "\n",
      "After:\n",
      "What can I expect to learn in the adapted physical education concentration at SUNY Brockport?\n"
     ]
    }
   ],
   "source": [
    "\n",
    "print(f\"Before:\\n{sampled_questions[0]}\\n\\nAfter:\\n{slightly_change_question(sampled_questions[0])}\")"
   ]
  },
  {
   "cell_type": "markdown",
   "metadata": {},
   "source": [
    "# New stuff"
   ]
  },
  {
   "cell_type": "code",
   "execution_count": 1,
   "metadata": {},
   "outputs": [],
   "source": [
    "import sys\n",
    "import os\n",
    "os.environ['TF_CPP_MIN_LOG_LEVEL'] = '2' # prevent tensorflow logs\n",
    "\n",
    "# Set path to parent directory so we can import from other folders.\n",
    "sys.path.append(os.path.abspath(os.path.join('..')))\n",
    "\n",
    "# from fine_tuning.finetune_class import FineTunedModel\n",
    "from scratch_model.inference import ScratchModel\n",
    "# from text_search.rag import RAG\n",
    "# \n",
    "# from termcolor import colored\n",
    "# from datasets import load_dataset\n",
    "# from tqdm import tqdm\n"
   ]
  },
  {
   "cell_type": "code",
   "execution_count": 2,
   "metadata": {},
   "outputs": [],
   "source": [
    "scratch=ScratchModel(model_dir=\"../scratch_model/models/transformer_v7/\")\n",
    "\n"
   ]
  },
  {
   "cell_type": "code",
   "execution_count": 6,
   "metadata": {},
   "outputs": [
    {
     "name": "stdout",
     "output_type": "stream",
     "text": [
      "Applying for the apply is easy! Just visit the apply section on the SUNY Brockport website for the application button. If you need any assistance with the application process, our admissions team is more than happy to help you out!\n"
     ]
    }
   ],
   "source": [
    "from IPython.display import clear_output\n",
    "\n",
    "for i in scratch(\"How can I apply?\", stream=True):\n",
    "    print(i)\n",
    "    clear_output(wait=True)"
   ]
  },
  {
   "cell_type": "code",
   "execution_count": 4,
   "metadata": {},
   "outputs": [
    {
     "data": {
      "application/vnd.jupyter.widget-view+json": {
       "model_id": "41e82a2579b547ef9f4114926f9afd70",
       "version_major": 2,
       "version_minor": 0
      },
      "text/plain": [
       "Fetching 7 files:   0%|          | 0/7 [00:00<?, ?it/s]"
      ]
     },
     "metadata": {},
     "output_type": "display_data"
    }
   ],
   "source": [
    "from fine_tuning.finetune_class import FineTunedModel\n",
    "from torch.cuda import is_available\n",
    "from IPython.display import clear_output\n",
    "\n",
    "finetuned=FineTunedModel(model_type=\"gptq\" if is_available() else \"gguf\", stream=True)\n"
   ]
  },
  {
   "cell_type": "code",
   "execution_count": 15,
   "metadata": {},
   "outputs": [
    {
     "name": "stdout",
     "output_type": "stream",
     "text": [
      "You can apply by following the admission process provided on their website.\n"
     ]
    }
   ],
   "source": [
    "for i in finetuned(\"How can I apply?\"):\n",
    "    print(i)\n",
    "    clear_output(wait=True)\n",
    "    \n",
    "    "
   ]
  }
 ],
 "metadata": {
  "kernelspec": {
   "display_name": "thesis",
   "language": "python",
   "name": "python3"
  },
  "language_info": {
   "codemirror_mode": {
    "name": "ipython",
    "version": 3
   },
   "file_extension": ".py",
   "mimetype": "text/x-python",
   "name": "python",
   "nbconvert_exporter": "python",
   "pygments_lexer": "ipython3",
   "version": "3.11.4"
  }
 },
 "nbformat": 4,
 "nbformat_minor": 2
}
