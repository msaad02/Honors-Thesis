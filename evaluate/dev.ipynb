{
 "cells": [
  {
   "cell_type": "code",
   "execution_count": 3,
   "metadata": {},
   "outputs": [
    {
     "data": {
      "text/html": [
       "<div>\n",
       "<style scoped>\n",
       "    .dataframe tbody tr th:only-of-type {\n",
       "        vertical-align: middle;\n",
       "    }\n",
       "\n",
       "    .dataframe tbody tr th {\n",
       "        vertical-align: top;\n",
       "    }\n",
       "\n",
       "    .dataframe thead th {\n",
       "        text-align: right;\n",
       "    }\n",
       "</style>\n",
       "<table border=\"1\" class=\"dataframe\">\n",
       "  <thead>\n",
       "    <tr style=\"text-align: right;\">\n",
       "      <th></th>\n",
       "      <th>question</th>\n",
       "      <th>answer</th>\n",
       "      <th>type</th>\n",
       "    </tr>\n",
       "  </thead>\n",
       "  <tbody>\n",
       "    <tr>\n",
       "      <th>0</th>\n",
       "      <td>What is the deadline for transfer students to ...</td>\n",
       "      <td>The deadline for transfer students to apply fo...</td>\n",
       "      <td>test</td>\n",
       "    </tr>\n",
       "    <tr>\n",
       "      <th>1</th>\n",
       "      <td>Who is authorized to request verification of i...</td>\n",
       "      <td>University Police Officers have the authority ...</td>\n",
       "      <td>train</td>\n",
       "    </tr>\n",
       "    <tr>\n",
       "      <th>2</th>\n",
       "      <td>What does a probationary appointment at SUNY B...</td>\n",
       "      <td>A probationary appointment at SUNY Brockport i...</td>\n",
       "      <td>train</td>\n",
       "    </tr>\n",
       "    <tr>\n",
       "      <th>3</th>\n",
       "      <td>What characteristics do you seek in a Peer Men...</td>\n",
       "      <td>We're excited to find Peer Mentors who are pro...</td>\n",
       "      <td>train</td>\n",
       "    </tr>\n",
       "    <tr>\n",
       "      <th>4</th>\n",
       "      <td>What are some effective strategies for prepari...</td>\n",
       "      <td>To prepare effectively for an interview at SUN...</td>\n",
       "      <td>test</td>\n",
       "    </tr>\n",
       "    <tr>\n",
       "      <th>...</th>\n",
       "      <td>...</td>\n",
       "      <td>...</td>\n",
       "      <td>...</td>\n",
       "    </tr>\n",
       "    <tr>\n",
       "      <th>2340</th>\n",
       "      <td>Are there any internships available in the fie...</td>\n",
       "      <td>Absolutely! SUNY Brockport provides a wealth o...</td>\n",
       "      <td>test</td>\n",
       "    </tr>\n",
       "    <tr>\n",
       "      <th>2341</th>\n",
       "      <td>How can I view the Group Exercise Schedule?</td>\n",
       "      <td>You can view our Group Exercise Schedule by vi...</td>\n",
       "      <td>test</td>\n",
       "    </tr>\n",
       "    <tr>\n",
       "      <th>2342</th>\n",
       "      <td>Where can I get help with my resume and cover ...</td>\n",
       "      <td>You can get professional help with your resume...</td>\n",
       "      <td>test</td>\n",
       "    </tr>\n",
       "    <tr>\n",
       "      <th>2343</th>\n",
       "      <td>How do I enroll in the Equity, Diversity, and ...</td>\n",
       "      <td>We're thrilled to hear about your interest! Yo...</td>\n",
       "      <td>train</td>\n",
       "    </tr>\n",
       "    <tr>\n",
       "      <th>2344</th>\n",
       "      <td>How many clinical hours are included in the Ad...</td>\n",
       "      <td>The program includes a total of 700 clinical h...</td>\n",
       "      <td>test</td>\n",
       "    </tr>\n",
       "  </tbody>\n",
       "</table>\n",
       "<p>2345 rows × 3 columns</p>\n",
       "</div>"
      ],
      "text/plain": [
       "                                               question  \\\n",
       "0     What is the deadline for transfer students to ...   \n",
       "1     Who is authorized to request verification of i...   \n",
       "2     What does a probationary appointment at SUNY B...   \n",
       "3     What characteristics do you seek in a Peer Men...   \n",
       "4     What are some effective strategies for prepari...   \n",
       "...                                                 ...   \n",
       "2340  Are there any internships available in the fie...   \n",
       "2341        How can I view the Group Exercise Schedule?   \n",
       "2342  Where can I get help with my resume and cover ...   \n",
       "2343  How do I enroll in the Equity, Diversity, and ...   \n",
       "2344  How many clinical hours are included in the Ad...   \n",
       "\n",
       "                                                 answer   type  \n",
       "0     The deadline for transfer students to apply fo...   test  \n",
       "1     University Police Officers have the authority ...  train  \n",
       "2     A probationary appointment at SUNY Brockport i...  train  \n",
       "3     We're excited to find Peer Mentors who are pro...  train  \n",
       "4     To prepare effectively for an interview at SUN...   test  \n",
       "...                                                 ...    ...  \n",
       "2340  Absolutely! SUNY Brockport provides a wealth o...   test  \n",
       "2341  You can view our Group Exercise Schedule by vi...   test  \n",
       "2342  You can get professional help with your resume...   test  \n",
       "2343  We're thrilled to hear about your interest! Yo...  train  \n",
       "2344  The program includes a total of 700 clinical h...   test  \n",
       "\n",
       "[2345 rows x 3 columns]"
      ]
     },
     "execution_count": 3,
     "metadata": {},
     "output_type": "execute_result"
    }
   ],
   "source": [
    "import pandas as pd\n",
    "\n",
    "df = pd.read_csv('./data/evaluation_data.csv')\n",
    "df"
   ]
  },
  {
   "cell_type": "code",
   "execution_count": 4,
   "metadata": {},
   "outputs": [
    {
     "data": {
      "text/plain": [
       "type\n",
       "test     1345\n",
       "train    1000\n",
       "Name: count, dtype: int64"
      ]
     },
     "execution_count": 4,
     "metadata": {},
     "output_type": "execute_result"
    }
   ],
   "source": [
    "df['type'].value_counts()"
   ]
  }
 ],
 "metadata": {
  "kernelspec": {
   "display_name": "thesis",
   "language": "python",
   "name": "python3"
  },
  "language_info": {
   "codemirror_mode": {
    "name": "ipython",
    "version": 3
   },
   "file_extension": ".py",
   "mimetype": "text/x-python",
   "name": "python",
   "nbconvert_exporter": "python",
   "pygments_lexer": "ipython3",
   "version": "3.11.4"
  }
 },
 "nbformat": 4,
 "nbformat_minor": 2
}
