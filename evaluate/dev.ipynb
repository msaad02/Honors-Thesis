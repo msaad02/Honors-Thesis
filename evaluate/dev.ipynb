{
 "cells": [
  {
   "cell_type": "code",
   "execution_count": null,
   "metadata": {},
   "outputs": [],
   "source": [
    "from openai import OpenAI\n",
    "\n",
    "client = OpenAI()\n",
    "\n",
    "def chatgpt(prompt: str):\n",
    "\n",
    "    result = client.chat.completions.create(\n",
    "        model=\"gpt-4\",\n",
    "        messages=[{\"role\": \"user\", \"content\": prompt}],\n",
    "        temperature=1.0,\n",
    "        max_tokens=50\n",
    "    )\n",
    "    return result"
   ]
  },
  {
   "cell_type": "code",
   "execution_count": null,
   "metadata": {},
   "outputs": [],
   "source": [
    "from datasets import load_dataset\n",
    "\n",
    "dataset = load_dataset(\"msaad02/brockport-gpt-4-qa\")['train'].to_pandas().loc[:, ['question', 'answer']]"
   ]
  },
  {
   "cell_type": "code",
   "execution_count": null,
   "metadata": {},
   "outputs": [],
   "source": [
    "sampled_questions = dataset['question'].sample(n=2).to_list()"
   ]
  },
  {
   "cell_type": "code",
   "execution_count": null,
   "metadata": {},
   "outputs": [],
   "source": [
    "def slightly_change_question(question: str):\n",
    "\n",
    "    result = client.chat.completions.create(\n",
    "        model=\"gpt-4\",\n",
    "        messages=[\n",
    "            {\"role\": \"user\", \"content\": \"You are a helpful assistant who slightly modifies questions while retaining their meaning. Only make slight modifications such as changing to similar words, or rephrasing the question. Do not change the meaning of the question. Only respond with the question, do not preface it with anything. The question is: \" + question}\n",
    "        ],\n",
    "        temperature=0.8,\n",
    "        max_tokens=50\n",
    "    )\n",
    "    return result.choices[0].message.content"
   ]
  },
  {
   "cell_type": "code",
   "execution_count": null,
   "metadata": {},
   "outputs": [],
   "source": [
    "\n",
    "print(f\"Before:\\n{sampled_questions[0]}\\n\\nAfter:\\n{slightly_change_question(sampled_questions[0])}\")"
   ]
  },
  {
   "cell_type": "markdown",
   "metadata": {},
   "source": [
    "# New stuff"
   ]
  },
  {
   "cell_type": "code",
   "execution_count": null,
   "metadata": {},
   "outputs": [],
   "source": [
    "import sys\n",
    "import os\n",
    "os.environ['TF_CPP_MIN_LOG_LEVEL'] = '2' # prevent tensorflow logs\n",
    "\n",
    "# Set path to parent directory so we can import from other folders.\n",
    "sys.path.append(os.path.abspath(os.path.join('..')))\n",
    "\n",
    "# from fine_tuning.finetune_class import FineTunedModel\n",
    "from scratch_model.inference import ScratchModel\n",
    "# from text_search.rag import RAG\n",
    "# \n",
    "# from termcolor import colored\n",
    "# from datasets import load_dataset\n",
    "# from tqdm import tqdm\n"
   ]
  },
  {
   "cell_type": "code",
   "execution_count": null,
   "metadata": {},
   "outputs": [],
   "source": [
    "scratch=ScratchModel(model_dir=\"../scratch_model/models/transformer_v7/\")\n",
    "\n"
   ]
  },
  {
   "cell_type": "code",
   "execution_count": null,
   "metadata": {},
   "outputs": [],
   "source": [
    "from IPython.display import clear_output\n",
    "\n",
    "for i in scratch(\"How can I apply?\", stream=True):\n",
    "    print(i)\n",
    "    clear_output(wait=True)"
   ]
  },
  {
   "cell_type": "code",
   "execution_count": null,
   "metadata": {},
   "outputs": [],
   "source": [
    "from fine_tuning.finetune_class import FineTunedModel\n",
    "from torch.cuda import is_available\n",
    "from IPython.display import clear_output\n",
    "\n",
    "finetuned=FineTunedModel(model_type=\"gptq\" if is_available() else \"gguf\", stream=True)\n"
   ]
  },
  {
   "cell_type": "code",
   "execution_count": null,
   "metadata": {},
   "outputs": [],
   "source": [
    "for i in finetuned(\"How can I apply?\"):\n",
    "    print(i)\n",
    "    clear_output(wait=True)\n",
    "    \n",
    "    "
   ]
  },
  {
   "cell_type": "markdown",
   "metadata": {},
   "source": [
    "# Creating 1v1 data"
   ]
  },
  {
   "cell_type": "code",
   "execution_count": 1,
   "metadata": {},
   "outputs": [],
   "source": [
    "import pandas as pd\n",
    "import random\n",
    "\n",
    "df = pd.read_csv(\"./data/answers.csv\")\n",
    "\n",
    "rag_v_scratch = df.loc[:, ['question', 'answer', 'RAG', 'Scratch']]\n",
    "rag_v_ft = df.loc[:, ['question', 'answer', 'RAG', 'Finetuned']]\n",
    "scratch_v_ft = df.loc[:, ['question', 'answer', 'Scratch', 'Finetuned']]\n",
    "\n",
    "dfs = [rag_v_scratch, rag_v_ft, scratch_v_ft]\n",
    "result = pd.concat(dfs, ignore_index=True)\n",
    "\n",
    "output = []\n",
    "\n",
    "for row in result.iterrows():\n",
    "    row = row[1][~row[1].isna()]\n",
    "\n",
    "    idx_a = random.choice([0, 1])\n",
    "    idx_b = 1 - idx_a\n",
    "\n",
    "    output.append({\n",
    "        'question': row['question'],\n",
    "        'answer': row['answer'],\n",
    "        'player_a': row[idx_a+2],\n",
    "        'player_b': row[idx_b+2],\n",
    "        'whois_player_a': row.index[idx_a+2],\n",
    "        'whois_player_b': row.index[idx_b+2]\n",
    "    })\n",
    "\n",
    "df = pd.DataFrame(output).sample(frac=1).reset_index(drop=True)\n",
    "\n",
    "prompt = lambda a,b,c,d: f\"Question: {a}\\nGround Truth: {b}\\nPlayer A: {c}\\nPlayer B: {d}\"\n",
    "\n",
    "df['prompt'] = df.apply(lambda x: prompt(x['question'], x['answer'], x['player_a'], x['player_b']), axis=1)"
   ]
  },
  {
   "cell_type": "code",
   "execution_count": 2,
   "metadata": {},
   "outputs": [],
   "source": [
    "from openai import OpenAI\n",
    "client = OpenAI()\n",
    "\n",
    "prompt_tokens = 0\n",
    "completion_tokens = 0\n",
    "\n",
    "def assess_players(prompt):\n",
    "    \"GPT-4 evaluates best model. Returns A, B, or None to indicate best response.\"\n",
    "    global prompt_tokens, completion_tokens\n",
    "\n",
    "    try:\n",
    "        response = client.chat.completions.create(\n",
    "            model=\"gpt-4-turbo-preview\",\n",
    "            messages=[\n",
    "                {\n",
    "                    \"role\": \"system\",\n",
    "                    \"content\": \"You are a helpful referee, who helps pick the best response to a question. The question is about SUNY Brockport, a school in upstate NY. You are given the following:\\n\\n1) The question given.\\n2) The ground truth in the form of an answer to the question.\\n3) Player A response to the question.\\n4) Player B response to the question.\\n\\nGiven the question and ground truth, select which player has the best response. Respond with either \\\"A\\\", or \\\"B\\\" only. In some cases, it may be possible that both players are incorrect. In those cases, respond with \\\"None\\\". In choosing the best response prioritize correctness first, then enthusiasm and overall coherence after. Remember to only respond with either \\\"A\\\", \\\"B\\\", or \\\"None\\\". Do not explain your decision.\"\n",
    "                }, {\n",
    "                    \"role\": \"user\",\n",
    "                    \"content\": prompt\n",
    "                }\n",
    "            ],\n",
    "            temperature=0,\n",
    "            max_tokens=1\n",
    "        )\n",
    "    except:\n",
    "        return \"Error\"\n",
    "\n",
    "    prompt_tokens += response.usage.prompt_tokens\n",
    "    completion_tokens += response.usage.completion_tokens\n",
    "\n",
    "    return response.choices[0].message.content"
   ]
  },
  {
   "cell_type": "code",
   "execution_count": 3,
   "metadata": {},
   "outputs": [
    {
     "name": "stderr",
     "output_type": "stream",
     "text": [
      "100%|██████████| 4035/4035 [53:14<00:00,  1.26it/s]   \n"
     ]
    }
   ],
   "source": [
    "from tqdm import tqdm\n",
    "\n",
    "for prompt in tqdm(df.loc[:, 'prompt']):\n",
    "    df.loc[df['prompt'] == prompt, 'best_response'] = assess_players(prompt)"
   ]
  },
  {
   "cell_type": "code",
   "execution_count": 41,
   "metadata": {},
   "outputs": [
    {
     "data": {
      "text/plain": [
       "(1674957, 4035)"
      ]
     },
     "execution_count": 41,
     "metadata": {},
     "output_type": "execute_result"
    }
   ],
   "source": [
    "prompt_tokens, completion_tokens"
   ]
  },
  {
   "cell_type": "code",
   "execution_count": 4,
   "metadata": {},
   "outputs": [],
   "source": [
    "# df.to_csv(\"data/evaluation.csv\", index=False)"
   ]
  },
  {
   "cell_type": "code",
   "execution_count": 7,
   "metadata": {},
   "outputs": [
    {
     "data": {
      "text/plain": [
       "best_response\n",
       "None    1521\n",
       "A       1334\n",
       "B       1180\n",
       "Name: count, dtype: int64"
      ]
     },
     "execution_count": 7,
     "metadata": {},
     "output_type": "execute_result"
    }
   ],
   "source": [
    "df['best_response'].value_counts()"
   ]
  },
  {
   "cell_type": "code",
   "execution_count": 20,
   "metadata": {},
   "outputs": [
    {
     "data": {
      "text/html": [
       "<div>\n",
       "<style scoped>\n",
       "    .dataframe tbody tr th:only-of-type {\n",
       "        vertical-align: middle;\n",
       "    }\n",
       "\n",
       "    .dataframe tbody tr th {\n",
       "        vertical-align: top;\n",
       "    }\n",
       "\n",
       "    .dataframe thead th {\n",
       "        text-align: right;\n",
       "    }\n",
       "</style>\n",
       "<table border=\"1\" class=\"dataframe\">\n",
       "  <thead>\n",
       "    <tr style=\"text-align: right;\">\n",
       "      <th></th>\n",
       "      <th>question</th>\n",
       "      <th>answer</th>\n",
       "      <th>player_a</th>\n",
       "      <th>player_b</th>\n",
       "      <th>whois_player_a</th>\n",
       "      <th>whois_player_b</th>\n",
       "      <th>prompt</th>\n",
       "      <th>best_response</th>\n",
       "    </tr>\n",
       "  </thead>\n",
       "  <tbody>\n",
       "    <tr>\n",
       "      <th>2</th>\n",
       "      <td>What kind of support can I expect from the Haz...</td>\n",
       "      <td>At the Hazen Center for Integrated Care, you'l...</td>\n",
       "      <td>Our hazen center for integrated care is dedica...</td>\n",
       "      <td>At the Hazen Center for Integrated Care, we un...</td>\n",
       "      <td>Scratch</td>\n",
       "      <td>Finetuned</td>\n",
       "      <td>Question: What kind of support can I expect fr...</td>\n",
       "      <td>B</td>\n",
       "    </tr>\n",
       "    <tr>\n",
       "      <th>3</th>\n",
       "      <td>Are there any prerequisites or requirements to...</td>\n",
       "      <td>To ensure the best possible experience, there ...</td>\n",
       "      <td>Yes, to be eligible for the nursing program, y...</td>\n",
       "      <td>To participate in the Nursing study abroad pro...</td>\n",
       "      <td>Scratch</td>\n",
       "      <td>RAG</td>\n",
       "      <td>Question: Are there any prerequisites or requi...</td>\n",
       "      <td>A</td>\n",
       "    </tr>\n",
       "    <tr>\n",
       "      <th>4</th>\n",
       "      <td>What essential items should I bring to every c...</td>\n",
       "      <td>Being prepared is key! Always carry your class...</td>\n",
       "      <td>You should bring a copy of the basic emergency...</td>\n",
       "      <td>To prepare for an emergency, it's important to...</td>\n",
       "      <td>RAG</td>\n",
       "      <td>Finetuned</td>\n",
       "      <td>Question: What essential items should I bring ...</td>\n",
       "      <td>A</td>\n",
       "    </tr>\n",
       "    <tr>\n",
       "      <th>5</th>\n",
       "      <td>How can I learn more about SUNY Brockport's co...</td>\n",
       "      <td>We'd love to share more about our exciting com...</td>\n",
       "      <td>Wed love to share more about our community wit...</td>\n",
       "      <td>To learn more about our Community Justice Prog...</td>\n",
       "      <td>Scratch</td>\n",
       "      <td>Finetuned</td>\n",
       "      <td>Question: How can I learn more about SUNY Broc...</td>\n",
       "      <td>A</td>\n",
       "    </tr>\n",
       "    <tr>\n",
       "      <th>6</th>\n",
       "      <td>What should I do if I want to serve alcohol at...</td>\n",
       "      <td>For events involving alcohol, please contact t...</td>\n",
       "      <td>If you plan on serving alcoholic beverages at ...</td>\n",
       "      <td>If you suspect that [UNK] is [UNK], its import...</td>\n",
       "      <td>Finetuned</td>\n",
       "      <td>Scratch</td>\n",
       "      <td>Question: What should I do if I want to serve ...</td>\n",
       "      <td>A</td>\n",
       "    </tr>\n",
       "    <tr>\n",
       "      <th>...</th>\n",
       "      <td>...</td>\n",
       "      <td>...</td>\n",
       "      <td>...</td>\n",
       "      <td>...</td>\n",
       "      <td>...</td>\n",
       "      <td>...</td>\n",
       "      <td>...</td>\n",
       "      <td>...</td>\n",
       "    </tr>\n",
       "    <tr>\n",
       "      <th>4030</th>\n",
       "      <td>What services does SUNY Brockport offer to hel...</td>\n",
       "      <td>At SUNY Brockport, we're dedicated to ensuring...</td>\n",
       "      <td>SUNY Brockport offers various services to help...</td>\n",
       "      <td>SUNY Brockport is committed to supporting stud...</td>\n",
       "      <td>RAG</td>\n",
       "      <td>Scratch</td>\n",
       "      <td>Question: What services does SUNY Brockport of...</td>\n",
       "      <td>A</td>\n",
       "    </tr>\n",
       "    <tr>\n",
       "      <th>4031</th>\n",
       "      <td>How do I apply for the SUNY Washington Program...</td>\n",
       "      <td>You can apply for the SUNY Washington Program ...</td>\n",
       "      <td>Applying for the SUNY washington program is st...</td>\n",
       "      <td>Applications for the SUNY Washington Program c...</td>\n",
       "      <td>Scratch</td>\n",
       "      <td>Finetuned</td>\n",
       "      <td>Question: How do I apply for the SUNY Washingt...</td>\n",
       "      <td>B</td>\n",
       "    </tr>\n",
       "    <tr>\n",
       "      <th>4032</th>\n",
       "      <td>How can I register my student organization wit...</td>\n",
       "      <td>That's a great step towards making your mark o...</td>\n",
       "      <td>You can register your student organization wit...</td>\n",
       "      <td>You can register with your student organizatio...</td>\n",
       "      <td>RAG</td>\n",
       "      <td>Scratch</td>\n",
       "      <td>Question: How can I register my student organi...</td>\n",
       "      <td>B</td>\n",
       "    </tr>\n",
       "    <tr>\n",
       "      <th>4033</th>\n",
       "      <td>How can I find out about upcoming events at SU...</td>\n",
       "      <td>You can discover all the exciting events happe...</td>\n",
       "      <td>You can find out about upcoming events at SUNY...</td>\n",
       "      <td>Staying informed is key! You can find all the ...</td>\n",
       "      <td>RAG</td>\n",
       "      <td>Scratch</td>\n",
       "      <td>Question: How can I find out about upcoming ev...</td>\n",
       "      <td>B</td>\n",
       "    </tr>\n",
       "    <tr>\n",
       "      <th>4034</th>\n",
       "      <td>What values guide the Office of Institutional ...</td>\n",
       "      <td>The values that guide our Office of Institutio...</td>\n",
       "      <td>The Office of Institutional Research and Analy...</td>\n",
       "      <td>The Office of Institutional Research and Analy...</td>\n",
       "      <td>RAG</td>\n",
       "      <td>Finetuned</td>\n",
       "      <td>Question: What values guide the Office of Inst...</td>\n",
       "      <td>B</td>\n",
       "    </tr>\n",
       "  </tbody>\n",
       "</table>\n",
       "<p>2514 rows × 8 columns</p>\n",
       "</div>"
      ],
      "text/plain": [
       "                                               question  \\\n",
       "2     What kind of support can I expect from the Haz...   \n",
       "3     Are there any prerequisites or requirements to...   \n",
       "4     What essential items should I bring to every c...   \n",
       "5     How can I learn more about SUNY Brockport's co...   \n",
       "6     What should I do if I want to serve alcohol at...   \n",
       "...                                                 ...   \n",
       "4030  What services does SUNY Brockport offer to hel...   \n",
       "4031  How do I apply for the SUNY Washington Program...   \n",
       "4032  How can I register my student organization wit...   \n",
       "4033  How can I find out about upcoming events at SU...   \n",
       "4034  What values guide the Office of Institutional ...   \n",
       "\n",
       "                                                 answer  \\\n",
       "2     At the Hazen Center for Integrated Care, you'l...   \n",
       "3     To ensure the best possible experience, there ...   \n",
       "4     Being prepared is key! Always carry your class...   \n",
       "5     We'd love to share more about our exciting com...   \n",
       "6     For events involving alcohol, please contact t...   \n",
       "...                                                 ...   \n",
       "4030  At SUNY Brockport, we're dedicated to ensuring...   \n",
       "4031  You can apply for the SUNY Washington Program ...   \n",
       "4032  That's a great step towards making your mark o...   \n",
       "4033  You can discover all the exciting events happe...   \n",
       "4034  The values that guide our Office of Institutio...   \n",
       "\n",
       "                                               player_a  \\\n",
       "2     Our hazen center for integrated care is dedica...   \n",
       "3     Yes, to be eligible for the nursing program, y...   \n",
       "4     You should bring a copy of the basic emergency...   \n",
       "5     Wed love to share more about our community wit...   \n",
       "6     If you plan on serving alcoholic beverages at ...   \n",
       "...                                                 ...   \n",
       "4030  SUNY Brockport offers various services to help...   \n",
       "4031  Applying for the SUNY washington program is st...   \n",
       "4032  You can register your student organization wit...   \n",
       "4033  You can find out about upcoming events at SUNY...   \n",
       "4034  The Office of Institutional Research and Analy...   \n",
       "\n",
       "                                               player_b whois_player_a  \\\n",
       "2     At the Hazen Center for Integrated Care, we un...        Scratch   \n",
       "3     To participate in the Nursing study abroad pro...        Scratch   \n",
       "4     To prepare for an emergency, it's important to...            RAG   \n",
       "5     To learn more about our Community Justice Prog...        Scratch   \n",
       "6     If you suspect that [UNK] is [UNK], its import...      Finetuned   \n",
       "...                                                 ...            ...   \n",
       "4030  SUNY Brockport is committed to supporting stud...            RAG   \n",
       "4031  Applications for the SUNY Washington Program c...        Scratch   \n",
       "4032  You can register with your student organizatio...            RAG   \n",
       "4033  Staying informed is key! You can find all the ...            RAG   \n",
       "4034  The Office of Institutional Research and Analy...            RAG   \n",
       "\n",
       "     whois_player_b                                             prompt  \\\n",
       "2         Finetuned  Question: What kind of support can I expect fr...   \n",
       "3               RAG  Question: Are there any prerequisites or requi...   \n",
       "4         Finetuned  Question: What essential items should I bring ...   \n",
       "5         Finetuned  Question: How can I learn more about SUNY Broc...   \n",
       "6           Scratch  Question: What should I do if I want to serve ...   \n",
       "...             ...                                                ...   \n",
       "4030        Scratch  Question: What services does SUNY Brockport of...   \n",
       "4031      Finetuned  Question: How do I apply for the SUNY Washingt...   \n",
       "4032        Scratch  Question: How can I register my student organi...   \n",
       "4033        Scratch  Question: How can I find out about upcoming ev...   \n",
       "4034      Finetuned  Question: What values guide the Office of Inst...   \n",
       "\n",
       "     best_response  \n",
       "2                B  \n",
       "3                A  \n",
       "4                A  \n",
       "5                A  \n",
       "6                A  \n",
       "...            ...  \n",
       "4030             A  \n",
       "4031             B  \n",
       "4032             B  \n",
       "4033             B  \n",
       "4034             B  \n",
       "\n",
       "[2514 rows x 8 columns]"
      ]
     },
     "execution_count": 20,
     "metadata": {},
     "output_type": "execute_result"
    }
   ],
   "source": [
    "df_best = df[df['best_response'].isin(['A', 'B'])]\n",
    "df_best"
   ]
  },
  {
   "cell_type": "code",
   "execution_count": 32,
   "metadata": {},
   "outputs": [
    {
     "data": {
      "text/plain": [
       "whois_player_a\n",
       "RAG          648\n",
       "Finetuned    636\n",
       "Scratch       50\n",
       "Name: count, dtype: int64"
      ]
     },
     "execution_count": 32,
     "metadata": {},
     "output_type": "execute_result"
    }
   ],
   "source": [
    "a_responses = df[df['best_response'] == 'A']\n",
    "a_responses['whois_player_a'].value_counts()"
   ]
  },
  {
   "cell_type": "code",
   "execution_count": 33,
   "metadata": {},
   "outputs": [
    {
     "data": {
      "text/plain": [
       "whois_player_b\n",
       "RAG          609\n",
       "Finetuned    515\n",
       "Scratch       56\n",
       "Name: count, dtype: int64"
      ]
     },
     "execution_count": 33,
     "metadata": {},
     "output_type": "execute_result"
    }
   ],
   "source": [
    "b_responses = df[df['best_response'] == 'B']\n",
    "b_responses['whois_player_b'].value_counts()"
   ]
  },
  {
   "cell_type": "code",
   "execution_count": 36,
   "metadata": {},
   "outputs": [
    {
     "name": "stderr",
     "output_type": "stream",
     "text": [
      "/tmp/ipykernel_90628/543318591.py:2: SettingWithCopyWarning: \n",
      "A value is trying to be set on a copy of a slice from a DataFrame.\n",
      "Try using .loc[row_indexer,col_indexer] = value instead\n",
      "\n",
      "See the caveats in the documentation: https://pandas.pydata.org/pandas-docs/stable/user_guide/indexing.html#returning-a-view-versus-a-copy\n",
      "  none_responses['players'] = none_responses['whois_player_a'] + \" vs \" + none_responses['whois_player_b']\n"
     ]
    },
    {
     "data": {
      "text/plain": [
       "players\n",
       "Scratch vs Finetuned    337\n",
       "RAG vs Finetuned        292\n",
       "Finetuned vs RAG        262\n",
       "Scratch vs RAG          227\n",
       "Finetuned vs Scratch    213\n",
       "RAG vs Scratch          190\n",
       "Name: count, dtype: int64"
      ]
     },
     "execution_count": 36,
     "metadata": {},
     "output_type": "execute_result"
    }
   ],
   "source": [
    "none_responses = df[df['best_response'] == 'None']\n",
    "none_responses['players'] = none_responses['whois_player_a'] + \" vs \" + none_responses['whois_player_b']\n",
    "none_responses['players'].value_counts()"
   ]
  },
  {
   "cell_type": "code",
   "execution_count": 37,
   "metadata": {},
   "outputs": [
    {
     "name": "stdout",
     "output_type": "stream",
     "text": [
      "Scratch vs Finetuned    550\n",
      "RAG vs Scratch          417\n",
      "RAG vs Finetuned        505\n"
     ]
    }
   ],
   "source": [
    "print(f\"Scratch vs Finetuned    {337+213}\")\n",
    "print(f\"RAG vs Scratch          {227+190}\")\n",
    "print(f\"RAG vs Finetuned        {292+213}\")"
   ]
  }
 ],
 "metadata": {
  "kernelspec": {
   "display_name": "thesis",
   "language": "python",
   "name": "python3"
  },
  "language_info": {
   "codemirror_mode": {
    "name": "ipython",
    "version": 3
   },
   "file_extension": ".py",
   "mimetype": "text/x-python",
   "name": "python",
   "nbconvert_exporter": "python",
   "pygments_lexer": "ipython3",
   "version": "3.11.4"
  }
 },
 "nbformat": 4,
 "nbformat_minor": 2
}
