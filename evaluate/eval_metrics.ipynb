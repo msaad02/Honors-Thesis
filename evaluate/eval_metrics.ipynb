{
 "cells": [
  {
   "cell_type": "markdown",
   "metadata": {},
   "source": [
    "# Evaluating the Models\n",
    "\n",
    "Using the evaluation.csv file created in `./evaluate.py` we will evaluate the models and compare their performance. This will be done in the following stages:\n",
    "\n",
    "1. Exploratory analysis of the evaluation results.\n",
    "2. Comparison of the models specifically using their evaluation metrics.\n",
    "3. Verifying the results by manually inspecting the predictions.\n",
    "4. Visualizing the predictions to understand the models' performance.\n",
    "5. Conclusion and final thoughts."
   ]
  },
  {
   "cell_type": "code",
   "execution_count": null,
   "metadata": {},
   "outputs": [],
   "source": []
  }
 ],
 "metadata": {
  "kernelspec": {
   "display_name": "thesis",
   "language": "python",
   "name": "python3"
  },
  "language_info": {
   "name": "python",
   "version": "3.11.4"
  }
 },
 "nbformat": 4,
 "nbformat_minor": 2
}
