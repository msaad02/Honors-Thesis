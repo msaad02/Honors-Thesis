{
 "cells": [
  {
   "cell_type": "markdown",
   "metadata": {},
   "source": [
    "# Evaluating the Models\n",
    "\n",
    "Using the evaluation.csv file created in `./head2head_eval.py` we will evaluate the models and compare their performance. This will be done in the following stages:\n",
    "\n",
    "1. Exploratory analysis of the evaluation results.\n",
    "2. Verifying the results by manually inspecting the predictions.\n",
    "3. Comparison of the models specifically using their evaluation metrics.\n",
    "4. Visualizing the predictions to understand the models' performance.\n",
    "5. Conclusion and final thoughts."
   ]
  },
  {
   "cell_type": "code",
   "execution_count": 11,
   "metadata": {},
   "outputs": [
    {
     "data": {
      "text/html": [
       "<div>\n",
       "<style scoped>\n",
       "    .dataframe tbody tr th:only-of-type {\n",
       "        vertical-align: middle;\n",
       "    }\n",
       "\n",
       "    .dataframe tbody tr th {\n",
       "        vertical-align: top;\n",
       "    }\n",
       "\n",
       "    .dataframe thead th {\n",
       "        text-align: right;\n",
       "    }\n",
       "</style>\n",
       "<table border=\"1\" class=\"dataframe\">\n",
       "  <thead>\n",
       "    <tr style=\"text-align: right;\">\n",
       "      <th></th>\n",
       "      <th>question</th>\n",
       "      <th>answer</th>\n",
       "      <th>player_a</th>\n",
       "      <th>player_b</th>\n",
       "      <th>whois_player_a</th>\n",
       "      <th>whois_player_b</th>\n",
       "      <th>prompt</th>\n",
       "      <th>best_response</th>\n",
       "    </tr>\n",
       "  </thead>\n",
       "  <tbody>\n",
       "    <tr>\n",
       "      <th>0</th>\n",
       "      <td>What courses will I take in my first year as a...</td>\n",
       "      <td>In your first year, you'll embark on an exciti...</td>\n",
       "      <td>Welcome to SUNY Brockport! In your first year,...</td>\n",
       "      <td>In your first year as a Physics Adolescence In...</td>\n",
       "      <td>Finetuned</td>\n",
       "      <td>RAG</td>\n",
       "      <td>Question: What courses will I take in my first...</td>\n",
       "      <td>None</td>\n",
       "    </tr>\n",
       "    <tr>\n",
       "      <th>1</th>\n",
       "      <td>What are the rules for cannabis use on SUNY Br...</td>\n",
       "      <td>At SUNY Brockport, the use or possession of ca...</td>\n",
       "      <td>We value your creativity! We offer a variety o...</td>\n",
       "      <td>I'm sorry, I don't know.</td>\n",
       "      <td>Scratch</td>\n",
       "      <td>RAG</td>\n",
       "      <td>Question: What are the rules for cannabis use ...</td>\n",
       "      <td>None</td>\n",
       "    </tr>\n",
       "  </tbody>\n",
       "</table>\n",
       "</div>"
      ],
      "text/plain": [
       "                                            question  \\\n",
       "0  What courses will I take in my first year as a...   \n",
       "1  What are the rules for cannabis use on SUNY Br...   \n",
       "\n",
       "                                              answer  \\\n",
       "0  In your first year, you'll embark on an exciti...   \n",
       "1  At SUNY Brockport, the use or possession of ca...   \n",
       "\n",
       "                                            player_a  \\\n",
       "0  Welcome to SUNY Brockport! In your first year,...   \n",
       "1  We value your creativity! We offer a variety o...   \n",
       "\n",
       "                                            player_b whois_player_a  \\\n",
       "0  In your first year as a Physics Adolescence In...      Finetuned   \n",
       "1                           I'm sorry, I don't know.        Scratch   \n",
       "\n",
       "  whois_player_b                                             prompt  \\\n",
       "0            RAG  Question: What courses will I take in my first...   \n",
       "1            RAG  Question: What are the rules for cannabis use ...   \n",
       "\n",
       "  best_response  \n",
       "0          None  \n",
       "1          None  "
      ]
     },
     "execution_count": 11,
     "metadata": {},
     "output_type": "execute_result"
    }
   ],
   "source": [
    "import pandas as pd\n",
    "\n",
    "df = pd.read_csv('data/evaluation.csv', na_filter=False)\n",
    "df.head(2)"
   ]
  },
  {
   "cell_type": "code",
   "execution_count": 13,
   "metadata": {},
   "outputs": [
    {
     "data": {
      "text/plain": [
       "best_response\n",
       "None    1521\n",
       "A       1334\n",
       "B       1180\n",
       "Name: count, dtype: int64"
      ]
     },
     "execution_count": 13,
     "metadata": {},
     "output_type": "execute_result"
    }
   ],
   "source": [
    "df['best_response'].value_counts()"
   ]
  },
  {
   "cell_type": "code",
   "execution_count": 26,
   "metadata": {},
   "outputs": [
    {
     "name": "stdout",
     "output_type": "stream",
     "text": [
      "Question: What kind of support can I expect from the Hazen Center for Integrated Care if I'm dealing with a stressful situation?\n",
      "Ground Truth: At the Hazen Center for Integrated Care, you'll find a supportive and confidential environment where counselors and health care professionals are ready to listen and help. They offer a range of services to assist you through stressful times, and any information you share will be kept confidential, with the exception of situations involving harm to self or others. Don't hesitate to reach out at (585) 395-2414 for the support you need.\n",
      "Player A: Our hazen center for integrated care is dedicated to supporting students with disabilities. They offer a range of support services, including [UNK] assistance with [UNK], [UNK] [UNK], [UNK] [UNK], and [UNK] [UNK] [UNK], [UNK] [UNK] [UNK], and [UNK] [UNK] [UNK]. Our dedicated staff will work with you to ensure your wellbeing is secure and effective care.\n",
      "Player B: At the Hazen Center for Integrated Care, we understand that life can be challenging at times. Our team is here to provide support, guidance, and resources tailored to each individual's unique needs. Whether it's a personal crisis or a health issue affecting your well-being, our center offers a comprehensive approach to addressing these concerns. Don't hesitate to reach out – we're committed to helping you navigate through difficult situations.\n"
     ]
    }
   ],
   "source": [
    "df_best = df[df['best_response'].isin(['A', 'B'])].reset_index(drop=True)\n",
    "print(df_best.loc[0, 'prompt'])\n",
    "\n",
    "# Pretty clearly in favor of B"
   ]
  },
  {
   "cell_type": "code",
   "execution_count": 38,
   "metadata": {},
   "outputs": [
    {
     "name": "stdout",
     "output_type": "stream",
     "text": [
      "Question: Are there any prerequisites or requirements to participate in the Nursing study abroad program?\n",
      "Ground Truth: To ensure the best possible experience, there may be certain prerequisites or requirements for the Nursing study abroad program. These could include academic standing, language proficiency, or specific coursework completion. We recommend reaching out to the Nursing department for the most up-to-date information on eligibility.\n",
      "Player A: Yes, to be eligible for the nursing program, you must be a junior with a senior major with a minimum of c or higher in nursing major courses. This is a fantastic opportunity to gain a global perspective and experience in a nursing field!\n",
      "Player B: To participate in the Nursing study abroad program, you need to have completed the prerequisites with a minimum grade of C and meet the criteria listed for prospective nursing students.\n",
      "\n",
      "GPT-4 picked Player A\n"
     ]
    }
   ],
   "source": [
    "idx=1\n",
    "print(df_best.loc[idx, 'prompt'])\n",
    "print(\"\\nGPT-4 picked Player\", df_best.loc[idx, 'best_response'])\n",
    "\n",
    "# Slightly in favor of A, just on enthuasiasm. But its less significant than the first example."
   ]
  },
  {
   "cell_type": "code",
   "execution_count": 39,
   "metadata": {},
   "outputs": [
    {
     "name": "stdout",
     "output_type": "stream",
     "text": [
      "Question: What essential items should I bring to every class to ensure I'm prepared for an emergency?\n",
      "Ground Truth: Being prepared is key! Always carry your class roster, a cell phone, and a list of important telephone numbers, such as department leadership or lab managers. These items will help you manage any situation more effectively.\n",
      "Player A: You should bring a copy of the basic emergency procedures, a list of emergency contacts, and any necessary medical information to ensure you are prepared for an emergency in every class. It's always better to be prepared!\n",
      "Player B: To prepare for an emergency, it's important to have essential items with you at all times. This includes a water bottle, a first aid kit, a flashlight or headlamp, a whistle, a personal ID card or other identification, a cell phone charger, and an extra battery or power bank. Remember, always carry these items with you in case of an unexpected situation!\n",
      "\n",
      "GPT-4 picked Player A\n"
     ]
    }
   ],
   "source": [
    "idx=2\n",
    "print(df_best.loc[idx, 'prompt'])\n",
    "print(\"\\nGPT-4 picked Player\", df_best.loc[idx, 'best_response'])\n",
    "\n",
    "# I prefer A, player B telling me to carry a flashlight or headlamp everywhere is a bit much lol."
   ]
  },
  {
   "cell_type": "code",
   "execution_count": 41,
   "metadata": {},
   "outputs": [
    {
     "name": "stdout",
     "output_type": "stream",
     "text": [
      "Question: How can I learn more about SUNY Brockport's community justice program or schedule a visit?\n",
      "Ground Truth: We'd love to share more about our exciting community justice program with you! To get personalized information about this area of interest, simply request more info on our website. And if you're ready to experience SUNY Brockport firsthand, we offer tours throughout the year. February and March are particularly busy, so be sure to schedule your visit soon. We can't wait to welcome you to our campus and show you all that our program has to offer!\n",
      "Player A: Wed love to share more about our community with you! You can request personalized information about your area of interest by visiting our website and filling out a request form. We offer tours throughout the year, with february and march being particularly popular. Schedule a visit to our campus firsthand, with february and march being particularly popular. We offer tours throughout the year, with february and march being particularly popular. Schedule a visit today page to see our campus firsthand!\n",
      "Player B: To learn more about our Community Justice Program or to schedule a visit, please contact us at (585) 395-2176. We would be delighted to provide you with more information on how to get involved!\n",
      "\n",
      "GPT-4 picked Player A\n"
     ]
    }
   ],
   "source": [
    "idx=3\n",
    "print(df_best.loc[idx, 'prompt'])\n",
    "print(\"\\nGPT-4 picked Player\", df_best.loc[idx, 'best_response'])\n",
    "\n",
    "# Player A nearly aced it, I suspect this is the scratch model because it repeated itself many times..."
   ]
  },
  {
   "cell_type": "code",
   "execution_count": 42,
   "metadata": {},
   "outputs": [
    {
     "name": "stdout",
     "output_type": "stream",
     "text": [
      "Question: What should I do if I want to serve alcohol at my event?\n",
      "Ground Truth: For events involving alcohol, please contact the Events Coordinator directly. We have specific guidelines to ensure your event is both enjoyable and compliant with our policies.\n",
      "Player A: If you plan on serving alcoholic beverages at your event, you must have an Alcohol Service Permit (ASP). You can apply for this permit through the Office of Campus Activities by the Monday before the event. Make sure to follow all guidelines and rules related to alcohol service to ensure a smooth and compliant experience.\n",
      "Player B: If you suspect that [UNK] is [UNK], its important to [UNK] the [UNK] to avoid [UNK] [UNK] [UNK] [UNK] [UNK] [UNK] [UNK]. [UNK] [UNK] [UNK] [UNK], [UNK] [UNK] [UNK], or [UNK] [UNK] [UNK] [UNK] [UNK] [UNK] [UNK] [UNK] [UNK] [UNK] [UNK] [UNK] [UNK] [UNK] [UNK] [UNK] [UNK] [UNK] [UNK] [UNK] [UNK] [UNK] [UNK] [UNK] [UNK] [UNK] [UNK] [UNK] [UNK] [UNK] [UNK] [UNK] [UNK] [UNK] [UNK] [UNK] [UNK] [UNK] [UNK] [UNK] [UNK] [UNK] [UNK] [UNK] [UNK] [UNK] [UNK] [UNK] [UNK] [UNK] [UNK] [UNK] [UNK] [UNK] [UNK] [UNK] [UNK] [UNK] [UNK] [UNK] [UNK] [UNK] [UNK] [UNK] [UNK] [UNK] [UNK] [UNK] [UNK] [UNK] [UNK] [UNK] [UNK] [UNK] [UNK] [UNK] [UNK] [UNK] [UNK] [UNK] [UNK] [UNK] [UNK] [UNK] [UNK] [UNK] [UNK] [UNK] [UNK] [UNK] [UNK] [UNK] [UNK] [UNK] [UNK] [UNK] [UNK] [UNK] [UNK] [UNK] [UNK] [UNK] [UNK] [UNK] [UNK] [UNK] [UNK] [UNK] [UNK] [UNK] [UNK] [UNK] [UNK] [UNK] [UNK] [UNK] [UNK] [UNK] [UNK] [UNK] [UNK] [UNK] [UNK] [UNK] [UNK] [UNK] [UNK] [UNK] [UNK] [UNK] [UNK] [UNK] [UNK] [UNK] [UNK] [UNK] [UNK] [UNK] [UNK] [UNK] [UNK] [UNK] [UNK] [UNK] [UNK] [UNK] [UNK] [UNK] [UNK] [UNK] [UNK] [UNK] [UNK] [UNK] [UNK] [UNK] [UNK] [UNK] [UNK] [UNK] [UNK] [UNK] [UNK] [UNK] [UNK] [UNK] [UNK] [UNK] [UNK] [UNK] [UNK] [UNK] [UNK] [UNK] [UNK] [UNK] [UNK] [UNK] [UNK] [UNK] [UNK] [UNK] [UNK] [UNK] [UNK] [UNK] [UNK] [UNK] [UNK] [UNK] [UNK] [UNK] [UNK] [UNK] [UNK] [UNK] [UNK] [UNK] [UNK] [UNK] [UNK] [UNK] [UNK] [UNK] [UNK] [UNK] [UNK] [UNK] [UNK] [UNK] [UNK] [UNK] [UNK] [UNK] [UNK] [UNK] [UNK] [UNK] [UNK] [UNK] [UNK] [UNK]\n",
      "\n",
      "GPT-4 picked Player A\n"
     ]
    }
   ],
   "source": [
    "idx=4\n",
    "print(df_best.loc[idx, 'prompt'])\n",
    "print(\"\\nGPT-4 picked Player\", df_best.loc[idx, 'best_response'])\n",
    "\n",
    "# Player A nearly aced it, I suspect this is the scratch model because it repeated itself many times..."
   ]
  },
  {
   "cell_type": "markdown",
   "metadata": {},
   "source": [
    "# Look for GPT-4 bias\n",
    "\n",
    "Specifically I am interested if GPT-4 had bias regarding the order of the players. I have seen in other papers doing similar strategies that GPT-4 prefers the first response (QLoRA paper specifically highlighted this), is this the case here?"
   ]
  },
  {
   "cell_type": "code",
   "execution_count": 43,
   "metadata": {},
   "outputs": [
    {
     "data": {
      "text/plain": [
       "whois_player_a\n",
       "RAG          648\n",
       "Finetuned    636\n",
       "Scratch       50\n",
       "Name: count, dtype: int64"
      ]
     },
     "execution_count": 43,
     "metadata": {},
     "output_type": "execute_result"
    }
   ],
   "source": [
    "a_responses = df[df['best_response'] == 'A']\n",
    "a_responses['whois_player_a'].value_counts()"
   ]
  },
  {
   "cell_type": "code",
   "execution_count": 51,
   "metadata": {},
   "outputs": [
    {
     "data": {
      "text/plain": [
       "whois_player_b\n",
       "Scratch      870\n",
       "RAG          247\n",
       "Finetuned    217\n",
       "Name: count, dtype: int64"
      ]
     },
     "execution_count": 51,
     "metadata": {},
     "output_type": "execute_result"
    }
   ],
   "source": [
    "a_responses['whois_player_b'].value_counts()"
   ]
  },
  {
   "cell_type": "code",
   "execution_count": 44,
   "metadata": {},
   "outputs": [
    {
     "data": {
      "text/plain": [
       "whois_player_b\n",
       "RAG          609\n",
       "Finetuned    515\n",
       "Scratch       56\n",
       "Name: count, dtype: int64"
      ]
     },
     "execution_count": 44,
     "metadata": {},
     "output_type": "execute_result"
    }
   ],
   "source": [
    "b_responses = df[df['best_response'] == 'B']\n",
    "b_responses['whois_player_b'].value_counts()"
   ]
  },
  {
   "cell_type": "code",
   "execution_count": 52,
   "metadata": {},
   "outputs": [
    {
     "data": {
      "text/plain": [
       "whois_player_a\n",
       "Scratch      747\n",
       "Finetuned    218\n",
       "RAG          215\n",
       "Name: count, dtype: int64"
      ]
     },
     "execution_count": 52,
     "metadata": {},
     "output_type": "execute_result"
    }
   ],
   "source": [
    "b_responses['whois_player_a'].value_counts()"
   ]
  },
  {
   "cell_type": "markdown",
   "metadata": {},
   "source": [
    "It is pretty clear the scratch model is typically losing."
   ]
  },
  {
   "cell_type": "code",
   "execution_count": 50,
   "metadata": {},
   "outputs": [
    {
     "name": "stdout",
     "output_type": "stream",
     "text": [
      "Scratch vs Finetuned    550\n",
      "RAG vs Scratch          417\n",
      "RAG vs Finetuned        505\n"
     ]
    }
   ],
   "source": [
    "none_responses = df[df['best_response'] == 'None']\n",
    "# print((none_responses['whois_player_a'] + \" vs \" + none_responses['whois_player_b']).value_counts())\n",
    "\n",
    "# Combined them from above to see total counts of \"None\" responses\n",
    "print(f\"Scratch vs Finetuned    {337+213}\")\n",
    "print(f\"RAG vs Scratch          {227+190}\")\n",
    "print(f\"RAG vs Finetuned        {292+213}\")"
   ]
  },
  {
   "cell_type": "code",
   "execution_count": null,
   "metadata": {},
   "outputs": [],
   "source": []
  }
 ],
 "metadata": {
  "kernelspec": {
   "display_name": "thesis",
   "language": "python",
   "name": "python3"
  },
  "language_info": {
   "codemirror_mode": {
    "name": "ipython",
    "version": 3
   },
   "file_extension": ".py",
   "mimetype": "text/x-python",
   "name": "python",
   "nbconvert_exporter": "python",
   "pygments_lexer": "ipython3",
   "version": "3.11.4"
  }
 },
 "nbformat": 4,
 "nbformat_minor": 2
}
