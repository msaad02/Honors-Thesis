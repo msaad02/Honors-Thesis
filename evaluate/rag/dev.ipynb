{
 "cells": [
  {
   "cell_type": "code",
   "execution_count": 46,
   "metadata": {},
   "outputs": [],
   "source": [
    "import pandas as pd\n",
    "import ast\n",
    "\n",
    "df = pd.read_csv(\"../data/rag_evaluation_comparison.csv\", na_filter=False)"
   ]
  },
  {
   "cell_type": "code",
   "execution_count": 47,
   "metadata": {},
   "outputs": [
    {
     "data": {
      "text/plain": [
       "best_response\n",
       "None    1105\n",
       "B        649\n",
       "A        591\n",
       "Name: count, dtype: int64"
      ]
     },
     "execution_count": 47,
     "metadata": {},
     "output_type": "execute_result"
    }
   ],
   "source": [
    "df['best_response'].value_counts()"
   ]
  },
  {
   "cell_type": "code",
   "execution_count": 48,
   "metadata": {},
   "outputs": [
    {
     "data": {
      "text/plain": [
       "best_response\n",
       "None    520\n",
       "B       344\n",
       "A       336\n",
       "Name: count, dtype: int64"
      ]
     },
     "execution_count": 48,
     "metadata": {},
     "output_type": "execute_result"
    }
   ],
   "source": [
    "df2 = pd.read_csv(\"../data/rag_eval_v1/rag_evaluation_comparison.csv\", na_filter=False)\n",
    "df2['best_response'].value_counts()"
   ]
  },
  {
   "cell_type": "code",
   "execution_count": 49,
   "metadata": {},
   "outputs": [],
   "source": [
    "def best_config(row, option: str, best: bool = True):\n",
    "    \"\"\"\n",
    "    Determines the config for a given option for a each row.\n",
    "    \n",
    "    Parameters:\n",
    "    row: pd.Series\n",
    "        A row from a pandas DataFrame\n",
    "    option: str\n",
    "        The option to determine the best config for (search_type, n_results, ...)\n",
    "    best: bool\n",
    "        If True, returns the best config, otherwise the worst config\n",
    "    \"\"\"\n",
    "    player_A_config = ast.literal_eval(row['player_A_config'])\n",
    "    player_B_config = ast.literal_eval(row['player_B_config'])\n",
    "\n",
    "    assert(option in player_A_config.keys())\n",
    "\n",
    "    best_config = row['best_response']\n",
    "\n",
    "    if best_config == 'A':\n",
    "        if best:\n",
    "            return player_A_config[option]\n",
    "        return player_B_config[option]\n",
    "    elif best_config == 'B':\n",
    "        if best:\n",
    "            return player_B_config[option]\n",
    "        return player_A_config[option]\n",
    "    else:\n",
    "        return None"
   ]
  },
  {
   "cell_type": "code",
   "execution_count": 50,
   "metadata": {},
   "outputs": [
    {
     "name": "stdout",
     "output_type": "stream",
     "text": [
      "search_type\n",
      "typesense          520\n",
      "semantic           379\n",
      "semantic_rerank    341\n",
      "Name: count, dtype: int64\n",
      "\n",
      "\n",
      "use_classifier\n",
      "False    656\n",
      "True     584\n",
      "Name: count, dtype: int64\n",
      "\n",
      "\n",
      "n_results\n",
      "5.0    263\n",
      "3.0    259\n",
      "1.0    248\n",
      "4.0    243\n",
      "2.0    227\n",
      "Name: count, dtype: int64\n",
      "\n",
      "\n",
      "model_kwargs\n",
      "{'temperature': 0.0}    320\n",
      "{'temperature': 0.1}    309\n",
      "{'temperature': 0.5}    306\n",
      "{'temperature': 0.8}    305\n",
      "Name: count, dtype: int64\n",
      "\n",
      "\n"
     ]
    }
   ],
   "source": [
    "for key in ast.literal_eval(df['player_A_config'][0]).keys():\n",
    "    print(key)\n",
    "    print(df.apply(lambda row: best_config(row, key), axis=1).value_counts())\n",
    "    print(\"\\n\")"
   ]
  },
  {
   "cell_type": "code",
   "execution_count": null,
   "metadata": {},
   "outputs": [],
   "source": [
    "379"
   ]
  },
  {
   "cell_type": "code",
   "execution_count": 38,
   "metadata": {},
   "outputs": [
    {
     "data": {
      "text/plain": [
       "typesense          250\n",
       "semantic           237\n",
       "semantic_rerank    193\n",
       "Name: count, dtype: int64"
      ]
     },
     "execution_count": 38,
     "metadata": {},
     "output_type": "execute_result"
    }
   ],
   "source": [
    "df.apply(lambda row: best_config(row, \"search_type\"), axis=1).value_counts()"
   ]
  },
  {
   "cell_type": "markdown",
   "metadata": {},
   "source": [
    "# Determine who is losing most"
   ]
  },
  {
   "cell_type": "code",
   "execution_count": 43,
   "metadata": {},
   "outputs": [
    {
     "data": {
      "text/html": [
       "<div>\n",
       "<style scoped>\n",
       "    .dataframe tbody tr th:only-of-type {\n",
       "        vertical-align: middle;\n",
       "    }\n",
       "\n",
       "    .dataframe tbody tr th {\n",
       "        vertical-align: top;\n",
       "    }\n",
       "\n",
       "    .dataframe thead th {\n",
       "        text-align: right;\n",
       "    }\n",
       "</style>\n",
       "<table border=\"1\" class=\"dataframe\">\n",
       "  <thead>\n",
       "    <tr style=\"text-align: right;\">\n",
       "      <th></th>\n",
       "      <th>best</th>\n",
       "      <th>worst</th>\n",
       "    </tr>\n",
       "  </thead>\n",
       "  <tbody>\n",
       "    <tr>\n",
       "      <th>1</th>\n",
       "      <td>typesense</td>\n",
       "      <td>semantic_rerank</td>\n",
       "    </tr>\n",
       "    <tr>\n",
       "      <th>2</th>\n",
       "      <td>typesense</td>\n",
       "      <td>semantic</td>\n",
       "    </tr>\n",
       "    <tr>\n",
       "      <th>5</th>\n",
       "      <td>typesense</td>\n",
       "      <td>semantic</td>\n",
       "    </tr>\n",
       "    <tr>\n",
       "      <th>6</th>\n",
       "      <td>semantic_rerank</td>\n",
       "      <td>typesense</td>\n",
       "    </tr>\n",
       "    <tr>\n",
       "      <th>8</th>\n",
       "      <td>semantic</td>\n",
       "      <td>typesense</td>\n",
       "    </tr>\n",
       "    <tr>\n",
       "      <th>...</th>\n",
       "      <td>...</td>\n",
       "      <td>...</td>\n",
       "    </tr>\n",
       "    <tr>\n",
       "      <th>1176</th>\n",
       "      <td>semantic_rerank</td>\n",
       "      <td>typesense</td>\n",
       "    </tr>\n",
       "    <tr>\n",
       "      <th>1177</th>\n",
       "      <td>semantic</td>\n",
       "      <td>semantic_rerank</td>\n",
       "    </tr>\n",
       "    <tr>\n",
       "      <th>1189</th>\n",
       "      <td>typesense</td>\n",
       "      <td>semantic_rerank</td>\n",
       "    </tr>\n",
       "    <tr>\n",
       "      <th>1192</th>\n",
       "      <td>typesense</td>\n",
       "      <td>semantic</td>\n",
       "    </tr>\n",
       "    <tr>\n",
       "      <th>1198</th>\n",
       "      <td>typesense</td>\n",
       "      <td>semantic</td>\n",
       "    </tr>\n",
       "  </tbody>\n",
       "</table>\n",
       "<p>468 rows × 2 columns</p>\n",
       "</div>"
      ],
      "text/plain": [
       "                 best            worst\n",
       "1           typesense  semantic_rerank\n",
       "2           typesense         semantic\n",
       "5           typesense         semantic\n",
       "6     semantic_rerank        typesense\n",
       "8            semantic        typesense\n",
       "...               ...              ...\n",
       "1176  semantic_rerank        typesense\n",
       "1177         semantic  semantic_rerank\n",
       "1189        typesense  semantic_rerank\n",
       "1192        typesense         semantic\n",
       "1198        typesense         semantic\n",
       "\n",
       "[468 rows x 2 columns]"
      ]
     },
     "execution_count": 43,
     "metadata": {},
     "output_type": "execute_result"
    }
   ],
   "source": [
    "df_compare = pd.DataFrame({\n",
    "    \"best\": df.apply(lambda row: best_config(row, \"search_type\", best=True), axis=1),\n",
    "    \"worst\": df.apply(lambda row: best_config(row, \"search_type\", best=False), axis=1)\n",
    "})\n",
    "df_compare.dropna(inplace=True)\n",
    "\n",
    "df_compare[df_compare['best'] != df_compare['worst']]"
   ]
  },
  {
   "cell_type": "code",
   "execution_count": 46,
   "metadata": {},
   "outputs": [
    {
     "data": {
      "text/plain": [
       "['How do I register for WinterSession courses at SUNY Brockport?',\n",
       " 'What career options are available to me with a degree in Parks & Recreation Management from SUNY Brockport?',\n",
       " 'What is the process for students to get replacement keys for residence halls?',\n",
       " 'Do I need to go to a particular place on campus to collect my certified mail and packages?',\n",
       " 'What is the best way for me to gain more information about the Athletic Administration (MS) program?',\n",
       " 'Can I expect mobile support for IT services at Brockport?',\n",
       " 'Who can I contact if I have questions about the financial aid acceptance process at Brockport?',\n",
       " 'What kind of support can I expect from my peer mentor?',\n",
       " 'Where can I locate additional details regarding the guidelines concerning radiation safety and dangerous substances?',\n",
       " 'Is there a deadline for transferring to SUNY Brockport after finishing my studies at GCC?']"
      ]
     },
     "execution_count": 46,
     "metadata": {},
     "output_type": "execute_result"
    }
   ],
   "source": [
    "df = pd.read_csv(\"../data/rag_eval_v1/rag_evaluation_data.csv\")\n",
    "df.head(10)['question'].to_list()"
   ]
  },
  {
   "cell_type": "code",
   "execution_count": 70,
   "metadata": {},
   "outputs": [
    {
     "data": {
      "text/plain": [
       "<generator object DataFrame.iterrows at 0x7f4a2d54a350>"
      ]
     },
     "execution_count": 70,
     "metadata": {},
     "output_type": "execute_result"
    }
   ],
   "source": [
    "df.iterrows()"
   ]
  },
  {
   "cell_type": "code",
   "execution_count": null,
   "metadata": {},
   "outputs": [],
   "source": []
  },
  {
   "cell_type": "code",
   "execution_count": null,
   "metadata": {},
   "outputs": [],
   "source": [
    "tqdm(enumerate(zip(df['question'], df['player_A_config'])))"
   ]
  },
  {
   "cell_type": "code",
   "execution_count": 47,
   "metadata": {},
   "outputs": [],
   "source": [
    "d = {3: 'Yes, you can collect your certified mail and packages from the mailroom on campus.', 1: 'With a degree in Parks & Recreation Management from SUNY Brockport, you can pursue careers such as park ranger, recreation coordinator, event planner, outdoor recreation manager, and leisure services director.', 2: 'To get replacement keys for residence halls at SUNY Brockport, students must report the loss to the office of Residential Life, where they may be required to pay applicable fees. Replacement keys must be approved by Residential Life administration and returned to the Resident Director.', 0: \"To register for WinterSession courses at SUNY Brockport, you can do so through the online registration system on the university's website. WinterSession courses are a great way to stay on track with your academic goals and make the most of your winter break. If you need any assistance with the registration process, feel free to reach out to the university's registrar's office for guidance.\", 4: 'The best way to gain more information about the Athletic Administration (MS) program at SUNY Brockport is to schedule an appointment with the academic department offering the program. They can provide you with detailed information about the program requirements, courses offered, and any specific admission criteria. Walk-ins are welcome during business hours, but appointments are suggested for a more personalized experience.', 5: 'Yes, you can expect mobile support for IT services at SUNY Brockport. Our university is committed to providing convenient and accessible technology services to support our students, faculty, and staff in their academic and professional endeavors.', 6: 'You can contact the Financial Aid Office at SUNY Brockport for questions about the financial aid acceptance process.', 8: \"I'm sorry, I don't know.\", 7: 'You can expect personalized support, valuable insight, guidance through your journey, help in figuring out your goals, creating relationships, and developing your strengths from your peer mentor.', 9: 'The deadline for transferring to SUNY Brockport after finishing your studies at GCC is April 1st, 2024. Make sure to submit all required documents before the deadline to ensure a smooth transition.'}"
   ]
  },
  {
   "cell_type": "code",
   "execution_count": 78,
   "metadata": {},
   "outputs": [
    {
     "data": {
      "text/plain": [
       "{0: \"To register for WinterSession courses at SUNY Brockport, you can do so through the student portal or contact the Registrar's Office for assistance.\",\n",
       " 1: 'With a degree in Parks & Recreation Management from SUNY Brockport, you can pursue careers such as park ranger, recreation coordinator, outdoor recreation planner, camp director, or community program director.',\n",
       " 2: 'To get replacement keys for residence halls at SUNY Brockport, students must report the loss to the office of Residential Life, pay applicable fees, and have the replacement keys approved by Residential Life administration. Keys are to be returned to the Resident Director, and replacement keys can be picked up at the Facilities and Planning Service Center in Commissary Building F3 after necessary approvals.',\n",
       " 3: \"Yes, you can collect your certified mail and packages at the mail services center on SUNY Brockport's main campus.\",\n",
       " 4: 'To gain more information about the Athletic Administration (MS) program at SUNY Brockport, it is best to schedule an appointment with the academic department offering the program. They can provide you with detailed information, answer your questions, and guide you on how to proceed with registering for select graduate courses or applying to the full graduate program.',\n",
       " 5: 'Yes, you can expect mobile support for IT services at SUNY Brockport to help enhance your learning and campus experience!',\n",
       " 6: 'You can contact the Financial Aid Office at SUNY Brockport for questions about the financial aid acceptance process.',\n",
       " 7: 'You can expect personalized support, valuable insights, guidance through your college journey, help in figuring out your goals, creating relationships, and developing your strengths.',\n",
       " 8: \"I'm sorry, I don't know.\",\n",
       " 9: 'The form for transferring to SUNY Brockport will be available from February 1st, 2024, to April 1st, 2024. Make sure to submit your application within this time frame.'}"
      ]
     },
     "execution_count": 78,
     "metadata": {},
     "output_type": "execute_result"
    }
   ],
   "source": [
    "d = {3: \"Yes, you can collect your certified mail and packages at the mail services center on SUNY Brockport's main campus.\", 0: \"To register for WinterSession courses at SUNY Brockport, you can do so through the student portal or contact the Registrar's Office for assistance.\", 1: 'With a degree in Parks & Recreation Management from SUNY Brockport, you can pursue careers such as park ranger, recreation coordinator, outdoor recreation planner, camp director, or community program director.', 2: 'To get replacement keys for residence halls at SUNY Brockport, students must report the loss to the office of Residential Life, pay applicable fees, and have the replacement keys approved by Residential Life administration. Keys are to be returned to the Resident Director, and replacement keys can be picked up at the Facilities and Planning Service Center in Commissary Building F3 after necessary approvals.', 5: 'Yes, you can expect mobile support for IT services at SUNY Brockport to help enhance your learning and campus experience!', 8: \"I'm sorry, I don't know.\", 4: 'To gain more information about the Athletic Administration (MS) program at SUNY Brockport, it is best to schedule an appointment with the academic department offering the program. They can provide you with detailed information, answer your questions, and guide you on how to proceed with registering for select graduate courses or applying to the full graduate program.', 7: 'You can expect personalized support, valuable insights, guidance through your college journey, help in figuring out your goals, creating relationships, and developing your strengths.', 6: 'You can contact the Financial Aid Office at SUNY Brockport for questions about the financial aid acceptance process.', 9: 'The form for transferring to SUNY Brockport will be available from February 1st, 2024, to April 1st, 2024. Make sure to submit your application within this time frame.'}\n",
    "\n",
    "{id: d[id] for id in range(len(d))}"
   ]
  },
  {
   "cell_type": "code",
   "execution_count": 79,
   "metadata": {},
   "outputs": [
    {
     "data": {
      "text/plain": [
       "['How do I register for WinterSession courses at SUNY Brockport?',\n",
       " 'What career options are available to me with a degree in Parks & Recreation Management from SUNY Brockport?',\n",
       " 'What is the process for students to get replacement keys for residence halls?',\n",
       " 'Do I need to go to a particular place on campus to collect my certified mail and packages?',\n",
       " 'What is the best way for me to gain more information about the Athletic Administration (MS) program?',\n",
       " 'Can I expect mobile support for IT services at Brockport?',\n",
       " 'Who can I contact if I have questions about the financial aid acceptance process at Brockport?',\n",
       " 'What kind of support can I expect from my peer mentor?',\n",
       " 'Where can I locate additional details regarding the guidelines concerning radiation safety and dangerous substances?',\n",
       " 'Is there a deadline for transferring to SUNY Brockport after finishing my studies at GCC?']"
      ]
     },
     "execution_count": 79,
     "metadata": {},
     "output_type": "execute_result"
    }
   ],
   "source": [
    "df.head(10)['question'].to_list()"
   ]
  },
  {
   "cell_type": "code",
   "execution_count": 15,
   "metadata": {},
   "outputs": [
    {
     "data": {
      "text/plain": [
       "\"{'search_type': 'semantic', 'use_classifier': True, 'n_results': 4, 'model_kwargs': {'temperature': 0.8}}\""
      ]
     },
     "execution_count": 15,
     "metadata": {},
     "output_type": "execute_result"
    }
   ],
   "source": [
    "import pandas as pd\n",
    "\n",
    "df = pd.read_csv(\"../data/rag_evaluation_output.csv\")\n",
    "df.iloc[2341,:]['player_B_config']"
   ]
  },
  {
   "cell_type": "code",
   "execution_count": 16,
   "metadata": {},
   "outputs": [
    {
     "data": {
      "text/plain": [
       "\"{'search_type': 'semantic', 'use_classifier': False, 'n_results': 5, 'model_kwargs': {'temperature': 0.8}}\""
      ]
     },
     "execution_count": 16,
     "metadata": {},
     "output_type": "execute_result"
    }
   ],
   "source": [
    "df.iloc[2341,:]['player_A_config']"
   ]
  },
  {
   "cell_type": "code",
   "execution_count": 9,
   "metadata": {},
   "outputs": [
    {
     "data": {
      "text/html": [
       "<div>\n",
       "<style scoped>\n",
       "    .dataframe tbody tr th:only-of-type {\n",
       "        vertical-align: middle;\n",
       "    }\n",
       "\n",
       "    .dataframe tbody tr th {\n",
       "        vertical-align: top;\n",
       "    }\n",
       "\n",
       "    .dataframe thead th {\n",
       "        text-align: right;\n",
       "    }\n",
       "</style>\n",
       "<table border=\"1\" class=\"dataframe\">\n",
       "  <thead>\n",
       "    <tr style=\"text-align: right;\">\n",
       "      <th></th>\n",
       "      <th>question</th>\n",
       "      <th>answer</th>\n",
       "      <th>type</th>\n",
       "      <th>player_A_config</th>\n",
       "      <th>player_B_config</th>\n",
       "    </tr>\n",
       "  </thead>\n",
       "  <tbody>\n",
       "    <tr>\n",
       "      <th>0</th>\n",
       "      <td>What is the deadline for transfer students to ...</td>\n",
       "      <td>The deadline for transfer students to apply fo...</td>\n",
       "      <td>test</td>\n",
       "      <td>{'search_type': 'typesense', 'use_classifier':...</td>\n",
       "      <td>{'search_type': 'semantic', 'use_classifier': ...</td>\n",
       "    </tr>\n",
       "    <tr>\n",
       "      <th>1</th>\n",
       "      <td>Who is authorized to request verification of i...</td>\n",
       "      <td>University Police Officers have the authority ...</td>\n",
       "      <td>train</td>\n",
       "      <td>{'search_type': 'typesense', 'use_classifier':...</td>\n",
       "      <td>{'search_type': 'semantic_rerank', 'use_classi...</td>\n",
       "    </tr>\n",
       "    <tr>\n",
       "      <th>2</th>\n",
       "      <td>What does a probationary appointment at SUNY B...</td>\n",
       "      <td>A probationary appointment at SUNY Brockport i...</td>\n",
       "      <td>train</td>\n",
       "      <td>{'search_type': 'semantic_rerank', 'use_classi...</td>\n",
       "      <td>{'search_type': 'typesense', 'use_classifier':...</td>\n",
       "    </tr>\n",
       "    <tr>\n",
       "      <th>3</th>\n",
       "      <td>What characteristics do you seek in a Peer Men...</td>\n",
       "      <td>We're excited to find Peer Mentors who are pro...</td>\n",
       "      <td>train</td>\n",
       "      <td>{'search_type': 'semantic', 'use_classifier': ...</td>\n",
       "      <td>{'search_type': 'semantic', 'use_classifier': ...</td>\n",
       "    </tr>\n",
       "    <tr>\n",
       "      <th>4</th>\n",
       "      <td>What are some effective strategies for prepari...</td>\n",
       "      <td>To prepare effectively for an interview at SUN...</td>\n",
       "      <td>test</td>\n",
       "      <td>{'search_type': 'semantic_rerank', 'use_classi...</td>\n",
       "      <td>{'search_type': 'typesense', 'use_classifier':...</td>\n",
       "    </tr>\n",
       "    <tr>\n",
       "      <th>...</th>\n",
       "      <td>...</td>\n",
       "      <td>...</td>\n",
       "      <td>...</td>\n",
       "      <td>...</td>\n",
       "      <td>...</td>\n",
       "    </tr>\n",
       "    <tr>\n",
       "      <th>2340</th>\n",
       "      <td>Are there any internships available in the fie...</td>\n",
       "      <td>Absolutely! SUNY Brockport provides a wealth o...</td>\n",
       "      <td>test</td>\n",
       "      <td>{'search_type': 'semantic_rerank', 'use_classi...</td>\n",
       "      <td>{'search_type': 'typesense', 'use_classifier':...</td>\n",
       "    </tr>\n",
       "    <tr>\n",
       "      <th>2341</th>\n",
       "      <td>How can I view the Group Exercise Schedule?</td>\n",
       "      <td>You can view our Group Exercise Schedule by vi...</td>\n",
       "      <td>test</td>\n",
       "      <td>{'search_type': 'semantic', 'use_classifier': ...</td>\n",
       "      <td>{'search_type': 'semantic', 'use_classifier': ...</td>\n",
       "    </tr>\n",
       "    <tr>\n",
       "      <th>2342</th>\n",
       "      <td>Where can I get help with my resume and cover ...</td>\n",
       "      <td>You can get professional help with your resume...</td>\n",
       "      <td>test</td>\n",
       "      <td>{'search_type': 'typesense', 'use_classifier':...</td>\n",
       "      <td>{'search_type': 'typesense', 'use_classifier':...</td>\n",
       "    </tr>\n",
       "    <tr>\n",
       "      <th>2343</th>\n",
       "      <td>How do I enroll in the Equity, Diversity, and ...</td>\n",
       "      <td>We're thrilled to hear about your interest! Yo...</td>\n",
       "      <td>train</td>\n",
       "      <td>{'search_type': 'semantic_rerank', 'use_classi...</td>\n",
       "      <td>{'search_type': 'semantic_rerank', 'use_classi...</td>\n",
       "    </tr>\n",
       "    <tr>\n",
       "      <th>2344</th>\n",
       "      <td>How many clinical hours are included in the Ad...</td>\n",
       "      <td>The program includes a total of 700 clinical h...</td>\n",
       "      <td>test</td>\n",
       "      <td>{'search_type': 'semantic_rerank', 'use_classi...</td>\n",
       "      <td>{'search_type': 'semantic_rerank', 'use_classi...</td>\n",
       "    </tr>\n",
       "  </tbody>\n",
       "</table>\n",
       "<p>2326 rows × 5 columns</p>\n",
       "</div>"
      ],
      "text/plain": [
       "                                               question  \\\n",
       "0     What is the deadline for transfer students to ...   \n",
       "1     Who is authorized to request verification of i...   \n",
       "2     What does a probationary appointment at SUNY B...   \n",
       "3     What characteristics do you seek in a Peer Men...   \n",
       "4     What are some effective strategies for prepari...   \n",
       "...                                                 ...   \n",
       "2340  Are there any internships available in the fie...   \n",
       "2341        How can I view the Group Exercise Schedule?   \n",
       "2342  Where can I get help with my resume and cover ...   \n",
       "2343  How do I enroll in the Equity, Diversity, and ...   \n",
       "2344  How many clinical hours are included in the Ad...   \n",
       "\n",
       "                                                 answer   type  \\\n",
       "0     The deadline for transfer students to apply fo...   test   \n",
       "1     University Police Officers have the authority ...  train   \n",
       "2     A probationary appointment at SUNY Brockport i...  train   \n",
       "3     We're excited to find Peer Mentors who are pro...  train   \n",
       "4     To prepare effectively for an interview at SUN...   test   \n",
       "...                                                 ...    ...   \n",
       "2340  Absolutely! SUNY Brockport provides a wealth o...   test   \n",
       "2341  You can view our Group Exercise Schedule by vi...   test   \n",
       "2342  You can get professional help with your resume...   test   \n",
       "2343  We're thrilled to hear about your interest! Yo...  train   \n",
       "2344  The program includes a total of 700 clinical h...   test   \n",
       "\n",
       "                                        player_A_config  \\\n",
       "0     {'search_type': 'typesense', 'use_classifier':...   \n",
       "1     {'search_type': 'typesense', 'use_classifier':...   \n",
       "2     {'search_type': 'semantic_rerank', 'use_classi...   \n",
       "3     {'search_type': 'semantic', 'use_classifier': ...   \n",
       "4     {'search_type': 'semantic_rerank', 'use_classi...   \n",
       "...                                                 ...   \n",
       "2340  {'search_type': 'semantic_rerank', 'use_classi...   \n",
       "2341  {'search_type': 'semantic', 'use_classifier': ...   \n",
       "2342  {'search_type': 'typesense', 'use_classifier':...   \n",
       "2343  {'search_type': 'semantic_rerank', 'use_classi...   \n",
       "2344  {'search_type': 'semantic_rerank', 'use_classi...   \n",
       "\n",
       "                                        player_B_config  \n",
       "0     {'search_type': 'semantic', 'use_classifier': ...  \n",
       "1     {'search_type': 'semantic_rerank', 'use_classi...  \n",
       "2     {'search_type': 'typesense', 'use_classifier':...  \n",
       "3     {'search_type': 'semantic', 'use_classifier': ...  \n",
       "4     {'search_type': 'typesense', 'use_classifier':...  \n",
       "...                                                 ...  \n",
       "2340  {'search_type': 'typesense', 'use_classifier':...  \n",
       "2341  {'search_type': 'semantic', 'use_classifier': ...  \n",
       "2342  {'search_type': 'typesense', 'use_classifier':...  \n",
       "2343  {'search_type': 'semantic_rerank', 'use_classi...  \n",
       "2344  {'search_type': 'semantic_rerank', 'use_classi...  \n",
       "\n",
       "[2326 rows x 5 columns]"
      ]
     },
     "execution_count": 9,
     "metadata": {},
     "output_type": "execute_result"
    }
   ],
   "source": [
    "df.drop_duplicates(subset=['question'])"
   ]
  },
  {
   "cell_type": "code",
   "execution_count": 5,
   "metadata": {},
   "outputs": [
    {
     "data": {
      "text/html": [
       "<div>\n",
       "<style scoped>\n",
       "    .dataframe tbody tr th:only-of-type {\n",
       "        vertical-align: middle;\n",
       "    }\n",
       "\n",
       "    .dataframe tbody tr th {\n",
       "        vertical-align: top;\n",
       "    }\n",
       "\n",
       "    .dataframe thead th {\n",
       "        text-align: right;\n",
       "    }\n",
       "</style>\n",
       "<table border=\"1\" class=\"dataframe\">\n",
       "  <thead>\n",
       "    <tr style=\"text-align: right;\">\n",
       "      <th></th>\n",
       "      <th>question</th>\n",
       "      <th>answer</th>\n",
       "      <th>type</th>\n",
       "    </tr>\n",
       "  </thead>\n",
       "  <tbody>\n",
       "    <tr>\n",
       "      <th>0</th>\n",
       "      <td>What is the deadline for transfer students to ...</td>\n",
       "      <td>The deadline for transfer students to apply fo...</td>\n",
       "      <td>test</td>\n",
       "    </tr>\n",
       "    <tr>\n",
       "      <th>1</th>\n",
       "      <td>Who is authorized to request verification of i...</td>\n",
       "      <td>University Police Officers have the authority ...</td>\n",
       "      <td>train</td>\n",
       "    </tr>\n",
       "    <tr>\n",
       "      <th>2</th>\n",
       "      <td>What does a probationary appointment at SUNY B...</td>\n",
       "      <td>A probationary appointment at SUNY Brockport i...</td>\n",
       "      <td>train</td>\n",
       "    </tr>\n",
       "    <tr>\n",
       "      <th>3</th>\n",
       "      <td>What characteristics do you seek in a Peer Men...</td>\n",
       "      <td>We're excited to find Peer Mentors who are pro...</td>\n",
       "      <td>train</td>\n",
       "    </tr>\n",
       "    <tr>\n",
       "      <th>4</th>\n",
       "      <td>What are some effective strategies for prepari...</td>\n",
       "      <td>To prepare effectively for an interview at SUN...</td>\n",
       "      <td>test</td>\n",
       "    </tr>\n",
       "    <tr>\n",
       "      <th>...</th>\n",
       "      <td>...</td>\n",
       "      <td>...</td>\n",
       "      <td>...</td>\n",
       "    </tr>\n",
       "    <tr>\n",
       "      <th>2340</th>\n",
       "      <td>Are there any internships available in the fie...</td>\n",
       "      <td>Absolutely! SUNY Brockport provides a wealth o...</td>\n",
       "      <td>test</td>\n",
       "    </tr>\n",
       "    <tr>\n",
       "      <th>2341</th>\n",
       "      <td>How can I view the Group Exercise Schedule?</td>\n",
       "      <td>You can view our Group Exercise Schedule by vi...</td>\n",
       "      <td>test</td>\n",
       "    </tr>\n",
       "    <tr>\n",
       "      <th>2342</th>\n",
       "      <td>Where can I get help with my resume and cover ...</td>\n",
       "      <td>You can get professional help with your resume...</td>\n",
       "      <td>test</td>\n",
       "    </tr>\n",
       "    <tr>\n",
       "      <th>2343</th>\n",
       "      <td>How do I enroll in the Equity, Diversity, and ...</td>\n",
       "      <td>We're thrilled to hear about your interest! Yo...</td>\n",
       "      <td>train</td>\n",
       "    </tr>\n",
       "    <tr>\n",
       "      <th>2344</th>\n",
       "      <td>How many clinical hours are included in the Ad...</td>\n",
       "      <td>The program includes a total of 700 clinical h...</td>\n",
       "      <td>test</td>\n",
       "    </tr>\n",
       "  </tbody>\n",
       "</table>\n",
       "<p>2345 rows × 3 columns</p>\n",
       "</div>"
      ],
      "text/plain": [
       "                                               question  \\\n",
       "0     What is the deadline for transfer students to ...   \n",
       "1     Who is authorized to request verification of i...   \n",
       "2     What does a probationary appointment at SUNY B...   \n",
       "3     What characteristics do you seek in a Peer Men...   \n",
       "4     What are some effective strategies for prepari...   \n",
       "...                                                 ...   \n",
       "2340  Are there any internships available in the fie...   \n",
       "2341        How can I view the Group Exercise Schedule?   \n",
       "2342  Where can I get help with my resume and cover ...   \n",
       "2343  How do I enroll in the Equity, Diversity, and ...   \n",
       "2344  How many clinical hours are included in the Ad...   \n",
       "\n",
       "                                                 answer   type  \n",
       "0     The deadline for transfer students to apply fo...   test  \n",
       "1     University Police Officers have the authority ...  train  \n",
       "2     A probationary appointment at SUNY Brockport i...  train  \n",
       "3     We're excited to find Peer Mentors who are pro...  train  \n",
       "4     To prepare effectively for an interview at SUN...   test  \n",
       "...                                                 ...    ...  \n",
       "2340  Absolutely! SUNY Brockport provides a wealth o...   test  \n",
       "2341  You can view our Group Exercise Schedule by vi...   test  \n",
       "2342  You can get professional help with your resume...   test  \n",
       "2343  We're thrilled to hear about your interest! Yo...  train  \n",
       "2344  The program includes a total of 700 clinical h...   test  \n",
       "\n",
       "[2345 rows x 3 columns]"
      ]
     },
     "execution_count": 5,
     "metadata": {},
     "output_type": "execute_result"
    }
   ],
   "source": [
    "qas = pd.read_csv(\"../data/evaluation_data.csv\")\n",
    "qas"
   ]
  }
 ],
 "metadata": {
  "kernelspec": {
   "display_name": "thesis",
   "language": "python",
   "name": "python3"
  },
  "language_info": {
   "codemirror_mode": {
    "name": "ipython",
    "version": 3
   },
   "file_extension": ".py",
   "mimetype": "text/x-python",
   "name": "python",
   "nbconvert_exporter": "python",
   "pygments_lexer": "ipython3",
   "version": "3.11.4"
  }
 },
 "nbformat": 4,
 "nbformat_minor": 2
}
