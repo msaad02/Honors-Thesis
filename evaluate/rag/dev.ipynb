{
 "cells": [
  {
   "cell_type": "code",
   "execution_count": 17,
   "metadata": {},
   "outputs": [],
   "source": [
    "import pandas as pd\n",
    "import ast\n",
    "\n",
    "df = pd.read_csv(\"../data/rag_evaluation_comparison.csv\", na_filter=False)"
   ]
  },
  {
   "cell_type": "code",
   "execution_count": 39,
   "metadata": {},
   "outputs": [],
   "source": [
    "def best_config(row, option: str, best: bool = True):\n",
    "    \"\"\"\n",
    "    Determines the config for a given option for a each row.\n",
    "    \n",
    "    Parameters:\n",
    "    row: pd.Series\n",
    "        A row from a pandas DataFrame\n",
    "    option: str\n",
    "        The option to determine the best config for (search_type, n_results, ...)\n",
    "    best: bool\n",
    "        If True, returns the best config, otherwise the worst config\n",
    "    \"\"\"\n",
    "    player_A_config = ast.literal_eval(row['player_A_config'])\n",
    "    player_B_config = ast.literal_eval(row['player_B_config'])\n",
    "\n",
    "    assert(option in player_A_config.keys())\n",
    "\n",
    "    best_config = row['best_response']\n",
    "\n",
    "    if best_config == 'A':\n",
    "        if best:\n",
    "            return player_A_config[option]\n",
    "        return player_B_config[option]\n",
    "    elif best_config == 'B':\n",
    "        if best:\n",
    "            return player_B_config[option]\n",
    "        return player_A_config[option]\n",
    "    else:\n",
    "        return None"
   ]
  },
  {
   "cell_type": "code",
   "execution_count": null,
   "metadata": {},
   "outputs": [],
   "source": [
    "for key in ast.literal_eval(df['player_A_config'][0]).keys():\n",
    "    print(key)\n",
    "    print(df.apply(lambda row: best_config(row, key), axis=1).value_counts())\n",
    "    print(\"\\n\")"
   ]
  },
  {
   "cell_type": "code",
   "execution_count": 38,
   "metadata": {},
   "outputs": [
    {
     "data": {
      "text/plain": [
       "typesense          250\n",
       "semantic           237\n",
       "semantic_rerank    193\n",
       "Name: count, dtype: int64"
      ]
     },
     "execution_count": 38,
     "metadata": {},
     "output_type": "execute_result"
    }
   ],
   "source": [
    "df.apply(lambda row: best_config(row, \"search_type\"), axis=1).value_counts()"
   ]
  },
  {
   "cell_type": "markdown",
   "metadata": {},
   "source": [
    "# Determine who is losing most"
   ]
  },
  {
   "cell_type": "code",
   "execution_count": 43,
   "metadata": {},
   "outputs": [
    {
     "data": {
      "text/html": [
       "<div>\n",
       "<style scoped>\n",
       "    .dataframe tbody tr th:only-of-type {\n",
       "        vertical-align: middle;\n",
       "    }\n",
       "\n",
       "    .dataframe tbody tr th {\n",
       "        vertical-align: top;\n",
       "    }\n",
       "\n",
       "    .dataframe thead th {\n",
       "        text-align: right;\n",
       "    }\n",
       "</style>\n",
       "<table border=\"1\" class=\"dataframe\">\n",
       "  <thead>\n",
       "    <tr style=\"text-align: right;\">\n",
       "      <th></th>\n",
       "      <th>best</th>\n",
       "      <th>worst</th>\n",
       "    </tr>\n",
       "  </thead>\n",
       "  <tbody>\n",
       "    <tr>\n",
       "      <th>1</th>\n",
       "      <td>typesense</td>\n",
       "      <td>semantic_rerank</td>\n",
       "    </tr>\n",
       "    <tr>\n",
       "      <th>2</th>\n",
       "      <td>typesense</td>\n",
       "      <td>semantic</td>\n",
       "    </tr>\n",
       "    <tr>\n",
       "      <th>5</th>\n",
       "      <td>typesense</td>\n",
       "      <td>semantic</td>\n",
       "    </tr>\n",
       "    <tr>\n",
       "      <th>6</th>\n",
       "      <td>semantic_rerank</td>\n",
       "      <td>typesense</td>\n",
       "    </tr>\n",
       "    <tr>\n",
       "      <th>8</th>\n",
       "      <td>semantic</td>\n",
       "      <td>typesense</td>\n",
       "    </tr>\n",
       "    <tr>\n",
       "      <th>...</th>\n",
       "      <td>...</td>\n",
       "      <td>...</td>\n",
       "    </tr>\n",
       "    <tr>\n",
       "      <th>1176</th>\n",
       "      <td>semantic_rerank</td>\n",
       "      <td>typesense</td>\n",
       "    </tr>\n",
       "    <tr>\n",
       "      <th>1177</th>\n",
       "      <td>semantic</td>\n",
       "      <td>semantic_rerank</td>\n",
       "    </tr>\n",
       "    <tr>\n",
       "      <th>1189</th>\n",
       "      <td>typesense</td>\n",
       "      <td>semantic_rerank</td>\n",
       "    </tr>\n",
       "    <tr>\n",
       "      <th>1192</th>\n",
       "      <td>typesense</td>\n",
       "      <td>semantic</td>\n",
       "    </tr>\n",
       "    <tr>\n",
       "      <th>1198</th>\n",
       "      <td>typesense</td>\n",
       "      <td>semantic</td>\n",
       "    </tr>\n",
       "  </tbody>\n",
       "</table>\n",
       "<p>468 rows × 2 columns</p>\n",
       "</div>"
      ],
      "text/plain": [
       "                 best            worst\n",
       "1           typesense  semantic_rerank\n",
       "2           typesense         semantic\n",
       "5           typesense         semantic\n",
       "6     semantic_rerank        typesense\n",
       "8            semantic        typesense\n",
       "...               ...              ...\n",
       "1176  semantic_rerank        typesense\n",
       "1177         semantic  semantic_rerank\n",
       "1189        typesense  semantic_rerank\n",
       "1192        typesense         semantic\n",
       "1198        typesense         semantic\n",
       "\n",
       "[468 rows x 2 columns]"
      ]
     },
     "execution_count": 43,
     "metadata": {},
     "output_type": "execute_result"
    }
   ],
   "source": [
    "df_compare = pd.DataFrame({\n",
    "    \"best\": df.apply(lambda row: best_config(row, \"search_type\", best=True), axis=1),\n",
    "    \"worst\": df.apply(lambda row: best_config(row, \"search_type\", best=False), axis=1)\n",
    "})\n",
    "df_compare.dropna(inplace=True)\n",
    "\n",
    "df_compare[df_compare['best'] != df_compare['worst']]"
   ]
  },
  {
   "cell_type": "code",
   "execution_count": 46,
   "metadata": {},
   "outputs": [
    {
     "data": {
      "text/plain": [
       "['How do I register for WinterSession courses at SUNY Brockport?',\n",
       " 'What career options are available to me with a degree in Parks & Recreation Management from SUNY Brockport?',\n",
       " 'What is the process for students to get replacement keys for residence halls?',\n",
       " 'Do I need to go to a particular place on campus to collect my certified mail and packages?',\n",
       " 'What is the best way for me to gain more information about the Athletic Administration (MS) program?',\n",
       " 'Can I expect mobile support for IT services at Brockport?',\n",
       " 'Who can I contact if I have questions about the financial aid acceptance process at Brockport?',\n",
       " 'What kind of support can I expect from my peer mentor?',\n",
       " 'Where can I locate additional details regarding the guidelines concerning radiation safety and dangerous substances?',\n",
       " 'Is there a deadline for transferring to SUNY Brockport after finishing my studies at GCC?']"
      ]
     },
     "execution_count": 46,
     "metadata": {},
     "output_type": "execute_result"
    }
   ],
   "source": [
    "df = pd.read_csv(\"../data/rag_eval_v1/rag_evaluation_data.csv\")\n",
    "df.head(10)['question'].to_list()"
   ]
  },
  {
   "cell_type": "code",
   "execution_count": 70,
   "metadata": {},
   "outputs": [
    {
     "data": {
      "text/plain": [
       "<generator object DataFrame.iterrows at 0x7f4a2d54a350>"
      ]
     },
     "execution_count": 70,
     "metadata": {},
     "output_type": "execute_result"
    }
   ],
   "source": [
    "df.iterrows()"
   ]
  },
  {
   "cell_type": "code",
   "execution_count": null,
   "metadata": {},
   "outputs": [],
   "source": []
  },
  {
   "cell_type": "code",
   "execution_count": null,
   "metadata": {},
   "outputs": [],
   "source": [
    "tqdm(enumerate(zip(df['question'], df['player_A_config'])))"
   ]
  },
  {
   "cell_type": "code",
   "execution_count": 47,
   "metadata": {},
   "outputs": [],
   "source": [
    "d = {3: 'Yes, you can collect your certified mail and packages from the mailroom on campus.', 1: 'With a degree in Parks & Recreation Management from SUNY Brockport, you can pursue careers such as park ranger, recreation coordinator, event planner, outdoor recreation manager, and leisure services director.', 2: 'To get replacement keys for residence halls at SUNY Brockport, students must report the loss to the office of Residential Life, where they may be required to pay applicable fees. Replacement keys must be approved by Residential Life administration and returned to the Resident Director.', 0: \"To register for WinterSession courses at SUNY Brockport, you can do so through the online registration system on the university's website. WinterSession courses are a great way to stay on track with your academic goals and make the most of your winter break. If you need any assistance with the registration process, feel free to reach out to the university's registrar's office for guidance.\", 4: 'The best way to gain more information about the Athletic Administration (MS) program at SUNY Brockport is to schedule an appointment with the academic department offering the program. They can provide you with detailed information about the program requirements, courses offered, and any specific admission criteria. Walk-ins are welcome during business hours, but appointments are suggested for a more personalized experience.', 5: 'Yes, you can expect mobile support for IT services at SUNY Brockport. Our university is committed to providing convenient and accessible technology services to support our students, faculty, and staff in their academic and professional endeavors.', 6: 'You can contact the Financial Aid Office at SUNY Brockport for questions about the financial aid acceptance process.', 8: \"I'm sorry, I don't know.\", 7: 'You can expect personalized support, valuable insight, guidance through your journey, help in figuring out your goals, creating relationships, and developing your strengths from your peer mentor.', 9: 'The deadline for transferring to SUNY Brockport after finishing your studies at GCC is April 1st, 2024. Make sure to submit all required documents before the deadline to ensure a smooth transition.'}"
   ]
  },
  {
   "cell_type": "code",
   "execution_count": 78,
   "metadata": {},
   "outputs": [
    {
     "data": {
      "text/plain": [
       "{0: \"To register for WinterSession courses at SUNY Brockport, you can do so through the student portal or contact the Registrar's Office for assistance.\",\n",
       " 1: 'With a degree in Parks & Recreation Management from SUNY Brockport, you can pursue careers such as park ranger, recreation coordinator, outdoor recreation planner, camp director, or community program director.',\n",
       " 2: 'To get replacement keys for residence halls at SUNY Brockport, students must report the loss to the office of Residential Life, pay applicable fees, and have the replacement keys approved by Residential Life administration. Keys are to be returned to the Resident Director, and replacement keys can be picked up at the Facilities and Planning Service Center in Commissary Building F3 after necessary approvals.',\n",
       " 3: \"Yes, you can collect your certified mail and packages at the mail services center on SUNY Brockport's main campus.\",\n",
       " 4: 'To gain more information about the Athletic Administration (MS) program at SUNY Brockport, it is best to schedule an appointment with the academic department offering the program. They can provide you with detailed information, answer your questions, and guide you on how to proceed with registering for select graduate courses or applying to the full graduate program.',\n",
       " 5: 'Yes, you can expect mobile support for IT services at SUNY Brockport to help enhance your learning and campus experience!',\n",
       " 6: 'You can contact the Financial Aid Office at SUNY Brockport for questions about the financial aid acceptance process.',\n",
       " 7: 'You can expect personalized support, valuable insights, guidance through your college journey, help in figuring out your goals, creating relationships, and developing your strengths.',\n",
       " 8: \"I'm sorry, I don't know.\",\n",
       " 9: 'The form for transferring to SUNY Brockport will be available from February 1st, 2024, to April 1st, 2024. Make sure to submit your application within this time frame.'}"
      ]
     },
     "execution_count": 78,
     "metadata": {},
     "output_type": "execute_result"
    }
   ],
   "source": [
    "d = {3: \"Yes, you can collect your certified mail and packages at the mail services center on SUNY Brockport's main campus.\", 0: \"To register for WinterSession courses at SUNY Brockport, you can do so through the student portal or contact the Registrar's Office for assistance.\", 1: 'With a degree in Parks & Recreation Management from SUNY Brockport, you can pursue careers such as park ranger, recreation coordinator, outdoor recreation planner, camp director, or community program director.', 2: 'To get replacement keys for residence halls at SUNY Brockport, students must report the loss to the office of Residential Life, pay applicable fees, and have the replacement keys approved by Residential Life administration. Keys are to be returned to the Resident Director, and replacement keys can be picked up at the Facilities and Planning Service Center in Commissary Building F3 after necessary approvals.', 5: 'Yes, you can expect mobile support for IT services at SUNY Brockport to help enhance your learning and campus experience!', 8: \"I'm sorry, I don't know.\", 4: 'To gain more information about the Athletic Administration (MS) program at SUNY Brockport, it is best to schedule an appointment with the academic department offering the program. They can provide you with detailed information, answer your questions, and guide you on how to proceed with registering for select graduate courses or applying to the full graduate program.', 7: 'You can expect personalized support, valuable insights, guidance through your college journey, help in figuring out your goals, creating relationships, and developing your strengths.', 6: 'You can contact the Financial Aid Office at SUNY Brockport for questions about the financial aid acceptance process.', 9: 'The form for transferring to SUNY Brockport will be available from February 1st, 2024, to April 1st, 2024. Make sure to submit your application within this time frame.'}\n",
    "\n",
    "{id: d[id] for id in range(len(d))}"
   ]
  },
  {
   "cell_type": "code",
   "execution_count": 79,
   "metadata": {},
   "outputs": [
    {
     "data": {
      "text/plain": [
       "['How do I register for WinterSession courses at SUNY Brockport?',\n",
       " 'What career options are available to me with a degree in Parks & Recreation Management from SUNY Brockport?',\n",
       " 'What is the process for students to get replacement keys for residence halls?',\n",
       " 'Do I need to go to a particular place on campus to collect my certified mail and packages?',\n",
       " 'What is the best way for me to gain more information about the Athletic Administration (MS) program?',\n",
       " 'Can I expect mobile support for IT services at Brockport?',\n",
       " 'Who can I contact if I have questions about the financial aid acceptance process at Brockport?',\n",
       " 'What kind of support can I expect from my peer mentor?',\n",
       " 'Where can I locate additional details regarding the guidelines concerning radiation safety and dangerous substances?',\n",
       " 'Is there a deadline for transferring to SUNY Brockport after finishing my studies at GCC?']"
      ]
     },
     "execution_count": 79,
     "metadata": {},
     "output_type": "execute_result"
    }
   ],
   "source": [
    "df.head(10)['question'].to_list()"
   ]
  }
 ],
 "metadata": {
  "kernelspec": {
   "display_name": "thesis",
   "language": "python",
   "name": "python3"
  },
  "language_info": {
   "codemirror_mode": {
    "name": "ipython",
    "version": 3
   },
   "file_extension": ".py",
   "mimetype": "text/x-python",
   "name": "python",
   "nbconvert_exporter": "python",
   "pygments_lexer": "ipython3",
   "version": "3.11.4"
  }
 },
 "nbformat": 4,
 "nbformat_minor": 2
}
