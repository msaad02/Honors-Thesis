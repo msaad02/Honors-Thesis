{
 "cells": [
  {
   "cell_type": "markdown",
   "metadata": {},
   "source": [
    "# A simpler network\n",
    "\n",
    "In the [other notebook](./follow-tf-tutorial.ipynb) I followed the tutorial almost exactly. The primary reason for doing that was to get a feel for the TensorFlow API. Now that I have that, I'm going to try to build a simpler network that I can understand better. Additionally, having covered one of the most important steps -- data preparation -- I can focus on the network itself.\n",
    "\n",
    "---\n",
    "The beginning of this notebook will be the same as the other one, but I'll try to make it more concise."
   ]
  },
  {
   "cell_type": "code",
   "execution_count": 1,
   "metadata": {},
   "outputs": [
    {
     "data": {
      "text/plain": [
       "['Below is an inquiery related to SUNY Brockport - from academics, admissions, and faculty support to student life. Prioritize accuracy and brevity.\"\\n\\n### Instruction:\\nWhat limitations are there for non-matriculated students if they choose to enroll at a later date?\\n\\n### Response:\\nIf non-matriculated students choose to enroll at a later date, they are subject to all changes in the course catalog.',\n",
       " 'Below is an inquiery related to SUNY Brockport - from academics, admissions, and faculty support to student life. Prioritize accuracy and brevity.\"\\n\\n### Instruction:\\nWhere can I find more information about scholarships and financial aid?\\n\\n### Response:\\nYou can find more information about scholarships and financial aid by visiting the college website or contacting the college\\'s financial aid office.',\n",
       " 'Below is an inquiery related to SUNY Brockport - from academics, admissions, and faculty support to student life. Prioritize accuracy and brevity.\"\\n\\n### Instruction:\\nWhat resources are available at the library in SUNY Brockport?\\n\\n### Response:\\nThe library at SUNY Brockport provides various resources such as books, journals, databases, and study spaces to support academic research and learning.',\n",
       " 'Below is an inquiery related to SUNY Brockport - from academics, admissions, and faculty support to student life. Prioritize accuracy and brevity.\"\\n\\n### Instruction:\\nWhat is the contact information for SUNY Brockport?\\n\\n### Response:\\nThe contact information for SUNY Brockport is 350 New Campus Drive, Brockport, NY 14420, and the phone number is (585) 395-2211.',\n",
       " 'Below is an inquiery related to SUNY Brockport - from academics, admissions, and faculty support to student life. Prioritize accuracy and brevity.\"\\n\\n### Instruction:\\nWhat is the address of SUNY Brockport?\\n\\n### Response:\\nSUNY Brockport is located at 350 New Campus Drive, Brockport, NY 14420.']"
      ]
     },
     "execution_count": 1,
     "metadata": {},
     "output_type": "execute_result"
    }
   ],
   "source": [
    "# I need to make a tf.data pipeline. I have a huggingface dataset, so I need to convert it somehow.\n",
    "# Huggingface has tools built in to convert to tf.data, but I don't think they're exactly what I want.\n",
    "# I think I might just try and breakdown the huggingface dataset to standard python objects to convert it all.\n",
    "\n",
    "import os\n",
    "os.environ['TF_CPP_MIN_LOG_LEVEL'] = '2' # stop showing tensorflow logs...\n",
    "\n",
    "from datasets import load_dataset\n",
    "import tensorflow as tf\n",
    "import numpy as np\n",
    "import matplotlib.pyplot as plt\n",
    "import matplotlib.ticker as ticker\n",
    "import tensorflow as tf\n",
    "\n",
    "dataset_name = \"msaad02/formatted-ss-cleaned-brockport-qa\"\n",
    "dataset = load_dataset(dataset_name, split=\"train\")\n",
    "\n",
    "dataset = dataset.to_dict()['text']\n",
    "dataset[0:5]"
   ]
  },
  {
   "cell_type": "code",
   "execution_count": 2,
   "metadata": {},
   "outputs": [
    {
     "data": {
      "text/plain": [
       "[PhysicalDevice(name='/physical_device:CPU:0', device_type='CPU'),\n",
       " PhysicalDevice(name='/physical_device:GPU:0', device_type='GPU')]"
      ]
     },
     "execution_count": 2,
     "metadata": {},
     "output_type": "execute_result"
    }
   ],
   "source": [
    "# Check that GPU is detected\n",
    "tf.config.list_physical_devices()"
   ]
  },
  {
   "cell_type": "markdown",
   "metadata": {},
   "source": [
    "### Formatting\n",
    "\n",
    "This dataset was built for the fine-tuning step. Perhaps I should change this such that the questions and answers are in separate columns, and then put it all together only in the notebook for fine-tuning. It should be simple enough to work with like this though, so for now this step is just going to split it into QA pairs."
   ]
  },
  {
   "cell_type": "code",
   "execution_count": 3,
   "metadata": {},
   "outputs": [],
   "source": [
    "def split_input_output(s):\n",
    "    \"\"\"\n",
    "    Splits a string into a question and answer pair\n",
    "    \"\"\"\n",
    "    output_split = s.split('\\n\\n### Response:\\n')\n",
    "    input_split = output_split[0].split('### Instruction:\\n')[1]\n",
    "    return input_split, output_split[1]\n",
    "\n",
    "# Map above function over the list of questions, and create a list of questions and answers separately\n",
    "context_raw, target_raw = [list(t) for t in zip(*[split_input_output(string) for string in dataset])]\n",
    "\n",
    "# NOTE: Chosing to follow the naming conventions from the tutorial, for reference then:\n",
    "# CONTEXT refers to QUESTIONS, and TARGET refers to ANSWERS\n",
    "\n",
    "# \"Raw\" is used since currently the data is in string format, and needs to be standardized and vectorized"
   ]
  },
  {
   "cell_type": "code",
   "execution_count": 4,
   "metadata": {},
   "outputs": [
    {
     "name": "stdout",
     "output_type": "stream",
     "text": [
      "How can current students access their university email?\n",
      "Current students can access their university email through the Webmail quicklink. It provides a secure platform for students to manage their university email accounts and communicate with faculty, staff, and peers.\n"
     ]
    }
   ],
   "source": [
    "# Example\n",
    "print(context_raw[-1])\n",
    "print(target_raw[-1])"
   ]
  },
  {
   "cell_type": "markdown",
   "metadata": {},
   "source": [
    "# Creating a tf.data dataset\n",
    "\n",
    "Now my data matches the format of the Spanish-to-English example in the tutorial, so I can use the same code to create a tf.data dataset."
   ]
  },
  {
   "cell_type": "code",
   "execution_count": 5,
   "metadata": {},
   "outputs": [],
   "source": [
    "BUFFER_SIZE = len(context_raw)\n",
    "BATCH_SIZE = 64\n",
    "\n",
    "is_train_mask = np.random.uniform(size=(len(target_raw),)) < 0.8\n",
    "\n",
    "train_context = np.array(context_raw)[is_train_mask]\n",
    "train_target = np.array(target_raw)[is_train_mask]\n",
    "\n",
    "val_context = np.array(context_raw)[~is_train_mask]\n",
    "val_target = np.array(target_raw)[~is_train_mask]\n",
    "\n",
    "train_raw = (\n",
    "    tf.data.Dataset\n",
    "    .from_tensor_slices((train_context, train_target))\n",
    "    .shuffle(BUFFER_SIZE)\n",
    "    .batch(BATCH_SIZE)\n",
    ")\n",
    "\n",
    "val_raw = (\n",
    "    tf.data.Dataset\n",
    "    .from_tensor_slices((val_context, val_target))\n",
    "    .shuffle(BUFFER_SIZE)\n",
    "    .batch(BATCH_SIZE)\n",
    ")"
   ]
  },
  {
   "cell_type": "code",
   "execution_count": 6,
   "metadata": {},
   "outputs": [
    {
     "name": "stdout",
     "output_type": "stream",
     "text": [
      "tf.Tensor(\n",
      "[b'What are the quicklinks available to access various resources or services?'\n",
      " b'Where can students connect with SUNY Brockport on social media?'\n",
      " b'How can Earth Sciences contribute to understanding climate change?'\n",
      " b\"What courses from JCC can fulfill Brockport's local general education requirements?\"\n",
      " b'What is the approach of the EAP?'], shape=(5,), dtype=string)\n",
      "\n",
      "tf.Tensor(\n",
      "[b'The quicklinks available are Webmail, Web Banner, Brightspace, Directory, Course Schedule, Accommodate, Student Bill Pay, EagleSUCCESS, myBROCKPORT, University Policies, Brockport Today, Events Calendar, Academic Calendar, Library, IT Service Desk, NetID Lookup & Password Change, Emergency Info, and Issue Reporting Center.'\n",
      " b'Students can connect with SUNY Brockport on Instagram, Facebook, Twitter, YouTube, and LinkedIn.'\n",
      " b\"Earth Sciences can contribute to understanding climate change by studying past climate records, analyzing current climate patterns, and predicting future climate trends based on Earth's geological and atmospheric systems.\"\n",
      " b\"Courses from JCC that can fulfill Brockport's local general education requirements include ANT 2510/251 Peoples & Cultures of the Americas, ENG 2550/255 American Literature 1820-1890, ENG 2560/256 American Literature 1865-1945, HIS 1530/153 U.S. History I, HIS 1540/154 U.S. History II, POL 1510/151 American Politics, SOC 2510/251 Marriage and the Family, SOC 2520/252 Social Problems, SOC 2580/258 Minorities in American Society, ANT/BIO/CMM 2600 Planet Earth: Critical Topics, BIO/PHL 2570 Environmental Issues and Ethics, PHL 2630 Contemporary Moral Problems, PHL2720 Biomedical Ethics, BIO 1730/173 Origin, Creation, & Evolution, HUS 1320/132 Women and Addiction, PSY 2570/257 Human Sexuality, PSY 2710/271 Transpersonal Psychology.\"\n",
      " b'The EAP is a support and self-referral service that values confidentiality and people caring about people. It consists of a joint labor and management committee, overseeing the program, and a coordinator, ensuring effective management and operation.'], shape=(5,), dtype=string)\n"
     ]
    }
   ],
   "source": [
    "# Check to see it worked\n",
    "for example_context_strings, example_target_strings in train_raw.take(1):\n",
    "    print(example_context_strings[:5])\n",
    "    print()\n",
    "    print(example_target_strings[:5])\n",
    "    break"
   ]
  },
  {
   "cell_type": "markdown",
   "metadata": {},
   "source": [
    "# Text Standardization\n",
    "\n",
    "The text vectorization method from keras will take care of a lot of this, but this is an additional step with some specifics to Spanish, but also adds special tokens for the tokenizer."
   ]
  },
  {
   "cell_type": "code",
   "execution_count": 7,
   "metadata": {},
   "outputs": [],
   "source": [
    "def tf_lower_and_split_punct(text):\n",
    "    \"\"\"\n",
    "    Text standardization function. Tries to make things uniform.\n",
    "    \"\"\"\n",
    "    text = tf.strings.lower(text) # Lowercase everything\n",
    "    text = tf.strings.regex_replace(text, '[^ a-z.?!,¿]', '') # Keep space, a to z and punctuation.\n",
    "    text = tf.strings.regex_replace(text, '[.?!,¿]', r' \\0 ') # Add spaces around punctuation.\n",
    "    text = tf.strings.strip(text) # Strip whitespace.\n",
    "\n",
    "    text = tf.strings.join(['[START]', text, '[END]'], separator=' ') # Add start and end token\n",
    "    return text\n",
    "\n",
    "MAX_VOCAB_SIZE = 5000\n",
    "\n",
    "text_processor = tf.keras.layers.TextVectorization(\n",
    "    standardize=tf_lower_and_split_punct,\n",
    "    max_tokens=MAX_VOCAB_SIZE,\n",
    "    ragged=True\n",
    ")\n",
    "\n",
    "text_processor.adapt(train_raw.map(lambda context, target: context))\n",
    "text_processor.adapt(train_raw.map(lambda context, target: target))"
   ]
  },
  {
   "cell_type": "markdown",
   "metadata": {},
   "source": [
    "# Process The Dataset\n",
    "\n",
    "*DESCRIPTION TAKEN DIRECTLY FROM THE TENSORFLOW TUTORIAL*\n",
    "\n",
    "The process_text function below converts the Datasets of strings, into 0-padded tensors of token IDs. It also converts from a (context, target) pair to an ((context, target_in), target_out) pair for training with keras.Model.fit. Keras expects (inputs, labels) pairs, the inputs are the (context, target_in) and the labels are target_out. The difference between target_in and target_out is that they are shifted by one step relative to eachother, so that at each location the label is the next token."
   ]
  },
  {
   "cell_type": "code",
   "execution_count": 8,
   "metadata": {},
   "outputs": [],
   "source": [
    "def process_text(context, target):\n",
    "    context = text_processor(context).to_tensor()\n",
    "    target  = text_processor(target)\n",
    "    targ_in = target[:,:-1].to_tensor()\n",
    "    targ_out = target[:,1:].to_tensor()\n",
    "    return (context, targ_in), targ_out\n",
    "\n",
    "train_ds = train_raw.map(process_text, tf.data.AUTOTUNE)\n",
    "val_ds = val_raw.map(process_text, tf.data.AUTOTUNE)"
   ]
  },
  {
   "cell_type": "code",
   "execution_count": 9,
   "metadata": {},
   "outputs": [
    {
     "name": "stdout",
     "output_type": "stream",
     "text": [
      "[  5  13 177 187 359  31 502  12   4 277  43  28   1   6   0]\n",
      "\n",
      "[  5  25   2 359  18 190  31  17  38 236   4 277  43  28   3]\n",
      "[ 25   2 359  18 190  31  17  38 236   4 277  43  28   3   6]\n"
     ]
    }
   ],
   "source": [
    "for (ex_context_tok, ex_tar_in), ex_tar_out in train_ds.take(1):\n",
    "    print(ex_context_tok[0, :15].numpy())\n",
    "    print()\n",
    "    print(ex_tar_in[0, :15].numpy())\n",
    "    print(ex_tar_out[0, :15].numpy())\n",
    "\n",
    "# Notice here that the target output is the same as the target input, but shifted one token to the right."
   ]
  },
  {
   "cell_type": "markdown",
   "metadata": {},
   "source": [
    "---\n",
    "\n",
    "# Modeling\n",
    "\n",
    "Now we have a dataset, we can start modeling. This first attempt will be to recreate the majority of what is in the other notebook, but with a simpler more readable imeplementation."
   ]
  },
  {
   "cell_type": "code",
   "execution_count": 10,
   "metadata": {},
   "outputs": [],
   "source": [
    "UNITS = 256\n",
    "VOCAB_SIZE = text_processor.vocabulary_size()\n",
    "# EMBEDDING_DIM = 64\n",
    "\n",
    "# Encoder\n",
    "encoder = tf.keras.layers.Embedding(input_dim=VOCAB_SIZE, output_dim=3)\n",
    "\n",
    "# Decoder\n",
    "decoder = tf.keras.Sequential([\n",
    "    tf.keras.layers.Embedding(input_dim=VOCAB_SIZE, output_dim=3),\n",
    "    tf.keras.layers.GRU(units=UNITS, return_sequences=True),\n",
    "    tf.keras.layers.Dense(VOCAB_SIZE)\n",
    "])"
   ]
  },
  {
   "cell_type": "code",
   "execution_count": 11,
   "metadata": {},
   "outputs": [],
   "source": [
    "from tensorflow.python.keras.layers import Embedding, LSTM, AdditiveAttention, Concatenate, Dense\n",
    "from tensorflow.python.keras import Input, Model\n",
    "\n",
    "# This is GPT generated. I want to make a simpler one on my own before building it up to something like this. Also will save time if I start simpler and build up\n",
    "\n",
    "# Encoder\n",
    "encoder_inputs = Input(shape=(None,))\n",
    "encoder_embedding = Embedding(input_dim=VOCAB_SIZE, output_dim=UNITS)(encoder_inputs)\n",
    "encoder_lstm, state_h, state_c = LSTM(units=UNITS, return_state=True)(encoder_embedding)\n",
    "encoder_states = [state_h, state_c]\n",
    "\n",
    "# Attention\n",
    "decoder_inputs = Input(shape=(None,))\n",
    "decoder_embedding = Embedding(input_dim=VOCAB_SIZE, output_dim=UNITS)(decoder_inputs)\n",
    "decoder_lstm, _, _ = LSTM(units=UNITS, return_sequences=True, return_state=True)(decoder_embedding, initial_state=encoder_states)\n",
    "attention = AdditiveAttention()([decoder_lstm, encoder_lstm])\n",
    "decoder_concat = Concatenate(axis=-1)([decoder_lstm, attention])\n",
    "\n",
    "# Decoder\n",
    "output_layer = Dense(VOCAB_SIZE, activation='softmax')\n",
    "outputs = output_layer(decoder_concat)\n",
    "\n",
    "# Model\n",
    "model = Model([encoder_inputs, decoder_inputs], outputs)"
   ]
  },
  {
   "cell_type": "code",
   "execution_count": 12,
   "metadata": {},
   "outputs": [],
   "source": [
    "### ACCURACY METRIC FUNCTIONS\n",
    "def masked_loss(y_true, y_pred):\n",
    "    # Calculate the loss for each item in the batch.\n",
    "    loss_fn = tf.keras.losses.SparseCategoricalCrossentropy(\n",
    "        from_logits=True, reduction='none')\n",
    "    loss = loss_fn(y_true, y_pred)\n",
    "\n",
    "    # Mask off the losses on padding.\n",
    "    mask = tf.cast(y_true != 0, loss.dtype)\n",
    "    loss *= mask\n",
    "\n",
    "    # Return the total.\n",
    "    return tf.reduce_sum(loss)/tf.reduce_sum(mask)\n",
    "\n",
    "def masked_acc(y_true, y_pred):\n",
    "    # Calculate the loss for each item in the batch.\n",
    "    y_pred = tf.argmax(y_pred, axis=-1)\n",
    "    y_pred = tf.cast(y_pred, y_true.dtype)\n",
    "\n",
    "    match = tf.cast(y_true == y_pred, tf.float32)\n",
    "    mask = tf.cast(y_true != 0, tf.float32)\n",
    "\n",
    "    return tf.reduce_sum(match)/tf.reduce_sum(mask)"
   ]
  },
  {
   "cell_type": "code",
   "execution_count": 13,
   "metadata": {},
   "outputs": [
    {
     "name": "stdout",
     "output_type": "stream",
     "text": [
      "Epoch 1/2\n"
     ]
    },
    {
     "name": "stderr",
     "output_type": "stream",
     "text": [
      "/home/msaad/miniconda3/envs/tf/lib/python3.9/site-packages/keras/backend.py:5612: UserWarning: \"`sparse_categorical_crossentropy` received `from_logits=True`, but the `output` argument was produced by a Softmax activation and thus does not represent logits. Was this intended?\n",
      "  output, from_logits = _get_logits(\n"
     ]
    },
    {
     "name": "stdout",
     "output_type": "stream",
     "text": [
      "100/100 [==============================] - 57s 544ms/step - loss: 5.9500 - masked_acc: 0.1031 - masked_loss: 5.9470 - val_loss: 5.3540 - val_masked_acc: 0.1332 - val_masked_loss: 5.3540\n",
      "Epoch 2/2\n",
      "100/100 [==============================] - 53s 529ms/step - loss: 4.9775 - masked_acc: 0.2082 - masked_loss: 4.9759 - val_loss: 4.6459 - val_masked_acc: 0.2472 - val_masked_loss: 4.6459\n"
     ]
    }
   ],
   "source": [
    "# Compile the model\n",
    "model.compile(\n",
    "    optimizer='adam',\n",
    "    loss=masked_loss, \n",
    "    metrics=[masked_acc, masked_loss]\n",
    ")\n",
    "\n",
    "history = model.fit(\n",
    "    train_ds.repeat(), \n",
    "    epochs=2, # 100\n",
    "    steps_per_epoch = 100,\n",
    "    validation_data=val_ds,\n",
    "    validation_steps = 20,\n",
    "    callbacks=[\n",
    "        tf.keras.callbacks.EarlyStopping(patience=20)\n",
    "    ]\n",
    ")"
   ]
  },
  {
   "cell_type": "code",
   "execution_count": 14,
   "metadata": {},
   "outputs": [
    {
     "data": {
      "text/plain": [
       "<matplotlib.legend.Legend at 0x7faf0913c880>"
      ]
     },
     "execution_count": 14,
     "metadata": {},
     "output_type": "execute_result"
    },
    {
     "data": {
      "image/png": "[encoded data removed]",
      "text/plain": [
       "<Figure size 640x480 with 1 Axes>"
      ]
     },
     "metadata": {},
     "output_type": "display_data"
    }
   ],
   "source": [
    "plt.plot(history.history['loss'], label='loss')\n",
    "plt.plot(history.history['val_loss'], label='val_loss')\n",
    "plt.ylim([0, max(plt.ylim())])\n",
    "plt.xlabel('Epoch #')\n",
    "plt.ylabel('CE/token')\n",
    "plt.legend()"
   ]
  },
  {
   "cell_type": "code",
   "execution_count": 15,
   "metadata": {},
   "outputs": [
    {
     "data": {
      "text/plain": [
       "<matplotlib.legend.Legend at 0x7faf871391c0>"
      ]
     },
     "execution_count": 15,
     "metadata": {},
     "output_type": "execute_result"
    },
    {
     "data": {
      "image/png": "[encoded data removed]",
      "text/plain": [
       "<Figure size 640x480 with 1 Axes>"
      ]
     },
     "metadata": {},
     "output_type": "display_data"
    }
   ],
   "source": [
    "plt.plot(history.history['masked_acc'], label='accuracy')\n",
    "plt.plot(history.history['val_masked_acc'], label='val_accuracy')\n",
    "plt.ylim([0, max(plt.ylim())])\n",
    "plt.xlabel('Epoch #')\n",
    "plt.ylabel('CE/token')\n",
    "plt.legend()"
   ]
  },
  {
   "cell_type": "markdown",
   "metadata": {},
   "source": [
    "# Work in progress\n",
    "\n",
    "Need to build a predict step that accepts text and runs it through the model."
   ]
  },
  {
   "cell_type": "code",
   "execution_count": null,
   "metadata": {},
   "outputs": [],
   "source": [
    "def convert_input(texts):\n",
    "    texts = tf.convert_to_tensor(texts)\n",
    "    if len(texts.shape) == 0:\n",
    "        texts = tf.convert_to_tensor(texts)[tf.newaxis]\n",
    "    context = text_processor(texts).to_tensor()\n",
    "    return context\n",
    "\n",
    "def predict(input_text):\n",
    "    # Preprocess the input text\n",
    "    input_tokens = tokenizer_input.texts_to_sequences([input_text])\n",
    "    input_tokens_padded = tf.keras.preprocessing.sequence.pad_sequences(input_tokens, maxlen=max_length_input, padding='post')\n",
    "\n",
    "    # Initialize the decoder input as a sequence with just the start token\n",
    "    decoder_input = np.zeros((1, 1))\n",
    "    decoder_input[0, 0] = target_tokenizer.word_index['<start>']  # Assuming <start> is the start token\n",
    "\n",
    "    # Predict\n",
    "    output_text = ''\n",
    "    for i in range(max_length_target):\n",
    "        predictions = model.predict([input_tokens_padded, decoder_input])\n",
    "        predicted_id = np.argmax(predictions[0, -1, :])\n",
    "\n",
    "        # Convert the predicted ID to a word\n",
    "        predicted_word = target_tokenizer.index_word[predicted_id]\n",
    "\n",
    "        # Stop if the end token is reached\n",
    "        if predicted_word == '<end>':\n",
    "            break\n",
    "\n",
    "        # Append the predicted word to the output text\n",
    "        output_text += predicted_word + ' '\n",
    "\n",
    "        # Update the decoder input for the next prediction\n",
    "        decoder_input[0, 0] = predicted_id\n",
    "\n",
    "    return output_text.strip()\n"
   ]
  },
  {
   "cell_type": "code",
   "execution_count": null,
   "metadata": {},
   "outputs": [],
   "source": []
  },
  {
   "cell_type": "code",
   "execution_count": null,
   "metadata": {},
   "outputs": [],
   "source": [
    "convert_input(\"Hello world\")"
   ]
  }
 ],
 "metadata": {
  "kernelspec": {
   "display_name": "tf",
   "language": "python",
   "name": "python3"
  },
  "language_info": {
   "codemirror_mode": {
    "name": "ipython",
    "version": 3
   },
   "file_extension": ".py",
   "mimetype": "text/x-python",
   "name": "python",
   "nbconvert_exporter": "python",
   "pygments_lexer": "ipython3",
   "version": "3.9.17"
  },
  "orig_nbformat": 4
 },
 "nbformat": 4,
 "nbformat_minor": 2
}
