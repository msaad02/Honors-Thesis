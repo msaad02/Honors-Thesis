{
 "cells": [
  {
   "cell_type": "code",
   "execution_count": 1,
   "metadata": {},
   "outputs": [
    {
     "name": "stderr",
     "output_type": "stream",
     "text": [
      "/home/msaad/miniconda3/envs/thesis/lib/python3.10/site-packages/InstructorEmbedding/instructor.py:7: TqdmWarning: IProgress not found. Please update jupyter and ipywidgets. See https://ipywidgets.readthedocs.io/en/stable/user_install.html\n",
      "  from tqdm.autonotebook import trange\n"
     ]
    },
    {
     "name": "stdout",
     "output_type": "stream",
     "text": [
      "load INSTRUCTOR_Transformer\n",
      "max_seq_length  512\n"
     ]
    }
   ],
   "source": [
    "\"\"\"\n",
    "Using semantic search purely on the QA database to try and match questions. How good is it, I wonder.\n",
    "\"\"\"\n",
    "\n",
    "from InstructorEmbedding import INSTRUCTOR\n",
    "from sklearn.metrics.pairwise import cosine_similarity\n",
    "\n",
    "model = INSTRUCTOR('hkunlp/instructor-large')\n",
    "\n",
    "import numpy as np\n",
    "import torch\n",
    "\n",
    "# quantize the model \n",
    "# model = torch.quantization.quantize_dynamic(\n",
    "#     model, \n",
    "#     {torch.nn.Linear}, \n",
    "#     dtype=torch.qint8\n",
    "# )"
   ]
  },
  {
   "cell_type": "code",
   "execution_count": 14,
   "metadata": {},
   "outputs": [],
   "source": [
    "def find_similar(query, corpus):\n",
    "    query_embeddings = model.encode([['Represent the School question for retreiving supporting questions: ', query]])\n",
    "    corpus_embeddings = corpus\n",
    "    similarities = cosine_similarity(query_embeddings,corpus_embeddings)\n",
    "    retrieved_doc_id = np.argmax(similarities)\n",
    "    return retrieved_doc_id"
   ]
  },
  {
   "cell_type": "code",
   "execution_count": 3,
   "metadata": {},
   "outputs": [],
   "source": [
    "# code to load in data from json file\n",
    "import json\n",
    "\n",
    "with open('/home/msaad/workspace/honors-thesis/data-collection/data/full_dataset_v4.json') as f:\n",
    "    data = json.load(f)\n",
    "\n",
    "# expand list of dictionaries into list of lists\n",
    "data = [list(d.values()) for d in data]\n",
    "\n",
    "# I have a list of lists. Need to add an element to first element of list for every list in the list of lists.\n",
    "data = [['Represent the School question for retrieving supporting questions: '] + list for list in data]"
   ]
  },
  {
   "cell_type": "code",
   "execution_count": 4,
   "metadata": {},
   "outputs": [],
   "source": [
    "data_small = data[0:1000]"
   ]
  },
  {
   "cell_type": "code",
   "execution_count": 5,
   "metadata": {},
   "outputs": [],
   "source": [
    "corpus_data = [row[0:2] for row in data_small]\n",
    "\n",
    "corpus = model.encode(corpus_data)"
   ]
  },
  {
   "cell_type": "code",
   "execution_count": 17,
   "metadata": {},
   "outputs": [],
   "source": [
    "def match(question):\n",
    "    index = find_similar(question, corpus)\n",
    "    print(index)\n",
    "\n",
    "    return data_small[index]\n",
    "\n",
    "    # data_small[find_similar(question, corpus)]"
   ]
  },
  {
   "cell_type": "code",
   "execution_count": 18,
   "metadata": {},
   "outputs": [
    {
     "name": "stdout",
     "output_type": "stream",
     "text": [
      "259\n"
     ]
    },
    {
     "data": {
      "text/plain": [
       "['Represent the School question for retrieving supporting questions: ',\n",
       " 'Can I visit SUNY Brockport?',\n",
       " 'Yes, you can visit SUNY Brockport. They offer a virtual tour and have a physical location.']"
      ]
     },
     "execution_count": 18,
     "metadata": {},
     "output_type": "execute_result"
    }
   ],
   "source": [
    "match(\"I want to go to Brockport. How can I get started?\")"
   ]
  },
  {
   "cell_type": "code",
   "execution_count": 21,
   "metadata": {},
   "outputs": [
    {
     "name": "stdout",
     "output_type": "stream",
     "text": [
      "113\n"
     ]
    },
    {
     "data": {
      "text/plain": [
       "['Represent the School question for retrieving supporting questions: ',\n",
       " 'What club sports are offered at SERC?',\n",
       " 'The club sports offered at SERC can be found on their website.']"
      ]
     },
     "execution_count": 21,
     "metadata": {},
     "output_type": "execute_result"
    }
   ],
   "source": [
    "match(\"What clubs area available?\")"
   ]
  },
  {
   "cell_type": "code",
   "execution_count": 22,
   "metadata": {},
   "outputs": [
    {
     "data": {
      "text/plain": [
       "'hi'"
      ]
     },
     "execution_count": 22,
     "metadata": {},
     "output_type": "execute_result"
    }
   ],
   "source": [
    "input(\"test\")"
   ]
  }
 ],
 "metadata": {
  "kernelspec": {
   "display_name": "thesis",
   "language": "python",
   "name": "python3"
  },
  "language_info": {
   "codemirror_mode": {
    "name": "ipython",
    "version": 3
   },
   "file_extension": ".py",
   "mimetype": "text/x-python",
   "name": "python",
   "nbconvert_exporter": "python",
   "pygments_lexer": "ipython3",
   "version": "3.10.0"
  },
  "orig_nbformat": 4
 },
 "nbformat": 4,
 "nbformat_minor": 2
}
