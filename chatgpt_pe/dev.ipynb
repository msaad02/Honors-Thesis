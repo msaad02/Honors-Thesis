{
 "cells": [
  {
   "cell_type": "code",
   "execution_count": 1,
   "metadata": {},
   "outputs": [],
   "source": [
    "from rag import RAG"
   ]
  },
  {
   "cell_type": "code",
   "execution_count": 2,
   "metadata": {},
   "outputs": [],
   "source": [
    "system = \"\"\"You are a helpful chatbot for SUNY Brockport. You will be given information about questions people have asked about the school. Your job is to parse that information and generate realistic responses to those questions. Be enthusiastic, straightforward, and brief in your responses. Do not answer questions unrelated to SUNY Brockport, or questions that cannot be answered based on the information given. You do not have to address all parts of the context, just the most relevant information.\"\"\""
   ]
  },
  {
   "cell_type": "code",
   "execution_count": 3,
   "metadata": {},
   "outputs": [
    {
     "name": "stderr",
     "output_type": "stream",
     "text": [
      "2024-01-02 16:05:30.625524: I tensorflow/core/util/port.cc:110] oneDNN custom operations are on. You may see slightly different numerical results due to floating-point round-off errors from different computation orders. To turn them off, set the environment variable `TF_ENABLE_ONEDNN_OPTS=0`.\n",
      "2024-01-02 16:05:30.648022: I tensorflow/core/platform/cpu_feature_guard.cc:182] This TensorFlow binary is optimized to use available CPU instructions in performance-critical operations.\n",
      "To enable the following instructions: AVX2 AVX_VNNI FMA, in other operations, rebuild TensorFlow with the appropriate compiler flags.\n",
      "2024-01-02 16:05:31.170682: W tensorflow/compiler/tf2tensorrt/utils/py_utils.cc:38] TF-TRT Warning: Could not find TensorRT\n"
     ]
    }
   ],
   "source": [
    "rag = RAG(system_prompt=system)"
   ]
  },
  {
   "cell_type": "code",
   "execution_count": 4,
   "metadata": {},
   "outputs": [
    {
     "data": {
      "text/plain": [
       "'SAT scores are optional for applying to SUNY Brockport for undergraduate admission. If you choose to submit your SAT scores, you can send them to the Office of Undergraduate Admissions. If you have any further questions about the application process, feel free to reach out to us at admit@brockport.edu.'"
      ]
     },
     "execution_count": 4,
     "metadata": {},
     "output_type": "execute_result"
    }
   ],
   "source": [
    "response = rag.generate(\"Are SAT scores required to apply for undergrad?\")\n",
    "response.model_dump()['choices'][0]['message']['content']"
   ]
  },
  {
   "cell_type": "code",
   "execution_count": 5,
   "metadata": {},
   "outputs": [
    {
     "data": {
      "text/plain": [
       "\"To apply for financial aid, you can start by completing the Free Application for Federal Student Aid (FAFSA) online. Make sure to create an FSA ID first and then submit your application electronically. After submitting, you'll receive a confirmation number. This is the first step to determine your eligibility for federal and state financial aid programs.\""
      ]
     },
     "execution_count": 5,
     "metadata": {},
     "output_type": "execute_result"
    }
   ],
   "source": [
    "response = rag.generate(\"How can I apply for financial aid?\")\n",
    "response.model_dump()['choices'][0]['message']['content']"
   ]
  },
  {
   "cell_type": "code",
   "execution_count": 6,
   "metadata": {},
   "outputs": [],
   "source": [
    "def qa(question):\n",
    "    response = rag.generate(question)\n",
    "    return response.model_dump()['choices'][0]['message']['content']"
   ]
  },
  {
   "cell_type": "code",
   "execution_count": 7,
   "metadata": {},
   "outputs": [
    {
     "data": {
      "text/plain": [
       "'Yes, SUNY Brockport does have a computer science department. The department provides computing resources to support education, research, and public service at the university. You can find more information about the department on the official SUNY Brockport website.'"
      ]
     },
     "execution_count": 7,
     "metadata": {},
     "output_type": "execute_result"
    }
   ],
   "source": [
    "qa(\"Does Brockport have a computer science department?\")"
   ]
  },
  {
   "cell_type": "code",
   "execution_count": 8,
   "metadata": {},
   "outputs": [
    {
     "data": {
      "text/plain": [
       "\"Yes, SUNY Brockport does offer a Master's program in Computer Science. If you are interested in pursuing this program, be sure to review the degree requirements and reach out to the department for more information.\""
      ]
     },
     "execution_count": 8,
     "metadata": {},
     "output_type": "execute_result"
    }
   ],
   "source": [
    "qa(\"Is there a masters program in CS?\")"
   ]
  },
  {
   "cell_type": "code",
   "execution_count": 9,
   "metadata": {},
   "outputs": [
    {
     "data": {
      "text/plain": [
       "'The average class size at SUNY Brockport can vary depending on the course and faculty. However, for faculty members with certain teaching assignments, a lecture section may have an enrollment of at least 120 students, and a total enrollment across two lecture sections may be around 180 students. This information gives an indication of the class sizes that may be encountered at the university.'"
      ]
     },
     "execution_count": 9,
     "metadata": {},
     "output_type": "execute_result"
    }
   ],
   "source": [
    "qa(\"What is the average class size?\")"
   ]
  },
  {
   "cell_type": "code",
   "execution_count": 10,
   "metadata": {},
   "outputs": [
    {
     "data": {
      "text/plain": [
       "'The student to faculty ratio at SUNY Brockport is 14:1. This means that for every faculty member, there are about 14 students. This ratio allows for personalized attention and support from our dedicated faculty.'"
      ]
     },
     "execution_count": 10,
     "metadata": {},
     "output_type": "execute_result"
    }
   ],
   "source": [
    "qa(\"What is the student to faculty ratio?\")"
   ]
  },
  {
   "cell_type": "code",
   "execution_count": 11,
   "metadata": {},
   "outputs": [
    {
     "data": {
      "text/plain": [
       "'SUNY Brockport offers a number of unique and exciting programs to make your learning experience meaningful and memorable. With over 350 donor-created scholarships available, students can find support for their studies in each of the three academic schools as well as related programs and student activities.'"
      ]
     },
     "execution_count": 11,
     "metadata": {},
     "output_type": "execute_result"
    }
   ],
   "source": [
    "qa(\"How many programs does Brockport offer?\")"
   ]
  },
  {
   "cell_type": "code",
   "execution_count": 12,
   "metadata": {},
   "outputs": [
    {
     "data": {
      "text/plain": [
       "'The cost of attendance at SUNY Brockport varies for in-state and out-of-state students. New York State residents may be eligible for the $6,000 Prometheus Scholarship, while out-of-state students may receive a $10,000 scholarship. Additionally, eligible first-year students can receive a free parking pass and other benefits. For specific details and a breakdown of costs, I recommend contacting the Office of Undergraduate Admissions for assistance.'"
      ]
     },
     "execution_count": 12,
     "metadata": {},
     "output_type": "execute_result"
    }
   ],
   "source": [
    "qa(\"What is the cost of attendance?\")"
   ]
  }
 ],
 "metadata": {
  "kernelspec": {
   "display_name": "thesis",
   "language": "python",
   "name": "python3"
  },
  "language_info": {
   "codemirror_mode": {
    "name": "ipython",
    "version": 3
   },
   "file_extension": ".py",
   "mimetype": "text/x-python",
   "name": "python",
   "nbconvert_exporter": "python",
   "pygments_lexer": "ipython3",
   "version": "3.11.4"
  }
 },
 "nbformat": 4,
 "nbformat_minor": 2
}
