{
 "cells": [
  {
   "cell_type": "code",
   "execution_count": 1,
   "metadata": {},
   "outputs": [],
   "source": [
    "from rag import RAG\n",
    "\n",
    "rag = RAG()"
   ]
  },
  {
   "cell_type": "code",
   "execution_count": 2,
   "metadata": {},
   "outputs": [
    {
     "data": {
      "text/plain": [
       "'SAT scores are optional for undergraduate applicants at SUNY Brockport. However, the Admissions Committee may suggest retaking the exam if they believe it could strengthen your application.'"
      ]
     },
     "execution_count": 2,
     "metadata": {},
     "output_type": "execute_result"
    }
   ],
   "source": [
    "response = rag.generate(\"Are SAT scores required to apply for undergrad?\")\n",
    "response"
   ]
  },
  {
   "cell_type": "code",
   "execution_count": 10,
   "metadata": {},
   "outputs": [
    {
     "data": {
      "text/plain": [
       "'Yes, SUNY Brockport does have a computer science department.'"
      ]
     },
     "execution_count": 10,
     "metadata": {},
     "output_type": "execute_result"
    }
   ],
   "source": [
    "rag.generate(\"Does Brockport have a computer science department?\")"
   ]
  },
  {
   "cell_type": "code",
   "execution_count": 2,
   "metadata": {},
   "outputs": [
    {
     "data": {
      "text/plain": [
       "(\"Yes, there is a master's program in Computer Science at SUNY Brockport.\",\n",
       " 'Registration for 16 or more credits requires both departmental approval and approval by the dean of graduate studies. There are no approvals for this policy at this time\\n\\nThesis/project continuation credits do not count toward degree requirements, nor do grades for these credits carry quality points used in the calculation of the GPA. There are no approvals for this policy at this time\\n\\nThat goes for your major, too, even though you may not actually register as a major in a particular field until some later date. You do have the option of pursuing the degree requirements that were in place when you matriculated, or choosing the ones established after that date.')"
      ]
     },
     "execution_count": 2,
     "metadata": {},
     "output_type": "execute_result"
    }
   ],
   "source": [
    "rag.generate(\"Is there a masters program in CS?\", True)"
   ]
  },
  {
   "cell_type": "code",
   "execution_count": 5,
   "metadata": {},
   "outputs": [
    {
     "data": {
      "text/plain": [
       "'The average class size for faculty with a teaching load of about 120 students or more in one lecture section is approximately 120 students.'"
      ]
     },
     "execution_count": 5,
     "metadata": {},
     "output_type": "execute_result"
    }
   ],
   "source": [
    "rag.generate(\"What is the average class size?\")"
   ]
  },
  {
   "cell_type": "code",
   "execution_count": 6,
   "metadata": {},
   "outputs": [
    {
     "data": {
      "text/plain": [
       "\"I'm sorry, the context provided doesn't include the specific student to faculty ratio. If you have any other questions about SUNY Brockport, feel free to ask!\""
      ]
     },
     "execution_count": 6,
     "metadata": {},
     "output_type": "execute_result"
    }
   ],
   "source": [
    "rag.generate(\"What is the student to faculty ratio?\")"
   ]
  },
  {
   "cell_type": "code",
   "execution_count": 7,
   "metadata": {},
   "outputs": [
    {
     "data": {
      "text/plain": [
       "'Brockport offers more than 350 unique scholarships through the Brockport Foundation. These scholarships recognize students in each of the three academic schools, related programs, and many student activities.'"
      ]
     },
     "execution_count": 7,
     "metadata": {},
     "output_type": "execute_result"
    }
   ],
   "source": [
    "rag.generate(\"How many programs does Brockport offer?\")"
   ]
  },
  {
   "cell_type": "code",
   "execution_count": 8,
   "metadata": {},
   "outputs": [
    {
     "data": {
      "text/plain": [
       "'The cost of attendance varies based on residency status and individual circumstances. In addition to tuition and fees, students should consider expenses for housing, meals, books, and personal costs. For a more accurate estimate, it is best to contact the Office of Undergraduate Admissions at SUNY Brockport.'"
      ]
     },
     "execution_count": 8,
     "metadata": {},
     "output_type": "execute_result"
    }
   ],
   "source": [
    "rag.generate(\"What is the cost of attendance?\")"
   ]
  },
  {
   "cell_type": "code",
   "execution_count": 9,
   "metadata": {},
   "outputs": [
    {
     "data": {
      "text/plain": [
       "'You can view and pay your bill by selecting the \"View Bill & Remit Payment\" button in QuikPAY via Web Banner. You can also set up authorized users to receive eBill notifications. For more information on payment options, including installment plans, you can find it on the SUNY Brockport website.'"
      ]
     },
     "execution_count": 9,
     "metadata": {},
     "output_type": "execute_result"
    }
   ],
   "source": [
    "rag.generate(\"Where can I view and pay my bill?\")"
   ]
  }
 ],
 "metadata": {
  "kernelspec": {
   "display_name": "thesis",
   "language": "python",
   "name": "python3"
  },
  "language_info": {
   "codemirror_mode": {
    "name": "ipython",
    "version": 3
   },
   "file_extension": ".py",
   "mimetype": "text/x-python",
   "name": "python",
   "nbconvert_exporter": "python",
   "pygments_lexer": "ipython3",
   "version": "3.11.4"
  }
 },
 "nbformat": 4,
 "nbformat_minor": 2
}
