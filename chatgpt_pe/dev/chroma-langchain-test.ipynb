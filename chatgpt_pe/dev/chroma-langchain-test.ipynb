{
 "cells": [
  {
   "cell_type": "code",
   "execution_count": 17,
   "metadata": {},
   "outputs": [],
   "source": [
    "\n",
    "from langchain.vectorstores import Chroma\n",
    "from langchain.chains import VectorDBQA\n",
    "from langchain.llms import OpenAI\n",
    "from langchain.chains import RetrievalQA\n",
    "from langchain.document_loaders import DirectoryLoader\n",
    "from chromadb.utils import embedding_functions\n",
    "import chromadb\n",
    "from langchain.embeddings import HuggingFaceInstructEmbeddings"
   ]
  },
  {
   "cell_type": "code",
   "execution_count": 2,
   "metadata": {},
   "outputs": [
    {
     "name": "stderr",
     "output_type": "stream",
     "text": [
      "The MIME type of 'db_split/chunk_10481.txt' is 'message/news'. This file type is not currently supported in unstructured.\n",
      "The MIME type of 'db_split/chunk_4148.txt' is 'message/news'. This file type is not currently supported in unstructured.\n"
     ]
    },
    {
     "data": {
      "text/plain": [
       "20157"
      ]
     },
     "execution_count": 2,
     "metadata": {},
     "output_type": "execute_result"
    }
   ],
   "source": [
    "# Print number of txt files in directory\n",
    "loader = DirectoryLoader('./db_split', glob=\"./*.txt\")\n",
    "doc = loader.load()\n",
    "len(doc)"
   ]
  },
  {
   "cell_type": "code",
   "execution_count": 14,
   "metadata": {},
   "outputs": [
    {
     "name": "stdout",
     "output_type": "stream",
     "text": [
      "load INSTRUCTOR_Transformer\n",
      "max_seq_length  512\n"
     ]
    }
   ],
   "source": [
    "persist_directory = 'db_test'\n",
    "\n",
    "embedding_function = HuggingFaceInstructEmbeddings(\n",
    "    query_instruction=\"Represent the query for retrieval: \"\n",
    ")\n",
    "\n",
    "# instructor_collection = client.create_collection(name=\"instructor_embeddings\", embedding_function=embedding_function)\n",
    "\n",
    "vectordb = Chroma.from_documents(\n",
    "    documents=doc,\n",
    "    embedding=embedding_function,\n",
    "    persist_directory=persist_directory\n",
    ")"
   ]
  },
  {
   "cell_type": "code",
   "execution_count": 16,
   "metadata": {},
   "outputs": [],
   "source": [
    "vectordb.persist()"
   ]
  },
  {
   "cell_type": "code",
   "execution_count": 25,
   "metadata": {},
   "outputs": [
    {
     "name": "stderr",
     "output_type": "stream",
     "text": [
      "/home/msaad/miniconda3/envs/qlora/lib/python3.11/site-packages/langchain/chains/retrieval_qa/base.py:243: UserWarning: `VectorDBQA` is deprecated - please use `from langchain.chains import RetrievalQA`\n",
      "  warnings.warn(\n"
     ]
    }
   ],
   "source": [
    "vectordb = Chroma(persist_directory=persist_directory, embedding_function=embedding_function)\n",
    "qa = VectorDBQA.from_chain_type(llm=OpenAI(), chain_type=\"stuff\", vectorstore=vectordb)"
   ]
  },
  {
   "cell_type": "code",
   "execution_count": 22,
   "metadata": {},
   "outputs": [
    {
     "data": {
      "text/plain": [
       "[Document(page_content='This should come from a teacher and/or counselor. If you complete the Common Application, you will be prompted to submit one during that process.', metadata={'source': 'db_split/chunk_10695.txt'}),\n",
       " Document(page_content='This should come from a teacher and/or counselor. If you complete the Common Application, you will be prompted to submit one during that process.', metadata={'source': 'db_split/chunk_14415.txt'}),\n",
       " Document(page_content='Read the application and guidelines carefully and provide all the information required, including school name and school code as they appear on the list of participating colleges, universities, and institutions.', metadata={'source': 'db_split/chunk_5079.txt'}),\n",
       " Document(page_content='Students interested in applying for admission into the Honors College should first submit the SUNY Application or Common Application for admission into SUNY Brockport and then complete the appropriate Honors College', metadata={'source': 'db_split/chunk_4863.txt'})]"
      ]
     },
     "execution_count": 22,
     "metadata": {},
     "output_type": "execute_result"
    }
   ],
   "source": [
    "vectordb.search(\"How do I apply through the commonapp??\", search_type=\"similarity\")"
   ]
  },
  {
   "cell_type": "code",
   "execution_count": 23,
   "metadata": {},
   "outputs": [
    {
     "data": {
      "text/plain": [
       "' To apply, you will need to follow the guidelines outlined in this document. If you have further questions about the overall transfer process, general guidelines and process, please see the information provided.'"
      ]
     },
     "execution_count": 23,
     "metadata": {},
     "output_type": "execute_result"
    }
   ],
   "source": [
    "query = \"How can I apply?\"\n",
    "qa.run(query)"
   ]
  },
  {
   "cell_type": "code",
   "execution_count": 3,
   "metadata": {},
   "outputs": [
    {
     "data": {
      "text/plain": [
       "'test\\ntedxt\\neree'"
      ]
     },
     "execution_count": 3,
     "metadata": {},
     "output_type": "execute_result"
    }
   ],
   "source": [
    "list = ['test', 'tedxt', 'eree']\n",
    "\n",
    "'\\n'.join(list)"
   ]
  }
 ],
 "metadata": {
  "kernelspec": {
   "display_name": "qlora",
   "language": "python",
   "name": "python3"
  },
  "language_info": {
   "codemirror_mode": {
    "name": "ipython",
    "version": 3
   },
   "file_extension": ".py",
   "mimetype": "text/x-python",
   "name": "python",
   "nbconvert_exporter": "python",
   "pygments_lexer": "ipython3",
   "version": "3.11.3"
  },
  "orig_nbformat": 4
 },
 "nbformat": 4,
 "nbformat_minor": 2
}
