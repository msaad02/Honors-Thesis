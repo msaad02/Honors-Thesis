{
 "cells": [
  {
   "cell_type": "code",
   "execution_count": 10,
   "metadata": {},
   "outputs": [
    {
     "name": "stdout",
     "output_type": "stream",
     "text": [
      "I am an AI-powered virtual assistant designed to provide helpful information and assist with various tasks. I am constantly learning and expanding my knowledge base to better assist users like yourself. I can help answer questions, provide recommendations, engage in conversation, and perform certain tasks based on your requests. Is there anything specific you would like assistance with?"
     ]
    }
   ],
   "source": [
    "from openai import OpenAI\n",
    "\n",
    "client = OpenAI()\n",
    "\n",
    "response = client.chat.completions.create(\n",
    "    model=\"gpt-3.5-turbo\",\n",
    "    messages=[\n",
    "        {\"role\": \"system\", \"content\": \"Your a helpful assistant.\"},\n",
    "        {\"role\": \"user\", \"content\": \"Tell me about you\"},\n",
    "    ],\n",
    "    temperature=1,\n",
    "    stream=True\n",
    ")\n",
    "\n",
    "for chunk in response:\n",
    "    content = chunk.choices[0].delta.content\n",
    "\n",
    "    if content is not None:\n",
    "        print(chunk.choices[0].delta.content, end=\"\")"
   ]
  },
  {
   "cell_type": "code",
   "execution_count": 1,
   "metadata": {},
   "outputs": [],
   "source": [
    "from text_search.text_retriever_class import TextRetriever, TypesenseRetriever\n",
    "\n",
    "retriever = TypesenseRetriever(\n",
    "    main_categorization_model_dir=\"./text_search/models/main_category_model\",\n",
    "    subcategorization_model_dir=\"./text_search/models/subcategory_models/\",\n",
    ")"
   ]
  },
  {
   "cell_type": "code",
   "execution_count": 15,
   "metadata": {},
   "outputs": [],
   "source": [
    "search = retriever._combine_categorization_with_search(\"How can I apply?\", top_n=1)"
   ]
  },
  {
   "cell_type": "code",
   "execution_count": 16,
   "metadata": {},
   "outputs": [
    {
     "data": {
      "text/plain": [
       "{'question': 'How can I apply?',\n",
       " 'categories': {'main_categories': ['graduate',\n",
       "   'support',\n",
       "   'life',\n",
       "   'academics',\n",
       "   'admissions',\n",
       "   'library',\n",
       "   'about',\n",
       "   'alumni',\n",
       "   'bsg',\n",
       "   'scholarships-aid',\n",
       "   'live',\n",
       "   'research-foundation'],\n",
       "  'sub_categories': []},\n",
       " 'response': {'results': [{'code': 400,\n",
       "    'error': 'Parameter `limit` must be an unsigned integer.'}]}}"
      ]
     },
     "execution_count": 16,
     "metadata": {},
     "output_type": "execute_result"
    }
   ],
   "source": [
    "search"
   ]
  },
  {
   "cell_type": "code",
   "execution_count": 14,
   "metadata": {},
   "outputs": [
    {
     "name": "stdout",
     "output_type": "stream",
     "text": [
      "ERROR\n"
     ]
    }
   ],
   "source": [
    "if 'code' in search['response']['results'][0].keys():\n",
    "    print(\"ERROR\")"
   ]
  },
  {
   "cell_type": "code",
   "execution_count": 10,
   "metadata": {},
   "outputs": [
    {
     "ename": "KeyError",
     "evalue": "'hits'",
     "output_type": "error",
     "traceback": [
      "\u001b[0;31m---------------------------------------------------------------------------\u001b[0m",
      "\u001b[0;31mKeyError\u001b[0m                                  Traceback (most recent call last)",
      "Cell \u001b[0;32mIn[10], line 1\u001b[0m\n\u001b[0;32m----> 1\u001b[0m results \u001b[38;5;241m=\u001b[39m [x[\u001b[38;5;124m'\u001b[39m\u001b[38;5;124mdocument\u001b[39m\u001b[38;5;124m'\u001b[39m][\u001b[38;5;124m'\u001b[39m\u001b[38;5;124mcontext\u001b[39m\u001b[38;5;124m'\u001b[39m] \u001b[38;5;28;01mfor\u001b[39;00m x \u001b[38;5;129;01min\u001b[39;00m \u001b[43msearch\u001b[49m\u001b[43m[\u001b[49m\u001b[38;5;124;43m'\u001b[39;49m\u001b[38;5;124;43mresponse\u001b[39;49m\u001b[38;5;124;43m'\u001b[39;49m\u001b[43m]\u001b[49m\u001b[43m[\u001b[49m\u001b[38;5;124;43m'\u001b[39;49m\u001b[38;5;124;43mresults\u001b[39;49m\u001b[38;5;124;43m'\u001b[39;49m\u001b[43m]\u001b[49m\u001b[43m[\u001b[49m\u001b[38;5;241;43m0\u001b[39;49m\u001b[43m]\u001b[49m\u001b[43m[\u001b[49m\u001b[38;5;124;43m'\u001b[39;49m\u001b[38;5;124;43mhits\u001b[39;49m\u001b[38;5;124;43m'\u001b[39;49m\u001b[43m]\u001b[49m]\n",
      "\u001b[0;31mKeyError\u001b[0m: 'hits'"
     ]
    }
   ],
   "source": [
    "results = [x['document']['context'] for x in search['response']['results'][0]['hits']]"
   ]
  },
  {
   "cell_type": "code",
   "execution_count": 8,
   "metadata": {},
   "outputs": [
    {
     "data": {
      "text/plain": [
       "['It helps improve motivation and often improves performance. Too much tension, however, hinders performance and becomes damaging. If you experience extreme nervousness, dread or fear before exams and have put forth your best effort to prepare in advance, you may be suffering from test anxiety. Simply put, test anxiety prevents you from doing your best on exams. Symptoms of test anxiety can be separated into 2 categories: mental stress & physical stress.',\n",
       " 'people sitting nearby, watching the clock, awareness of when others finish their test, classroom noise, etc.). Mental blocks or a general inability to perform complex intellectual task. Test anxiety is more intense than average nervousness before a test and is not subject specific (i.e. only occurs during math tests). Not caused by lack of preparation or poor test testing skills (although, these circumstances will likely cause someone with test anxiety more nervousness).']"
      ]
     },
     "execution_count": 8,
     "metadata": {},
     "output_type": "execute_result"
    }
   ],
   "source": [
    "results"
   ]
  }
 ],
 "metadata": {
  "kernelspec": {
   "display_name": "thesis",
   "language": "python",
   "name": "python3"
  },
  "language_info": {
   "codemirror_mode": {
    "name": "ipython",
    "version": 3
   },
   "file_extension": ".py",
   "mimetype": "text/x-python",
   "name": "python",
   "nbconvert_exporter": "python",
   "pygments_lexer": "ipython3",
   "version": "3.11.4"
  }
 },
 "nbformat": 4,
 "nbformat_minor": 2
}
