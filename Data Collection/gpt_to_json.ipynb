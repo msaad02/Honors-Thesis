{
 "cells": [
  {
   "cell_type": "code",
   "execution_count": 1,
   "metadata": {},
   "outputs": [],
   "source": [
    "import json\n",
    "import re\n",
    "import pickle\n",
    "from itertools import chain\n",
    "import random"
   ]
  },
  {
   "cell_type": "code",
   "execution_count": 2,
   "metadata": {},
   "outputs": [],
   "source": [
    "obj = pickle.load(open('random_100_gpt.p', 'rb'))"
   ]
  },
  {
   "cell_type": "code",
   "execution_count": 4,
   "metadata": {},
   "outputs": [],
   "source": [
    "# The regular expression pattern for a JSON object with \"instruction\" and \"output\"\n",
    "pattern = r'\"instruction\":\\s*\"(.*?)\",.*?\"output\":\\s*\"(.*?)\"'\n",
    "\n",
    "def extract_data(s):\n",
    "    matches = re.findall(pattern, s, flags=re.DOTALL)\n",
    "    data = [{\"instruction\": m[0], \"input\": \"\", \"output\": m[1]} for m in matches]\n",
    "    return data\n",
    "\n",
    "jsonqa = []\n",
    "\n",
    "for key, value in obj.items():\n",
    "    clean_value = extract_data(value)\n",
    "    jsonqa.append(clean_value)\n",
    "\n",
    "jsonqa = list(chain(*jsonqa))\n",
    "\n",
    "random.shuffle(jsonqa)\n",
    "\n",
    "# Write to a JSON file\n",
    "with open('output.json', 'w') as f:\n",
    "    for value in jsonqa:\n",
    "        json.dump(value, f)\n",
    "        f.write('\\n')  # Add a newline after each JSON object"
   ]
  },
  {
   "cell_type": "code",
   "execution_count": null,
   "metadata": {},
   "outputs": [],
   "source": [
    "# def clean_json(obj):\n",
    "#     new_obj = {}\n",
    "    \n",
    "#     # Iterate over each key-value pair in the object\n",
    "#     for key, value_str in obj.items():\n",
    "#         new_dict = {}\n",
    "#         print(key)\n",
    "#         # Convert value to string and remove unwanted patterns\n",
    "#         value_str = re.sub(r'\"?[0-9]+\"?:\\s*{', '{', value_str)  # Remove number labels like \"1\": {\n",
    "#         value_str = re.sub(r'\"input\":\\s*\"N/A\"', '\"input\": \"\"', value_str)  # Replace \"N/A\" with empty string in \"input\"\n",
    "#         value_str = re.sub(r\"^{\", \"[\", value_str)\n",
    "#         value_str = re.sub(r\"}$\", \"]\", value_str)\n",
    "\n",
    "#         new_dict = json.loads(value_str)\n",
    "        \n",
    "#         # Add cleaned dictionary to new object\n",
    "#         new_obj[key] = new_dict\n",
    "    \n",
    "#     return new_obj\n",
    "\n",
    "# # Clean the object\n",
    "# obj = clean_json(obj)\n",
    "\n",
    "# # Write to a JSON file\n",
    "# with open('output.json', 'w') as f:\n",
    "#     for key in obj:\n",
    "#         json.dump(obj[key], f)\n",
    "#         f.write('\\n')  # Add a newline after each JSON object\n"
   ]
  }
 ],
 "metadata": {
  "kernelspec": {
   "display_name": "scrape",
   "language": "python",
   "name": "python3"
  },
  "language_info": {
   "codemirror_mode": {
    "name": "ipython",
    "version": 3
   },
   "file_extension": ".py",
   "mimetype": "text/x-python",
   "name": "python",
   "nbconvert_exporter": "python",
   "pygments_lexer": "ipython3",
   "version": "3.11.3"
  },
  "orig_nbformat": 4
 },
 "nbformat": 4,
 "nbformat_minor": 2
}
