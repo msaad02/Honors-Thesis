{
 "cells": [
  {
   "cell_type": "code",
   "execution_count": 1,
   "metadata": {},
   "outputs": [],
   "source": [
    "import requests\n",
    "import time\n",
    "import pickle\n",
    "import os\n",
    "import random\n",
    "from bs4 import BeautifulSoup"
   ]
  },
  {
   "attachments": {},
   "cell_type": "markdown",
   "metadata": {},
   "source": [
    "#### Dealing with Robots.txt\n",
    "\n",
    "The following code reads the robots.txt file and creates a dictionary. SUNY Brockport website only contains Disallowed, so we are concerned with that alone. Will use regex to parse links and make sure we don't crawl these wepages"
   ]
  },
  {
   "cell_type": "code",
   "execution_count": 2,
   "metadata": {},
   "outputs": [
    {
     "name": "stderr",
     "output_type": "stream",
     "text": [
      "  % Total    % Received % Xferd  Average Speed   Time    Time     Time  Current\n",
      "                                 Dload  Upload   Total   Spent    Left  Speed\n",
      "100  1620  100  1620    0     0   8475      0 --:--:-- --:--:-- --:--:--  8481\n"
     ]
    }
   ],
   "source": [
    "result = os.popen(\"curl https://www2.brockport.edu/robots.txt\").read()\n",
    "result_data_set = {\"Disallowed\":[], \"Allowed\":[]}\n",
    "\n",
    "for line in result.split(\"\\n\"):\n",
    "    if line.startswith('Allow'):    # this is for allowed url\n",
    "        result_data_set[\"Allowed\"].append(line.split(': ')[1].split(' ')[0])    # to neglect the comments or other junk info\n",
    "    elif line.startswith('Disallow'):    # this is for disallowed url\n",
    "        result_data_set[\"Disallowed\"].append(line.split(': ')[1].split(' ')[0])    # to neglect the comments or other junk info\n",
    "\n",
    "disallow_list = result_data_set['Disallowed']\n",
    "\n",
    "# Adding my own filters. These files tend to not work throughout.\n",
    "disallow_list.extend(['/live/files/', '.html/', 'livewhale', '/bounce/', 'instagram.com', 'twitter.com', 'facebook.com', 'youtube.com', '/search/'])"
   ]
  },
  {
   "attachments": {},
   "cell_type": "markdown",
   "metadata": {},
   "source": [
    "#### `search_page`\n",
    "Given list of links, will retreive webpages for each. Stores data in dictionary where the link is the key, and the webpage response is the value\n",
    "\n",
    "---\n",
    "#### `get_links_from_webpage`\n",
    "Given some response object (usually one of the values from the output of `search_page`) will get a list of links on that page, eventually gets passed back into `seach_page`\n",
    "\n",
    "---\n",
    "#### `recursive_scrape`\n",
    "Given a base webpage and depth, will call `search_page` and `get_links_from_webpage` to recursively search a website. This obeys robots.txt (see above) and includes a number of other constraints to reduce the number of errors caught."
   ]
  },
  {
   "cell_type": "code",
   "execution_count": 3,
   "metadata": {},
   "outputs": [],
   "source": [
    "def search_page(links: list) -> dict:\n",
    "    data = {}\n",
    "\n",
    "    # loop over the links and scrape each page\n",
    "    for link in links:\n",
    "        try:\n",
    "            data[link] = requests.get(link)\n",
    "\n",
    "            # To not overload the website, sleep 1 sec\n",
    "            time.sleep(random.uniform(1, 3))\n",
    "        except Exception as e:\n",
    "            print(f\"An error occurred when processing {link}\")\n",
    "            continue\n",
    "\n",
    "    return data\n",
    "\n",
    "def get_links_from_webpage(responseObj) -> list:\n",
    "    links = []\n",
    "\n",
    "    soup = BeautifulSoup(responseObj.text, 'html.parser')\n",
    "\n",
    "    # Find all the links on the page\n",
    "    links = soup.find_all('a')\n",
    "\n",
    "    # Filter the links to get only those that point to other pages on the same site\n",
    "    # This is done by checking if the link starts with '/' (indicating it's a relative link)\n",
    "    # and doesn't contain '#' (which would indicate it's a link to a specific part of the same page)\n",
    "    links = [link for link in links if link.get('href') is not None]\n",
    "    links = [link.get('href') for link in links if link.get('href').startswith('/') and '#' not in link.get('href')]\n",
    "\n",
    "    # APPLY FILTER... Gets rid of robots.txt files, and some others.\n",
    "    links = [link for link in links if not any(bad_link in link for bad_link in disallow_list)]\n",
    "\n",
    "    links = [link.rstrip('/') for link in links]\n",
    "\n",
    "    # Remove duplicates\n",
    "    links = list(set(links))\n",
    "\n",
    "    links = [\"https://www2.brockport.edu\" + link for link in links]\n",
    "\n",
    "    return links\n",
    "\n",
    "def recursive_scrape(webpage, depth):\n",
    "    links_to_visit = [webpage]\n",
    "    data = {}\n",
    "\n",
    "    for interation in range(depth):\n",
    "        print('Pass', interation)\n",
    "        \n",
    "        # visit only links we haven't searched before\n",
    "        links_to_visit = [link for link in links_to_visit if link not in list(data.keys())]\n",
    "        links_to_visit = list(set(links_to_visit))\n",
    "\n",
    "        # add all the links_to_visit to the data\n",
    "        data.update(search_page(links_to_visit))\n",
    "\n",
    "        # reset links_to_visit\n",
    "        links_to_visit = []\n",
    "\n",
    "        # update the links to visit\n",
    "        for response in data.values():\n",
    "            links_to_visit.extend(get_links_from_webpage(response))\n",
    "\n",
    "    return data"
   ]
  },
  {
   "attachments": {},
   "cell_type": "markdown",
   "metadata": {},
   "source": [
    "#### Use scraper, and save off the data.\n",
    "\n",
    "Expected to take 2 hours atleast. ETA 9pm?"
   ]
  },
  {
   "cell_type": "code",
   "execution_count": 4,
   "metadata": {},
   "outputs": [
    {
     "name": "stdout",
     "output_type": "stream",
     "text": [
      "Pass 0\n",
      "Pass 1\n",
      "An error occurred when processing https://www2.brockport.edu/directory\n",
      "Pass 2\n",
      "An error occurred when processing https://www2.brockport.edu/academics/catalogs\n",
      "An error occurred when processing https://www2.brockport.edu/tour\n",
      "An error occurred when processing https://www2.brockport.edu/support/registration_records/GraduateTransferCreditApproval\n",
      "An error occurred when processing https://www2.brockport.edu/academics/catalogs/2022\n",
      "An error occurred when processing https://www2.brockport.edu/career\n",
      "An error occurred when processing https://www2.brockport.edu/directory\n",
      "An error occurred when processing https://www2.brockport.edu/support/lits/helpdesk\n",
      "An error occurred when processing https://www2.brockport.edu/support/enrollment_management/basic_needs/index.html\n",
      "An error occurred when processing https://www2.brockport.edu/support/lits\n",
      "Pass 3\n",
      "An error occurred when processing https://www2.brockport.edu/academics/catalogs/current/programs/museum-minor.html\n",
      "An error occurred when processing https://www2.brockport.edu/academics/catalogs/2022/programs\n",
      "An error occurred when processing https://www2.brockport.edu/tour\n",
      "An error occurred when processing https://www2.brockport.edu/support/registration_records/GraduateTransferCreditApproval\n",
      "An error occurred when processing https://www2.brockport.edu/academics/catalogs/current/honors_college.html\n",
      "An error occurred when processing https://www2.brockport.edu/support/human_resources/forms/index\n",
      "An error occurred when processing https://www2.brockport.edu/academics/catalogs/2022\n",
      "An error occurred when processing https://www2.brockport.edu/registrar\n",
      "An error occurred when processing https://www2.brockport.edu/support/lits/email\n",
      "An error occurred when processing https://www2.brockport.edu/support/lits\n",
      "An error occurred when processing https://www2.brockport.edu/academics/catalogs\n",
      "An error occurred when processing https://www2.brockport.edu/academics/catalogs/current/programs/aging-minor.html\n",
      "An error occurred when processing https://www2.brockport.edu/titleix/incident_report.html\n",
      "An error occurred when processing https://www2.brockport.edu/up/bluelight.html\n",
      "An error occurred when processing https://www2.brockport.edu/academics/catalogs/current/programs/pre-med-health_minor.html\n",
      "An error occurred when processing https://www2.brockport.edu/support/bits/helpdesk\n",
      "An error occurred when processing https://www2.brockport.edu/academics/catalogs/current/programs/aging-advanced_cert.html\n",
      "An error occurred when processing https://www2.brockport.edu/parking\n",
      "An error occurred when processing https://www2.brockport.edu/academics/catalogs/2022/courses/ug/SOC.html\n",
      "An error occurred when processing https://www2.brockport.edu/support/human_resources/docs/background_invest_procedures_2012-11-05\n",
      "An error occurred when processing https://www2.brockport.edu/academics/catalogs/current\n",
      "An error occurred when processing https://www2.brockport.edu/academics/catalogs/2022/learning_outcomes.html\n",
      "An error occurred when processing https://www2.brockport.edu/news/stories/health_professions.html\n",
      "An error occurred when processing https://www2.brockport.edu/map\n",
      "An error occurred when processing https://www2.brockport.edu/career\n",
      "An error occurred when processing https://www2.brockport.edu/academics/catalogs/current/programs/neuroscience-index.html\n",
      "An error occurred when processing https://www2.brockport.edu/directory\n",
      "An error occurred when processing https://www2.brockport.edu/academics/catalogs/current/programs/public_health-masters.html\n",
      "An error occurred when processing https://www2.brockport.edu/news/stories/lavender_ceremony\n",
      "An error occurred when processing https://www2.brockport.edu/directory/departments/view.html?id=248\n",
      "An error occurred when processing https://www2.brockport.edu/financial_aid\n",
      "An error occurred when processing https://www2.brockport.edu/support/human_resources/appointments/index\n",
      "An error occurred when processing https://www2.brockport.edu/academics/catalogs/current/programs/community_justice-index.html\n",
      "An error occurred when processing https://www2.brockport.edu/policies\n",
      "An error occurred when processing https://www2.brockport.edu/academics/catalogs/current/programs/film-minor.html\n",
      "An error occurred when processing https://www2.brockport.edu/academics/support.html\n",
      "An error occurred when processing https://www2.brockport.edu/academics/military_science/scholarships\n",
      "An error occurred when processing https://www2.brockport.edu/support/lits/helpdesk\n",
      "An error occurred when processing https://www2.brockport.edu/support/student_accounts/www.irs.gov/pub/irs-pdf/p970.pdf\n",
      "An error occurred when processing https://www2.brockport.edu/support/enrollment_management/basic_needs/index.html\n",
      "An error occurred when processing https://www2.brockport.edu/support/enrollment_management/psc\n"
     ]
    }
   ],
   "source": [
    "data = recursive_scrape(\"https://www2.brockport.edu\", 4)"
   ]
  },
  {
   "cell_type": "code",
   "execution_count": 5,
   "metadata": {},
   "outputs": [],
   "source": [
    "pickle.dump(data, open('scraper_output.p', 'wb'))"
   ]
  }
 ],
 "metadata": {
  "kernelspec": {
   "display_name": "scrape",
   "language": "python",
   "name": "python3"
  },
  "language_info": {
   "codemirror_mode": {
    "name": "ipython",
    "version": 3
   },
   "file_extension": ".py",
   "mimetype": "text/x-python",
   "name": "python",
   "nbconvert_exporter": "python",
   "pygments_lexer": "ipython3",
   "version": "3.11.3"
  },
  "orig_nbformat": 4
 },
 "nbformat": 4,
 "nbformat_minor": 2
}
