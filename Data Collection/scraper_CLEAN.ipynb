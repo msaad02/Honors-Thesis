{
 "cells": [
  {
   "cell_type": "code",
   "execution_count": 2,
   "metadata": {},
   "outputs": [],
   "source": [
    "import requests\n",
    "import time\n",
    "import re\n",
    "import pickle\n",
    "import openai\n",
    "from bs4 import BeautifulSoup"
   ]
  },
  {
   "attachments": {},
   "cell_type": "markdown",
   "metadata": {},
   "source": [
    "# Robots.txt\n",
    "\n",
    "The following code reads the robots.txt file and creates a dictionary. SUNY Brockport website only contains Disallowed, so we are concerned with that alone. Will use regex to parse links and make sure we don't crawl these wepages"
   ]
  },
  {
   "cell_type": "code",
   "execution_count": 3,
   "metadata": {},
   "outputs": [
    {
     "name": "stderr",
     "output_type": "stream",
     "text": [
      "  % Total    % Received % Xferd  Average Speed   Time    Time     Time  Current\n",
      "                                 Dload  Upload   Total   Spent    Left  Speed\n",
      "100  1048  100  1048    0     0   6748      0 --:--:-- --:--:-- --:--:--  6761\n"
     ]
    }
   ],
   "source": [
    "import os\n",
    "result = os.popen(\"curl https://www2.brockport.edu/robots.txt\").read()\n",
    "result_data_set = {\"Disallowed\":[], \"Allowed\":[]}\n",
    "\n",
    "for line in result.split(\"\\n\"):\n",
    "    if line.startswith('Allow'):    # this is for allowed url\n",
    "        result_data_set[\"Allowed\"].append(line.split(': ')[1].split(' ')[0])    # to neglect the comments or other junk info\n",
    "    elif line.startswith('Disallow'):    # this is for disallowed url\n",
    "        result_data_set[\"Disallowed\"].append(line.split(': ')[1].split(' ')[0])    # to neglect the comments or other junk info\n",
    "\n",
    "disallow_list = result_data_set['Disallowed']\n",
    "\n",
    "# Adding my own filters. These files tend to not work throughout.\n",
    "disallow_list.extend(['/live/files/', '.html/'])"
   ]
  },
  {
   "attachments": {},
   "cell_type": "markdown",
   "metadata": {},
   "source": [
    "# Seach_page\n",
    "\n",
    "Function to pull webpages from all links on a webpage given by a link\n",
    "\n",
    "Steps:\n",
    "- User provides link\n",
    "- Get the corresponding webpage for said link\n",
    "- Come up with a list of all links on that webpage\n",
    "- Get the corresponding webpage for each of those links"
   ]
  },
  {
   "cell_type": "code",
   "execution_count": 4,
   "metadata": {},
   "outputs": [],
   "source": [
    "def search_page(link: str) -> dict:\n",
    "    data = {}\n",
    "\n",
    "    # Get the base page and parse with beautiful soup\n",
    "    data[link] = requests.get(link)\n",
    "    soup = BeautifulSoup(data[link].text, 'html.parser')\n",
    "\n",
    "    # Find all the links on the page\n",
    "    links = soup.find_all('a')\n",
    "\n",
    "    # Filter the links to get only those that point to other pages on the same site\n",
    "    # This is done by checking if the link starts with '/' (indicating it's a relative link)\n",
    "    # and doesn't contain '#' (which would indicate it's a link to a specific part of the same page)\n",
    "    links = [link.get('href') for link in links if link.get('href').startswith('/') and '#' not in link.get('href')]\n",
    "\n",
    "    # APPLY FILTER... Gets rid of robots.txt files, and some others.\n",
    "    links = [link for link in links if not any(bad_link in link for bad_link in disallow_list)]\n",
    "\n",
    "    # Remove duplicates\n",
    "    links = list(set(links))\n",
    "\n",
    "    # loop over the links and scrape each page\n",
    "    for link in links:\n",
    "        try:\n",
    "            # Construct the full URL by appending the link to the base URL\n",
    "            full_url = \"https://www2.brockport.edu\" + link\n",
    "            data[full_url] = requests.get(full_url)\n",
    "\n",
    "            # To not overload the website, sleep 1 sec\n",
    "            time.sleep(1)\n",
    "        except Exception as e:\n",
    "            print(f\"An error occurred when processing {full_url}\")\n",
    "            continue\n",
    "\n",
    "    return data"
   ]
  },
  {
   "cell_type": "code",
   "execution_count": 5,
   "metadata": {},
   "outputs": [
    {
     "name": "stdout",
     "output_type": "stream",
     "text": [
      "An error occurred when processing https://www2.brockport.edu/directory/\n",
      "An error occurred when processing https://www2.brockport.edu//www.instagram.com/brockport\n",
      "An error occurred when processing https://www2.brockport.edu//www.twitter.com/brockport\n"
     ]
    }
   ],
   "source": [
    "data = search_page('https://www2.brockport.edu/')"
   ]
  }
 ],
 "metadata": {
  "kernelspec": {
   "display_name": "scrape",
   "language": "python",
   "name": "python3"
  },
  "language_info": {
   "codemirror_mode": {
    "name": "ipython",
    "version": 3
   },
   "file_extension": ".py",
   "mimetype": "text/x-python",
   "name": "python",
   "nbconvert_exporter": "python",
   "pygments_lexer": "ipython3",
   "version": "3.11.3"
  },
  "orig_nbformat": 4
 },
 "nbformat": 4,
 "nbformat_minor": 2
}
