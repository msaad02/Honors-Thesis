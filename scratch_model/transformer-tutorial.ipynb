{
 "cells": [
  {
   "cell_type": "markdown",
   "metadata": {},
   "source": [
    "# Transformer Model\n",
    "\n",
    "https://www.tensorflow.org/text/tutorials/transformer\n",
    "\n",
    "This is again following the tutorial on tensorflow's website. Did a lot of digging to find simpler implementations but it seems breaking things down in the following way is actually the most popular way to do it. Things may be better anyway since breaking it down makes learning easier. \n",
    "\n",
    "I plan to go slowly through this part and spend about a day with it to make sure I understand it. However, it's worth mentioning that this should be plug and play based on the same data pipeline I defined for the RNN in my original notebook \"follow-tf-tutorial.ipynb\". Note that the grand majority of this code is copy-pasted from the tutorial, including their comments."
   ]
  },
  {
   "cell_type": "code",
   "execution_count": 1,
   "metadata": {},
   "outputs": [
    {
     "name": "stdout",
     "output_type": "stream",
     "text": [
      "[PhysicalDevice(name='/physical_device:GPU:0', device_type='GPU')]\n"
     ]
    }
   ],
   "source": [
    "# NOTE: Installing tensorflow_datasets and tensorflow_text updated tf to 2.13.0 from 12.2.1, if it breaks revert and find correct versions\n",
    "\n",
    "import os\n",
    "os.environ['TF_CPP_MIN_LOG_LEVEL'] = '2' # stop showing tensorflow logs...\n",
    "\n",
    "import numpy as np\n",
    "import matplotlib.pyplot as plt\n",
    "import tensorflow as tf\n",
    "\n",
    "# Check GPU is being used. Prints [] if not\n",
    "physical_devices = tf.config.list_physical_devices('GPU')\n",
    "print(physical_devices)\n",
    "\n",
    "# Prevent tensorflow from allocating all GPU memory at once\n",
    "tf.config.experimental.set_memory_growth(physical_devices[0], True) # Nice!\n",
    "\n",
    "\n",
    "# From tf_dataset.py in scratch-model, this gets the tf data pipeline\n",
    "from tf_dataset import get_datasets\n",
    "\n",
    "# MODEL PARAMS: These are roughly the same parameters as used in the original transformer paper.\n",
    "BATCH_SIZE = 64        \n",
    "EPOCHS = 25             # What we used for transformer_v1\n",
    "NUM_LAYERS = 6          # 4 \n",
    "D_MODEL = 512           # 128\n",
    "DFF = 2048              # 512\n",
    "NUM_HEADS = 8           # 8\n",
    "DROPOUT_RATE = 0.1      # 0.1\n",
    "\n",
    "save_dir = './models/transformer_v2'\n",
    "\n",
    "train_ds, val_ds, text_processor = get_datasets(batch_size = BATCH_SIZE)"
   ]
  },
  {
   "cell_type": "code",
   "execution_count": 2,
   "metadata": {},
   "outputs": [],
   "source": [
    "def positional_encoding(length, depth):\n",
    "  depth = depth/2\n",
    "\n",
    "  positions = np.arange(length)[:, np.newaxis]     # (seq, 1)\n",
    "  depths = np.arange(depth)[np.newaxis, :]/depth   # (1, depth)\n",
    "\n",
    "  angle_rates = 1 / (10000**depths)         # (1, depth)\n",
    "  angle_rads = positions * angle_rates      # (pos, depth)\n",
    "\n",
    "  pos_encoding = np.concatenate(\n",
    "      [np.sin(angle_rads), np.cos(angle_rads)],\n",
    "      axis=-1)\n",
    "\n",
    "  return tf.cast(pos_encoding, dtype=tf.float32)"
   ]
  },
  {
   "cell_type": "markdown",
   "metadata": {},
   "source": [
    "So use this to create a `PositionEmbedding` layer that looks-up a token's embedding vector and adds the position vector:"
   ]
  },
  {
   "cell_type": "code",
   "execution_count": 3,
   "metadata": {},
   "outputs": [],
   "source": [
    "class PositionalEmbedding(tf.keras.layers.Layer):\n",
    "  def __init__(self, vocab_size, d_model):\n",
    "    super().__init__()\n",
    "    self.d_model = d_model\n",
    "    self.embedding = tf.keras.layers.Embedding(vocab_size, d_model, mask_zero=True)\n",
    "    self.pos_encoding = positional_encoding(length=2048, depth=d_model)\n",
    "\n",
    "  def compute_mask(self, *args, **kwargs):\n",
    "    return self.embedding.compute_mask(*args, **kwargs)\n",
    "\n",
    "  def call(self, x):\n",
    "    length = tf.shape(x)[1]\n",
    "    x = self.embedding(x)\n",
    "    # This factor sets the relative scale of the embedding and positonal_encoding.\n",
    "    x *= tf.math.sqrt(tf.cast(self.d_model, tf.float32))\n",
    "    x = x + self.pos_encoding[tf.newaxis, :length, :]\n",
    "    return x"
   ]
  },
  {
   "cell_type": "markdown",
   "metadata": {},
   "source": [
    "> Note: The [original paper](https://arxiv.org/pdf/1706.03762.pdf), section 3.4 and 5.1, uses a single tokenizer and weight matrix for both the source and target languages. This tutorial uses two separate tokenizers and weight matrices.\n",
    "\n",
    "---\n",
    "<span style=\"font-size:24px; color:lightblue\">Matt Notes</span>\n",
    "\n",
    "<span style=\"color:lightblue\">For my implementation I'm going back to the single tokenizer and weight matrix, since both my context and target is english with mostly the same vocabulary. The only reason to not do it in this way is if the vocabularies are quite different, which in the case of language translation (like this tutorial does) is the case.</span>"
   ]
  },
  {
   "cell_type": "code",
   "execution_count": 4,
   "metadata": {},
   "outputs": [],
   "source": [
    "class BaseAttention(tf.keras.layers.Layer):\n",
    "  def __init__(self, **kwargs):\n",
    "    super().__init__()\n",
    "    self.mha = tf.keras.layers.MultiHeadAttention(**kwargs)\n",
    "    self.layernorm = tf.keras.layers.LayerNormalization()\n",
    "    self.add = tf.keras.layers.Add()\n",
    "\n",
    "class CrossAttention(BaseAttention):\n",
    "  def call(self, x, context):\n",
    "    attn_output, attn_scores = self.mha(\n",
    "        query=x,\n",
    "        key=context,\n",
    "        value=context,\n",
    "        return_attention_scores=True)\n",
    "\n",
    "    # Cache the attention scores for plotting later.\n",
    "    self.last_attn_scores = attn_scores\n",
    "\n",
    "    x = self.add([x, attn_output])\n",
    "    x = self.layernorm(x)\n",
    "\n",
    "    return x\n",
    "\n",
    "class GlobalSelfAttention(BaseAttention):\n",
    "  def call(self, x):\n",
    "    attn_output = self.mha(\n",
    "        query=x,\n",
    "        value=x,\n",
    "        key=x)\n",
    "    x = self.add([x, attn_output])\n",
    "    x = self.layernorm(x)\n",
    "    return x\n",
    "  \n",
    "class CausalSelfAttention(BaseAttention):\n",
    "  def call(self, x):\n",
    "    attn_output = self.mha(\n",
    "        query=x,\n",
    "        value=x,\n",
    "        key=x,\n",
    "        use_causal_mask = True)\n",
    "    x = self.add([x, attn_output])\n",
    "    x = self.layernorm(x)\n",
    "    return x"
   ]
  },
  {
   "cell_type": "code",
   "execution_count": 5,
   "metadata": {},
   "outputs": [],
   "source": [
    "class FeedForward(tf.keras.layers.Layer):\n",
    "  def __init__(self, d_model, dff, dropout_rate=0.1):\n",
    "    super().__init__()\n",
    "    self.seq = tf.keras.Sequential([\n",
    "      tf.keras.layers.Dense(dff, activation='relu'),\n",
    "      tf.keras.layers.Dense(d_model),\n",
    "      tf.keras.layers.Dropout(dropout_rate)\n",
    "    ])\n",
    "    self.add = tf.keras.layers.Add()\n",
    "    self.layer_norm = tf.keras.layers.LayerNormalization()\n",
    "\n",
    "  def call(self, x):\n",
    "    x = self.add([x, self.seq(x)])\n",
    "    x = self.layer_norm(x)\n",
    "    return x"
   ]
  },
  {
   "cell_type": "code",
   "execution_count": 6,
   "metadata": {},
   "outputs": [],
   "source": [
    "class EncoderLayer(tf.keras.layers.Layer):\n",
    "  def __init__(self,*, d_model, num_heads, dff, dropout_rate=0.1):\n",
    "    super().__init__()\n",
    "\n",
    "    self.self_attention = GlobalSelfAttention(\n",
    "        num_heads=num_heads,\n",
    "        key_dim=d_model,\n",
    "        dropout=dropout_rate)\n",
    "\n",
    "    self.ffn = FeedForward(d_model, dff)\n",
    "\n",
    "  def call(self, x):\n",
    "    x = self.self_attention(x)\n",
    "    x = self.ffn(x)\n",
    "    return x"
   ]
  },
  {
   "cell_type": "code",
   "execution_count": 7,
   "metadata": {},
   "outputs": [],
   "source": [
    "class Encoder(tf.keras.layers.Layer):\n",
    "  def __init__(self, *, num_layers, d_model, num_heads,\n",
    "               dff, vocab_size, dropout_rate=0.1):\n",
    "    super().__init__()\n",
    "\n",
    "    self.d_model = d_model\n",
    "    self.num_layers = num_layers\n",
    "\n",
    "    self.pos_embedding = PositionalEmbedding(\n",
    "        vocab_size=vocab_size, d_model=d_model)\n",
    "\n",
    "    self.enc_layers = [\n",
    "        EncoderLayer(d_model=d_model,\n",
    "                     num_heads=num_heads,\n",
    "                     dff=dff,\n",
    "                     dropout_rate=dropout_rate)\n",
    "        for _ in range(num_layers)]\n",
    "    self.dropout = tf.keras.layers.Dropout(dropout_rate)\n",
    "\n",
    "  def call(self, x):\n",
    "    # `x` is token-IDs shape: (batch, seq_len)\n",
    "    x = self.pos_embedding(x)  # Shape `(batch_size, seq_len, d_model)`.\n",
    "\n",
    "    # Add dropout.\n",
    "    x = self.dropout(x)\n",
    "\n",
    "    for i in range(self.num_layers):\n",
    "      x = self.enc_layers[i](x)\n",
    "\n",
    "    return x  # Shape `(batch_size, seq_len, d_model)`."
   ]
  },
  {
   "cell_type": "code",
   "execution_count": 8,
   "metadata": {},
   "outputs": [],
   "source": [
    "class DecoderLayer(tf.keras.layers.Layer):\n",
    "  def __init__(self,\n",
    "               *,\n",
    "               d_model,\n",
    "               num_heads,\n",
    "               dff,\n",
    "               dropout_rate=0.1):\n",
    "    super(DecoderLayer, self).__init__()\n",
    "\n",
    "    self.causal_self_attention = CausalSelfAttention(\n",
    "        num_heads=num_heads,\n",
    "        key_dim=d_model,\n",
    "        dropout=dropout_rate)\n",
    "\n",
    "    self.cross_attention = CrossAttention(\n",
    "        num_heads=num_heads,\n",
    "        key_dim=d_model,\n",
    "        dropout=dropout_rate)\n",
    "\n",
    "    self.ffn = FeedForward(d_model, dff)\n",
    "\n",
    "  def call(self, x, context):\n",
    "    x = self.causal_self_attention(x=x)\n",
    "    x = self.cross_attention(x=x, context=context)\n",
    "\n",
    "    # Cache the last attention scores for plotting later\n",
    "    self.last_attn_scores = self.cross_attention.last_attn_scores\n",
    "\n",
    "    x = self.ffn(x)  # Shape `(batch_size, seq_len, d_model)`.\n",
    "    return x"
   ]
  },
  {
   "cell_type": "code",
   "execution_count": 9,
   "metadata": {},
   "outputs": [],
   "source": [
    "class Decoder(tf.keras.layers.Layer):\n",
    "  def __init__(self, *, num_layers, d_model, num_heads, dff, vocab_size,\n",
    "               dropout_rate=0.1):\n",
    "    super(Decoder, self).__init__()\n",
    "\n",
    "    self.d_model = d_model\n",
    "    self.num_layers = num_layers\n",
    "\n",
    "    self.pos_embedding = PositionalEmbedding(vocab_size=vocab_size,\n",
    "                                             d_model=d_model)\n",
    "    self.dropout = tf.keras.layers.Dropout(dropout_rate)\n",
    "    self.dec_layers = [\n",
    "        DecoderLayer(d_model=d_model, num_heads=num_heads,\n",
    "                     dff=dff, dropout_rate=dropout_rate)\n",
    "        for _ in range(num_layers)]\n",
    "\n",
    "    self.last_attn_scores = None\n",
    "\n",
    "  def call(self, x, context):\n",
    "    # `x` is token-IDs shape (batch, target_seq_len)\n",
    "    x = self.pos_embedding(x)  # (batch_size, target_seq_len, d_model)\n",
    "\n",
    "    x = self.dropout(x)\n",
    "\n",
    "    for i in range(self.num_layers):\n",
    "      x  = self.dec_layers[i](x, context)\n",
    "\n",
    "    self.last_attn_scores = self.dec_layers[-1].last_attn_scores\n",
    "\n",
    "    # The shape of x is (batch_size, target_seq_len, d_model).\n",
    "    return x"
   ]
  },
  {
   "cell_type": "markdown",
   "metadata": {},
   "source": [
    "Having created the Transformer encoder and decoder, it's time to build the Transformer model and train it.\n",
    "\n"
   ]
  },
  {
   "cell_type": "code",
   "execution_count": 10,
   "metadata": {},
   "outputs": [],
   "source": [
    "class Transformer(tf.keras.Model):\n",
    "  def __init__(self, *, num_layers, d_model, num_heads, dff,\n",
    "               input_vocab_size, target_vocab_size, dropout_rate=0.1):\n",
    "    super().__init__()\n",
    "    self.encoder = Encoder(num_layers=num_layers, d_model=d_model,\n",
    "                           num_heads=num_heads, dff=dff,\n",
    "                           vocab_size=input_vocab_size,\n",
    "                           dropout_rate=dropout_rate)\n",
    "\n",
    "    self.decoder = Decoder(num_layers=num_layers, d_model=d_model,\n",
    "                           num_heads=num_heads, dff=dff,\n",
    "                           vocab_size=target_vocab_size,\n",
    "                           dropout_rate=dropout_rate)\n",
    "\n",
    "    self.final_layer = tf.keras.layers.Dense(target_vocab_size)\n",
    "\n",
    "  def call(self, inputs):\n",
    "    # To use a Keras model with `.fit` you must pass all your inputs in the\n",
    "    # first argument.\n",
    "    context, x  = inputs\n",
    "\n",
    "    context = self.encoder(context)  # (batch_size, context_len, d_model)\n",
    "\n",
    "    x = self.decoder(x, context)  # (batch_size, target_len, d_model)\n",
    "\n",
    "    # Final linear layer output.\n",
    "    logits = self.final_layer(x)  # (batch_size, target_len, target_vocab_size)\n",
    "\n",
    "    try:\n",
    "      # Drop the keras mask, so it doesn't scale the losses/metrics.\n",
    "      # b/250038731\n",
    "      del logits._keras_mask\n",
    "    except AttributeError:\n",
    "      pass\n",
    "\n",
    "    # Return the final output and the attention weights.\n",
    "    return logits"
   ]
  },
  {
   "cell_type": "markdown",
   "metadata": {},
   "source": [
    "### Hyperparameters\n",
    "\n",
    "To keep this example small and relatively fast, the number of layers (`num_layers`), the dimensionality of the embeddings (`d_model`), and the internal dimensionality of the `FeedForward` layer (`dff`) have been reduced.\n",
    "\n",
    "The base model described in the original Transformer paper used `num_layers=6`, `d_model=512`, and `dff=2048`.\n",
    "\n",
    "The number of self-attention heads remains the same (`num_heads=8`).\n",
    "\n",
    "\n",
    "\n",
    "\n",
    "\n"
   ]
  },
  {
   "cell_type": "code",
   "execution_count": 11,
   "metadata": {},
   "outputs": [],
   "source": [
    "transformer = Transformer(\n",
    "    num_layers=NUM_LAYERS,\n",
    "    d_model=D_MODEL,\n",
    "    num_heads=NUM_HEADS,\n",
    "    dff=DFF,\n",
    "    input_vocab_size=5000,  # This is the vocab size used for all the datasets.\n",
    "    target_vocab_size=5000,\n",
    "    dropout_rate=DROPOUT_RATE)"
   ]
  },
  {
   "cell_type": "markdown",
   "metadata": {},
   "source": [
    "## Training\n",
    "\n",
    "It's time to prepare the model and start training it.\n",
    "\n",
    "### Set up the optimizer\n",
    "\n",
    "Use the Adam optimizer with a custom learning rate scheduler according to the formula in the original Transformer [paper](https://arxiv.org/abs/1706.03762).\n",
    "\n",
    "$$\\Large{lrate = d_{model}^{-0.5} * \\min(step{\\_}num^{-0.5}, step{\\_}num \\cdot warmup{\\_}steps^{-1.5})}$$"
   ]
  },
  {
   "cell_type": "code",
   "execution_count": 12,
   "metadata": {},
   "outputs": [],
   "source": [
    "class CustomSchedule(tf.keras.optimizers.schedules.LearningRateSchedule):\n",
    "  def __init__(self, d_model, warmup_steps=4000):\n",
    "    super().__init__()\n",
    "\n",
    "    self.d_model = d_model\n",
    "    self.d_model = tf.cast(self.d_model, tf.float32)\n",
    "\n",
    "    self.warmup_steps = warmup_steps\n",
    "\n",
    "  def __call__(self, step):\n",
    "    step = tf.cast(step, dtype=tf.float32)\n",
    "    arg1 = tf.math.rsqrt(step)\n",
    "    arg2 = step * (self.warmup_steps ** -1.5)\n",
    "\n",
    "    return tf.math.rsqrt(self.d_model) * tf.math.minimum(arg1, arg2)"
   ]
  },
  {
   "cell_type": "markdown",
   "metadata": {},
   "source": [
    "Instantiate the optimizer (in this example it's `tf.keras.optimizers.Adam`):"
   ]
  },
  {
   "cell_type": "code",
   "execution_count": 13,
   "metadata": {},
   "outputs": [],
   "source": [
    "learning_rate = CustomSchedule(D_MODEL)\n",
    "\n",
    "optimizer = tf.keras.optimizers.Adam(\n",
    "    learning_rate, \n",
    "    beta_1=0.9, \n",
    "    beta_2=0.98,\n",
    "    epsilon=1e-9\n",
    ")"
   ]
  },
  {
   "cell_type": "markdown",
   "metadata": {},
   "source": [
    "Test the custom learning rate scheduler:"
   ]
  },
  {
   "cell_type": "code",
   "execution_count": 14,
   "metadata": {},
   "outputs": [
    {
     "data": {
      "text/plain": [
       "Text(0.5, 0, 'Train Step')"
      ]
     },
     "execution_count": 14,
     "metadata": {},
     "output_type": "execute_result"
    },
    {
     "data": {
      "image/png": "[encoded data removed]",
      "text/plain": [
       "<Figure size 640x480 with 1 Axes>"
      ]
     },
     "metadata": {},
     "output_type": "display_data"
    }
   ],
   "source": [
    "plt.plot(learning_rate(tf.range(40000, dtype=tf.float32)))\n",
    "plt.ylabel('Learning Rate')\n",
    "plt.xlabel('Train Step')"
   ]
  },
  {
   "cell_type": "markdown",
   "metadata": {},
   "source": [
    "### Set up the loss and metrics\n",
    "\n",
    "Since the target sequences are padded, it is important to apply a padding mask when calculating the loss. Use the cross-entropy loss function (`tf.keras.losses.SparseCategoricalCrossentropy`):"
   ]
  },
  {
   "cell_type": "code",
   "execution_count": 15,
   "metadata": {},
   "outputs": [],
   "source": [
    "def masked_loss(label, pred):\n",
    "  mask = label != 0\n",
    "  loss_object = tf.keras.losses.SparseCategoricalCrossentropy(\n",
    "    from_logits=True, reduction='none')\n",
    "  loss = loss_object(label, pred)\n",
    "\n",
    "  mask = tf.cast(mask, dtype=loss.dtype)\n",
    "  loss *= mask\n",
    "\n",
    "  loss = tf.reduce_sum(loss)/tf.reduce_sum(mask)\n",
    "  return loss\n",
    "\n",
    "\n",
    "def masked_accuracy(label, pred):\n",
    "  pred = tf.argmax(pred, axis=2)\n",
    "  label = tf.cast(label, pred.dtype)\n",
    "  match = label == pred\n",
    "\n",
    "  mask = label != 0\n",
    "\n",
    "  match = match & mask\n",
    "\n",
    "  match = tf.cast(match, dtype=tf.float32)\n",
    "  mask = tf.cast(mask, dtype=tf.float32)\n",
    "  return tf.reduce_sum(match)/tf.reduce_sum(mask)"
   ]
  },
  {
   "cell_type": "markdown",
   "metadata": {},
   "source": [
    "### Train the model\n",
    "\n",
    "With all the components ready, configure the training procedure using `model.compile`, and then run it with `model.fit`:\n",
    "\n",
    "Note: This takes about an hour to train in Colab."
   ]
  },
  {
   "cell_type": "code",
   "execution_count": 16,
   "metadata": {},
   "outputs": [],
   "source": [
    "transformer.compile(\n",
    "    loss=masked_loss,\n",
    "    optimizer=optimizer,\n",
    "    metrics=[masked_accuracy])"
   ]
  },
  {
   "cell_type": "code",
   "execution_count": 17,
   "metadata": {},
   "outputs": [
    {
     "name": "stdout",
     "output_type": "stream",
     "text": [
      "Epoch 1/25\n",
      "89/89 [==============================] - 64s 408ms/step - loss: 7.6843 - masked_accuracy: 0.0695 - val_loss: 6.8700 - val_masked_accuracy: 0.1388\n",
      "Epoch 2/25\n",
      "89/89 [==============================] - 30s 335ms/step - loss: 6.3176 - masked_accuracy: 0.1818 - val_loss: 5.6168 - val_masked_accuracy: 0.2217\n",
      "Epoch 3/25\n",
      "89/89 [==============================] - 29s 329ms/step - loss: 5.2496 - masked_accuracy: 0.2591 - val_loss: 4.7051 - val_masked_accuracy: 0.3061\n",
      "Epoch 4/25\n",
      "89/89 [==============================] - 30s 332ms/step - loss: 4.5186 - masked_accuracy: 0.3297 - val_loss: 4.1158 - val_masked_accuracy: 0.3639\n",
      "Epoch 5/25\n",
      "89/89 [==============================] - 28s 314ms/step - loss: 3.9919 - masked_accuracy: 0.3867 - val_loss: 3.6831 - val_masked_accuracy: 0.4192\n",
      "Epoch 6/25\n",
      "89/89 [==============================] - 29s 321ms/step - loss: 3.5616 - masked_accuracy: 0.4352 - val_loss: 3.3475 - val_masked_accuracy: 0.4577\n",
      "Epoch 7/25\n",
      "89/89 [==============================] - 29s 321ms/step - loss: 3.2061 - masked_accuracy: 0.4743 - val_loss: 3.1083 - val_masked_accuracy: 0.4825\n",
      "Epoch 8/25\n",
      "89/89 [==============================] - 28s 317ms/step - loss: 2.9051 - masked_accuracy: 0.5056 - val_loss: 2.9126 - val_masked_accuracy: 0.5009\n",
      "Epoch 9/25\n",
      "89/89 [==============================] - 29s 326ms/step - loss: 2.6386 - masked_accuracy: 0.5360 - val_loss: 2.7514 - val_masked_accuracy: 0.5238\n",
      "Epoch 10/25\n",
      "89/89 [==============================] - 29s 321ms/step - loss: 2.3935 - masked_accuracy: 0.5659 - val_loss: 2.6603 - val_masked_accuracy: 0.5285\n",
      "Epoch 11/25\n",
      "89/89 [==============================] - 29s 326ms/step - loss: 2.1806 - masked_accuracy: 0.5932 - val_loss: 2.5408 - val_masked_accuracy: 0.5398\n",
      "Epoch 12/25\n",
      "89/89 [==============================] - 29s 327ms/step - loss: 1.9729 - masked_accuracy: 0.6193 - val_loss: 2.5127 - val_masked_accuracy: 0.5491\n",
      "Epoch 13/25\n",
      "89/89 [==============================] - 29s 331ms/step - loss: 1.7831 - masked_accuracy: 0.6456 - val_loss: 2.4662 - val_masked_accuracy: 0.5580\n",
      "Epoch 14/25\n",
      "89/89 [==============================] - 30s 333ms/step - loss: 1.6049 - masked_accuracy: 0.6717 - val_loss: 2.4156 - val_masked_accuracy: 0.5675\n",
      "Epoch 15/25\n",
      "89/89 [==============================] - 30s 335ms/step - loss: 1.4383 - masked_accuracy: 0.6969 - val_loss: 2.3942 - val_masked_accuracy: 0.5737\n",
      "Epoch 16/25\n",
      "89/89 [==============================] - 30s 334ms/step - loss: 1.2852 - masked_accuracy: 0.7210 - val_loss: 2.4138 - val_masked_accuracy: 0.5782\n",
      "Epoch 17/25\n",
      "89/89 [==============================] - 29s 329ms/step - loss: 1.1369 - masked_accuracy: 0.7463 - val_loss: 2.4004 - val_masked_accuracy: 0.5831\n",
      "Epoch 18/25\n",
      "89/89 [==============================] - 28s 318ms/step - loss: 1.0066 - masked_accuracy: 0.7703 - val_loss: 2.4448 - val_masked_accuracy: 0.5811\n",
      "Epoch 19/25\n",
      "89/89 [==============================] - 29s 319ms/step - loss: 0.8927 - masked_accuracy: 0.7908 - val_loss: 2.4674 - val_masked_accuracy: 0.5781\n",
      "Epoch 20/25\n",
      "89/89 [==============================] - 28s 320ms/step - loss: 0.7964 - masked_accuracy: 0.8095 - val_loss: 2.4960 - val_masked_accuracy: 0.5818\n",
      "Epoch 21/25\n",
      "89/89 [==============================] - 29s 328ms/step - loss: 0.7084 - masked_accuracy: 0.8270 - val_loss: 2.5138 - val_masked_accuracy: 0.5768\n",
      "Epoch 22/25\n",
      "89/89 [==============================] - 28s 310ms/step - loss: 0.6276 - masked_accuracy: 0.8443 - val_loss: 2.5879 - val_masked_accuracy: 0.5765\n",
      "Epoch 23/25\n",
      "89/89 [==============================] - 29s 328ms/step - loss: 0.5803 - masked_accuracy: 0.8530 - val_loss: 2.6121 - val_masked_accuracy: 0.5772\n",
      "Epoch 24/25\n",
      "89/89 [==============================] - 30s 335ms/step - loss: 0.5256 - masked_accuracy: 0.8660 - val_loss: 2.6406 - val_masked_accuracy: 0.5814\n",
      "Epoch 25/25\n",
      "89/89 [==============================] - 29s 324ms/step - loss: 0.4998 - masked_accuracy: 0.8699 - val_loss: 2.6680 - val_masked_accuracy: 0.5796\n"
     ]
    },
    {
     "data": {
      "text/plain": [
       "<keras.callbacks.History at 0x7fb29c59a610>"
      ]
     },
     "execution_count": 17,
     "metadata": {},
     "output_type": "execute_result"
    }
   ],
   "source": [
    "transformer.fit(\n",
    "    train_ds,\n",
    "    epochs=EPOCHS,\n",
    "    validation_data=val_ds)"
   ]
  },
  {
   "cell_type": "code",
   "execution_count": 18,
   "metadata": {},
   "outputs": [
    {
     "name": "stdout",
     "output_type": "stream",
     "text": [
      "Model: \"transformer\"\n",
      "_________________________________________________________________\n",
      " Layer (type)                Output Shape              Param #   \n",
      "=================================================================\n",
      " encoder (Encoder)           multiple                  65579008  \n",
      "                                                                 \n",
      " decoder (Decoder)           multiple                  115993600 \n",
      "                                                                 \n",
      " dense_24 (Dense)            multiple                  2565000   \n",
      "                                                                 \n",
      "=================================================================\n",
      "Total params: 184,137,608\n",
      "Trainable params: 184,137,608\n",
      "Non-trainable params: 0\n",
      "_________________________________________________________________\n"
     ]
    }
   ],
   "source": [
    "transformer.summary() # 9 Million Parameter Model"
   ]
  },
  {
   "cell_type": "markdown",
   "metadata": {},
   "source": [
    "## Run inference\n",
    "\n",
    "You can now test the model by performing a translation. The following steps are used for inference:\n",
    "\n",
    "* Encode the input sentence using the tokenizer. This is the encoder input.\n",
    "* The decoder input is initialized to the `[START]` token.\n",
    "* Calculate the padding masks and the look ahead masks.\n",
    "* The `decoder` then outputs the predictions by looking at the `encoder output` and its own output (self-attention).\n",
    "* Concatenate the predicted token to the decoder input and pass it to the decoder.\n",
    "* In this approach, the decoder predicts the next token based on the previous tokens it predicted.\n",
    "\n",
    "Note: The model is optimized for _efficient training_ and makes a next-token prediction for each token in the output simultaneously. This is redundant during inference, and only the last prediction is used.  This model can be made more efficient for inference if you only calculate the last prediction when running in inference mode (`training=False`).\n",
    "\n",
    "Define the `QuestionAnswering` class by subclassing `tf.Module`:"
   ]
  },
  {
   "cell_type": "code",
   "execution_count": 36,
   "metadata": {},
   "outputs": [],
   "source": [
    "vocab = text_processor.get_vocabulary()"
   ]
  },
  {
   "cell_type": "code",
   "execution_count": 37,
   "metadata": {},
   "outputs": [],
   "source": [
    "MAX_TOKENS = 256\n",
    "\n",
    "class QuestionAnswering(tf.Module):\n",
    "  def __init__(self, tokenizers, transformer):\n",
    "    self.tokenizers = tokenizers\n",
    "    self.transformer = transformer\n",
    "\n",
    "  def __call__(self, sentence, max_length=MAX_TOKENS):\n",
    "    # The input sentence is Portuguese, hence adding the `[START]` and `[END]` tokens.\n",
    "    sentence = tf.convert_to_tensor([sentence])\n",
    "\n",
    "    assert isinstance(sentence, tf.Tensor)\n",
    "    if len(sentence.shape) == 0:\n",
    "      sentence = sentence[tf.newaxis]\n",
    "\n",
    "    # sentence = self.tokenizers.pt.tokenize(sentence).to_tensor()\n",
    "    sentence = self.tokenizers(sentence).to_tensor()\n",
    "\n",
    "    encoder_input = sentence\n",
    "\n",
    "    # As the output language is English, initialize the output with the\n",
    "    # English `[START]` token.\n",
    "    start_end = self.tokenizers([''])[0]\n",
    "    start = start_end[0][tf.newaxis]\n",
    "    end = start_end[1][tf.newaxis]\n",
    "\n",
    "    # `tf.TensorArray` is required here (instead of a Python list), so that the\n",
    "    # dynamic-loop can be traced by `tf.function`.\n",
    "    output_array = tf.TensorArray(dtype=tf.int64, size=0, dynamic_size=True)\n",
    "    output_array = output_array.write(0, start)\n",
    "\n",
    "    for i in tf.range(max_length):\n",
    "      output = tf.transpose(output_array.stack())\n",
    "      predictions = self.transformer([encoder_input, output], training=False)\n",
    "\n",
    "      # Select the last token from the `seq_len` dimension.\n",
    "      predictions = predictions[:, -1:, :]  # Shape `(batch_size, 1, vocab_size)`.\n",
    "\n",
    "      predicted_id = tf.argmax(predictions, axis=-1)\n",
    "\n",
    "      # Concatenate the `predicted_id` to the output which is given to the\n",
    "      # decoder as its input.\n",
    "      output_array = output_array.write(i+1, predicted_id[0])\n",
    "\n",
    "      if predicted_id == end:\n",
    "        break\n",
    "\n",
    "    output = tf.transpose(output_array.stack())\n",
    "    vocab_tf = tf.constant(vocab)\n",
    "\n",
    "    text = tf.strings.reduce_join(tf.map_fn(lambda x: vocab_tf[x], tf.squeeze(output), dtype=tf.string), separator=\" \")\n",
    "    tokens = output\n",
    "\n",
    "    # `tf.function` prevents us from using the attention_weights that were\n",
    "    # calculated on the last iteration of the loop.\n",
    "    # So, recalculate them outside the loop.\n",
    "    self.transformer([encoder_input, output[:,:-1]], training=False)\n",
    "    attention_weights = self.transformer.decoder.last_attn_scores\n",
    "\n",
    "    return text, tokens, attention_weights"
   ]
  },
  {
   "cell_type": "markdown",
   "metadata": {},
   "source": [
    "Note: This function uses an unrolled loop, not a dynamic loop. It generates `MAX_TOKENS` on every call. Refer to the [NMT with attention](nmt_with_attention.ipynb) tutorial for an example implementation with a dynamic loop, which can be much more efficient.\n",
    "\n",
    "Create an instance of this `Translator` class, and try it out a few times:"
   ]
  },
  {
   "cell_type": "code",
   "execution_count": 38,
   "metadata": {},
   "outputs": [],
   "source": [
    "questionAnswerer = QuestionAnswering(text_processor, transformer)"
   ]
  },
  {
   "cell_type": "code",
   "execution_count": 39,
   "metadata": {},
   "outputs": [],
   "source": [
    "import re\n",
    "\n",
    "# Formatting for responses\n",
    "def format_output(sentence):\n",
    "    # Strip spaces around punctuation\n",
    "    sentence = re.sub(r'\\s+([.,!?])', r'\\1', str(sentence.numpy()))\n",
    "\n",
    "    # Capitalize known proper nouns\n",
    "    known_proper_nouns = {\"suny\": \"SUNY\", \"brockport\": \"Brockport\", \"computer\": \"Computer\", \"science\": \"Science\"}\n",
    "    for key, value in known_proper_nouns.items():\n",
    "        sentence = sentence.replace(key, value)\n",
    "\n",
    "    # Capitalize the first letter of the sentence\n",
    "    sentence = sentence[0].upper() + sentence[1:]\n",
    "\n",
    "    return sentence\n",
    "\n",
    "# Print it out nicely\n",
    "def print_translation(sentence, translated_text):\n",
    "  print(f'Input: {sentence}')\n",
    "  print(f'Prediction: {translated_text}')"
   ]
  },
  {
   "cell_type": "code",
   "execution_count": 40,
   "metadata": {},
   "outputs": [
    {
     "name": "stdout",
     "output_type": "stream",
     "text": [
      "Input: How many programs does Brockport offer?\n",
      "Prediction: b'[START] brockport offers over minors . [END]'\n"
     ]
    }
   ],
   "source": [
    "sentence = 'How many programs does Brockport offer?'\n",
    "\n",
    "translated_text, tokens, attention_weights = questionAnswerer(sentence)\n",
    "print_translation(sentence, translated_text)"
   ]
  },
  {
   "cell_type": "code",
   "execution_count": 41,
   "metadata": {},
   "outputs": [
    {
     "name": "stdout",
     "output_type": "stream",
     "text": [
      "Input: Are SAT scores required?\n",
      "Prediction: b'[START] no , optional scores are not typically not acceptable and sat or act scores . [END]'\n"
     ]
    }
   ],
   "source": [
    "sentence = 'Are SAT scores required?'\n",
    "\n",
    "translated_text, tokens, attention_weights = questionAnswerer(tf.constant(sentence))\n",
    "print_translation(sentence, translated_text)"
   ]
  },
  {
   "cell_type": "code",
   "execution_count": 42,
   "metadata": {},
   "outputs": [
    {
     "name": "stdout",
     "output_type": "stream",
     "text": [
      "Input: How can I apply for financial aid?\n",
      "Prediction: b'[START] you can apply for financial aid through the financial aid office . [END]'\n"
     ]
    }
   ],
   "source": [
    "sentence = 'How can I apply for financial aid?'\n",
    "\n",
    "translated_text, tokens, attention_weights = questionAnswerer(tf.constant(sentence))\n",
    "print_translation(sentence, translated_text)"
   ]
  },
  {
   "cell_type": "code",
   "execution_count": 43,
   "metadata": {},
   "outputs": [
    {
     "name": "stdout",
     "output_type": "stream",
     "text": [
      "Input: What concentrations are available for Computer Science?\n",
      "Prediction: b'[START] computer science systems [UNK] are available for computer science , such as computer information systems , science , and the computer information systems . [END]'\n"
     ]
    }
   ],
   "source": [
    "sentence = 'What concentrations are available for Computer Science?'\n",
    "\n",
    "translated_text, tokens, attention_weights = questionAnswerer(tf.constant(sentence))\n",
    "print_translation(sentence, translated_text)"
   ]
  },
  {
   "cell_type": "code",
   "execution_count": 44,
   "metadata": {},
   "outputs": [
    {
     "name": "stdout",
     "output_type": "stream",
     "text": [
      "Input: What limitations are there for non-matriculated students if they choose to enroll at a later date?\n",
      "Prediction: b'[START] nonmatriculated students choose to enroll at a later date , they are subject to all changes in the course catalog . [END]'\n"
     ]
    }
   ],
   "source": [
    "sentence = \"What limitations are there for non-matriculated students if they choose to enroll at a later date?\"\n",
    "\n",
    "translated_text, tokens, attention_weights = questionAnswerer(tf.constant(sentence))\n",
    "print_translation(sentence, translated_text)"
   ]
  },
  {
   "cell_type": "markdown",
   "metadata": {},
   "source": [
    "## Export the model\n",
    "\n",
    "You have tested the model and the inference is working. Next, you can export it as a `tf.saved_model`. To learn about saving and loading a model in the SavedModel format, use [this guide](https://www.tensorflow.org/guide/saved_model).\n",
    "\n",
    "Create a class called `ExportTranslator` by subclassing the `tf.Module` subclass with a `tf.function` on the `__call__` method:"
   ]
  },
  {
   "cell_type": "code",
   "execution_count": 45,
   "metadata": {},
   "outputs": [],
   "source": [
    "class ExportTranslator(tf.Module):\n",
    "  def __init__(self, translator):\n",
    "    self.translator = translator\n",
    "\n",
    "  @tf.function(input_signature=[tf.TensorSpec(shape=[], dtype=tf.string)])\n",
    "  def __call__(self, sentence):\n",
    "    # sentence = tf.constant([sentence])\n",
    "    result, tokens, attention_weights = self.translator(sentence, max_length=MAX_TOKENS)\n",
    "\n",
    "    return result"
   ]
  },
  {
   "cell_type": "markdown",
   "metadata": {},
   "source": [
    "In the above `tf.function` only the output sentence is returned. Thanks to the [non-strict execution](https://tensorflow.org/guide/intro_to_graphs) in `tf.function` any unnecessary values are never computed.\n",
    "\n",
    "Wrap `translator` in the newly created `ExportTranslator`:"
   ]
  },
  {
   "cell_type": "code",
   "execution_count": 46,
   "metadata": {},
   "outputs": [],
   "source": [
    "questionAnswerer = ExportTranslator(questionAnswerer)"
   ]
  },
  {
   "cell_type": "markdown",
   "metadata": {},
   "source": [
    "# Note to self:\n",
    "\n",
    "Need to figure out what's causing this error and fix it. Then I can save the model and load it in any other notebook."
   ]
  },
  {
   "cell_type": "code",
   "execution_count": 47,
   "metadata": {},
   "outputs": [
    {
     "name": "stdout",
     "output_type": "stream",
     "text": [
      "WARNING:tensorflow:From /home/msaad/miniconda3/envs/thesis/lib/python3.11/site-packages/tensorflow/python/util/deprecation.py:648: calling map_fn_v2 (from tensorflow.python.ops.map_fn) with dtype is deprecated and will be removed in a future version.\n",
      "Instructions for updating:\n",
      "Use fn_output_signature instead\n"
     ]
    },
    {
     "name": "stderr",
     "output_type": "stream",
     "text": [
      "WARNING:tensorflow:From /home/msaad/miniconda3/envs/thesis/lib/python3.11/site-packages/tensorflow/python/util/deprecation.py:648: calling map_fn_v2 (from tensorflow.python.ops.map_fn) with dtype is deprecated and will be removed in a future version.\n",
      "Instructions for updating:\n",
      "Use fn_output_signature instead\n"
     ]
    },
    {
     "data": {
      "text/plain": [
       "b'[START] you can apply to suny brockport by visiting their website and filling out the application . [END]'"
      ]
     },
     "execution_count": 47,
     "metadata": {},
     "output_type": "execute_result"
    }
   ],
   "source": [
    "questionAnswerer('How can I apply?').numpy()"
   ]
  },
  {
   "cell_type": "code",
   "execution_count": null,
   "metadata": {},
   "outputs": [],
   "source": [
    "tf.saved_model.save(questionAnswerer, export_dir=save_dir)"
   ]
  },
  {
   "cell_type": "markdown",
   "metadata": {},
   "source": [
    "# Test loading in the model now"
   ]
  },
  {
   "cell_type": "code",
   "execution_count": 49,
   "metadata": {},
   "outputs": [
    {
     "data": {
      "text/plain": [
       "b'[START] you can apply to suny brockport by visiting their website and filling out the application . [END]'"
      ]
     },
     "execution_count": 49,
     "metadata": {},
     "output_type": "execute_result"
    }
   ],
   "source": [
    "model = tf.saved_model.load('./models/transformer_v2')\n",
    "model(\"How can I apply?\").numpy()"
   ]
  }
 ],
 "metadata": {
  "kernelspec": {
   "display_name": "tf",
   "language": "python",
   "name": "python3"
  },
  "language_info": {
   "codemirror_mode": {
    "name": "ipython",
    "version": 3
   },
   "file_extension": ".py",
   "mimetype": "text/x-python",
   "name": "python",
   "nbconvert_exporter": "python",
   "pygments_lexer": "ipython3",
   "version": "3.11.4"
  },
  "orig_nbformat": 4
 },
 "nbformat": 4,
 "nbformat_minor": 2
}
