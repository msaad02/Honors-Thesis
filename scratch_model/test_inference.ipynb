{
 "cells": [
  {
   "cell_type": "code",
   "execution_count": 1,
   "metadata": {},
   "outputs": [],
   "source": [
    "from inference import ScratchModel\n",
    "from IPython.display import clear_output\n",
    "\n",
    "model = ScratchModel()"
   ]
  },
  {
   "cell_type": "code",
   "execution_count": 3,
   "metadata": {},
   "outputs": [
    {
     "name": "stdout",
     "output_type": "stream",
     "text": [
      "Tf.Tensor(b' you can find the suny brockport, you can reach', shape=(), dtype=string)\n"
     ]
    }
   ],
   "source": [
    "question = \"How can I apply to SUNY Brockport?\"\n",
    "\n",
    "generator = model(question, stream=True, max_tokens=10)\n",
    "\n",
    "for token in generator:\n",
    "    print(token)\n",
    "    clear_output(wait=True)"
   ]
  }
 ],
 "metadata": {
  "kernelspec": {
   "display_name": "thesis",
   "language": "python",
   "name": "python3"
  },
  "language_info": {
   "codemirror_mode": {
    "name": "ipython",
    "version": 3
   },
   "file_extension": ".py",
   "mimetype": "text/x-python",
   "name": "python",
   "nbconvert_exporter": "python",
   "pygments_lexer": "ipython3",
   "version": "3.11.4"
  }
 },
 "nbformat": 4,
 "nbformat_minor": 2
}
