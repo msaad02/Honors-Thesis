{
 "cells": [
  {
   "cell_type": "code",
   "execution_count": 1,
   "metadata": {},
   "outputs": [],
   "source": [
    "from inference import ScratchModel\n",
    "from IPython.display import clear_output\n",
    "\n",
    "model = ScratchModel(model_dir=\"./models/transformer_v5/\")"
   ]
  },
  {
   "cell_type": "code",
   "execution_count": 8,
   "metadata": {},
   "outputs": [
    {
     "name": "stdout",
     "output_type": "stream",
     "text": [
      "The stem day is a fantastic opportunity for students to gain practical experience in the field. Its a fantastic opportunity to dive into the world of [UNK] and gain valuable insights into the field of [UNK].\n"
     ]
    }
   ],
   "source": [
    "question = \"When is STEM day?\"\n",
    "\n",
    "generator = model(question, stream=True)\n",
    "\n",
    "for token in generator:\n",
    "    print(token)\n",
    "    clear_output(wait=True)"
   ]
  }
 ],
 "metadata": {
  "kernelspec": {
   "display_name": "thesis",
   "language": "python",
   "name": "python3"
  },
  "language_info": {
   "codemirror_mode": {
    "name": "ipython",
    "version": 3
   },
   "file_extension": ".py",
   "mimetype": "text/x-python",
   "name": "python",
   "nbconvert_exporter": "python",
   "pygments_lexer": "ipython3",
   "version": "3.11.4"
  }
 },
 "nbformat": 4,
 "nbformat_minor": 2
}
