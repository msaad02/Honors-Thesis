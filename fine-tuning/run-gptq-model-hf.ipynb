{
 "cells": [
  {
   "cell_type": "markdown",
   "metadata": {},
   "source": [
    "# ctransformers\n",
    "\n",
    "Originally this library only had support for GGML models using llama.cpp as a backend. However, they updated it not long ago at all to have support for exllama, which is an incredibly fast loader for gptq models. ctransformers is the interface to use exllama, which is the current SoTA loader."
   ]
  },
  {
   "cell_type": "code",
   "execution_count": 1,
   "metadata": {},
   "outputs": [
    {
     "data": {
      "application/vnd.jupyter.widget-view+json": {
       "model_id": "9230487efa684492be252dd416daea73",
       "version_major": 2,
       "version_minor": 0
      },
      "text/plain": [
       "Fetching 7 files:   0%|          | 0/7 [00:00<?, ?it/s]"
      ]
     },
     "metadata": {},
     "output_type": "display_data"
    }
   ],
   "source": [
    "from ctransformers import AutoModelForCausalLM\n",
    "import textwrap\n",
    "\n",
    "# I could just point to the directory locally, but I want to make sure the huggingface upload worked correctly.\n",
    "llm = AutoModelForCausalLM.from_pretrained(\"msaad02/llama2_brockportgpt_gptq\", model_type=\"gptq\")"
   ]
  },
  {
   "cell_type": "code",
   "execution_count": 29,
   "metadata": {},
   "outputs": [],
   "source": [
    "def qa(text: str, full = False):\n",
    "    # textwrap.dedent gets rid of indenting at the start of each newline\n",
    "    text = textwrap.dedent(f\"\"\"\\\n",
    "        Below is an inquiry related to SUNY Brockport - from academics, admissions, and faculty support to student life. Prioritize accuracy and brevity.\n",
    "\n",
    "        ### Instruction:\n",
    "        {text}\n",
    "\n",
    "        ### Response:\n",
    "        \"\"\")\n",
    "    \n",
    "    response = llm(text, max_new_tokens=256)\n",
    "    response = (text + response) if full else response\n",
    "\n",
    "    print(response)\n",
    "    # return response"
   ]
  },
  {
   "cell_type": "code",
   "execution_count": 18,
   "metadata": {},
   "outputs": [
    {
     "name": "stdout",
     "output_type": "stream",
     "text": [
      "You can apply to SUNY Brockport by following the application process outlined on their website.\n"
     ]
    }
   ],
   "source": [
    "qa(\"How do I apply?\")"
   ]
  },
  {
   "cell_type": "code",
   "execution_count": 20,
   "metadata": {},
   "outputs": [
    {
     "name": "stdout",
     "output_type": "stream",
     "text": [
      "Below is an inquiry related to SUNY Brockport - from academics, admissions, and faculty support to student life. Prioritize accuracy and brevity.\n",
      "\n",
      "### Instruction:\n",
      "How do I apply?\n",
      "\n",
      "### Response:\n",
      "You can apply online via the Common Application or Brockport's own Apply Now!\n"
     ]
    }
   ],
   "source": [
    "qa(\"How do I apply?\", full=True)"
   ]
  },
  {
   "cell_type": "code",
   "execution_count": 28,
   "metadata": {},
   "outputs": [
    {
     "name": "stdout",
     "output_type": "stream",
     "text": [
      "SAT scores are not required at SUNY Brockport.\n"
     ]
    }
   ],
   "source": [
    "qa(\"Are SAT scores required?\")"
   ]
  }
 ],
 "metadata": {
  "kernelspec": {
   "display_name": "thesis",
   "language": "python",
   "name": "python3"
  },
  "language_info": {
   "codemirror_mode": {
    "name": "ipython",
    "version": 3
   },
   "file_extension": ".py",
   "mimetype": "text/x-python",
   "name": "python",
   "nbconvert_exporter": "python",
   "pygments_lexer": "ipython3",
   "version": "3.11.4"
  },
  "orig_nbformat": 4
 },
 "nbformat": 4,
 "nbformat_minor": 2
}
