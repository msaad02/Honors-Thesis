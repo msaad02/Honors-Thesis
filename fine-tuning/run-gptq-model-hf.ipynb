{
 "cells": [
  {
   "cell_type": "markdown",
   "metadata": {},
   "source": [
    "# ctransformers\n",
    "\n",
    "Originally this library only had support for GGML models using llama.cpp as a backend. However, they updated it not long ago at all to have support for exllama, which is an incredibly fast loader for gptq models. ctransformers is the interface to use exllama, which is the current SoTA loader."
   ]
  },
  {
   "cell_type": "code",
   "execution_count": 1,
   "metadata": {},
   "outputs": [
    {
     "data": {
      "application/vnd.jupyter.widget-view+json": {
       "model_id": "9230487efa684492be252dd416daea73",
       "version_major": 2,
       "version_minor": 0
      },
      "text/plain": [
       "Fetching 7 files:   0%|          | 0/7 [00:00<?, ?it/s]"
      ]
     },
     "metadata": {},
     "output_type": "display_data"
    }
   ],
   "source": [
    "from ctransformers import AutoModelForCausalLM\n",
    "\n",
    "llm = AutoModelForCausalLM.from_pretrained(\n",
    "    model_path_or_repo_id=\"msaad02/llama2_7b_brockportgpt_gguf\",\n",
    "    model_type=\"gptq\"\n",
    ")"
   ]
  },
  {
   "cell_type": "code",
   "execution_count": 29,
   "metadata": {},
   "outputs": [],
   "source": [
    "llm_config = {\n",
    "    \"max_new_tokens\": 256,\n",
    "    \"stream\": True,\n",
    "}\n",
    "\n",
    "def qa(text: str, full = False):\n",
    "    text = f\"\"\"Below is an inquiry related to SUNY Brockport - from academics, admissions, and faculty support to student life. Prioritize accuracy and brevity.\n",
    "\n",
    "### Instruction:\n",
    "{text}\n",
    "\n",
    "### Response:\n",
    "\"\"\"\n",
    "    \n",
    "    generator = llm(text, **llm_config)\n",
    "\n",
    "    # print beginning?\n",
    "    if full:\n",
    "        print(text, end=\"\")\n",
    "\n",
    "    response = \"\"\n",
    "    for token in generator:\n",
    "        response = response + token\n",
    "        print(token, end=\"\")\n",
    "\n",
    "    response = (text + response) if full else response\n",
    "\n",
    "    return response"
   ]
  },
  {
   "cell_type": "code",
   "execution_count": 18,
   "metadata": {},
   "outputs": [
    {
     "name": "stdout",
     "output_type": "stream",
     "text": [
      "You can apply to SUNY Brockport by following the application process outlined on their website.\n"
     ]
    }
   ],
   "source": [
    "qa(\"How do I apply?\")"
   ]
  },
  {
   "cell_type": "code",
   "execution_count": 20,
   "metadata": {},
   "outputs": [
    {
     "name": "stdout",
     "output_type": "stream",
     "text": [
      "Below is an inquiry related to SUNY Brockport - from academics, admissions, and faculty support to student life. Prioritize accuracy and brevity.\n",
      "\n",
      "### Instruction:\n",
      "How do I apply?\n",
      "\n",
      "### Response:\n",
      "You can apply online via the Common Application or Brockport's own Apply Now!\n"
     ]
    }
   ],
   "source": [
    "qa(\"How do I apply?\", full=True)"
   ]
  },
  {
   "cell_type": "code",
   "execution_count": 28,
   "metadata": {},
   "outputs": [
    {
     "name": "stdout",
     "output_type": "stream",
     "text": [
      "SAT scores are not required at SUNY Brockport.\n"
     ]
    }
   ],
   "source": [
    "qa(\"Are SAT scores required?\")"
   ]
  }
 ],
 "metadata": {
  "kernelspec": {
   "display_name": "thesis",
   "language": "python",
   "name": "python3"
  },
  "language_info": {
   "codemirror_mode": {
    "name": "ipython",
    "version": 3
   },
   "file_extension": ".py",
   "mimetype": "text/x-python",
   "name": "python",
   "nbconvert_exporter": "python",
   "pygments_lexer": "ipython3",
   "version": "3.10.0"
  },
  "orig_nbformat": 4
 },
 "nbformat": 4,
 "nbformat_minor": 2
}
