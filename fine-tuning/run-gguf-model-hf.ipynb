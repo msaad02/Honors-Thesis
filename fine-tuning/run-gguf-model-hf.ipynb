{
 "cells": [
  {
   "cell_type": "markdown",
   "metadata": {},
   "source": [
    "# GGUF Format\n",
    "\n",
    "GGUF is the current state of the art model, started being supported for llama.cpp on August 23rd, 2023. Today is August 25th, so pretty recent, you could say! GGML is its predacessor and has since been depricated.\n",
    "\n",
    "To use, I recommend using ctransformers, but you can also use the llama.cpp library directly as well. Be sure that you have the most updated versions, ctransformers required version >=0.2.24 for gguf support, and llama.cpp python bindings does not yet support it -- you need to be careful"
   ]
  },
  {
   "cell_type": "code",
   "execution_count": 2,
   "metadata": {},
   "outputs": [
    {
     "name": "stderr",
     "output_type": "stream",
     "text": [
      "Fetching 1 files: 100%|██████████| 1/1 [00:00<00:00, 2659.67it/s]\n",
      "Downloading (…)portgpt-7b-q4_1.gguf: 100%|██████████| 4.24G/4.24G [01:13<00:00, 57.7MB/s]\n",
      "Fetching 1 files: 100%|██████████| 1/1 [01:13<00:00, 73.94s/it]\n"
     ]
    }
   ],
   "source": [
    "from ctransformers import AutoModelForCausalLM\n",
    "import textwrap\n",
    "\n",
    "llm = AutoModelForCausalLM.from_pretrained(\n",
    "    model_path_or_repo_id=\"msaad02/llama2_7b_brockportgpt_gguf\",\n",
    "    model_file=\"brockportgpt-7b-q4_1.gguf\",\n",
    "    model_type=\"llama\"\n",
    ")"
   ]
  },
  {
   "cell_type": "code",
   "execution_count": 3,
   "metadata": {},
   "outputs": [],
   "source": [
    "llm_config = {\n",
    "    \"max_new_tokens\": 256,\n",
    "    \"stream\": True,\n",
    "}\n",
    "\n",
    "def qa(text: str, full = False):\n",
    "    # textwrap.dedent gets rid of indenting at the start of each newline\n",
    "    text = textwrap.dedent(f\"\"\"\\\n",
    "        Below is an inquiry related to SUNY Brockport - from academics, admissions, and faculty support to student life. Prioritize accuracy and brevity.\n",
    "\n",
    "        ### Instruction:\n",
    "        {text}\n",
    "\n",
    "        ### Response:\n",
    "        \"\"\")\n",
    "    \n",
    "    generator = llm(text, **llm_config)\n",
    "\n",
    "    # print beginning?\n",
    "    if full:\n",
    "        print(text, end=\"\")\n",
    "\n",
    "    response = \"\"\n",
    "    for token in generator:\n",
    "        response = response + token\n",
    "        print(token, end=\"\")\n",
    "\n",
    "    response = (text + response) if full else response\n",
    "\n",
    "    return response"
   ]
  },
  {
   "cell_type": "code",
   "execution_count": 4,
   "metadata": {},
   "outputs": [
    {
     "name": "stdout",
     "output_type": "stream",
     "text": [
      "Below is an inquiry related to SUNY Brockport - from academics, admissions, and faculty support to student life. Prioritize accuracy and brevity.\n",
      "\n",
      "### Instruction:\n",
      "How do I apply?\n",
      "\n",
      "### Response:\n",
      "To apply to the Chemistry program at SUNY Brockport, you can visit their website and follow the application process provided there."
     ]
    }
   ],
   "source": [
    "output = qa(\"How do I apply?\", full=True)"
   ]
  },
  {
   "cell_type": "code",
   "execution_count": 5,
   "metadata": {},
   "outputs": [
    {
     "name": "stdout",
     "output_type": "stream",
     "text": [
      "Yes, the University offers both the undergraduate & graduate courses and certificate in Data Science with a concentration in cybersecurity."
     ]
    }
   ],
   "source": [
    "output = qa(\"is there a CS department?\")"
   ]
  },
  {
   "cell_type": "code",
   "execution_count": 6,
   "metadata": {},
   "outputs": [
    {
     "name": "stdout",
     "output_type": "stream",
     "text": [
      "The CS department offers a variety of programs that meet the needs of different students. The website provides information on their degree programs, course offerings, student success stories, and career opportunities in the field of Computer Science."
     ]
    }
   ],
   "source": [
    "output = qa(\"Tell me about the CS department at Brockport.\")\n",
    "\n",
    "# yikes!! Didn't follow the format perfectly, and kept going. No good."
   ]
  },
  {
   "cell_type": "code",
   "execution_count": 7,
   "metadata": {},
   "outputs": [],
   "source": [
    "def sample_qa(text: str, full = False, n = 3):\n",
    "    \"\"\"\n",
    "    For a given question, run the model n times to see a variety of responses.\n",
    "    \"\"\"\n",
    "    answer_list = []\n",
    "\n",
    "    print(\"1. \", end=\"\")\n",
    "    for num in range(n):\n",
    "        answer_list.append(qa(text, full))\n",
    "\n",
    "        if num+1 < n:\n",
    "            print(f\"\\n\\n{num+2}. \", end=\"\")\n",
    "\n",
    "    return answer_list"
   ]
  },
  {
   "cell_type": "code",
   "execution_count": 8,
   "metadata": {},
   "outputs": [
    {
     "name": "stdout",
     "output_type": "stream",
     "text": [
      "1. The CS department at Brockport offers a wide range of programs that equip students with the skills needed for success in various industries.\n",
      "\n",
      "2. The CS department at Brockport provides a wide range of education for students interested in computer science.\n",
      "\n",
      "3. The CS department at Brockport provides opportunities for students to pursue their interests in computer science. It is a dynamic and ever-growing field, and Brockport offers both general courses as well as those designed to address industry standards."
     ]
    }
   ],
   "source": [
    "output = sample_qa(\"Tell me about the CS department at Brockport.\")"
   ]
  },
  {
   "cell_type": "code",
   "execution_count": 9,
   "metadata": {},
   "outputs": [
    {
     "name": "stdout",
     "output_type": "stream",
     "text": [
      "1. The application process for undergraduate students at SUNY Brockport includes submitting relevant supporting documentation, paying the application fee, and completing any required sections within WebBanner, including the Student Information Form (SIF).\n",
      "\n",
      "2. The steps to apply as an undergraduate include submitting your application on their website, paying the $50 non-refundable application fee, requesting transcripts and documents, meeting any prerequisites for your major, and completing any required tests.\n",
      "\n",
      "3. To apply as an undergraduate at SUNY Brockport, you must submit your application through the Common Application or by mail with a nonrefundable $50 fee and official high school transcripts."
     ]
    }
   ],
   "source": [
    "output = sample_qa(\"Im an undergrad. What are the steps to apply?\")"
   ]
  }
 ],
 "metadata": {
  "kernelspec": {
   "display_name": "thesis",
   "language": "python",
   "name": "python3"
  },
  "language_info": {
   "codemirror_mode": {
    "name": "ipython",
    "version": 3
   },
   "file_extension": ".py",
   "mimetype": "text/x-python",
   "name": "python",
   "nbconvert_exporter": "python",
   "pygments_lexer": "ipython3",
   "version": "3.10.0"
  },
  "orig_nbformat": 4
 },
 "nbformat": 4,
 "nbformat_minor": 2
}
