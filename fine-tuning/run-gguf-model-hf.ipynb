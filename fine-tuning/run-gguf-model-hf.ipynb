{
 "cells": [
  {
   "cell_type": "markdown",
   "metadata": {},
   "source": [
    "# GGUF Format\n",
    "\n",
    "GGUF is the current state of the art model, started being supported for llama.cpp on August 23rd, 2023. Today is August 25th, so pretty recent, you could say! GGML is its predacessor and has since been depricated.\n",
    "\n",
    "To use, I recommend using ctransformers, but you can also use the llama.cpp library directly as well. Be sure that you have the most updated versions, ctransformers required version >=0.2.24 for gguf support, and llama.cpp python bindings does not yet support it -- you need to be careful"
   ]
  },
  {
   "cell_type": "code",
   "execution_count": 1,
   "metadata": {},
   "outputs": [
    {
     "data": {
      "application/vnd.jupyter.widget-view+json": {
       "model_id": "d0d64bd21a9e41cabafbf2dc0a358704",
       "version_major": 2,
       "version_minor": 0
      },
      "text/plain": [
       "Fetching 1 files:   0%|          | 0/1 [00:00<?, ?it/s]"
      ]
     },
     "metadata": {},
     "output_type": "display_data"
    },
    {
     "data": {
      "application/vnd.jupyter.widget-view+json": {
       "model_id": "6eb3fe8bf4f446819a2da0fffb5f1164",
       "version_major": 2,
       "version_minor": 0
      },
      "text/plain": [
       "Fetching 1 files:   0%|          | 0/1 [00:00<?, ?it/s]"
      ]
     },
     "metadata": {},
     "output_type": "display_data"
    }
   ],
   "source": [
    "from ctransformers import AutoModelForCausalLM\n",
    "import textwrap\n",
    "\n",
    "llm = AutoModelForCausalLM.from_pretrained(\n",
    "    model_path_or_repo_id=\"msaad02/llama2_7b_brockportgpt_gguf\",\n",
    "    model_file=\"brockportgpt-7b-q4_1.gguf\",\n",
    "    model_type=\"llama\"\n",
    ")"
   ]
  },
  {
   "cell_type": "code",
   "execution_count": 2,
   "metadata": {},
   "outputs": [],
   "source": [
    "llm_config = {\n",
    "    \"max_new_tokens\": 256,\n",
    "    \"stream\": True,\n",
    "}\n",
    "\n",
    "def qa(text: str, full = False):\n",
    "    # textwrap.dedent gets rid of indenting at the start of each newline\n",
    "    text = textwrap.dedent(f\"\"\"\\\n",
    "        Below is an inquiry related to SUNY Brockport - from academics, admissions, and faculty support to student life. Prioritize accuracy and brevity.\n",
    "\n",
    "        ### Instruction:\n",
    "        {text}\n",
    "\n",
    "        ### Response:\n",
    "        \"\"\")\n",
    "    \n",
    "    generator = llm(text, **llm_config)\n",
    "\n",
    "    # print beginning?\n",
    "    if full:\n",
    "        print(text, end=\"\")\n",
    "\n",
    "    response = \"\"\n",
    "    for token in generator:\n",
    "        response = response + token\n",
    "        print(token, end=\"\")\n",
    "\n",
    "    response = (text + response) if full else response\n",
    "\n",
    "    return response"
   ]
  },
  {
   "cell_type": "code",
   "execution_count": 3,
   "metadata": {},
   "outputs": [
    {
     "name": "stdout",
     "output_type": "stream",
     "text": [
      "Below is an inquiry related to SUNY Brockport - from academics, admissions, and faculty support to student life. Prioritize accuracy and brevity.\n",
      "\n",
      "### Instruction:\n",
      "How do I apply?\n",
      "\n",
      "### Response:\n",
      "You can apply online using the common app on our website."
     ]
    }
   ],
   "source": [
    "output = qa(\"How do I apply?\", full=True)"
   ]
  },
  {
   "cell_type": "code",
   "execution_count": 4,
   "metadata": {},
   "outputs": [
    {
     "name": "stdout",
     "output_type": "stream",
     "text": [
      "Yes, there is a Department of Computer Science in the School of Arts & Sciences at SUNY Brockport."
     ]
    }
   ],
   "source": [
    "output = qa(\"is there a CS department?\")"
   ]
  },
  {
   "cell_type": "code",
   "execution_count": 5,
   "metadata": {},
   "outputs": [
    {
     "name": "stdout",
     "output_type": "stream",
     "text": [
      "The CS department at Brockport is dedicated to providing students with a comprehensive education in computer science, allowing them to develop their skills and gain hands-on experience in various fields."
     ]
    }
   ],
   "source": [
    "output = qa(\"Tell me about the CS department at Brockport.\")\n",
    "\n",
    "# yikes!! Didn't follow the format perfectly, and kept going. No good."
   ]
  },
  {
   "cell_type": "code",
   "execution_count": 6,
   "metadata": {},
   "outputs": [],
   "source": [
    "def sample_qa(text: str, full = False, n = 3):\n",
    "    \"\"\"\n",
    "    For a given question, run the model n times to see a variety of responses.\n",
    "    \"\"\"\n",
    "    answer_list = []\n",
    "\n",
    "    print(\"1. \", end=\"\")\n",
    "    for num in range(n):\n",
    "        answer_list.append(qa(text, full))\n",
    "\n",
    "        if num+1 < n:\n",
    "            print(f\"\\n\\n{num+2}. \", end=\"\")\n",
    "\n",
    "    return answer_list"
   ]
  },
  {
   "cell_type": "code",
   "execution_count": 7,
   "metadata": {},
   "outputs": [
    {
     "name": "stdout",
     "output_type": "stream",
     "text": [
      "1. The Computer Science (CS) Department offers a variety of courses and programs in computer science, including a major, minor, and certificate.\n",
      "\n",
      "2. The Computer Science (CS) Department provides undergraduate and graduate programs in computer science, information systems, cybersecurity, information assurance, web development, and more.\n",
      "\n",
      "3. The CS department at Brockport is committed to providing a strong foundation in computing, offering both traditional and emerging technologies such as blockchain, cybersecurity, and data science."
     ]
    }
   ],
   "source": [
    "output = sample_qa(\"Tell me about the CS department at Brockport.\")"
   ]
  },
  {
   "cell_type": "code",
   "execution_count": 8,
   "metadata": {},
   "outputs": [
    {
     "name": "stdout",
     "output_type": "stream",
     "text": [
      "1. The steps to apply as an undergraduate at SUNY Brockport include submitting your application, sending in any required documents (e.g., transcripts), and paying the application fee if applicable.\n",
      "\n",
      "2. The steps to apply as an undergraduate for graduate study at SUNY Brockport include submitting a non-degree application, completing two foundation courses if not transferring in any credit, and earning a 3.0 GPA or higher.\n",
      "\n",
      "3. To apply as an undergraduate at SUNY Brockport, you will need to complete the online application and pay the $50 application fee."
     ]
    }
   ],
   "source": [
    "output = sample_qa(\"Im an undergrad. What are the steps to apply?\")"
   ]
  }
 ],
 "metadata": {
  "kernelspec": {
   "display_name": "thesis",
   "language": "python",
   "name": "python3"
  },
  "language_info": {
   "codemirror_mode": {
    "name": "ipython",
    "version": 3
   },
   "file_extension": ".py",
   "mimetype": "text/x-python",
   "name": "python",
   "nbconvert_exporter": "python",
   "pygments_lexer": "ipython3",
   "version": "3.10.0"
  },
  "orig_nbformat": 4
 },
 "nbformat": 4,
 "nbformat_minor": 2
}
