{
 "cells": [
  {
   "cell_type": "code",
   "execution_count": 1,
   "metadata": {},
   "outputs": [
    {
     "data": {
      "application/vnd.jupyter.widget-view+json": {
       "model_id": "e3eebccc9a604581b8f24cfba785aab7",
       "version_major": 2,
       "version_minor": 0
      },
      "text/plain": [
       "Loading checkpoint shards:   0%|          | 0/2 [00:00<?, ?it/s]"
      ]
     },
     "metadata": {},
     "output_type": "display_data"
    }
   ],
   "source": [
    "# Run Fine-Tune Llama2-7b on SE paired dataset\n",
    "import torch\n",
    "from transformers import AutoModelForCausalLM, AutoTokenizer, BitsAndBytesConfig\n",
    "import textwrap\n",
    "\n",
    "bnb_config = BitsAndBytesConfig(\n",
    "    load_in_4bit=True,\n",
    "    bnb_4bit_quant_type=\"nf4\",\n",
    "    bnb_4bit_compute_dtype=torch.bfloat16,\n",
    ")\n",
    "\n",
    "model = AutoModelForCausalLM.from_pretrained(\n",
    "    \"msaad02/llama2_7b_brockport_gpt\",\n",
    "    quantization_config=bnb_config,\n",
    "    device_map={\"\": 0},\n",
    "    trust_remote_code=True\n",
    ")\n",
    "\n",
    "tokenizer = AutoTokenizer.from_pretrained(\"msaad02/llama2_7b_brockport_gpt\")"
   ]
  },
  {
   "cell_type": "code",
   "execution_count": 2,
   "metadata": {},
   "outputs": [],
   "source": [
    "# Use a pipeline as a high-level helper\n",
    "from transformers import pipeline\n",
    "\n",
    "pipe = pipeline(\n",
    "    task=\"text-generation\", \n",
    "    model=model, \n",
    "    tokenizer=tokenizer\n",
    ")"
   ]
  },
  {
   "cell_type": "code",
   "execution_count": 7,
   "metadata": {},
   "outputs": [],
   "source": [
    "def qa(text: str, full = False):\n",
    "    # textwrap.dedent gets rid of indenting at the start of each newline\n",
    "    text = textwrap.dedent(f\"\"\"\\\n",
    "        Below is an inquiry related to SUNY Brockport - from academics, admissions, and faculty support to student life. Prioritize accuracy and brevity.\n",
    "\n",
    "        ### Instruction:\n",
    "        {text}\n",
    "\n",
    "        ### Response:\n",
    "        \"\"\")\n",
    "    \n",
    "    response = pipe(text, max_length=250, do_sample=True, top_k=50, top_p=0.95, temperature=1.0)\n",
    "    response = response[0]['generated_text']\n",
    "    response = response.split(\"### Response:\\n\")[1] if not full else response\n",
    "\n",
    "    return response"
   ]
  },
  {
   "cell_type": "code",
   "execution_count": 4,
   "metadata": {},
   "outputs": [
    {
     "name": "stdout",
     "output_type": "stream",
     "text": [
      "Below is an inquiry related to SUNY Brockport - from academics, admissions, and faculty support to student life. Prioritize accuracy and brevity.\n",
      "\n",
      "### Instruction:\n",
      "How do I apply?\n",
      "\n",
      "### Response:\n",
      "You can apply to SUNY Brockport online.\n"
     ]
    }
   ],
   "source": [
    "print(qa(\"How do I apply?\", full = True))"
   ]
  },
  {
   "cell_type": "code",
   "execution_count": 5,
   "metadata": {},
   "outputs": [
    {
     "name": "stdout",
     "output_type": "stream",
     "text": [
      "Below is an inquiry related to SUNY Brockport - from academics, admissions, and faculty support to student life. Prioritize accuracy and brevity.\n",
      "\n",
      "### Instruction:\n",
      "What kinds of programs does Brockport offer?\n",
      "\n",
      "### Response:\n",
      "Brockport offers a wide range of programs for students to choose from, including business, education, nursing, art and design, and more.\n"
     ]
    }
   ],
   "source": [
    "print(qa(\"What kinds of programs does Brockport offer?\", full = True))"
   ]
  },
  {
   "cell_type": "code",
   "execution_count": 10,
   "metadata": {},
   "outputs": [
    {
     "name": "stdout",
     "output_type": "stream",
     "text": [
      "Below is an inquiry related to SUNY Brockport - from academics, admissions, and faculty support to student life. Prioritize accuracy and brevity.\n",
      "\n",
      "### Instruction:\n",
      "Who can I contact for help with financial aid?\n",
      "\n",
      "### Response:\n",
      "You can contact the financial aid office at SUNY Brockport for assistance with financial aid. They are available to answer any questions and help you navigate the financial aid process.\n"
     ]
    }
   ],
   "source": [
    "print(qa(\"Who can I contact for help with financial aid?\", full = True))"
   ]
  },
  {
   "cell_type": "code",
   "execution_count": 12,
   "metadata": {},
   "outputs": [
    {
     "name": "stdout",
     "output_type": "stream",
     "text": [
      "Below is an inquiry related to SUNY Brockport - from academics, admissions, and faculty support to student life. Prioritize accuracy and brevity.\n",
      "\n",
      "### Instruction:\n",
      "Are SAT scores required?\n",
      "\n",
      "### Response:\n",
      "SAT scores are not required for admission, but test scores are used as part of Brockport's holistic review process to make admissions decisions.\n"
     ]
    }
   ],
   "source": [
    "print(qa(\"Are SAT scores required?\", full = True))"
   ]
  },
  {
   "cell_type": "code",
   "execution_count": 13,
   "metadata": {},
   "outputs": [
    {
     "name": "stdout",
     "output_type": "stream",
     "text": [
      "Auxiliary courses for Anthropology are important as they provide additional knowledge and context for understanding the field.\n"
     ]
    }
   ],
   "source": [
    "print(qa(\"What is the point of auxiliary courses for Antrhopology?\"))"
   ]
  },
  {
   "cell_type": "code",
   "execution_count": 14,
   "metadata": {},
   "outputs": [
    {
     "name": "stdout",
     "output_type": "stream",
     "text": [
      "The SUNY Brockport website provides resources such as webmail, course schedule, faculty resources, and employee access for faculty and staff.\n"
     ]
    }
   ],
   "source": [
    "print(qa(\"What resources are available for faculty and staff on the SUNY Brockport website?\"))"
   ]
  },
  {
   "cell_type": "code",
   "execution_count": 16,
   "metadata": {},
   "outputs": [
    {
     "name": "stdout",
     "output_type": "stream",
     "text": [
      "Below is an inquiry related to SUNY Brockport - from academics, admissions, and faculty support to student life. Prioritize accuracy and brevity.\n",
      "\n",
      "### Instruction:\n",
      "Where can you seek help if you are struggling physically, mentally, or emotionally?\n",
      "\n",
      "### Response:\n",
      "Brockport has many resources available for students who are struggling physically, mentally, or emotionally, including Student Counseling Services, the Office of Disability Services, and the Health Center.\n"
     ]
    }
   ],
   "source": [
    "print(qa(\"Where can you seek help if you are struggling physically, mentally, or emotionally?\", full = True))"
   ]
  }
 ],
 "metadata": {
  "kernelspec": {
   "display_name": "thesis",
   "language": "python",
   "name": "python3"
  },
  "language_info": {
   "codemirror_mode": {
    "name": "ipython",
    "version": 3
   },
   "file_extension": ".py",
   "mimetype": "text/x-python",
   "name": "python",
   "nbconvert_exporter": "python",
   "pygments_lexer": "ipython3",
   "version": "3.11.4"
  },
  "orig_nbformat": 4
 },
 "nbformat": 4,
 "nbformat_minor": 2
}
